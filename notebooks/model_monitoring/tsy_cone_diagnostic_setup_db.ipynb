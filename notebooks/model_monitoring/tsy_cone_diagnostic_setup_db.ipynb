{
 "cells": [
  {
   "cell_type": "code",
   "execution_count": 1,
   "id": "b7a2c534-c854-4afa-8d8b-f2d0996485be",
   "metadata": {},
   "outputs": [
    {
     "name": "stdout",
     "output_type": "stream",
     "text": [
      "'data_env' not found in environment. Defaulting to 'sandbox' env.\n",
      "setting env to sandbox data\n",
      "getting data source for sandbox\n",
      "✅ rate_cone_metrics table dropped (if existed) and recreated.\n"
     ]
    }
   ],
   "source": [
    "import data.data_source as data_source\n",
    "\n",
    "ds = data_source.get_data_source()\n",
    "\n",
    "DROP_SQL = \"DROP TABLE IF EXISTS rate_cone_diagnostics;\"\n",
    "CREATE_SQL = \"\"\"\n",
    "-- Table: rate_cone_diagnostics\n",
    "CREATE TABLE rate_cone_diagnostics (\n",
    "    id               BIGSERIAL PRIMARY KEY,\n",
    "    curve_type       TEXT        NOT NULL,\n",
    "    model_type       TEXT        NOT NULL,\n",
    "    curve_date       DATE        NOT NULL,\n",
    "    days_forward     INTEGER     NOT NULL,\n",
    "    tenor_num        NUMERIC     NOT NULL,\n",
    "    tenor_str        TEXT        NOT NULL,\n",
    "    -- Forecast distribution quantiles:\n",
    "    forecast_p01     NUMERIC,\n",
    "    forecast_p05     NUMERIC,\n",
    "    forecast_p10     NUMERIC,\n",
    "    forecast_p50     NUMERIC,\n",
    "    forecast_p90     NUMERIC,\n",
    "    forecast_p95     NUMERIC,\n",
    "    forecast_p99     NUMERIC,\n",
    "    -- Realized outcome:\n",
    "    realized_date    DATE,\n",
    "    realized_rate    NUMERIC,\n",
    "    -- Error metrics:\n",
    "    forecast_error   NUMERIC,  -- forecast_p50 - realized_rate\n",
    "    absolute_error   NUMERIC,  -- abs(forecast_p50 - realized_rate)\n",
    "    relative_error   NUMERIC,  -- (forecast_p50 - realized_rate) / realized_rate\n",
    "    percentile_rank  NUMERIC,  -- where realized_rate falls in the forecast CDF\n",
    "    inside_cone      BOOLEAN,  -- true if realized_rate between forecast_p01 and forecast_p99\n",
    "    -- Fit diagnostics:\n",
    "    n_obs_fit        INTEGER,  -- number of observations used to fit the cone\n",
    "    total_variance   NUMERIC,  -- total variance of fit\n",
    "    trace_covariance NUMERIC,  -- trace of the covariance matrix\n",
    "    inserted_at      TIMESTAMPTZ NOT NULL DEFAULT now(),\n",
    "    -- ensure uniqueness per model/curve/day/tenor\n",
    "    UNIQUE (model_type, curve_date, days_forward, tenor_num)\n",
    ");\"\"\"\n",
    "CREATE_INDEX_A = \"\"\"\n",
    "-- Indexes for faster lookups\n",
    "CREATE INDEX idx_icm_model_curve_days\n",
    "  ON rate_cone_diagnostics(model_type, curve_date, days_forward);\n",
    "\"\"\"\n",
    "CREATE_INDEX_B = \"\"\"\n",
    "CREATE INDEX idx_icm_tenor\n",
    "  ON rate_cone_diagnostics(tenor_num);\n",
    "\"\"\"\n",
    "\n",
    "def setup_diagnostics_table():\n",
    "    ds.query(DROP_SQL)\n",
    "    ds.query(CREATE_SQL)\n",
    "    ds.query(CREATE_INDEX_A)\n",
    "    ds.query(CREATE_INDEX_B)\n",
    "    print(\"✅ rate_cone_metrics table dropped (if existed) and recreated.\")\n",
    "\n",
    "setup_diagnostics_table()\n"
   ]
  },
  {
   "cell_type": "code",
   "execution_count": null,
   "id": "cd1d0c8f-4bd9-46ed-aa12-f05cea93195a",
   "metadata": {},
   "outputs": [],
   "source": []
  }
 ],
 "metadata": {
  "kernelspec": {
   "display_name": "Python 3 (ipykernel)",
   "language": "python",
   "name": "python3"
  },
  "language_info": {
   "codemirror_mode": {
    "name": "ipython",
    "version": 3
   },
   "file_extension": ".py",
   "mimetype": "text/x-python",
   "name": "python",
   "nbconvert_exporter": "python",
   "pygments_lexer": "ipython3",
   "version": "3.10.14"
  }
 },
 "nbformat": 4,
 "nbformat_minor": 5
}
