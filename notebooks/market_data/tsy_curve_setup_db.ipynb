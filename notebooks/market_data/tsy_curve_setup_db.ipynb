{
 "cells": [
  {
   "cell_type": "code",
   "execution_count": 1,
   "id": "8ecfe2d3-e406-4374-a050-dbfa8682a6a8",
   "metadata": {},
   "outputs": [
    {
     "name": "stdout",
     "output_type": "stream",
     "text": [
      "'data_env' not found in environment. Defaulting to 'sandbox' env.\n",
      "setting env to sandbox data\n",
      "getting data source for sandbox\n",
      "✅ rate_curves table dropped (if existed) and recreated.\n"
     ]
    }
   ],
   "source": [
    "import data.data_source as data_source\n",
    "\n",
    "ds = data_source.get_data_source()\n",
    "\n",
    "DROP_SQL = \"DROP TABLE IF EXISTS rate_curves;\"\n",
    "CREATE_SQL = \"\"\"\n",
    "CREATE TABLE rate_curves (\n",
    "  curve_type  TEXT    NOT NULL,\n",
    "  curve_date  DATE    NOT NULL,\n",
    "  tenor_str   TEXT    NOT NULL,\n",
    "  rate        DOUBLE PRECISION NOT NULL,\n",
    "  tenor_num   DOUBLE PRECISION NOT NULL,\n",
    "  inserted_at TIMESTAMPTZ    NOT NULL DEFAULT CURRENT_TIMESTAMP,\n",
    "  PRIMARY KEY (curve_type, curve_date, tenor_str)\n",
    ");\n",
    "\"\"\"\n",
    "\n",
    "def setup_table():\n",
    "    ds.query(DROP_SQL)\n",
    "    ds.query(CREATE_SQL)\n",
    "    print(\"✅ rate_curves table dropped (if existed) and recreated.\")\n",
    "\n",
    "setup_table()\n"
   ]
  },
  {
   "cell_type": "code",
   "execution_count": 1,
   "id": "6c0296d8-7c4a-4119-845a-9184822a7515",
   "metadata": {},
   "outputs": [
    {
     "name": "stdout",
     "output_type": "stream",
     "text": [
      "Collecting streamlit-tags\n",
      "  Downloading streamlit_tags-1.2.8-py3-none-any.whl.metadata (5.7 kB)\n",
      "Requirement already satisfied: streamlit>=0.63 in /opt/conda/lib/python3.10/site-packages (from streamlit-tags) (1.45.1)\n",
      "Requirement already satisfied: altair<6,>=4.0 in /opt/conda/lib/python3.10/site-packages (from streamlit>=0.63->streamlit-tags) (5.5.0)\n",
      "Requirement already satisfied: blinker<2,>=1.5.0 in /opt/conda/lib/python3.10/site-packages (from streamlit>=0.63->streamlit-tags) (1.9.0)\n",
      "Requirement already satisfied: cachetools<6,>=4.0 in /opt/conda/lib/python3.10/site-packages (from streamlit>=0.63->streamlit-tags) (5.5.2)\n",
      "Requirement already satisfied: click<9,>=7.0 in /opt/conda/lib/python3.10/site-packages (from streamlit>=0.63->streamlit-tags) (8.1.8)\n",
      "Requirement already satisfied: numpy<3,>=1.23 in /opt/conda/lib/python3.10/site-packages (from streamlit>=0.63->streamlit-tags) (1.24.4)\n",
      "Requirement already satisfied: packaging<25,>=20 in /opt/conda/lib/python3.10/site-packages (from streamlit>=0.63->streamlit-tags) (24.2)\n",
      "Requirement already satisfied: pandas<3,>=1.4.0 in /opt/conda/lib/python3.10/site-packages (from streamlit>=0.63->streamlit-tags) (2.2.1)\n",
      "Requirement already satisfied: pillow<12,>=7.1.0 in /opt/conda/lib/python3.10/site-packages (from streamlit>=0.63->streamlit-tags) (11.2.1)\n",
      "Requirement already satisfied: protobuf<7,>=3.20 in /opt/conda/lib/python3.10/site-packages (from streamlit>=0.63->streamlit-tags) (4.25.6)\n",
      "Requirement already satisfied: pyarrow>=7.0 in /opt/conda/lib/python3.10/site-packages (from streamlit>=0.63->streamlit-tags) (19.0.1)\n",
      "Requirement already satisfied: requests<3,>=2.27 in /opt/conda/lib/python3.10/site-packages (from streamlit>=0.63->streamlit-tags) (2.32.3)\n",
      "Requirement already satisfied: tenacity<10,>=8.1.0 in /opt/conda/lib/python3.10/site-packages (from streamlit>=0.63->streamlit-tags) (8.5.0)\n",
      "Requirement already satisfied: toml<2,>=0.10.1 in /opt/conda/lib/python3.10/site-packages (from streamlit>=0.63->streamlit-tags) (0.10.2)\n",
      "Requirement already satisfied: typing-extensions<5,>=4.4.0 in /opt/conda/lib/python3.10/site-packages (from streamlit>=0.63->streamlit-tags) (4.12.2)\n",
      "Requirement already satisfied: watchdog<7,>=2.1.5 in /opt/conda/lib/python3.10/site-packages (from streamlit>=0.63->streamlit-tags) (6.0.0)\n",
      "Requirement already satisfied: gitpython!=3.1.19,<4,>=3.0.7 in /opt/conda/lib/python3.10/site-packages (from streamlit>=0.63->streamlit-tags) (3.1.44)\n",
      "Requirement already satisfied: pydeck<1,>=0.8.0b4 in /opt/conda/lib/python3.10/site-packages (from streamlit>=0.63->streamlit-tags) (0.9.1)\n",
      "Requirement already satisfied: tornado<7,>=6.0.3 in /opt/conda/lib/python3.10/site-packages (from streamlit>=0.63->streamlit-tags) (6.4.2)\n",
      "Requirement already satisfied: jinja2 in /opt/conda/lib/python3.10/site-packages (from altair<6,>=4.0->streamlit>=0.63->streamlit-tags) (3.1.6)\n",
      "Requirement already satisfied: jsonschema>=3.0 in /opt/conda/lib/python3.10/site-packages (from altair<6,>=4.0->streamlit>=0.63->streamlit-tags) (4.23.0)\n",
      "Requirement already satisfied: narwhals>=1.14.2 in /opt/conda/lib/python3.10/site-packages (from altair<6,>=4.0->streamlit>=0.63->streamlit-tags) (1.39.1)\n",
      "Requirement already satisfied: gitdb<5,>=4.0.1 in /opt/conda/lib/python3.10/site-packages (from gitpython!=3.1.19,<4,>=3.0.7->streamlit>=0.63->streamlit-tags) (4.0.12)\n",
      "Requirement already satisfied: python-dateutil>=2.8.2 in /opt/conda/lib/python3.10/site-packages (from pandas<3,>=1.4.0->streamlit>=0.63->streamlit-tags) (2.8.2)\n",
      "Requirement already satisfied: pytz>=2020.1 in /opt/conda/lib/python3.10/site-packages (from pandas<3,>=1.4.0->streamlit>=0.63->streamlit-tags) (2025.2)\n",
      "Requirement already satisfied: tzdata>=2022.7 in /opt/conda/lib/python3.10/site-packages (from pandas<3,>=1.4.0->streamlit>=0.63->streamlit-tags) (2025.2)\n",
      "Requirement already satisfied: charset_normalizer<4,>=2 in /opt/conda/lib/python3.10/site-packages (from requests<3,>=2.27->streamlit>=0.63->streamlit-tags) (3.4.1)\n",
      "Requirement already satisfied: idna<4,>=2.5 in /opt/conda/lib/python3.10/site-packages (from requests<3,>=2.27->streamlit>=0.63->streamlit-tags) (3.10)\n",
      "Requirement already satisfied: urllib3<3,>=1.21.1 in /opt/conda/lib/python3.10/site-packages (from requests<3,>=2.27->streamlit>=0.63->streamlit-tags) (1.26.19)\n",
      "Requirement already satisfied: certifi>=2017.4.17 in /opt/conda/lib/python3.10/site-packages (from requests<3,>=2.27->streamlit>=0.63->streamlit-tags) (2025.1.31)\n",
      "Requirement already satisfied: smmap<6,>=3.0.1 in /opt/conda/lib/python3.10/site-packages (from gitdb<5,>=4.0.1->gitpython!=3.1.19,<4,>=3.0.7->streamlit>=0.63->streamlit-tags) (5.0.2)\n",
      "Requirement already satisfied: MarkupSafe>=2.0 in /opt/conda/lib/python3.10/site-packages (from jinja2->altair<6,>=4.0->streamlit>=0.63->streamlit-tags) (3.0.2)\n",
      "Requirement already satisfied: attrs>=22.2.0 in /opt/conda/lib/python3.10/site-packages (from jsonschema>=3.0->altair<6,>=4.0->streamlit>=0.63->streamlit-tags) (23.2.0)\n",
      "Requirement already satisfied: jsonschema-specifications>=2023.03.6 in /opt/conda/lib/python3.10/site-packages (from jsonschema>=3.0->altair<6,>=4.0->streamlit>=0.63->streamlit-tags) (2024.10.1)\n",
      "Requirement already satisfied: referencing>=0.28.4 in /opt/conda/lib/python3.10/site-packages (from jsonschema>=3.0->altair<6,>=4.0->streamlit>=0.63->streamlit-tags) (0.36.2)\n",
      "Requirement already satisfied: rpds-py>=0.7.1 in /opt/conda/lib/python3.10/site-packages (from jsonschema>=3.0->altair<6,>=4.0->streamlit>=0.63->streamlit-tags) (0.24.0)\n",
      "Requirement already satisfied: six>=1.5 in /opt/conda/lib/python3.10/site-packages (from python-dateutil>=2.8.2->pandas<3,>=1.4.0->streamlit>=0.63->streamlit-tags) (1.16.0)\n",
      "Downloading streamlit_tags-1.2.8-py3-none-any.whl (2.7 MB)\n",
      "\u001b[2K   \u001b[90m━━━━━━━━━━━━━━━━━━━━━━━━━━━━━━━━━━━━━━━━\u001b[0m \u001b[32m2.7/2.7 MB\u001b[0m \u001b[31m70.5 MB/s\u001b[0m eta \u001b[36m0:00:00\u001b[0m\n",
      "\u001b[?25hInstalling collected packages: streamlit-tags\n",
      "Successfully installed streamlit-tags-1.2.8\n"
     ]
    }
   ],
   "source": []
  }
 ],
 "metadata": {
  "kernelspec": {
   "display_name": "Python 3 (ipykernel)",
   "language": "python",
   "name": "python3"
  },
  "language_info": {
   "codemirror_mode": {
    "name": "ipython",
    "version": 3
   },
   "file_extension": ".py",
   "mimetype": "text/x-python",
   "name": "python",
   "nbconvert_exporter": "python",
   "pygments_lexer": "ipython3",
   "version": "3.10.14"
  }
 },
 "nbformat": 4,
 "nbformat_minor": 5
}
