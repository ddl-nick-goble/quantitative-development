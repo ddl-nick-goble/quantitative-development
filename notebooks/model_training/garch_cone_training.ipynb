{
 "cells": [
  {
   "cell_type": "code",
   "execution_count": null,
   "id": "a4753bf2-0c13-492f-afae-f28616da8db8",
   "metadata": {},
   "outputs": [
    {
     "name": "stdout",
     "output_type": "stream",
     "text": [
      "'data_env' not found in environment. Defaulting to 'sandbox' env.\n",
      "setting env to sandbox data\n",
      "getting data source for sandbox\n"
     ]
    },
    {
     "name": "stderr",
     "output_type": "stream",
     "text": [
      "2025/06/24 17:23:42 INFO mlflow.tracking.fluent: Experiment with name 'IR Cone Fit Experiment' does not exist. Creating a new experiment.\n"
     ]
    },
    {
     "name": "stdout",
     "output_type": "stream",
     "text": [
      "⏭️  Skipping 2025-01-04: no exact curve_date in pivot\n",
      "⏭️  Skipping 2024-12-28: no exact curve_date in pivot\n",
      "using model: GARCH(1,1)_1yrFit\n",
      "using model: GARCH(1,1)_1yrFit\n",
      "using model: GARCH(1,1)_1yrFit\n",
      "⏭️  Skipping 2025-01-05: no exact curve_date in pivot\n",
      "⏭️  Skipping 2024-12-29: no exact curve_date in pivot\n",
      "using model: GARCH(1,1)_1yrFit\n",
      "using model: GARCH(1,1)_1yrFit\n",
      "using model: GARCH(1,1)_1yrFit\n",
      "⏭️  Skipping 2025-01-01: no exact curve_date in pivot\n",
      "using model: GARCH(1,1)_1yrFit\n",
      "using model: GARCH(1,1)_1yrFit\n",
      "using model: GARCH(1,1)_1yrFit\n",
      "using model: GARCH(1,1)_1yrFit\n",
      "⏭️  Skipping 2025-01-11: no exact curve_date in pivot\n",
      "using model: GARCH(1,1)_1yrFit\n",
      "⏭️  Skipping 2025-01-12: no exact curve_date in pivot\n",
      "using model: GARCH(1,1)_1yrFit\n"
     ]
    },
    {
     "name": "stderr",
     "output_type": "stream",
     "text": [
      "No artists with labels found to put in legend.  Note that artists whose label start with an underscore are ignored when legend() is called with no argument.\n",
      "/tmp/ipykernel_466/2289731576.py:89: UserWarning: Creating legend with loc=\"best\" can be slow with large amounts of data.\n",
      "  plt.tight_layout()\n",
      "Registered model 'GARCH(1,1)_1yrFit' already exists. Creating a new version of this model...\n",
      "Registered model 'GARCH(1,1)_1yrFit' already exists. Creating a new version of this model...\n",
      "Registered model 'GARCH(1,1)_1yrFit' already exists. Creating a new version of this model...\n",
      "Registered model 'GARCH(1,1)_1yrFit' already exists. Creating a new version of this model...\n",
      "Registered model 'GARCH(1,1)_1yrFit' already exists. Creating a new version of this model...\n",
      "Registered model 'GARCH(1,1)_1yrFit' already exists. Creating a new version of this model...\n",
      "Registered model 'GARCH(1,1)_1yrFit' already exists. Creating a new version of this model...\n",
      "Registered model 'GARCH(1,1)_1yrFit' already exists. Creating a new version of this model...\n",
      "Registered model 'GARCH(1,1)_1yrFit' already exists. Creating a new version of this model...\n",
      "Registered model 'GARCH(1,1)_1yrFit' already exists. Creating a new version of this model...\n",
      "Registered model 'GARCH(1,1)_1yrFit' already exists. Creating a new version of this model...\n",
      "Registered model 'GARCH(1,1)_1yrFit' already exists. Creating a new version of this model...\n",
      "2025/06/24 17:25:24 INFO mlflow.store.model_registry.abstract_store: Waiting up to 300 seconds for model version to finish creation. Model name: GARCH(1,1)_1yrFit, version 205\n",
      "Created version '205' of model 'GARCH(1,1)_1yrFit'.\n",
      "2025/06/24 17:25:24 INFO mlflow.store.model_registry.abstract_store: Waiting up to 300 seconds for model version to finish creation. Model name: GARCH(1,1)_1yrFit, version 206\n",
      "Created version '206' of model 'GARCH(1,1)_1yrFit'.\n",
      "2025/06/24 17:25:25 INFO mlflow.store.model_registry.abstract_store: Waiting up to 300 seconds for model version to finish creation. Model name: GARCH(1,1)_1yrFit, version 207\n",
      "Created version '207' of model 'GARCH(1,1)_1yrFit'.\n",
      "2025/06/24 17:25:25 INFO mlflow.store.model_registry.abstract_store: Waiting up to 300 seconds for model version to finish creation. Model name: GARCH(1,1)_1yrFit, version 208\n",
      "Created version '208' of model 'GARCH(1,1)_1yrFit'.\n",
      "2025/06/24 17:25:25 INFO mlflow.store.model_registry.abstract_store: Waiting up to 300 seconds for model version to finish creation. Model name: GARCH(1,1)_1yrFit, version 209\n",
      "Created version '209' of model 'GARCH(1,1)_1yrFit'.\n",
      "2025/06/24 17:25:25 INFO mlflow.store.model_registry.abstract_store: Waiting up to 300 seconds for model version to finish creation. Model name: GARCH(1,1)_1yrFit, version 210\n",
      "Created version '210' of model 'GARCH(1,1)_1yrFit'.\n",
      "2025/06/24 17:25:25 INFO mlflow.store.model_registry.abstract_store: Waiting up to 300 seconds for model version to finish creation. Model name: GARCH(1,1)_1yrFit, version 211\n",
      "Created version '211' of model 'GARCH(1,1)_1yrFit'.\n",
      "2025/06/24 17:25:25 INFO mlflow.store.model_registry.abstract_store: Waiting up to 300 seconds for model version to finish creation. Model name: GARCH(1,1)_1yrFit, version 212\n",
      "Created version '212' of model 'GARCH(1,1)_1yrFit'.\n",
      "2025/06/24 17:25:25 INFO mlflow.store.model_registry.abstract_store: Waiting up to 300 seconds for model version to finish creation. Model name: GARCH(1,1)_1yrFit, version 213\n",
      "Created version '213' of model 'GARCH(1,1)_1yrFit'.\n",
      "2025/06/24 17:25:25 INFO mlflow.store.model_registry.abstract_store: Waiting up to 300 seconds for model version to finish creation. Model name: GARCH(1,1)_1yrFit, version 214\n",
      "Created version '214' of model 'GARCH(1,1)_1yrFit'.\n",
      "2025/06/24 17:25:25 INFO mlflow.store.model_registry.abstract_store: Waiting up to 300 seconds for model version to finish creation. Model name: GARCH(1,1)_1yrFit, version 215\n",
      "Created version '215' of model 'GARCH(1,1)_1yrFit'.\n"
     ]
    },
    {
     "name": "stdout",
     "output_type": "stream",
     "text": [
      "🏃 View run IR_2025-01-02 at: http://127.0.0.1:8768/#/experiments/1555/runs/8dc900ae2efa4bce88bc771c851330e9\n",
      "🧪 View experiment at: http://127.0.0.1:8768/#/experiments/1555\n",
      "🏃 View run IR_2025-01-06 at: http://127.0.0.1:8768/#/experiments/1555/runs/76f6d381f7ad4905b062c439d7ff95b6\n",
      "🧪 View experiment at: http://127.0.0.1:8768/#/experiments/1555\n"
     ]
    },
    {
     "name": "stderr",
     "output_type": "stream",
     "text": [
      "2025/06/24 17:25:25 INFO mlflow.store.model_registry.abstract_store: Waiting up to 300 seconds for model version to finish creation. Model name: GARCH(1,1)_1yrFit, version 216\n",
      "Created version '216' of model 'GARCH(1,1)_1yrFit'.\n"
     ]
    },
    {
     "name": "stdout",
     "output_type": "stream",
     "text": [
      "🏃 View run IR_2024-12-31 at: http://127.0.0.1:8768/#/experiments/1555/runs/be55a02798d44747888db35eba3a6542\n",
      "🧪 View experiment at: http://127.0.0.1:8768/#/experiments/1555\n",
      "🏃 View run IR_2025-01-10 at: http://127.0.0.1:8768/#/experiments/1555/runs/350bd0f780dc43a9b214b35b1ea2304c\n",
      "🧪 View experiment at: http://127.0.0.1:8768/#/experiments/1555\n",
      "🏃 View run IR_2024-12-30 at: http://127.0.0.1:8768/#/experiments/1555/runs/f0454bb60ae541a283ea40f923a4866e\n",
      "🧪 View experiment at: http://127.0.0.1:8768/#/experiments/1555\n",
      "🏃 View run IR_2025-01-08 at: http://127.0.0.1:8768/#/experiments/1555/runs/0a26a84554174271a19ffc7f99e9867b\n",
      "🧪 View experiment at: http://127.0.0.1:8768/#/experiments/1555\n",
      "🏃 View run IR_2025-01-13 at: http://127.0.0.1:8768/#/experiments/1555/runs/5867a3d1800446498cc84d6cdd169f51\n",
      "🧪 View experiment at: http://127.0.0.1:8768/#/experiments/1555\n",
      "🏃 View run IR_2024-12-26 at: http://127.0.0.1:8768/#/experiments/1555/runs/3eae2e631e9847558d677657f25ff024\n",
      "🧪 View experiment at: http://127.0.0.1:8768/#/experiments/1555\n",
      "🏃 View run IR_2025-01-07 at: http://127.0.0.1:8768/#/experiments/1555/runs/9a649738472f49a1895cdcf62e151c0a\n",
      "🧪 View experiment at: http://127.0.0.1:8768/#/experiments/1555\n",
      "🏃 View run IR_2025-01-03 at: http://127.0.0.1:8768/#/experiments/1555/runs/0aa1a4e251d04e4686eae1a49dfa887f\n",
      "🧪 View experiment at: http://127.0.0.1:8768/#/experiments/1555\n",
      "🏃 View run IR_2025-01-09 at: http://127.0.0.1:8768/#/experiments/1555/runs/e3d2ff4abc124a9ab816a6044e7ae7ea\n",
      "🧪 View experiment at: http://127.0.0.1:8768/#/experiments/1555\n",
      "🏃 View run IR_2024-12-27 at: http://127.0.0.1:8768/#/experiments/1555/runs/67389a039bcb49d79eb4c259927b2aab\n",
      "🧪 View experiment at: http://127.0.0.1:8768/#/experiments/1555\n"
     ]
    },
    {
     "name": "stderr",
     "output_type": "stream",
     "text": [
      "/tmp/ipykernel_466/2289731576.py:89: UserWarning: Tight layout not applied. The left and right margins cannot be made large enough to accommodate all axes decorations.\n",
      "  plt.tight_layout()\n"
     ]
    },
    {
     "name": "stdout",
     "output_type": "stream",
     "text": [
      "using model: GARCH(1,1)_1yrFit\n",
      "using model: GARCH(1,1)_1yrFit\n",
      "using model: GARCH(1,1)_1yrFit\n",
      "⏭️  Skipping 2025-01-20: no exact curve_date in pivot\n",
      "⏭️  Skipping 2025-01-19: no exact curve_date in pivot\n",
      "⏭️  Skipping 2025-01-18: no exact curve_date in pivot\n",
      "using model: GARCH(1,1)_1yrFit\n",
      "using model: GARCH(1,1)_1yrFit\n",
      "using model: GARCH(1,1)_1yrFit\n",
      "using model: GARCH(1,1)_1yrFit\n",
      "using model: GARCH(1,1)_1yrFit\n",
      "⏭️  Skipping 2025-01-25: no exact curve_date in pivot\n",
      "⏭️  Skipping 2025-01-26: no exact curve_date in pivot\n",
      "using model: GARCH(1,1)_1yrFit\n",
      "using model: GARCH(1,1)_1yrFit\n"
     ]
    },
    {
     "name": "stderr",
     "output_type": "stream",
     "text": [
      "Registered model 'GARCH(1,1)_1yrFit' already exists. Creating a new version of this model...\n",
      "Registered model 'GARCH(1,1)_1yrFit' already exists. Creating a new version of this model...\n",
      "2025/06/24 17:26:04 INFO mlflow.store.model_registry.abstract_store: Waiting up to 300 seconds for model version to finish creation. Model name: GARCH(1,1)_1yrFit, version 217\n",
      "Created version '217' of model 'GARCH(1,1)_1yrFit'.\n",
      "2025/06/24 17:26:04 INFO mlflow.store.model_registry.abstract_store: Waiting up to 300 seconds for model version to finish creation. Model name: GARCH(1,1)_1yrFit, version 218\n",
      "Created version '218' of model 'GARCH(1,1)_1yrFit'.\n"
     ]
    },
    {
     "name": "stdout",
     "output_type": "stream",
     "text": [
      "🏃 View run IR_2024-12-31 at: http://127.0.0.1:8768/#/experiments/1555/runs/9955e55af2544921ac5dcc5cdd82d51d\n",
      "🧪 View experiment at: http://127.0.0.1:8768/#/experiments/1555\n",
      "🏃 View run IR_2025-01-06 at: http://127.0.0.1:8768/#/experiments/1555/runs/2fdd014228374e9a97d17fe32d83075a\n",
      "🧪 View experiment at: http://127.0.0.1:8768/#/experiments/1555\n"
     ]
    },
    {
     "name": "stderr",
     "output_type": "stream",
     "text": [
      "Registered model 'GARCH(1,1)_1yrFit' already exists. Creating a new version of this model...\n",
      "2025/06/24 17:26:06 INFO mlflow.store.model_registry.abstract_store: Waiting up to 300 seconds for model version to finish creation. Model name: GARCH(1,1)_1yrFit, version 219\n",
      "Created version '219' of model 'GARCH(1,1)_1yrFit'.\n"
     ]
    },
    {
     "name": "stdout",
     "output_type": "stream",
     "text": [
      "using model: GARCH(1,1)_1yrFit\n",
      "using model: GARCH(1,1)_1yrFit\n"
     ]
    },
    {
     "name": "stderr",
     "output_type": "stream",
     "text": [
      "2025/06/24 17:26:06 INFO mlflow.models.model: Found the following environment variables used during model inference: [DOMINO_USER_API_KEY]. Please check if you need to set them when deploying the model. To disable this message, set environment variable `MLFLOW_RECORD_ENV_VARS_IN_MODEL_LOGGING` to `false`.\n"
     ]
    },
    {
     "name": "stdout",
     "output_type": "stream",
     "text": [
      "🏃 View run IR_2025-01-10 at: http://127.0.0.1:8768/#/experiments/1555/runs/e48dd4e256a945178d0bafd325a251ea\n",
      "🧪 View experiment at: http://127.0.0.1:8768/#/experiments/1555\n",
      "using model: GARCH(1,1)_1yrFit\n"
     ]
    },
    {
     "name": "stderr",
     "output_type": "stream",
     "text": [
      "Registered model 'GARCH(1,1)_1yrFit' already exists. Creating a new version of this model...\n",
      "Registered model 'GARCH(1,1)_1yrFit' already exists. Creating a new version of this model...\n",
      "2025/06/24 17:26:19 INFO mlflow.store.model_registry.abstract_store: Waiting up to 300 seconds for model version to finish creation. Model name: GARCH(1,1)_1yrFit, version 221\n",
      "Created version '221' of model 'GARCH(1,1)_1yrFit'.\n",
      "2025/06/24 17:26:19 INFO mlflow.store.model_registry.abstract_store: Waiting up to 300 seconds for model version to finish creation. Model name: GARCH(1,1)_1yrFit, version 220\n",
      "Created version '220' of model 'GARCH(1,1)_1yrFit'.\n"
     ]
    },
    {
     "name": "stdout",
     "output_type": "stream",
     "text": [
      "🏃 View run IR_2025-01-08 at: http://127.0.0.1:8768/#/experiments/1555/runs/6c7e79e52ecd4175abca84c6aa6e2ac4\n",
      "🧪 View experiment at: http://127.0.0.1:8768/#/experiments/1555\n",
      "🏃 View run IR_2025-01-02 at: http://127.0.0.1:8768/#/experiments/1555/runs/0e45765aa4b44c80b493a0cfc929f6e3\n",
      "🧪 View experiment at: http://127.0.0.1:8768/#/experiments/1555\n",
      "⏭️  Skipping 2025-02-01: no exact curve_date in pivot\n",
      "⏭️  Skipping 2025-02-02: no exact curve_date in pivot\n",
      "using model: GARCH(1,1)_1yrFit\n",
      "using model: GARCH(1,1)_1yrFit\n"
     ]
    },
    {
     "name": "stderr",
     "output_type": "stream",
     "text": [
      "Registered model 'GARCH(1,1)_1yrFit' already exists. Creating a new version of this model...\n",
      "2025/06/24 17:26:48 INFO mlflow.models.model: Found the following environment variables used during model inference: [DOMINO_USER_API_KEY]. Please check if you need to set them when deploying the model. To disable this message, set environment variable `MLFLOW_RECORD_ENV_VARS_IN_MODEL_LOGGING` to `false`.\n",
      "Registered model 'GARCH(1,1)_1yrFit' already exists. Creating a new version of this model...\n",
      "2025/06/24 17:26:48 INFO mlflow.store.model_registry.abstract_store: Waiting up to 300 seconds for model version to finish creation. Model name: GARCH(1,1)_1yrFit, version 222\n",
      "Created version '222' of model 'GARCH(1,1)_1yrFit'.\n",
      "2025/06/24 17:26:49 INFO mlflow.models.model: Found the following environment variables used during model inference: [DOMINO_USER_API_KEY]. Please check if you need to set them when deploying the model. To disable this message, set environment variable `MLFLOW_RECORD_ENV_VARS_IN_MODEL_LOGGING` to `false`.\n",
      "2025/06/24 17:26:49 INFO mlflow.store.model_registry.abstract_store: Waiting up to 300 seconds for model version to finish creation. Model name: GARCH(1,1)_1yrFit, version 223\n",
      "Created version '223' of model 'GARCH(1,1)_1yrFit'.\n"
     ]
    },
    {
     "name": "stdout",
     "output_type": "stream",
     "text": [
      "🏃 View run IR_2025-01-14 at: http://127.0.0.1:8768/#/experiments/1555/runs/a4f3419c6b6347b091224f3e5438b6d9\n",
      "🧪 View experiment at: http://127.0.0.1:8768/#/experiments/1555\n",
      "🏃 View run IR_2025-01-22 at: http://127.0.0.1:8768/#/experiments/1555/runs/fb43b2a7042141a7a55e67e0743a727a\n",
      "🧪 View experiment at: http://127.0.0.1:8768/#/experiments/1555\n"
     ]
    },
    {
     "name": "stderr",
     "output_type": "stream",
     "text": [
      "Registered model 'GARCH(1,1)_1yrFit' already exists. Creating a new version of this model...\n",
      "Registered model 'GARCH(1,1)_1yrFit' already exists. Creating a new version of this model...\n",
      "2025/06/24 17:26:54 INFO mlflow.store.model_registry.abstract_store: Waiting up to 300 seconds for model version to finish creation. Model name: GARCH(1,1)_1yrFit, version 224\n",
      "Created version '224' of model 'GARCH(1,1)_1yrFit'.\n",
      "2025/06/24 17:26:55 INFO mlflow.store.model_registry.abstract_store: Waiting up to 300 seconds for model version to finish creation. Model name: GARCH(1,1)_1yrFit, version 225\n",
      "Created version '225' of model 'GARCH(1,1)_1yrFit'.\n",
      "2025/06/24 17:26:56 INFO mlflow.models.model: Found the following environment variables used during model inference: [DOMINO_USER_API_KEY]. Please check if you need to set them when deploying the model. To disable this message, set environment variable `MLFLOW_RECORD_ENV_VARS_IN_MODEL_LOGGING` to `false`.\n"
     ]
    },
    {
     "name": "stdout",
     "output_type": "stream",
     "text": [
      "🏃 View run IR_2025-01-21 at: http://127.0.0.1:8768/#/experiments/1555/runs/f78f2948a2ac4629bec07ed8a77403dc\n",
      "🧪 View experiment at: http://127.0.0.1:8768/#/experiments/1555\n",
      "🏃 View run IR_2025-01-23 at: http://127.0.0.1:8768/#/experiments/1555/runs/b41bcf4c34d4467b897a4f7192fe6dab\n",
      "🧪 View experiment at: http://127.0.0.1:8768/#/experiments/1555\n"
     ]
    },
    {
     "name": "stderr",
     "output_type": "stream",
     "text": [
      "Registered model 'GARCH(1,1)_1yrFit' already exists. Creating a new version of this model...\n",
      "Registered model 'GARCH(1,1)_1yrFit' already exists. Creating a new version of this model...\n",
      "2025/06/24 17:27:01 INFO mlflow.store.model_registry.abstract_store: Waiting up to 300 seconds for model version to finish creation. Model name: GARCH(1,1)_1yrFit, version 226\n",
      "Created version '226' of model 'GARCH(1,1)_1yrFit'.\n",
      "2025/06/24 17:27:02 INFO mlflow.store.model_registry.abstract_store: Waiting up to 300 seconds for model version to finish creation. Model name: GARCH(1,1)_1yrFit, version 227\n",
      "Created version '227' of model 'GARCH(1,1)_1yrFit'.\n"
     ]
    },
    {
     "name": "stdout",
     "output_type": "stream",
     "text": [
      "🏃 View run IR_2025-01-28 at: http://127.0.0.1:8768/#/experiments/1555/runs/02eb389f785d4068aaeda86cfc47eaba\n",
      "🧪 View experiment at: http://127.0.0.1:8768/#/experiments/1555\n",
      "🏃 View run IR_2025-01-24 at: http://127.0.0.1:8768/#/experiments/1555/runs/2e4f5ad4a63647e2b65c636720946b90\n",
      "🧪 View experiment at: http://127.0.0.1:8768/#/experiments/1555\n"
     ]
    },
    {
     "name": "stderr",
     "output_type": "stream",
     "text": [
      "2025/06/24 17:27:04 INFO mlflow.models.model: Found the following environment variables used during model inference: [DOMINO_USER_API_KEY]. Please check if you need to set them when deploying the model. To disable this message, set environment variable `MLFLOW_RECORD_ENV_VARS_IN_MODEL_LOGGING` to `false`.\n",
      "Registered model 'GARCH(1,1)_1yrFit' already exists. Creating a new version of this model...\n",
      "2025/06/24 17:27:07 INFO mlflow.store.model_registry.abstract_store: Waiting up to 300 seconds for model version to finish creation. Model name: GARCH(1,1)_1yrFit, version 228\n",
      "Created version '228' of model 'GARCH(1,1)_1yrFit'.\n",
      "2025/06/24 17:27:08 INFO mlflow.models.model: Found the following environment variables used during model inference: [DOMINO_USER_API_KEY]. Please check if you need to set them when deploying the model. To disable this message, set environment variable `MLFLOW_RECORD_ENV_VARS_IN_MODEL_LOGGING` to `false`.\n"
     ]
    },
    {
     "name": "stdout",
     "output_type": "stream",
     "text": [
      "🏃 View run IR_2025-01-29 at: http://127.0.0.1:8768/#/experiments/1555/runs/40023e349d7c4020a3a61da5fab0533a\n",
      "🧪 View experiment at: http://127.0.0.1:8768/#/experiments/1555\n"
     ]
    },
    {
     "name": "stderr",
     "output_type": "stream",
     "text": [
      "Registered model 'GARCH(1,1)_1yrFit' already exists. Creating a new version of this model...\n",
      "Registered model 'GARCH(1,1)_1yrFit' already exists. Creating a new version of this model...\n",
      "2025/06/24 17:27:10 INFO mlflow.store.model_registry.abstract_store: Waiting up to 300 seconds for model version to finish creation. Model name: GARCH(1,1)_1yrFit, version 229\n",
      "Created version '229' of model 'GARCH(1,1)_1yrFit'.\n",
      "2025/06/24 17:27:10 INFO mlflow.store.model_registry.abstract_store: Waiting up to 300 seconds for model version to finish creation. Model name: GARCH(1,1)_1yrFit, version 230\n",
      "Created version '230' of model 'GARCH(1,1)_1yrFit'.\n"
     ]
    },
    {
     "name": "stdout",
     "output_type": "stream",
     "text": [
      "🏃 View run IR_2025-01-31 at: http://127.0.0.1:8768/#/experiments/1555/runs/9f8f957d6ccc4a408f1ed80d50191d8a\n",
      "🧪 View experiment at: http://127.0.0.1:8768/#/experiments/1555\n",
      "🏃 View run IR_2025-01-27 at: http://127.0.0.1:8768/#/experiments/1555/runs/04194df2135641ee96f60bda3d09492c\n",
      "🧪 View experiment at: http://127.0.0.1:8768/#/experiments/1555\n"
     ]
    },
    {
     "name": "stderr",
     "output_type": "stream",
     "text": [
      "Registered model 'GARCH(1,1)_1yrFit' already exists. Creating a new version of this model...\n",
      "2025/06/24 17:27:16 INFO mlflow.store.model_registry.abstract_store: Waiting up to 300 seconds for model version to finish creation. Model name: GARCH(1,1)_1yrFit, version 231\n",
      "Created version '231' of model 'GARCH(1,1)_1yrFit'.\n",
      "Registered model 'GARCH(1,1)_1yrFit' already exists. Creating a new version of this model...\n"
     ]
    },
    {
     "name": "stdout",
     "output_type": "stream",
     "text": [
      "🏃 View run IR_2025-01-30 at: http://127.0.0.1:8768/#/experiments/1555/runs/0e9da27e21524ae386308b45b0f1393a\n",
      "🧪 View experiment at: http://127.0.0.1:8768/#/experiments/1555\n"
     ]
    },
    {
     "name": "stderr",
     "output_type": "stream",
     "text": [
      "2025/06/24 17:27:18 INFO mlflow.store.model_registry.abstract_store: Waiting up to 300 seconds for model version to finish creation. Model name: GARCH(1,1)_1yrFit, version 232\n",
      "Created version '232' of model 'GARCH(1,1)_1yrFit'.\n",
      "2025/06/24 17:27:18 INFO mlflow.models.model: Found the following environment variables used during model inference: [DOMINO_USER_API_KEY]. Please check if you need to set them when deploying the model. To disable this message, set environment variable `MLFLOW_RECORD_ENV_VARS_IN_MODEL_LOGGING` to `false`.\n"
     ]
    },
    {
     "name": "stdout",
     "output_type": "stream",
     "text": [
      "🏃 View run IR_2025-02-04 at: http://127.0.0.1:8768/#/experiments/1555/runs/a7e6e5aae6524ee19fde5d0d6c36130d\n",
      "🧪 View experiment at: http://127.0.0.1:8768/#/experiments/1555\n"
     ]
    },
    {
     "name": "stderr",
     "output_type": "stream",
     "text": [
      "Registered model 'GARCH(1,1)_1yrFit' already exists. Creating a new version of this model...\n",
      "2025/06/24 17:27:25 INFO mlflow.store.model_registry.abstract_store: Waiting up to 300 seconds for model version to finish creation. Model name: GARCH(1,1)_1yrFit, version 233\n",
      "Created version '233' of model 'GARCH(1,1)_1yrFit'.\n"
     ]
    },
    {
     "name": "stdout",
     "output_type": "stream",
     "text": [
      "🏃 View run IR_2025-02-03 at: http://127.0.0.1:8768/#/experiments/1555/runs/7de5590bc23b4490b4a43ac62f3e6f6a\n",
      "🧪 View experiment at: http://127.0.0.1:8768/#/experiments/1555\n"
     ]
    },
    {
     "name": "stderr",
     "output_type": "stream",
     "text": [
      "2025/06/24 17:27:36 INFO mlflow.models.model: Found the following environment variables used during model inference: [DOMINO_USER_API_KEY]. Please check if you need to set them when deploying the model. To disable this message, set environment variable `MLFLOW_RECORD_ENV_VARS_IN_MODEL_LOGGING` to `false`.\n",
      "Registered model 'GARCH(1,1)_1yrFit' already exists. Creating a new version of this model...\n",
      "Registered model 'GARCH(1,1)_1yrFit' already exists. Creating a new version of this model...\n",
      "2025/06/24 17:27:42 INFO mlflow.store.model_registry.abstract_store: Waiting up to 300 seconds for model version to finish creation. Model name: GARCH(1,1)_1yrFit, version 234\n",
      "Created version '234' of model 'GARCH(1,1)_1yrFit'.\n",
      "2025/06/24 17:27:42 INFO mlflow.store.model_registry.abstract_store: Waiting up to 300 seconds for model version to finish creation. Model name: GARCH(1,1)_1yrFit, version 235\n",
      "Created version '235' of model 'GARCH(1,1)_1yrFit'.\n"
     ]
    },
    {
     "name": "stdout",
     "output_type": "stream",
     "text": [
      "🏃 View run IR_2025-01-14 at: http://127.0.0.1:8768/#/experiments/1555/runs/814f1b9a2b8f43aa944ee5e85be84437\n",
      "🧪 View experiment at: http://127.0.0.1:8768/#/experiments/1555\n",
      "🏃 View run IR_2025-01-22 at: http://127.0.0.1:8768/#/experiments/1555/runs/23c63c8139a14cc486426d28341ad981\n",
      "🧪 View experiment at: http://127.0.0.1:8768/#/experiments/1555\n",
      "using model: GARCH(1,1)_1yrFit\n",
      "using model: GARCH(1,1)_1yrFit\n"
     ]
    },
    {
     "name": "stderr",
     "output_type": "stream",
     "text": [
      "Registered model 'GARCH(1,1)_1yrFit' already exists. Creating a new version of this model...\n",
      "2025/06/24 17:27:50 INFO mlflow.store.model_registry.abstract_store: Waiting up to 300 seconds for model version to finish creation. Model name: GARCH(1,1)_1yrFit, version 236\n",
      "Created version '236' of model 'GARCH(1,1)_1yrFit'.\n",
      "2025/06/24 17:27:52 INFO mlflow.models.model: Found the following environment variables used during model inference: [DOMINO_USER_API_KEY]. Please check if you need to set them when deploying the model. To disable this message, set environment variable `MLFLOW_RECORD_ENV_VARS_IN_MODEL_LOGGING` to `false`.\n",
      "Registered model 'GARCH(1,1)_1yrFit' already exists. Creating a new version of this model...\n"
     ]
    },
    {
     "name": "stdout",
     "output_type": "stream",
     "text": [
      "🏃 View run IR_2025-01-21 at: http://127.0.0.1:8768/#/experiments/1555/runs/2653b4e1af5446b98be710b5838b9770\n",
      "🧪 View experiment at: http://127.0.0.1:8768/#/experiments/1555\n"
     ]
    },
    {
     "name": "stderr",
     "output_type": "stream",
     "text": [
      "2025/06/24 17:27:54 INFO mlflow.store.model_registry.abstract_store: Waiting up to 300 seconds for model version to finish creation. Model name: GARCH(1,1)_1yrFit, version 237\n",
      "Created version '237' of model 'GARCH(1,1)_1yrFit'.\n"
     ]
    },
    {
     "name": "stdout",
     "output_type": "stream",
     "text": [
      "using model: GARCH(1,1)_1yrFit\n",
      "🏃 View run IR_2025-01-23 at: http://127.0.0.1:8768/#/experiments/1555/runs/cee5f3e1e32743fc952dbf4bc0476469\n",
      "🧪 View experiment at: http://127.0.0.1:8768/#/experiments/1555\n"
     ]
    },
    {
     "name": "stderr",
     "output_type": "stream",
     "text": [
      "Registered model 'GARCH(1,1)_1yrFit' already exists. Creating a new version of this model...\n",
      "2025/06/24 17:27:57 INFO mlflow.store.model_registry.abstract_store: Waiting up to 300 seconds for model version to finish creation. Model name: GARCH(1,1)_1yrFit, version 238\n",
      "Created version '238' of model 'GARCH(1,1)_1yrFit'.\n"
     ]
    },
    {
     "name": "stdout",
     "output_type": "stream",
     "text": [
      "⏭️  Skipping 2025-02-08: no exact curve_date in pivot\n"
     ]
    },
    {
     "name": "stderr",
     "output_type": "stream",
     "text": [
      "Registered model 'GARCH(1,1)_1yrFit' already exists. Creating a new version of this model...\n"
     ]
    },
    {
     "name": "stdout",
     "output_type": "stream",
     "text": [
      "⏭️  Skipping 2025-02-09: no exact curve_date in pivot\n",
      "🏃 View run IR_2025-01-28 at: http://127.0.0.1:8768/#/experiments/1555/runs/76b37505a9a7446895571a343d21403c\n",
      "🧪 View experiment at: http://127.0.0.1:8768/#/experiments/1555\n"
     ]
    },
    {
     "name": "stderr",
     "output_type": "stream",
     "text": [
      "2025/06/24 17:28:00 INFO mlflow.store.model_registry.abstract_store: Waiting up to 300 seconds for model version to finish creation. Model name: GARCH(1,1)_1yrFit, version 239\n",
      "Created version '239' of model 'GARCH(1,1)_1yrFit'.\n"
     ]
    },
    {
     "name": "stdout",
     "output_type": "stream",
     "text": [
      "using model: GARCH(1,1)_1yrFit\n",
      "using model: GARCH(1,1)_1yrFit\n",
      "🏃 View run IR_2025-01-24 at: http://127.0.0.1:8768/#/experiments/1555/runs/9635ed662b3d4e928fef86dbe87f22ba\n",
      "🧪 View experiment at: http://127.0.0.1:8768/#/experiments/1555\n",
      "using model: GARCH(1,1)_1yrFit\n"
     ]
    },
    {
     "name": "stderr",
     "output_type": "stream",
     "text": [
      "Registered model 'GARCH(1,1)_1yrFit' already exists. Creating a new version of this model...\n",
      "2025/06/24 17:28:07 INFO mlflow.models.model: Found the following environment variables used during model inference: [DOMINO_USER_API_KEY]. Please check if you need to set them when deploying the model. To disable this message, set environment variable `MLFLOW_RECORD_ENV_VARS_IN_MODEL_LOGGING` to `false`.\n",
      "Registered model 'GARCH(1,1)_1yrFit' already exists. Creating a new version of this model...\n",
      "2025/06/24 17:28:07 INFO mlflow.store.model_registry.abstract_store: Waiting up to 300 seconds for model version to finish creation. Model name: GARCH(1,1)_1yrFit, version 240\n",
      "Created version '240' of model 'GARCH(1,1)_1yrFit'.\n",
      "2025/06/24 17:28:07 INFO mlflow.store.model_registry.abstract_store: Waiting up to 300 seconds for model version to finish creation. Model name: GARCH(1,1)_1yrFit, version 241\n",
      "Created version '241' of model 'GARCH(1,1)_1yrFit'.\n"
     ]
    },
    {
     "name": "stdout",
     "output_type": "stream",
     "text": [
      "🏃 View run IR_2025-01-31 at: http://127.0.0.1:8768/#/experiments/1555/runs/20cb00262b0f47a5b0fe89e16cead9b4\n",
      "🧪 View experiment at: http://127.0.0.1:8768/#/experiments/1555\n",
      "🏃 View run IR_2025-01-29 at: http://127.0.0.1:8768/#/experiments/1555/runs/7b8adc8b859f4c53a87f5c0065b753df\n",
      "🧪 View experiment at: http://127.0.0.1:8768/#/experiments/1555\n",
      "using model: GARCH(1,1)_1yrFit\n"
     ]
    },
    {
     "name": "stderr",
     "output_type": "stream",
     "text": [
      "2025/06/24 17:28:09 INFO mlflow.models.model: Found the following environment variables used during model inference: [DOMINO_USER_API_KEY]. Please check if you need to set them when deploying the model. To disable this message, set environment variable `MLFLOW_RECORD_ENV_VARS_IN_MODEL_LOGGING` to `false`.\n"
     ]
    },
    {
     "name": "stdout",
     "output_type": "stream",
     "text": [
      "using model: GARCH(1,1)_1yrFit\n",
      "⏭️  Skipping 2025-02-15: no exact curve_date in pivot\n"
     ]
    },
    {
     "name": "stderr",
     "output_type": "stream",
     "text": [
      "Registered model 'GARCH(1,1)_1yrFit' already exists. Creating a new version of this model...\n"
     ]
    },
    {
     "name": "stdout",
     "output_type": "stream",
     "text": [
      "⏭️  Skipping 2025-02-17: no exact curve_date in pivot\n",
      "⏭️  Skipping 2025-02-16: no exact curve_date in pivot\n"
     ]
    },
    {
     "name": "stderr",
     "output_type": "stream",
     "text": [
      "2025/06/24 17:28:11 INFO mlflow.models.model: Found the following environment variables used during model inference: [DOMINO_USER_API_KEY]. Please check if you need to set them when deploying the model. To disable this message, set environment variable `MLFLOW_RECORD_ENV_VARS_IN_MODEL_LOGGING` to `false`.\n",
      "2025/06/24 17:28:11 INFO mlflow.store.model_registry.abstract_store: Waiting up to 300 seconds for model version to finish creation. Model name: GARCH(1,1)_1yrFit, version 242\n",
      "Created version '242' of model 'GARCH(1,1)_1yrFit'.\n"
     ]
    },
    {
     "name": "stdout",
     "output_type": "stream",
     "text": [
      "using model: GARCH(1,1)_1yrFit\n",
      "using model: GARCH(1,1)_1yrFit\n"
     ]
    },
    {
     "name": "stderr",
     "output_type": "stream",
     "text": [
      "/mnt/artifacts/.domino/.persistence/packages/venv/lib/python3.10/site-packages/arch/univariate/volatility.py:1215: RuntimeWarning: invalid value encountered in scalar divide\n",
      "  scale = np.mean(resids**2) / (target ** (2.0 / power))\n",
      "/mnt/artifacts/.domino/.persistence/packages/venv/lib/python3.10/site-packages/arch/univariate/distribution.py:449: RuntimeWarning: divide by zero encountered in log\n",
      "  lls = -0.5 * (log(2 * pi) + log(sigma2) + resids ** 2.0 / sigma2)\n",
      "/mnt/artifacts/.domino/.persistence/packages/venv/lib/python3.10/site-packages/arch/univariate/distribution.py:449: RuntimeWarning: invalid value encountered in divide\n",
      "  lls = -0.5 * (log(2 * pi) + log(sigma2) + resids ** 2.0 / sigma2)\n",
      "/mnt/artifacts/.domino/.persistence/packages/venv/lib/python3.10/site-packages/arch/univariate/base.py:768: ConvergenceWarning: The optimizer returned code 4. The message is:\n",
      "Inequality constraints incompatible\n",
      "See scipy.optimize.fmin_slsqp for code meaning.\n",
      "\n",
      "  warnings.warn(\n",
      "/mnt/code/models/covariance/garch.py:37: RuntimeWarning: invalid value encountered in divide\n",
      "  std_resid[:, i] = res.resid / cond_vol[:, i]\n",
      "/mnt/artifacts/.domino/.persistence/packages/venv/lib/python3.10/site-packages/arch/univariate/volatility.py:1215: RuntimeWarning: invalid value encountered in scalar divide\n",
      "  scale = np.mean(resids**2) / (target ** (2.0 / power))\n",
      "/mnt/artifacts/.domino/.persistence/packages/venv/lib/python3.10/site-packages/arch/univariate/distribution.py:449: RuntimeWarning: divide by zero encountered in log\n",
      "  lls = -0.5 * (log(2 * pi) + log(sigma2) + resids ** 2.0 / sigma2)\n",
      "/mnt/artifacts/.domino/.persistence/packages/venv/lib/python3.10/site-packages/arch/univariate/distribution.py:449: RuntimeWarning: invalid value encountered in divide\n",
      "  lls = -0.5 * (log(2 * pi) + log(sigma2) + resids ** 2.0 / sigma2)\n",
      "/mnt/artifacts/.domino/.persistence/packages/venv/lib/python3.10/site-packages/arch/univariate/base.py:768: ConvergenceWarning: The optimizer returned code 4. The message is:\n",
      "Inequality constraints incompatible\n",
      "See scipy.optimize.fmin_slsqp for code meaning.\n",
      "\n",
      "  warnings.warn(\n",
      "/mnt/code/models/covariance/garch.py:37: RuntimeWarning: invalid value encountered in divide\n",
      "  std_resid[:, i] = res.resid / cond_vol[:, i]\n",
      "/mnt/artifacts/.domino/.persistence/packages/venv/lib/python3.10/site-packages/arch/univariate/volatility.py:1215: RuntimeWarning: invalid value encountered in scalar divide\n",
      "  scale = np.mean(resids**2) / (target ** (2.0 / power))\n",
      "/mnt/artifacts/.domino/.persistence/packages/venv/lib/python3.10/site-packages/arch/univariate/distribution.py:449: RuntimeWarning: divide by zero encountered in log\n",
      "  lls = -0.5 * (log(2 * pi) + log(sigma2) + resids ** 2.0 / sigma2)\n",
      "/mnt/artifacts/.domino/.persistence/packages/venv/lib/python3.10/site-packages/arch/univariate/distribution.py:449: RuntimeWarning: invalid value encountered in divide\n",
      "  lls = -0.5 * (log(2 * pi) + log(sigma2) + resids ** 2.0 / sigma2)\n",
      "/mnt/artifacts/.domino/.persistence/packages/venv/lib/python3.10/site-packages/arch/univariate/base.py:768: ConvergenceWarning: The optimizer returned code 4. The message is:\n",
      "Inequality constraints incompatible\n",
      "See scipy.optimize.fmin_slsqp for code meaning.\n",
      "\n",
      "  warnings.warn(\n",
      "/mnt/code/models/covariance/garch.py:37: RuntimeWarning: invalid value encountered in divide\n",
      "  std_resid[:, i] = res.resid / cond_vol[:, i]\n",
      "/mnt/artifacts/.domino/.persistence/packages/venv/lib/python3.10/site-packages/arch/univariate/volatility.py:1215: RuntimeWarning: invalid value encountered in scalar divide\n",
      "  scale = np.mean(resids**2) / (target ** (2.0 / power))\n",
      "/mnt/artifacts/.domino/.persistence/packages/venv/lib/python3.10/site-packages/arch/univariate/distribution.py:449: RuntimeWarning: divide by zero encountered in log\n",
      "  lls = -0.5 * (log(2 * pi) + log(sigma2) + resids ** 2.0 / sigma2)\n",
      "/mnt/artifacts/.domino/.persistence/packages/venv/lib/python3.10/site-packages/arch/univariate/distribution.py:449: RuntimeWarning: invalid value encountered in divide\n",
      "  lls = -0.5 * (log(2 * pi) + log(sigma2) + resids ** 2.0 / sigma2)\n",
      "/mnt/artifacts/.domino/.persistence/packages/venv/lib/python3.10/site-packages/arch/univariate/distribution.py:449: RuntimeWarning: divide by zero encountered in log\n",
      "  lls = -0.5 * (log(2 * pi) + log(sigma2) + resids ** 2.0 / sigma2)\n",
      "/mnt/artifacts/.domino/.persistence/packages/venv/lib/python3.10/site-packages/arch/univariate/distribution.py:449: RuntimeWarning: invalid value encountered in divide\n",
      "  lls = -0.5 * (log(2 * pi) + log(sigma2) + resids ** 2.0 / sigma2)\n",
      "/mnt/artifacts/.domino/.persistence/packages/venv/lib/python3.10/site-packages/arch/univariate/base.py:768: ConvergenceWarning: The optimizer returned code 4. The message is:\n",
      "Inequality constraints incompatible\n",
      "See scipy.optimize.fmin_slsqp for code meaning.\n",
      "\n",
      "  warnings.warn(\n",
      "/mnt/code/models/covariance/garch.py:37: RuntimeWarning: invalid value encountered in divide\n",
      "  std_resid[:, i] = res.resid / cond_vol[:, i]\n"
     ]
    },
    {
     "name": "stdout",
     "output_type": "stream",
     "text": [
      "using model: GARCH(1,1)_1yrFit\n"
     ]
    },
    {
     "name": "stderr",
     "output_type": "stream",
     "text": [
      "/mnt/artifacts/.domino/.persistence/packages/venv/lib/python3.10/site-packages/arch/univariate/volatility.py:1215: RuntimeWarning: invalid value encountered in scalar divide\n",
      "  scale = np.mean(resids**2) / (target ** (2.0 / power))\n",
      "/mnt/artifacts/.domino/.persistence/packages/venv/lib/python3.10/site-packages/arch/univariate/distribution.py:449: RuntimeWarning: divide by zero encountered in log\n",
      "  lls = -0.5 * (log(2 * pi) + log(sigma2) + resids ** 2.0 / sigma2)\n",
      "/mnt/artifacts/.domino/.persistence/packages/venv/lib/python3.10/site-packages/arch/univariate/distribution.py:449: RuntimeWarning: invalid value encountered in divide\n",
      "  lls = -0.5 * (log(2 * pi) + log(sigma2) + resids ** 2.0 / sigma2)\n",
      "/mnt/artifacts/.domino/.persistence/packages/venv/lib/python3.10/site-packages/arch/univariate/base.py:768: ConvergenceWarning: The optimizer returned code 4. The message is:\n",
      "Inequality constraints incompatible\n",
      "See scipy.optimize.fmin_slsqp for code meaning.\n",
      "\n",
      "  warnings.warn(\n",
      "/mnt/code/models/covariance/garch.py:37: RuntimeWarning: invalid value encountered in divide\n",
      "  std_resid[:, i] = res.resid / cond_vol[:, i]\n",
      "/opt/conda/lib/python3.10/site-packages/numpy/lib/function_base.py:2846: RuntimeWarning: Degrees of freedom <= 0 for slice\n",
      "  c = cov(x, y, rowvar, dtype=dtype)\n",
      "/opt/conda/lib/python3.10/site-packages/numpy/lib/function_base.py:2705: RuntimeWarning: divide by zero encountered in divide\n",
      "  c *= np.true_divide(1, fact)\n",
      "/opt/conda/lib/python3.10/site-packages/numpy/lib/function_base.py:2705: RuntimeWarning: invalid value encountered in multiply\n",
      "  c *= np.true_divide(1, fact)\n"
     ]
    },
    {
     "name": "stdout",
     "output_type": "stream",
     "text": [
      "🏃 View run IR_2025-01-27 at: http://127.0.0.1:8768/#/experiments/1555/runs/cc58e11403944df78bc31d5a96f2904a\n",
      "🧪 View experiment at: http://127.0.0.1:8768/#/experiments/1555\n",
      "using model: GARCH(1,1)_1yrFit\n"
     ]
    },
    {
     "name": "stderr",
     "output_type": "stream",
     "text": [
      "/mnt/artifacts/.domino/.persistence/packages/venv/lib/python3.10/site-packages/arch/univariate/volatility.py:1215: RuntimeWarning: invalid value encountered in scalar divide\n",
      "  scale = np.mean(resids**2) / (target ** (2.0 / power))\n",
      "/mnt/artifacts/.domino/.persistence/packages/venv/lib/python3.10/site-packages/arch/univariate/distribution.py:449: RuntimeWarning: divide by zero encountered in log\n",
      "  lls = -0.5 * (log(2 * pi) + log(sigma2) + resids ** 2.0 / sigma2)\n",
      "/mnt/artifacts/.domino/.persistence/packages/venv/lib/python3.10/site-packages/arch/univariate/distribution.py:449: RuntimeWarning: invalid value encountered in divide\n",
      "  lls = -0.5 * (log(2 * pi) + log(sigma2) + resids ** 2.0 / sigma2)\n",
      "/mnt/artifacts/.domino/.persistence/packages/venv/lib/python3.10/site-packages/arch/univariate/base.py:768: ConvergenceWarning: The optimizer returned code 4. The message is:\n",
      "Inequality constraints incompatible\n",
      "See scipy.optimize.fmin_slsqp for code meaning.\n",
      "\n",
      "  warnings.warn(\n",
      "/mnt/code/models/covariance/garch.py:37: RuntimeWarning: invalid value encountered in divide\n",
      "  std_resid[:, i] = res.resid / cond_vol[:, i]\n"
     ]
    },
    {
     "name": "stdout",
     "output_type": "stream",
     "text": [
      "⏭️  Skipping 2025-02-22: no exact curve_date in pivot\n",
      "⏭️  Skipping 2025-02-23: no exact curve_date in pivot\n",
      "using model: GARCH(1,1)_1yrFit\n",
      "using model: GARCH(1,1)_1yrFit\n",
      "using model: GARCH(1,1)_1yrFit\n"
     ]
    },
    {
     "name": "stderr",
     "output_type": "stream",
     "text": [
      "Registered model 'GARCH(1,1)_1yrFit' already exists. Creating a new version of this model...\n",
      "Registered model 'GARCH(1,1)_1yrFit' already exists. Creating a new version of this model...\n"
     ]
    },
    {
     "name": "stdout",
     "output_type": "stream",
     "text": [
      "using model: GARCH(1,1)_1yrFit\n"
     ]
    },
    {
     "name": "stderr",
     "output_type": "stream",
     "text": [
      "Registered model 'GARCH(1,1)_1yrFit' already exists. Creating a new version of this model...\n",
      "2025/06/24 17:28:19 INFO mlflow.store.model_registry.abstract_store: Waiting up to 300 seconds for model version to finish creation. Model name: GARCH(1,1)_1yrFit, version 243\n",
      "Created version '243' of model 'GARCH(1,1)_1yrFit'.\n",
      "2025/06/24 17:28:20 INFO mlflow.store.model_registry.abstract_store: Waiting up to 300 seconds for model version to finish creation. Model name: GARCH(1,1)_1yrFit, version 244\n",
      "Created version '244' of model 'GARCH(1,1)_1yrFit'.\n",
      "2025/06/24 17:28:20 INFO mlflow.store.model_registry.abstract_store: Waiting up to 300 seconds for model version to finish creation. Model name: GARCH(1,1)_1yrFit, version 245\n",
      "Created version '245' of model 'GARCH(1,1)_1yrFit'.\n"
     ]
    },
    {
     "name": "stdout",
     "output_type": "stream",
     "text": [
      "🏃 View run IR_2025-02-04 at: http://127.0.0.1:8768/#/experiments/1555/runs/3a8775bb2a36487491cf7a3373d0a512\n",
      "🧪 View experiment at: http://127.0.0.1:8768/#/experiments/1555\n",
      "🏃 View run IR_2025-02-03 at: http://127.0.0.1:8768/#/experiments/1555/runs/57757d5edcbc4097873869831b4122fd\n",
      "🧪 View experiment at: http://127.0.0.1:8768/#/experiments/1555\n",
      "🏃 View run IR_2025-01-30 at: http://127.0.0.1:8768/#/experiments/1555/runs/98fd38a9778a4f09a350e63c6624ce37\n",
      "🧪 View experiment at: http://127.0.0.1:8768/#/experiments/1555\n",
      "using model: GARCH(1,1)_1yrFit\n",
      "⏭️  Skipping 2025-03-01: no exact curve_date in pivot\n",
      "⏭️  Skipping 2025-03-02: no exact curve_date in pivot\n",
      "using model: GARCH(1,1)_1yrFit\n",
      "using model: GARCH(1,1)_1yrFit\n"
     ]
    },
    {
     "name": "stderr",
     "output_type": "stream",
     "text": [
      "2025/06/24 17:28:30 INFO mlflow.models.model: Found the following environment variables used during model inference: [DOMINO_USER_API_KEY]. Please check if you need to set them when deploying the model. To disable this message, set environment variable `MLFLOW_RECORD_ENV_VARS_IN_MODEL_LOGGING` to `false`.\n",
      "Registered model 'GARCH(1,1)_1yrFit' already exists. Creating a new version of this model...\n",
      "2025/06/24 17:28:34 INFO mlflow.store.model_registry.abstract_store: Waiting up to 300 seconds for model version to finish creation. Model name: GARCH(1,1)_1yrFit, version 246\n",
      "Created version '246' of model 'GARCH(1,1)_1yrFit'.\n"
     ]
    },
    {
     "name": "stdout",
     "output_type": "stream",
     "text": [
      "🏃 View run IR_2025-02-06 at: http://127.0.0.1:8768/#/experiments/1555/runs/ff08fa77ffcc4feba5ea9059e48acc9b\n",
      "🧪 View experiment at: http://127.0.0.1:8768/#/experiments/1555\n"
     ]
    },
    {
     "name": "stderr",
     "output_type": "stream",
     "text": [
      "Registered model 'GARCH(1,1)_1yrFit' already exists. Creating a new version of this model...\n",
      "2025/06/24 17:28:38 INFO mlflow.store.model_registry.abstract_store: Waiting up to 300 seconds for model version to finish creation. Model name: GARCH(1,1)_1yrFit, version 247\n",
      "Created version '247' of model 'GARCH(1,1)_1yrFit'.\n",
      "2025/06/24 17:28:38 INFO mlflow.models.model: Found the following environment variables used during model inference: [DOMINO_USER_API_KEY]. Please check if you need to set them when deploying the model. To disable this message, set environment variable `MLFLOW_RECORD_ENV_VARS_IN_MODEL_LOGGING` to `false`.\n"
     ]
    },
    {
     "name": "stdout",
     "output_type": "stream",
     "text": [
      "🏃 View run IR_2025-02-05 at: http://127.0.0.1:8768/#/experiments/1555/runs/db77bee4fbd64e9cb4d2662db6e6e07b\n",
      "🧪 View experiment at: http://127.0.0.1:8768/#/experiments/1555\n"
     ]
    },
    {
     "name": "stderr",
     "output_type": "stream",
     "text": [
      "Registered model 'GARCH(1,1)_1yrFit' already exists. Creating a new version of this model...\n",
      "2025/06/24 17:28:45 INFO mlflow.store.model_registry.abstract_store: Waiting up to 300 seconds for model version to finish creation. Model name: GARCH(1,1)_1yrFit, version 248\n",
      "Created version '248' of model 'GARCH(1,1)_1yrFit'.\n"
     ]
    },
    {
     "name": "stdout",
     "output_type": "stream",
     "text": [
      "🏃 View run IR_2025-02-07 at: http://127.0.0.1:8768/#/experiments/1555/runs/40690699317a4bf690844d01af876195\n",
      "🧪 View experiment at: http://127.0.0.1:8768/#/experiments/1555\n"
     ]
    },
    {
     "name": "stderr",
     "output_type": "stream",
     "text": [
      "2025/06/24 17:28:56 INFO mlflow.models.model: Found the following environment variables used during model inference: [DOMINO_USER_API_KEY]. Please check if you need to set them when deploying the model. To disable this message, set environment variable `MLFLOW_RECORD_ENV_VARS_IN_MODEL_LOGGING` to `false`.\n",
      "Registered model 'GARCH(1,1)_1yrFit' already exists. Creating a new version of this model...\n",
      "2025/06/24 17:28:59 INFO mlflow.models.model: Found the following environment variables used during model inference: [DOMINO_USER_API_KEY]. Please check if you need to set them when deploying the model. To disable this message, set environment variable `MLFLOW_RECORD_ENV_VARS_IN_MODEL_LOGGING` to `false`.\n",
      "2025/06/24 17:29:00 INFO mlflow.store.model_registry.abstract_store: Waiting up to 300 seconds for model version to finish creation. Model name: GARCH(1,1)_1yrFit, version 249\n",
      "Created version '249' of model 'GARCH(1,1)_1yrFit'.\n"
     ]
    },
    {
     "name": "stdout",
     "output_type": "stream",
     "text": [
      "🏃 View run IR_2025-02-14 at: http://127.0.0.1:8768/#/experiments/1555/runs/c0e4f69bd8b84bc5a54b45f2ceebd5a3\n",
      "🧪 View experiment at: http://127.0.0.1:8768/#/experiments/1555\n"
     ]
    },
    {
     "name": "stderr",
     "output_type": "stream",
     "text": [
      "Registered model 'GARCH(1,1)_1yrFit' already exists. Creating a new version of this model...\n",
      "2025/06/24 17:29:04 INFO mlflow.store.model_registry.abstract_store: Waiting up to 300 seconds for model version to finish creation. Model name: GARCH(1,1)_1yrFit, version 250\n",
      "Created version '250' of model 'GARCH(1,1)_1yrFit'.\n"
     ]
    },
    {
     "name": "stdout",
     "output_type": "stream",
     "text": [
      "🏃 View run IR_2025-02-13 at: http://127.0.0.1:8768/#/experiments/1555/runs/b34fade90c9a408993acf944bfa50e00\n",
      "🧪 View experiment at: http://127.0.0.1:8768/#/experiments/1555\n"
     ]
    },
    {
     "name": "stderr",
     "output_type": "stream",
     "text": [
      "2025/06/24 17:29:07 INFO mlflow.models.model: Found the following environment variables used during model inference: [DOMINO_USER_API_KEY]. Please check if you need to set them when deploying the model. To disable this message, set environment variable `MLFLOW_RECORD_ENV_VARS_IN_MODEL_LOGGING` to `false`.\n",
      "Registered model 'GARCH(1,1)_1yrFit' already exists. Creating a new version of this model...\n",
      "Registered model 'GARCH(1,1)_1yrFit' already exists. Creating a new version of this model...\n",
      "2025/06/24 17:29:13 INFO mlflow.store.model_registry.abstract_store: Waiting up to 300 seconds for model version to finish creation. Model name: GARCH(1,1)_1yrFit, version 251\n",
      "Created version '251' of model 'GARCH(1,1)_1yrFit'.\n",
      "2025/06/24 17:29:13 INFO mlflow.store.model_registry.abstract_store: Waiting up to 300 seconds for model version to finish creation. Model name: GARCH(1,1)_1yrFit, version 252\n",
      "Created version '252' of model 'GARCH(1,1)_1yrFit'.\n",
      "Registered model 'GARCH(1,1)_1yrFit' already exists. Creating a new version of this model...\n"
     ]
    },
    {
     "name": "stdout",
     "output_type": "stream",
     "text": [
      "🏃 View run IR_2025-02-26 at: http://127.0.0.1:8768/#/experiments/1555/runs/e4564cae13d84a5aa6cb7443788221c1\n",
      "🧪 View experiment at: http://127.0.0.1:8768/#/experiments/1555\n"
     ]
    },
    {
     "name": "stderr",
     "output_type": "stream",
     "text": [
      "2025/06/24 17:29:14 INFO mlflow.store.model_registry.abstract_store: Waiting up to 300 seconds for model version to finish creation. Model name: GARCH(1,1)_1yrFit, version 253\n",
      "Created version '253' of model 'GARCH(1,1)_1yrFit'.\n"
     ]
    },
    {
     "name": "stdout",
     "output_type": "stream",
     "text": [
      "🏃 View run IR_2025-02-24 at: http://127.0.0.1:8768/#/experiments/1555/runs/43f50e1b023e400c843a672f782c1eb6\n",
      "🧪 View experiment at: http://127.0.0.1:8768/#/experiments/1555\n",
      "🏃 View run IR_2025-02-25 at: http://127.0.0.1:8768/#/experiments/1555/runs/ae750eebc17641e2b167aed242859430\n",
      "🧪 View experiment at: http://127.0.0.1:8768/#/experiments/1555\n"
     ]
    },
    {
     "name": "stderr",
     "output_type": "stream",
     "text": [
      "Registered model 'GARCH(1,1)_1yrFit' already exists. Creating a new version of this model...\n",
      "2025/06/24 17:29:24 INFO mlflow.store.model_registry.abstract_store: Waiting up to 300 seconds for model version to finish creation. Model name: GARCH(1,1)_1yrFit, version 254\n",
      "Created version '254' of model 'GARCH(1,1)_1yrFit'.\n"
     ]
    },
    {
     "name": "stdout",
     "output_type": "stream",
     "text": [
      "🏃 View run IR_2025-02-27 at: http://127.0.0.1:8768/#/experiments/1555/runs/2782b8101c4e4e4988b3404190f80b72\n",
      "🧪 View experiment at: http://127.0.0.1:8768/#/experiments/1555\n"
     ]
    },
    {
     "name": "stderr",
     "output_type": "stream",
     "text": [
      "2025/06/24 17:29:26 INFO mlflow.models.model: Found the following environment variables used during model inference: [DOMINO_USER_API_KEY]. Please check if you need to set them when deploying the model. To disable this message, set environment variable `MLFLOW_RECORD_ENV_VARS_IN_MODEL_LOGGING` to `false`.\n",
      "Registered model 'GARCH(1,1)_1yrFit' already exists. Creating a new version of this model...\n",
      "2025/06/24 17:29:27 INFO mlflow.store.model_registry.abstract_store: Waiting up to 300 seconds for model version to finish creation. Model name: GARCH(1,1)_1yrFit, version 255\n",
      "Created version '255' of model 'GARCH(1,1)_1yrFit'.\n"
     ]
    },
    {
     "name": "stdout",
     "output_type": "stream",
     "text": [
      "🏃 View run IR_2025-03-04 at: http://127.0.0.1:8768/#/experiments/1555/runs/3781259fcb2846a7a1a012b8dab68158\n",
      "🧪 View experiment at: http://127.0.0.1:8768/#/experiments/1555\n"
     ]
    },
    {
     "name": "stderr",
     "output_type": "stream",
     "text": [
      "Registered model 'GARCH(1,1)_1yrFit' already exists. Creating a new version of this model...\n",
      "2025/06/24 17:29:32 INFO mlflow.store.model_registry.abstract_store: Waiting up to 300 seconds for model version to finish creation. Model name: GARCH(1,1)_1yrFit, version 256\n",
      "Registered model 'GARCH(1,1)_1yrFit' already exists. Creating a new version of this model...Created version '256' of model 'GARCH(1,1)_1yrFit'.\n",
      "\n",
      "2025/06/24 17:29:33 INFO mlflow.store.model_registry.abstract_store: Waiting up to 300 seconds for model version to finish creation. Model name: GARCH(1,1)_1yrFit, version 257\n",
      "Created version '257' of model 'GARCH(1,1)_1yrFit'.\n"
     ]
    },
    {
     "name": "stdout",
     "output_type": "stream",
     "text": [
      "🏃 View run IR_2025-02-28 at: http://127.0.0.1:8768/#/experiments/1555/runs/3c45d15d26874d5481c43a52d6cbaffe\n",
      "🧪 View experiment at: http://127.0.0.1:8768/#/experiments/1555\n",
      "🏃 View run IR_2025-03-03 at: http://127.0.0.1:8768/#/experiments/1555/runs/0f55c2847c004c189b0830ee940de633\n",
      "🧪 View experiment at: http://127.0.0.1:8768/#/experiments/1555\n"
     ]
    },
    {
     "name": "stderr",
     "output_type": "stream",
     "text": [
      "2025/06/24 17:29:36 INFO mlflow.models.model: Found the following environment variables used during model inference: [DOMINO_USER_API_KEY]. Please check if you need to set them when deploying the model. To disable this message, set environment variable `MLFLOW_RECORD_ENV_VARS_IN_MODEL_LOGGING` to `false`.\n",
      "Registered model 'GARCH(1,1)_1yrFit' already exists. Creating a new version of this model...\n",
      "2025/06/24 17:29:41 INFO mlflow.store.model_registry.abstract_store: Waiting up to 300 seconds for model version to finish creation. Model name: GARCH(1,1)_1yrFit, version 258\n",
      "Created version '258' of model 'GARCH(1,1)_1yrFit'.\n"
     ]
    },
    {
     "name": "stdout",
     "output_type": "stream",
     "text": [
      "🏃 View run IR_2025-02-05 at: http://127.0.0.1:8768/#/experiments/1555/runs/ffa26278eea84626933e1b33dd78804b\n",
      "🧪 View experiment at: http://127.0.0.1:8768/#/experiments/1555\n",
      "using model: GARCH(1,1)_1yrFit\n"
     ]
    },
    {
     "name": "stderr",
     "output_type": "stream",
     "text": [
      "Registered model 'GARCH(1,1)_1yrFit' already exists. Creating a new version of this model...\n",
      "2025/06/24 17:29:46 INFO mlflow.store.model_registry.abstract_store: Waiting up to 300 seconds for model version to finish creation. Model name: GARCH(1,1)_1yrFit, version 259\n",
      "Created version '259' of model 'GARCH(1,1)_1yrFit'.\n",
      "Registered model 'GARCH(1,1)_1yrFit' already exists. Creating a new version of this model...\n"
     ]
    },
    {
     "name": "stdout",
     "output_type": "stream",
     "text": [
      "🏃 View run IR_2025-02-07 at: http://127.0.0.1:8768/#/experiments/1555/runs/ff699ca9514d40ab92d464e81db2458f\n",
      "🧪 View experiment at: http://127.0.0.1:8768/#/experiments/1555\n"
     ]
    },
    {
     "name": "stderr",
     "output_type": "stream",
     "text": [
      "2025/06/24 17:29:47 INFO mlflow.store.model_registry.abstract_store: Waiting up to 300 seconds for model version to finish creation. Model name: GARCH(1,1)_1yrFit, version 260\n",
      "Created version '260' of model 'GARCH(1,1)_1yrFit'.\n"
     ]
    },
    {
     "name": "stdout",
     "output_type": "stream",
     "text": [
      "🏃 View run IR_2025-02-06 at: http://127.0.0.1:8768/#/experiments/1555/runs/fdd5652aa71e41029eaa474f3af78bf5\n",
      "🧪 View experiment at: http://127.0.0.1:8768/#/experiments/1555\n",
      "using model: GARCH(1,1)_1yrFit\n",
      "using model: GARCH(1,1)_1yrFit\n"
     ]
    },
    {
     "name": "stderr",
     "output_type": "stream",
     "text": [
      "2025/06/24 17:29:51 INFO mlflow.models.model: Found the following environment variables used during model inference: [DOMINO_USER_API_KEY]. Please check if you need to set them when deploying the model. To disable this message, set environment variable `MLFLOW_RECORD_ENV_VARS_IN_MODEL_LOGGING` to `false`.\n",
      "Registered model 'GARCH(1,1)_1yrFit' already exists. Creating a new version of this model...\n",
      "2025/06/24 17:29:55 INFO mlflow.store.model_registry.abstract_store: Waiting up to 300 seconds for model version to finish creation. Model name: GARCH(1,1)_1yrFit, version 261\n",
      "Created version '261' of model 'GARCH(1,1)_1yrFit'.\n"
     ]
    },
    {
     "name": "stdout",
     "output_type": "stream",
     "text": [
      "🏃 View run IR_2025-02-13 at: http://127.0.0.1:8768/#/experiments/1555/runs/52eaf68fd8d34babbb1af9d85fbe72ce\n",
      "🧪 View experiment at: http://127.0.0.1:8768/#/experiments/1555\n"
     ]
    },
    {
     "name": "stderr",
     "output_type": "stream",
     "text": [
      "Registered model 'GARCH(1,1)_1yrFit' already exists. Creating a new version of this model...\n",
      "2025/06/24 17:29:58 INFO mlflow.store.model_registry.abstract_store: Waiting up to 300 seconds for model version to finish creation. Model name: GARCH(1,1)_1yrFit, version 262\n",
      "Created version '262' of model 'GARCH(1,1)_1yrFit'.\n",
      "2025/06/24 17:29:58 INFO mlflow.models.model: Found the following environment variables used during model inference: [DOMINO_USER_API_KEY]. Please check if you need to set them when deploying the model. To disable this message, set environment variable `MLFLOW_RECORD_ENV_VARS_IN_MODEL_LOGGING` to `false`.\n"
     ]
    },
    {
     "name": "stdout",
     "output_type": "stream",
     "text": [
      "⏭️  Skipping 2025-03-08: no exact curve_date in pivot\n",
      "⏭️  Skipping 2025-03-09: no exact curve_date in pivot\n",
      "🏃 View run IR_2025-02-14 at: http://127.0.0.1:8768/#/experiments/1555/runs/c8f6b840a7414d0ebec5110944a852f4\n",
      "🧪 View experiment at: http://127.0.0.1:8768/#/experiments/1555\n",
      "using model: GARCH(1,1)_1yrFit\n",
      "using model: GARCH(1,1)_1yrFit\n"
     ]
    },
    {
     "name": "stderr",
     "output_type": "stream",
     "text": [
      "Registered model 'GARCH(1,1)_1yrFit' already exists. Creating a new version of this model...\n",
      "2025/06/24 17:30:05 INFO mlflow.store.model_registry.abstract_store: Waiting up to 300 seconds for model version to finish creation. Model name: GARCH(1,1)_1yrFit, version 263\n",
      "Created version '263' of model 'GARCH(1,1)_1yrFit'.\n",
      "Registered model 'GARCH(1,1)_1yrFit' already exists. Creating a new version of this model...\n",
      "2025/06/24 17:30:06 INFO mlflow.store.model_registry.abstract_store: Waiting up to 300 seconds for model version to finish creation. Model name: GARCH(1,1)_1yrFit, version 264\n",
      "Created version '264' of model 'GARCH(1,1)_1yrFit'.\n"
     ]
    },
    {
     "name": "stdout",
     "output_type": "stream",
     "text": [
      "🏃 View run IR_2025-02-25 at: http://127.0.0.1:8768/#/experiments/1555/runs/2cc44efe2112425e9c66ef4d33e06290\n",
      "🧪 View experiment at: http://127.0.0.1:8768/#/experiments/1555\n",
      "🏃 View run IR_2025-02-24 at: http://127.0.0.1:8768/#/experiments/1555/runs/2c915ab64b724c9e9000cd4b8e644762\n",
      "🧪 View experiment at: http://127.0.0.1:8768/#/experiments/1555\n",
      "using model: GARCH(1,1)_1yrFit\n",
      "using model: GARCH(1,1)_1yrFit\n"
     ]
    },
    {
     "name": "stderr",
     "output_type": "stream",
     "text": [
      "Registered model 'GARCH(1,1)_1yrFit' already exists. Creating a new version of this model...\n",
      "2025/06/24 17:30:17 INFO mlflow.store.model_registry.abstract_store: Waiting up to 300 seconds for model version to finish creation. Model name: GARCH(1,1)_1yrFit, version 265\n",
      "Created version '265' of model 'GARCH(1,1)_1yrFit'.\n"
     ]
    },
    {
     "name": "stdout",
     "output_type": "stream",
     "text": [
      "🏃 View run IR_2025-02-26 at: http://127.0.0.1:8768/#/experiments/1555/runs/502cc0ccc704482abd17627d975ff639\n",
      "🧪 View experiment at: http://127.0.0.1:8768/#/experiments/1555\n",
      "using model: GARCH(1,1)_1yrFit\n"
     ]
    },
    {
     "name": "stderr",
     "output_type": "stream",
     "text": [
      "Registered model 'GARCH(1,1)_1yrFit' already exists. Creating a new version of this model...\n",
      "2025/06/24 17:30:27 INFO mlflow.store.model_registry.abstract_store: Waiting up to 300 seconds for model version to finish creation. Model name: GARCH(1,1)_1yrFit, version 266\n",
      "Created version '266' of model 'GARCH(1,1)_1yrFit'.\n",
      "2025/06/24 17:30:28 INFO mlflow.models.model: Found the following environment variables used during model inference: [DOMINO_USER_API_KEY]. Please check if you need to set them when deploying the model. To disable this message, set environment variable `MLFLOW_RECORD_ENV_VARS_IN_MODEL_LOGGING` to `false`.\n"
     ]
    },
    {
     "name": "stdout",
     "output_type": "stream",
     "text": [
      "🏃 View run IR_2025-02-27 at: http://127.0.0.1:8768/#/experiments/1555/runs/cee69071745a4585b91888c6c38352dc\n",
      "🧪 View experiment at: http://127.0.0.1:8768/#/experiments/1555\n",
      "⏭️  Skipping 2025-03-15: no exact curve_date in pivot\n"
     ]
    },
    {
     "name": "stderr",
     "output_type": "stream",
     "text": [
      "Registered model 'GARCH(1,1)_1yrFit' already exists. Creating a new version of this model...\n",
      "Registered model 'GARCH(1,1)_1yrFit' already exists. Creating a new version of this model...\n"
     ]
    },
    {
     "name": "stdout",
     "output_type": "stream",
     "text": [
      "⏭️  Skipping 2025-03-16: no exact curve_date in pivot\n"
     ]
    },
    {
     "name": "stderr",
     "output_type": "stream",
     "text": [
      "Registered model 'GARCH(1,1)_1yrFit' already exists. Creating a new version of this model...\n",
      "2025/06/24 17:30:32 INFO mlflow.store.model_registry.abstract_store: Waiting up to 300 seconds for model version to finish creation. Model name: GARCH(1,1)_1yrFit, version 267\n",
      "Created version '267' of model 'GARCH(1,1)_1yrFit'.\n",
      "Registered model 'GARCH(1,1)_1yrFit' already exists. Creating a new version of this model...\n",
      "2025/06/24 17:30:32 INFO mlflow.store.model_registry.abstract_store: Waiting up to 300 seconds for model version to finish creation. Model name: GARCH(1,1)_1yrFit, version 268\n",
      "Created version '268' of model 'GARCH(1,1)_1yrFit'.\n",
      "Registered model 'GARCH(1,1)_1yrFit' already exists. Creating a new version of this model...\n",
      "Registered model 'GARCH(1,1)_1yrFit' already exists. Creating a new version of this model...\n",
      "2025/06/24 17:30:32 INFO mlflow.store.model_registry.abstract_store: Waiting up to 300 seconds for model version to finish creation. Model name: GARCH(1,1)_1yrFit, version 269\n",
      "Created version '269' of model 'GARCH(1,1)_1yrFit'.\n"
     ]
    },
    {
     "name": "stdout",
     "output_type": "stream",
     "text": [
      "using model: GARCH(1,1)_1yrFit\n"
     ]
    },
    {
     "name": "stderr",
     "output_type": "stream",
     "text": [
      "2025/06/24 17:30:33 INFO mlflow.store.model_registry.abstract_store: Waiting up to 300 seconds for model version to finish creation. Model name: GARCH(1,1)_1yrFit, version 270\n",
      "Created version '270' of model 'GARCH(1,1)_1yrFit'.\n",
      "2025/06/24 17:30:33 INFO mlflow.store.model_registry.abstract_store: Waiting up to 300 seconds for model version to finish creation. Model name: GARCH(1,1)_1yrFit, version 271\n"
     ]
    },
    {
     "name": "stdout",
     "output_type": "stream",
     "text": [
      "🏃 View run IR_2025-02-28 at: http://127.0.0.1:8768/#/experiments/1555/runs/6b9e848558324361959745bba07cf9dd\n",
      "🧪 View experiment at: http://127.0.0.1:8768/#/experiments/1555\n",
      "🏃 View run IR_2025-03-04 at: http://127.0.0.1:8768/#/experiments/1555/runs/57d20ea7e797442690433ecf0ad47a7a\n",
      "🧪 View experiment at: http://127.0.0.1:8768/#/experiments/1555\n"
     ]
    },
    {
     "name": "stderr",
     "output_type": "stream",
     "text": [
      "Created version '271' of model 'GARCH(1,1)_1yrFit'.\n",
      "2025/06/24 17:30:34 INFO mlflow.store.model_registry.abstract_store: Waiting up to 300 seconds for model version to finish creation. Model name: GARCH(1,1)_1yrFit, version 272\n",
      "Created version '272' of model 'GARCH(1,1)_1yrFit'.\n"
     ]
    },
    {
     "name": "stdout",
     "output_type": "stream",
     "text": [
      "🏃 View run IR_2025-03-05 at: http://127.0.0.1:8768/#/experiments/1555/runs/f53732fc51c04deb9b14b758d93ea2f1\n",
      "🧪 View experiment at: http://127.0.0.1:8768/#/experiments/1555\n",
      "🏃 View run IR_2025-03-03 at: http://127.0.0.1:8768/#/experiments/1555/runs/e7bbf0366b5a4d3bb813f1fb1ead543d\n",
      "🧪 View experiment at: http://127.0.0.1:8768/#/experiments/1555\n",
      "using model: GARCH(1,1)_1yrFit\n",
      "using model: GARCH(1,1)_1yrFit\n"
     ]
    },
    {
     "name": "stderr",
     "output_type": "stream",
     "text": [
      "/mnt/artifacts/.domino/.persistence/packages/venv/lib/python3.10/site-packages/arch/univariate/base.py:768: ConvergenceWarning: The optimizer returned code 8. The message is:\n",
      "Positive directional derivative for linesearch\n",
      "See scipy.optimize.fmin_slsqp for code meaning.\n",
      "\n",
      "  warnings.warn(\n"
     ]
    },
    {
     "name": "stdout",
     "output_type": "stream",
     "text": [
      "🏃 View run IR_2025-03-06 at: http://127.0.0.1:8768/#/experiments/1555/runs/e3fb29e7621b491097d45a5efce25f9b\n",
      "🧪 View experiment at: http://127.0.0.1:8768/#/experiments/1555\n",
      "🏃 View run IR_2025-03-07 at: http://127.0.0.1:8768/#/experiments/1555/runs/a33f003c72b44f959309f4039b746d94\n",
      "🧪 View experiment at: http://127.0.0.1:8768/#/experiments/1555\n",
      "using model: GARCH(1,1)_1yrFit\n"
     ]
    },
    {
     "name": "stderr",
     "output_type": "stream",
     "text": [
      "2025/06/24 17:30:56 INFO mlflow.models.model: Found the following environment variables used during model inference: [DOMINO_USER_API_KEY]. Please check if you need to set them when deploying the model. To disable this message, set environment variable `MLFLOW_RECORD_ENV_VARS_IN_MODEL_LOGGING` to `false`.\n",
      "Registered model 'GARCH(1,1)_1yrFit' already exists. Creating a new version of this model...\n",
      "Registered model 'GARCH(1,1)_1yrFit' already exists. Creating a new version of this model...\n",
      "Registered model 'GARCH(1,1)_1yrFit' already exists. Creating a new version of this model...\n",
      "Registered model 'GARCH(1,1)_1yrFit' already exists. Creating a new version of this model...\n",
      "Registered model 'GARCH(1,1)_1yrFit' already exists. Creating a new version of this model...\n",
      "2025/06/24 17:30:58 INFO mlflow.store.model_registry.abstract_store: Waiting up to 300 seconds for model version to finish creation. Model name: GARCH(1,1)_1yrFit, version 273\n",
      "Created version '273' of model 'GARCH(1,1)_1yrFit'.\n",
      "2025/06/24 17:30:58 INFO mlflow.store.model_registry.abstract_store: Waiting up to 300 seconds for model version to finish creation. Model name: GARCH(1,1)_1yrFit, version 274\n",
      "Created version '274' of model 'GARCH(1,1)_1yrFit'.\n",
      "2025/06/24 17:30:58 INFO mlflow.store.model_registry.abstract_store: Waiting up to 300 seconds for model version to finish creation. Model name: GARCH(1,1)_1yrFit, version 275\n",
      "Created version '275' of model 'GARCH(1,1)_1yrFit'.\n",
      "2025/06/24 17:30:58 INFO mlflow.store.model_registry.abstract_store: Waiting up to 300 seconds for model version to finish creation. Model name: GARCH(1,1)_1yrFit, version 276\n",
      "Created version '276' of model 'GARCH(1,1)_1yrFit'.\n"
     ]
    },
    {
     "name": "stdout",
     "output_type": "stream",
     "text": [
      "🏃 View run IR_2025-03-12 at: http://127.0.0.1:8768/#/experiments/1555/runs/bc63a95dba30426d9c44218d5e124a1b\n",
      "🧪 View experiment at: http://127.0.0.1:8768/#/experiments/1555\n"
     ]
    },
    {
     "name": "stderr",
     "output_type": "stream",
     "text": [
      "2025/06/24 17:30:59 INFO mlflow.store.model_registry.abstract_store: Waiting up to 300 seconds for model version to finish creation. Model name: GARCH(1,1)_1yrFit, version 277\n"
     ]
    },
    {
     "name": "stdout",
     "output_type": "stream",
     "text": [
      "🏃 View run IR_2025-03-13 at: http://127.0.0.1:8768/#/experiments/1555/runs/9d25712deb854cf3a18c59518d89628d\n",
      "🧪 View experiment at: http://127.0.0.1:8768/#/experiments/1555\n"
     ]
    },
    {
     "name": "stderr",
     "output_type": "stream",
     "text": [
      "Created version '277' of model 'GARCH(1,1)_1yrFit'.\n"
     ]
    },
    {
     "name": "stdout",
     "output_type": "stream",
     "text": [
      "🏃 View run IR_2025-03-14 at: http://127.0.0.1:8768/#/experiments/1555/runs/ffcb63026075402290dd7657442e1ee9\n",
      "🧪 View experiment at: http://127.0.0.1:8768/#/experiments/1555\n",
      "🏃 View run IR_2025-03-11 at: http://127.0.0.1:8768/#/experiments/1555/runs/95ffc09fa46946cba3616999d8a7603d\n",
      "🧪 View experiment at: http://127.0.0.1:8768/#/experiments/1555\n",
      "🏃 View run IR_2025-03-10 at: http://127.0.0.1:8768/#/experiments/1555/runs/b8db5ce4bdab471289ab562a3d2da8db\n",
      "🧪 View experiment at: http://127.0.0.1:8768/#/experiments/1555\n"
     ]
    },
    {
     "name": "stderr",
     "output_type": "stream",
     "text": [
      "2025/06/24 17:31:30 INFO mlflow.models.model: Found the following environment variables used during model inference: [DOMINO_USER_API_KEY]. Please check if you need to set them when deploying the model. To disable this message, set environment variable `MLFLOW_RECORD_ENV_VARS_IN_MODEL_LOGGING` to `false`.\n",
      "2025/06/24 17:31:33 INFO mlflow.models.model: Found the following environment variables used during model inference: [DOMINO_USER_API_KEY]. Please check if you need to set them when deploying the model. To disable this message, set environment variable `MLFLOW_RECORD_ENV_VARS_IN_MODEL_LOGGING` to `false`.\n",
      "Registered model 'GARCH(1,1)_1yrFit' already exists. Creating a new version of this model...\n",
      "Registered model 'GARCH(1,1)_1yrFit' already exists. Creating a new version of this model...\n",
      "2025/06/24 17:31:34 INFO mlflow.store.model_registry.abstract_store: Waiting up to 300 seconds for model version to finish creation. Model name: GARCH(1,1)_1yrFit, version 278\n",
      "Created version '278' of model 'GARCH(1,1)_1yrFit'.\n",
      "2025/06/24 17:31:35 INFO mlflow.store.model_registry.abstract_store: Waiting up to 300 seconds for model version to finish creation. Model name: GARCH(1,1)_1yrFit, version 279\n",
      "Created version '279' of model 'GARCH(1,1)_1yrFit'.\n"
     ]
    },
    {
     "name": "stdout",
     "output_type": "stream",
     "text": [
      "🏃 View run IR_2025-03-17 at: http://127.0.0.1:8768/#/experiments/1555/runs/9b217919d054458b91d580db26e67f13\n",
      "🧪 View experiment at: http://127.0.0.1:8768/#/experiments/1555\n"
     ]
    },
    {
     "name": "stderr",
     "output_type": "stream",
     "text": [
      "Registered model 'GARCH(1,1)_1yrFit' already exists. Creating a new version of this model...\n",
      "Registered model 'GARCH(1,1)_1yrFit' already exists. Creating a new version of this model...\n"
     ]
    },
    {
     "name": "stdout",
     "output_type": "stream",
     "text": [
      "🏃 View run IR_2025-03-07 at: http://127.0.0.1:8768/#/experiments/1555/runs/a4f1b4c5504942e6aa4ec8e3e8d0907c\n",
      "🧪 View experiment at: http://127.0.0.1:8768/#/experiments/1555\n"
     ]
    },
    {
     "name": "stderr",
     "output_type": "stream",
     "text": [
      "Registered model 'GARCH(1,1)_1yrFit' already exists. Creating a new version of this model...\n",
      "2025/06/24 17:31:37 INFO mlflow.store.model_registry.abstract_store: Waiting up to 300 seconds for model version to finish creation. Model name: GARCH(1,1)_1yrFit, version 280\n",
      "Created version '280' of model 'GARCH(1,1)_1yrFit'.\n",
      "2025/06/24 17:31:39 INFO mlflow.store.model_registry.abstract_store: Waiting up to 300 seconds for model version to finish creation. Model name: GARCH(1,1)_1yrFit, version 281\n",
      "Created version '281' of model 'GARCH(1,1)_1yrFit'.\n",
      "2025/06/24 17:31:39 INFO mlflow.store.model_registry.abstract_store: Waiting up to 300 seconds for model version to finish creation. Model name: GARCH(1,1)_1yrFit, version 282\n",
      "Registered model 'GARCH(1,1)_1yrFit' already exists. Creating a new version of this model...\n"
     ]
    },
    {
     "name": "stdout",
     "output_type": "stream",
     "text": [
      "using model: GARCH(1,1)_1yrFit\n"
     ]
    },
    {
     "name": "stderr",
     "output_type": "stream",
     "text": [
      "Created version '282' of model 'GARCH(1,1)_1yrFit'.\n"
     ]
    },
    {
     "name": "stdout",
     "output_type": "stream",
     "text": [
      "🏃 View run IR_2025-03-18 at: http://127.0.0.1:8768/#/experiments/1555/runs/0ef03344f1a84b73a25349cb3012c548\n",
      "🧪 View experiment at: http://127.0.0.1:8768/#/experiments/1555\n"
     ]
    },
    {
     "name": "stderr",
     "output_type": "stream",
     "text": [
      "Registered model 'GARCH(1,1)_1yrFit' already exists. Creating a new version of this model...\n",
      "2025/06/24 17:31:41 INFO mlflow.store.model_registry.abstract_store: Waiting up to 300 seconds for model version to finish creation. Model name: GARCH(1,1)_1yrFit, version 283\n",
      "Created version '283' of model 'GARCH(1,1)_1yrFit'.\n"
     ]
    },
    {
     "name": "stdout",
     "output_type": "stream",
     "text": [
      "🏃 View run IR_2025-03-20 at: http://127.0.0.1:8768/#/experiments/1555/runs/a898771e7ab441158bacd3ae0ae867a8\n",
      "🧪 View experiment at: http://127.0.0.1:8768/#/experiments/1555\n",
      "🏃 View run IR_2025-03-19 at: http://127.0.0.1:8768/#/experiments/1555/runs/99b5c4b063b446dca956b9db533fd0d0\n",
      "🧪 View experiment at: http://127.0.0.1:8768/#/experiments/1555\n"
     ]
    },
    {
     "name": "stderr",
     "output_type": "stream",
     "text": [
      "2025/06/24 17:31:43 INFO mlflow.store.model_registry.abstract_store: Waiting up to 300 seconds for model version to finish creation. Model name: GARCH(1,1)_1yrFit, version 284\n",
      "Created version '284' of model 'GARCH(1,1)_1yrFit'.\n",
      "/mnt/artifacts/.domino/.persistence/packages/venv/lib/python3.10/site-packages/arch/univariate/base.py:768: ConvergenceWarning: The optimizer returned code 8. The message is:\n",
      "Positive directional derivative for linesearch\n",
      "See scipy.optimize.fmin_slsqp for code meaning.\n",
      "\n",
      "  warnings.warn(\n"
     ]
    },
    {
     "name": "stdout",
     "output_type": "stream",
     "text": [
      "🏃 View run IR_2025-03-06 at: http://127.0.0.1:8768/#/experiments/1555/runs/bd600de219954aaaae591662488c47fd\n",
      "🧪 View experiment at: http://127.0.0.1:8768/#/experiments/1555\n",
      "🏃 View run IR_2025-03-05 at: http://127.0.0.1:8768/#/experiments/1555/runs/021b29b950114ead9f37336301f9586f\n",
      "🧪 View experiment at: http://127.0.0.1:8768/#/experiments/1555\n",
      "⏭️  Skipping 2025-03-22: no exact curve_date in pivot\n",
      "⏭️  Skipping 2025-03-23: no exact curve_date in pivot\n",
      "using model: GARCH(1,1)_1yrFit\n",
      "using model: GARCH(1,1)_1yrFit\n",
      "using model: GARCH(1,1)_1yrFit\n",
      "using model: GARCH(1,1)_1yrFit\n"
     ]
    },
    {
     "name": "stderr",
     "output_type": "stream",
     "text": [
      "Registered model 'GARCH(1,1)_1yrFit' already exists. Creating a new version of this model...\n",
      "Registered model 'GARCH(1,1)_1yrFit' already exists. Creating a new version of this model...\n",
      "2025/06/24 17:32:08 INFO mlflow.store.model_registry.abstract_store: Waiting up to 300 seconds for model version to finish creation. Model name: GARCH(1,1)_1yrFit, version 285\n",
      "Registered model 'GARCH(1,1)_1yrFit' already exists. Creating a new version of this model...\n",
      "Created version '285' of model 'GARCH(1,1)_1yrFit'.\n",
      "Registered model 'GARCH(1,1)_1yrFit' already exists. Creating a new version of this model...\n",
      "Registered model 'GARCH(1,1)_1yrFit' already exists. Creating a new version of this model...\n",
      "2025/06/24 17:32:09 INFO mlflow.store.model_registry.abstract_store: Waiting up to 300 seconds for model version to finish creation. Model name: GARCH(1,1)_1yrFit, version 286\n",
      "Created version '286' of model 'GARCH(1,1)_1yrFit'.\n",
      "2025/06/24 17:32:09 INFO mlflow.store.model_registry.abstract_store: Waiting up to 300 seconds for model version to finish creation. Model name: GARCH(1,1)_1yrFit, version 287\n"
     ]
    },
    {
     "name": "stdout",
     "output_type": "stream",
     "text": [
      "🏃 View run IR_2025-03-11 at: http://127.0.0.1:8768/#/experiments/1555/runs/16a97df9009342d19d95a6a1a7a84433\n",
      "🧪 View experiment at: http://127.0.0.1:8768/#/experiments/1555\n"
     ]
    },
    {
     "name": "stderr",
     "output_type": "stream",
     "text": [
      "Created version '287' of model 'GARCH(1,1)_1yrFit'.\n",
      "2025/06/24 17:32:09 INFO mlflow.store.model_registry.abstract_store: Waiting up to 300 seconds for model version to finish creation. Model name: GARCH(1,1)_1yrFit, version 288\n",
      "Created version '288' of model 'GARCH(1,1)_1yrFit'.\n",
      "2025/06/24 17:32:10 INFO mlflow.store.model_registry.abstract_store: Waiting up to 300 seconds for model version to finish creation. Model name: GARCH(1,1)_1yrFit, version 289\n",
      "Created version '289' of model 'GARCH(1,1)_1yrFit'.\n"
     ]
    },
    {
     "name": "stdout",
     "output_type": "stream",
     "text": [
      "🏃 View run IR_2025-03-10 at: http://127.0.0.1:8768/#/experiments/1555/runs/7c8e5043f42747cca8340a379083b627\n",
      "🧪 View experiment at: http://127.0.0.1:8768/#/experiments/1555\n",
      "🏃 View run IR_2025-03-14 at: http://127.0.0.1:8768/#/experiments/1555/runs/30043c5bcd274cbfa8e6d986dee0382b\n",
      "🧪 View experiment at: http://127.0.0.1:8768/#/experiments/1555\n",
      "using model: GARCH(1,1)_1yrFit\n",
      "🏃 View run IR_2025-03-13 at: http://127.0.0.1:8768/#/experiments/1555/runs/9aa733e92ff0436f8d834edffbbd9c69\n",
      "🧪 View experiment at: http://127.0.0.1:8768/#/experiments/1555\n"
     ]
    },
    {
     "name": "stderr",
     "output_type": "stream",
     "text": [
      "2025/06/24 17:32:13 INFO mlflow.models.model: Found the following environment variables used during model inference: [DOMINO_USER_API_KEY]. Please check if you need to set them when deploying the model. To disable this message, set environment variable `MLFLOW_RECORD_ENV_VARS_IN_MODEL_LOGGING` to `false`.\n"
     ]
    },
    {
     "name": "stdout",
     "output_type": "stream",
     "text": [
      "⏭️  Skipping 2025-03-29: no exact curve_date in pivot\n",
      "⏭️  Skipping 2025-03-30: no exact curve_date in pivot\n",
      "🏃 View run IR_2025-03-12 at: http://127.0.0.1:8768/#/experiments/1555/runs/e3b03e401edd49a2aaaa8eb765692433\n",
      "🧪 View experiment at: http://127.0.0.1:8768/#/experiments/1555\n",
      "using model: GARCH(1,1)_1yrFitusing model: GARCH(1,1)_1yrFit\n",
      "\n",
      "using model: GARCH(1,1)_1yrFit\n",
      "using model: GARCH(1,1)_1yrFit\n"
     ]
    },
    {
     "name": "stderr",
     "output_type": "stream",
     "text": [
      "Registered model 'GARCH(1,1)_1yrFit' already exists. Creating a new version of this model...\n",
      "2025/06/24 17:32:24 INFO mlflow.store.model_registry.abstract_store: Waiting up to 300 seconds for model version to finish creation. Model name: GARCH(1,1)_1yrFit, version 290\n",
      "Created version '290' of model 'GARCH(1,1)_1yrFit'.\n"
     ]
    },
    {
     "name": "stdout",
     "output_type": "stream",
     "text": [
      "🏃 View run IR_2025-03-17 at: http://127.0.0.1:8768/#/experiments/1555/runs/a16a4003b11b4d9c86695ec0c4826fd5\n",
      "🧪 View experiment at: http://127.0.0.1:8768/#/experiments/1555\n",
      "using model: GARCH(1,1)_1yrFit\n"
     ]
    },
    {
     "name": "stderr",
     "output_type": "stream",
     "text": [
      "2025/06/24 17:32:33 INFO mlflow.models.model: Found the following environment variables used during model inference: [DOMINO_USER_API_KEY]. Please check if you need to set them when deploying the model. To disable this message, set environment variable `MLFLOW_RECORD_ENV_VARS_IN_MODEL_LOGGING` to `false`.\n",
      "Registered model 'GARCH(1,1)_1yrFit' already exists. Creating a new version of this model...\n",
      "2025/06/24 17:32:37 INFO mlflow.store.model_registry.abstract_store: Waiting up to 300 seconds for model version to finish creation. Model name: GARCH(1,1)_1yrFit, version 291\n",
      "Created version '291' of model 'GARCH(1,1)_1yrFit'.\n"
     ]
    },
    {
     "name": "stdout",
     "output_type": "stream",
     "text": [
      "🏃 View run IR_2025-03-18 at: http://127.0.0.1:8768/#/experiments/1555/runs/7680b4b185a346cdabc80355b8051367\n",
      "🧪 View experiment at: http://127.0.0.1:8768/#/experiments/1555\n",
      "⏭️  Skipping 2025-04-05: no exact curve_date in pivot\n",
      "⏭️  Skipping 2025-04-06: no exact curve_date in pivot\n",
      "using model: GARCH(1,1)_1yrFit\n"
     ]
    },
    {
     "name": "stderr",
     "output_type": "stream",
     "text": [
      "Registered model 'GARCH(1,1)_1yrFit' already exists. Creating a new version of this model...\n",
      "Registered model 'GARCH(1,1)_1yrFit' already exists. Creating a new version of this model...\n",
      "Registered model 'GARCH(1,1)_1yrFit' already exists. Creating a new version of this model...\n",
      "2025/06/24 17:32:44 INFO mlflow.models.model: Found the following environment variables used during model inference: [DOMINO_USER_API_KEY]. Please check if you need to set them when deploying the model. To disable this message, set environment variable `MLFLOW_RECORD_ENV_VARS_IN_MODEL_LOGGING` to `false`.\n",
      "Registered model 'GARCH(1,1)_1yrFit' already exists. Creating a new version of this model...\n",
      "2025/06/24 17:32:44 INFO mlflow.store.model_registry.abstract_store: Waiting up to 300 seconds for model version to finish creation. Model name: GARCH(1,1)_1yrFit, version 292\n",
      "Created version '292' of model 'GARCH(1,1)_1yrFit'.\n",
      "2025/06/24 17:32:44 INFO mlflow.store.model_registry.abstract_store: Waiting up to 300 seconds for model version to finish creation. Model name: GARCH(1,1)_1yrFit, version 293\n",
      "Created version '293' of model 'GARCH(1,1)_1yrFit'.\n",
      "2025/06/24 17:32:44 INFO mlflow.store.model_registry.abstract_store: Waiting up to 300 seconds for model version to finish creation. Model name: GARCH(1,1)_1yrFit, version 294\n",
      "Created version '294' of model 'GARCH(1,1)_1yrFit'.\n",
      "2025/06/24 17:32:44 INFO mlflow.store.model_registry.abstract_store: Waiting up to 300 seconds for model version to finish creation. Model name: GARCH(1,1)_1yrFit, version 295\n"
     ]
    },
    {
     "name": "stdout",
     "output_type": "stream",
     "text": [
      "🏃 View run IR_2025-03-25 at: http://127.0.0.1:8768/#/experiments/1555/runs/1c78bbfc38d245f69fa6eee54e072574\n",
      "🧪 View experiment at: http://127.0.0.1:8768/#/experiments/1555\n"
     ]
    },
    {
     "name": "stderr",
     "output_type": "stream",
     "text": [
      "Created version '295' of model 'GARCH(1,1)_1yrFit'.\n"
     ]
    },
    {
     "name": "stdout",
     "output_type": "stream",
     "text": [
      "🏃 View run IR_2025-03-26 at: http://127.0.0.1:8768/#/experiments/1555/runs/1486cc22b88543eba6f1c82ced4c7f4b\n",
      "🧪 View experiment at: http://127.0.0.1:8768/#/experiments/1555\n"
     ]
    },
    {
     "name": "stderr",
     "output_type": "stream",
     "text": [
      "Registered model 'GARCH(1,1)_1yrFit' already exists. Creating a new version of this model...\n"
     ]
    },
    {
     "name": "stdout",
     "output_type": "stream",
     "text": [
      "🏃 View run IR_2025-03-27 at: http://127.0.0.1:8768/#/experiments/1555/runs/30cdb5c8b93b4f0a8de0b9c1827d9cb6\n",
      "🧪 View experiment at: http://127.0.0.1:8768/#/experiments/1555\n"
     ]
    },
    {
     "name": "stderr",
     "output_type": "stream",
     "text": [
      "2025/06/24 17:32:47 INFO mlflow.store.model_registry.abstract_store: Waiting up to 300 seconds for model version to finish creation. Model name: GARCH(1,1)_1yrFit, version 296\n"
     ]
    },
    {
     "name": "stdout",
     "output_type": "stream",
     "text": [
      "🏃 View run IR_2025-03-21 at: http://127.0.0.1:8768/#/experiments/1555/runs/ff5bde9851ea4ce3a603932ac84a71dd\n",
      "🧪 View experiment at: http://127.0.0.1:8768/#/experiments/1555\n"
     ]
    },
    {
     "name": "stderr",
     "output_type": "stream",
     "text": [
      "Created version '296' of model 'GARCH(1,1)_1yrFit'.\n"
     ]
    },
    {
     "name": "stdout",
     "output_type": "stream",
     "text": [
      "🏃 View run IR_2025-03-24 at: http://127.0.0.1:8768/#/experiments/1555/runs/779d4dc9e8144e3f990022fd3bf191b4\n",
      "🧪 View experiment at: http://127.0.0.1:8768/#/experiments/1555\n"
     ]
    },
    {
     "name": "stderr",
     "output_type": "stream",
     "text": [
      "Registered model 'GARCH(1,1)_1yrFit' already exists. Creating a new version of this model...\n",
      "2025/06/24 17:32:51 INFO mlflow.store.model_registry.abstract_store: Waiting up to 300 seconds for model version to finish creation. Model name: GARCH(1,1)_1yrFit, version 297\n",
      "Created version '297' of model 'GARCH(1,1)_1yrFit'.\n"
     ]
    },
    {
     "name": "stdout",
     "output_type": "stream",
     "text": [
      "🏃 View run IR_2025-03-28 at: http://127.0.0.1:8768/#/experiments/1555/runs/8f22f91f5ebc489ea1542a4b6a8ce885\n",
      "🧪 View experiment at: http://127.0.0.1:8768/#/experiments/1555\n"
     ]
    },
    {
     "name": "stderr",
     "output_type": "stream",
     "text": [
      "/tmp/ipykernel_466/2289731576.py:72: RuntimeWarning: More than 20 figures have been opened. Figures created through the pyplot interface (`matplotlib.pyplot.figure`) are retained until explicitly closed and may consume too much memory. (To control this warning, see the rcParam `figure.max_open_warning`). Consider using `matplotlib.pyplot.close()`.\n",
      "  plt.figure(figsize=(10, 6))\n"
     ]
    },
    {
     "name": "stdout",
     "output_type": "stream",
     "text": [
      "using model: GARCH(1,1)_1yrFit\n",
      "using model: GARCH(1,1)_1yrFit\n",
      "using model: GARCH(1,1)_1yrFit\n"
     ]
    },
    {
     "name": "stderr",
     "output_type": "stream",
     "text": [
      "2025/06/24 17:33:14 INFO mlflow.models.model: Found the following environment variables used during model inference: [DOMINO_USER_API_KEY]. Please check if you need to set them when deploying the model. To disable this message, set environment variable `MLFLOW_RECORD_ENV_VARS_IN_MODEL_LOGGING` to `false`.\n"
     ]
    },
    {
     "name": "stdout",
     "output_type": "stream",
     "text": [
      "using model: GARCH(1,1)_1yrFit\n"
     ]
    },
    {
     "name": "stderr",
     "output_type": "stream",
     "text": [
      "Registered model 'GARCH(1,1)_1yrFit' already exists. Creating a new version of this model...Registered model 'GARCH(1,1)_1yrFit' already exists. Creating a new version of this model...\n",
      "\n",
      "Registered model 'GARCH(1,1)_1yrFit' already exists. Creating a new version of this model...\n",
      "Registered model 'GARCH(1,1)_1yrFit' already exists. Creating a new version of this model...\n"
     ]
    },
    {
     "name": "stdout",
     "output_type": "stream",
     "text": [
      "⏭️  Skipping 2025-04-12: no exact curve_date in pivot\n"
     ]
    },
    {
     "name": "stderr",
     "output_type": "stream",
     "text": [
      "2025/06/24 17:33:19 INFO mlflow.store.model_registry.abstract_store: Waiting up to 300 seconds for model version to finish creation. Model name: GARCH(1,1)_1yrFit, version 298\n",
      "Created version '298' of model 'GARCH(1,1)_1yrFit'.\n",
      "2025/06/24 17:33:19 INFO mlflow.store.model_registry.abstract_store: Waiting up to 300 seconds for model version to finish creation. Model name: GARCH(1,1)_1yrFit, version 299\n",
      "Created version '299' of model 'GARCH(1,1)_1yrFit'.\n",
      "2025/06/24 17:33:19 INFO mlflow.store.model_registry.abstract_store: Waiting up to 300 seconds for model version to finish creation. Model name: GARCH(1,1)_1yrFit, version 300\n",
      "Registered model 'GARCH(1,1)_1yrFit' already exists. Creating a new version of this model...\n",
      "Created version '300' of model 'GARCH(1,1)_1yrFit'.\n",
      "2025/06/24 17:33:19 INFO mlflow.store.model_registry.abstract_store: Waiting up to 300 seconds for model version to finish creation. Model name: GARCH(1,1)_1yrFit, version 301\n",
      "Registered model 'GARCH(1,1)_1yrFit' already exists. Creating a new version of this model...\n",
      "Created version '301' of model 'GARCH(1,1)_1yrFit'.\n"
     ]
    },
    {
     "name": "stdout",
     "output_type": "stream",
     "text": [
      "⏭️  Skipping 2025-04-13: no exact curve_date in pivot\n",
      "🏃 View run IR_2025-04-03 at: http://127.0.0.1:8768/#/experiments/1555/runs/4be89e5cc1ce43ea9c132dfac042ea0e\n",
      "🧪 View experiment at: http://127.0.0.1:8768/#/experiments/1555\n"
     ]
    },
    {
     "name": "stderr",
     "output_type": "stream",
     "text": [
      "2025/06/24 17:33:20 INFO mlflow.store.model_registry.abstract_store: Waiting up to 300 seconds for model version to finish creation. Model name: GARCH(1,1)_1yrFit, version 302\n",
      "Created version '302' of model 'GARCH(1,1)_1yrFit'.\n",
      "2025/06/24 17:33:20 INFO mlflow.store.model_registry.abstract_store: Waiting up to 300 seconds for model version to finish creation. Model name: GARCH(1,1)_1yrFit, version 303\n"
     ]
    },
    {
     "name": "stdout",
     "output_type": "stream",
     "text": [
      "🏃 View run IR_2025-04-04 at: http://127.0.0.1:8768/#/experiments/1555/runs/f7d1050c1d6641b8a606a243aac891c0\n",
      "🧪 View experiment at: http://127.0.0.1:8768/#/experiments/1555\n",
      "🏃 View run IR_2025-03-31 at: http://127.0.0.1:8768/#/experiments/1555/runs/aac4dc42c4454a329f6eb99014afa8c0\n",
      "🧪 View experiment at: http://127.0.0.1:8768/#/experiments/1555\n",
      "🏃 View run IR_2025-04-07 at: http://127.0.0.1:8768/#/experiments/1555/runs/8657f88af0ba4aa5949e9c6e0525ba9c\n",
      "🧪 View experiment at: http://127.0.0.1:8768/#/experiments/1555\n"
     ]
    },
    {
     "name": "stderr",
     "output_type": "stream",
     "text": [
      "Created version '303' of model 'GARCH(1,1)_1yrFit'.\n"
     ]
    },
    {
     "name": "stdout",
     "output_type": "stream",
     "text": [
      "using model: GARCH(1,1)_1yrFit\n",
      "🏃 View run IR_2025-04-02 at: http://127.0.0.1:8768/#/experiments/1555/runs/966e5c5f680545ed8911cd47968d6681\n",
      "🧪 View experiment at: http://127.0.0.1:8768/#/experiments/1555\n",
      "🏃 View run IR_2025-04-01 at: http://127.0.0.1:8768/#/experiments/1555/runs/71423a0343aa4b2ca189f5f23613b7f8\n",
      "🧪 View experiment at: http://127.0.0.1:8768/#/experiments/1555\n"
     ]
    },
    {
     "name": "stderr",
     "output_type": "stream",
     "text": [
      "/tmp/ipykernel_466/2289731576.py:72: RuntimeWarning: More than 20 figures have been opened. Figures created through the pyplot interface (`matplotlib.pyplot.figure`) are retained until explicitly closed and may consume too much memory. (To control this warning, see the rcParam `figure.max_open_warning`). Consider using `matplotlib.pyplot.close()`.\n",
      "  plt.figure(figsize=(10, 6))\n",
      "/tmp/ipykernel_466/2289731576.py:89: UserWarning: Creating legend with loc=\"best\" can be slow with large amounts of data.\n",
      "  plt.tight_layout()\n",
      "2025/06/24 17:33:43 INFO mlflow.models.model: Found the following environment variables used during model inference: [DOMINO_USER_API_KEY]. Please check if you need to set them when deploying the model. To disable this message, set environment variable `MLFLOW_RECORD_ENV_VARS_IN_MODEL_LOGGING` to `false`.\n",
      "2025/06/24 17:33:46 INFO mlflow.models.model: Found the following environment variables used during model inference: [DOMINO_USER_API_KEY]. Please check if you need to set them when deploying the model. To disable this message, set environment variable `MLFLOW_RECORD_ENV_VARS_IN_MODEL_LOGGING` to `false`.\n",
      "2025/06/24 17:33:46 INFO mlflow.models.model: Found the following environment variables used during model inference: [DOMINO_USER_API_KEY]. Please check if you need to set them when deploying the model. To disable this message, set environment variable `MLFLOW_RECORD_ENV_VARS_IN_MODEL_LOGGING` to `false`.\n",
      "Registered model 'GARCH(1,1)_1yrFit' already exists. Creating a new version of this model...\n",
      "2025/06/24 17:33:49 INFO mlflow.store.model_registry.abstract_store: Waiting up to 300 seconds for model version to finish creation. Model name: GARCH(1,1)_1yrFit, version 304\n",
      "Created version '304' of model 'GARCH(1,1)_1yrFit'.\n",
      "Registered model 'GARCH(1,1)_1yrFit' already exists. Creating a new version of this model...\n",
      "Registered model 'GARCH(1,1)_1yrFit' already exists. Creating a new version of this model...\n",
      "Registered model 'GARCH(1,1)_1yrFit' already exists. Creating a new version of this model...\n",
      "Registered model 'GARCH(1,1)_1yrFit' already exists. Creating a new version of this model...\n"
     ]
    },
    {
     "name": "stdout",
     "output_type": "stream",
     "text": [
      "🏃 View run IR_2025-03-25 at: http://127.0.0.1:8768/#/experiments/1555/runs/961bd9b1f5464173af6337a10486dee5\n",
      "🧪 View experiment at: http://127.0.0.1:8768/#/experiments/1555\n"
     ]
    },
    {
     "name": "stderr",
     "output_type": "stream",
     "text": [
      "2025/06/24 17:33:49 INFO mlflow.store.model_registry.abstract_store: Waiting up to 300 seconds for model version to finish creation. Model name: GARCH(1,1)_1yrFit, version 305\n",
      "Created version '305' of model 'GARCH(1,1)_1yrFit'.\n",
      "2025/06/24 17:33:49 INFO mlflow.store.model_registry.abstract_store: Waiting up to 300 seconds for model version to finish creation. Model name: GARCH(1,1)_1yrFit, version 306\n",
      "Created version '306' of model 'GARCH(1,1)_1yrFit'.\n",
      "2025/06/24 17:33:49 INFO mlflow.store.model_registry.abstract_store: Waiting up to 300 seconds for model version to finish creation. Model name: GARCH(1,1)_1yrFit, version 307\n",
      "Created version '307' of model 'GARCH(1,1)_1yrFit'.\n",
      "2025/06/24 17:33:50 INFO mlflow.store.model_registry.abstract_store: Waiting up to 300 seconds for model version to finish creation. Model name: GARCH(1,1)_1yrFit, version 308\n",
      "Created version '308' of model 'GARCH(1,1)_1yrFit'.\n"
     ]
    },
    {
     "name": "stdout",
     "output_type": "stream",
     "text": [
      "🏃 View run IR_2025-04-09 at: http://127.0.0.1:8768/#/experiments/1555/runs/ce437ff16ea3486f9854de6d32182b56\n",
      "🧪 View experiment at: http://127.0.0.1:8768/#/experiments/1555\n",
      "🏃 View run IR_2025-04-11 at: http://127.0.0.1:8768/#/experiments/1555/runs/ed40e12987354924a2c5f09c8c26e96f\n",
      "🧪 View experiment at: http://127.0.0.1:8768/#/experiments/1555\n",
      "🏃 View run IR_2025-04-08 at: http://127.0.0.1:8768/#/experiments/1555/runs/9d2744e053884a6aade2c2245ed5aa7c\n",
      "🧪 View experiment at: http://127.0.0.1:8768/#/experiments/1555\n",
      "🏃 View run IR_2025-04-10 at: http://127.0.0.1:8768/#/experiments/1555/runs/981853040b774beba84eb3554a8ae48d\n",
      "🧪 View experiment at: http://127.0.0.1:8768/#/experiments/1555\n",
      "using model: GARCH(1,1)_1yrFit\n"
     ]
    },
    {
     "name": "stderr",
     "output_type": "stream",
     "text": [
      "/tmp/ipykernel_466/2289731576.py:72: RuntimeWarning: More than 20 figures have been opened. Figures created through the pyplot interface (`matplotlib.pyplot.figure`) are retained until explicitly closed and may consume too much memory. (To control this warning, see the rcParam `figure.max_open_warning`). Consider using `matplotlib.pyplot.close()`.\n",
      "  plt.figure(figsize=(10, 6))\n",
      "Registered model 'GARCH(1,1)_1yrFit' already exists. Creating a new version of this model...\n",
      "Registered model 'GARCH(1,1)_1yrFit' already exists. Creating a new version of this model...\n",
      "Registered model 'GARCH(1,1)_1yrFit' already exists. Creating a new version of this model...\n",
      "Registered model 'GARCH(1,1)_1yrFit' already exists. Creating a new version of this model...\n",
      "Registered model 'GARCH(1,1)_1yrFit' already exists. Creating a new version of this model...\n",
      "Registered model 'GARCH(1,1)_1yrFit' already exists. Creating a new version of this model...\n",
      "2025/06/24 17:34:21 INFO mlflow.store.model_registry.abstract_store: Waiting up to 300 seconds for model version to finish creation. Model name: GARCH(1,1)_1yrFit, version 309\n",
      "Created version '309' of model 'GARCH(1,1)_1yrFit'.\n",
      "2025/06/24 17:34:21 INFO mlflow.store.model_registry.abstract_store: Waiting up to 300 seconds for model version to finish creation. Model name: GARCH(1,1)_1yrFit, version 310\n",
      "Created version '310' of model 'GARCH(1,1)_1yrFit'.\n",
      "2025/06/24 17:34:21 INFO mlflow.store.model_registry.abstract_store: Waiting up to 300 seconds for model version to finish creation. Model name: GARCH(1,1)_1yrFit, version 311\n",
      "Created version '311' of model 'GARCH(1,1)_1yrFit'.\n",
      "Registered model 'GARCH(1,1)_1yrFit' already exists. Creating a new version of this model...\n",
      "2025/06/24 17:34:21 INFO mlflow.store.model_registry.abstract_store: Waiting up to 300 seconds for model version to finish creation. Model name: GARCH(1,1)_1yrFit, version 312\n",
      "Created version '312' of model 'GARCH(1,1)_1yrFit'.\n",
      "2025/06/24 17:34:21 INFO mlflow.store.model_registry.abstract_store: Waiting up to 300 seconds for model version to finish creation. Model name: GARCH(1,1)_1yrFit, version 313\n",
      "Created version '313' of model 'GARCH(1,1)_1yrFit'.\n",
      "2025/06/24 17:34:22 INFO mlflow.store.model_registry.abstract_store: Waiting up to 300 seconds for model version to finish creation. Model name: GARCH(1,1)_1yrFit, version 314\n",
      "Created version '314' of model 'GARCH(1,1)_1yrFit'.\n"
     ]
    },
    {
     "name": "stdout",
     "output_type": "stream",
     "text": [
      "🏃 View run IR_2025-03-31 at: http://127.0.0.1:8768/#/experiments/1555/runs/397c987821924d559bcc289fd6ade649\n",
      "🧪 View experiment at: http://127.0.0.1:8768/#/experiments/1555\n",
      "🏃 View run IR_2025-04-02 at: http://127.0.0.1:8768/#/experiments/1555/runs/da6b3ae4b895469caa4a4a31ca53a85c\n",
      "🧪 View experiment at: http://127.0.0.1:8768/#/experiments/1555\n"
     ]
    },
    {
     "name": "stderr",
     "output_type": "stream",
     "text": [
      "2025/06/24 17:34:22 INFO mlflow.store.model_registry.abstract_store: Waiting up to 300 seconds for model version to finish creation. Model name: GARCH(1,1)_1yrFit, version 315\n"
     ]
    },
    {
     "name": "stdout",
     "output_type": "stream",
     "text": [
      "🏃 View run IR_2025-04-07 at: http://127.0.0.1:8768/#/experiments/1555/runs/7f2f19f9cb4042b8938d1192af6e4cbb\n",
      "🧪 View experiment at: http://127.0.0.1:8768/#/experiments/1555\n",
      "🏃 View run IR_2025-04-03 at: http://127.0.0.1:8768/#/experiments/1555/runs/f19156b171134f4a849c1561ce8bd06a\n",
      "🧪 View experiment at: http://127.0.0.1:8768/#/experiments/1555\n",
      "🏃 View run IR_2025-04-04 at: http://127.0.0.1:8768/#/experiments/1555/runs/b4cc5f668a0d42ecaa7e30ede0004c1e\n",
      "🧪 View experiment at: http://127.0.0.1:8768/#/experiments/1555\n",
      "🏃 View run IR_2025-04-01 at: http://127.0.0.1:8768/#/experiments/1555/runs/45ed8869917c4c1c9c2866dcca7a22a2\n",
      "🧪 View experiment at: http://127.0.0.1:8768/#/experiments/1555\n"
     ]
    },
    {
     "name": "stderr",
     "output_type": "stream",
     "text": [
      "Created version '315' of model 'GARCH(1,1)_1yrFit'.\n"
     ]
    },
    {
     "name": "stdout",
     "output_type": "stream",
     "text": [
      "🏃 View run IR_2025-04-14 at: http://127.0.0.1:8768/#/experiments/1555/runs/4c6a3f67f18f43698d06f31fa43eb207\n",
      "🧪 View experiment at: http://127.0.0.1:8768/#/experiments/1555\n",
      "using model: GARCH(1,1)_1yrFit\n",
      "⏭️  Skipping 2025-04-19: no exact curve_date in pivot\n",
      "⏭️  Skipping 2025-04-20: no exact curve_date in pivot\n",
      "⏭️  Skipping 2025-04-18: no exact curve_date in pivot\n",
      "using model: GARCH(1,1)_1yrFit\n",
      "using model: GARCH(1,1)_1yrFit\n",
      "using model: GARCH(1,1)_1yrFitusing model: GARCH(1,1)_1yrFit\n",
      "\n",
      "using model: GARCH(1,1)_1yrFit\n"
     ]
    },
    {
     "name": "stderr",
     "output_type": "stream",
     "text": [
      "/tmp/ipykernel_466/2289731576.py:72: RuntimeWarning: More than 20 figures have been opened. Figures created through the pyplot interface (`matplotlib.pyplot.figure`) are retained until explicitly closed and may consume too much memory. (To control this warning, see the rcParam `figure.max_open_warning`). Consider using `matplotlib.pyplot.close()`.\n",
      "  plt.figure(figsize=(10, 6))\n",
      "/tmp/ipykernel_466/2289731576.py:89: UserWarning: Tight layout not applied. The bottom and top margins cannot be made large enough to accommodate all axes decorations.\n",
      "  plt.tight_layout()\n",
      "Registered model 'GARCH(1,1)_1yrFit' already exists. Creating a new version of this model...\n",
      "Registered model 'GARCH(1,1)_1yrFit' already exists. Creating a new version of this model...\n",
      "Registered model 'GARCH(1,1)_1yrFit' already exists. Creating a new version of this model...\n",
      "Registered model 'GARCH(1,1)_1yrFit' already exists. Creating a new version of this model...\n",
      "Registered model 'GARCH(1,1)_1yrFit' already exists. Creating a new version of this model...\n",
      "2025/06/24 17:34:50 INFO mlflow.store.model_registry.abstract_store: Waiting up to 300 seconds for model version to finish creation. Model name: GARCH(1,1)_1yrFit, version 316\n",
      "Created version '316' of model 'GARCH(1,1)_1yrFit'.\n",
      "2025/06/24 17:34:50 INFO mlflow.store.model_registry.abstract_store: Waiting up to 300 seconds for model version to finish creation. Model name: GARCH(1,1)_1yrFit, version 317\n",
      "Created version '317' of model 'GARCH(1,1)_1yrFit'.\n",
      "2025/06/24 17:34:50 INFO mlflow.store.model_registry.abstract_store: Waiting up to 300 seconds for model version to finish creation. Model name: GARCH(1,1)_1yrFit, version 318\n",
      "Created version '318' of model 'GARCH(1,1)_1yrFit'.\n",
      "2025/06/24 17:34:50 INFO mlflow.store.model_registry.abstract_store: Waiting up to 300 seconds for model version to finish creation. Model name: GARCH(1,1)_1yrFit, version 319\n",
      "Created version '319' of model 'GARCH(1,1)_1yrFit'.\n",
      "2025/06/24 17:34:50 INFO mlflow.store.model_registry.abstract_store: Waiting up to 300 seconds for model version to finish creation. Model name: GARCH(1,1)_1yrFit, version 320\n",
      "Created version '320' of model 'GARCH(1,1)_1yrFit'.\n"
     ]
    },
    {
     "name": "stdout",
     "output_type": "stream",
     "text": [
      "🏃 View run IR_2025-04-08 at: http://127.0.0.1:8768/#/experiments/1555/runs/394575a603044bbcb94d7074bcc7d500\n",
      "🧪 View experiment at: http://127.0.0.1:8768/#/experiments/1555\n",
      "🏃 View run IR_2025-04-10 at: http://127.0.0.1:8768/#/experiments/1555/runs/72ffefa7b68a46518f522af5aa95afb6\n",
      "🧪 View experiment at: http://127.0.0.1:8768/#/experiments/1555\n",
      "🏃 View run IR_2025-04-09 at: http://127.0.0.1:8768/#/experiments/1555/runs/d5261da21d684c178b60d8ae7e7f1009\n",
      "🧪 View experiment at: http://127.0.0.1:8768/#/experiments/1555\n",
      "🏃 View run IR_2025-04-11 at: http://127.0.0.1:8768/#/experiments/1555/runs/87921ab19fa346fea3de97b476a4af32\n",
      "🧪 View experiment at: http://127.0.0.1:8768/#/experiments/1555\n",
      "🏃 View run IR_2025-04-15 at: http://127.0.0.1:8768/#/experiments/1555/runs/c8a454880aa8457fa10f7ad96afad87d\n",
      "🧪 View experiment at: http://127.0.0.1:8768/#/experiments/1555\n",
      "⏭️  Skipping 2025-04-27: no exact curve_date in pivot\n",
      "using model: GARCH(1,1)_1yrFit\n",
      "⏭️  Skipping 2025-04-26: no exact curve_date in pivot\n",
      "using model: GARCH(1,1)_1yrFit\n",
      "using model: GARCH(1,1)_1yrFit\n",
      "using model: GARCH(1,1)_1yrFit\n"
     ]
    },
    {
     "name": "stderr",
     "output_type": "stream",
     "text": [
      "2025/06/24 17:35:16 INFO mlflow.models.model: Found the following environment variables used during model inference: [DOMINO_USER_API_KEY]. Please check if you need to set them when deploying the model. To disable this message, set environment variable `MLFLOW_RECORD_ENV_VARS_IN_MODEL_LOGGING` to `false`.\n"
     ]
    },
    {
     "name": "stdout",
     "output_type": "stream",
     "text": [
      "using model: GARCH(1,1)_1yrFit\n"
     ]
    },
    {
     "name": "stderr",
     "output_type": "stream",
     "text": [
      "Registered model 'GARCH(1,1)_1yrFit' already exists. Creating a new version of this model...\n",
      "2025/06/24 17:35:18 INFO mlflow.store.model_registry.abstract_store: Waiting up to 300 seconds for model version to finish creation. Model name: GARCH(1,1)_1yrFit, version 321\n",
      "Created version '321' of model 'GARCH(1,1)_1yrFit'.\n"
     ]
    },
    {
     "name": "stdout",
     "output_type": "stream",
     "text": [
      "using model: GARCH(1,1)_1yrFit\n"
     ]
    },
    {
     "name": "stderr",
     "output_type": "stream",
     "text": [
      "Registered model 'GARCH(1,1)_1yrFit' already exists. Creating a new version of this model...\n",
      "Registered model 'GARCH(1,1)_1yrFit' already exists. Creating a new version of this model...\n",
      "Registered model 'GARCH(1,1)_1yrFit' already exists. Creating a new version of this model...\n"
     ]
    },
    {
     "name": "stdout",
     "output_type": "stream",
     "text": [
      "🏃 View run IR_2025-04-17 at: http://127.0.0.1:8768/#/experiments/1555/runs/020f9d9db4904171af12423aa90881cc\n",
      "🧪 View experiment at: http://127.0.0.1:8768/#/experiments/1555\n"
     ]
    },
    {
     "name": "stderr",
     "output_type": "stream",
     "text": [
      "2025/06/24 17:35:21 INFO mlflow.store.model_registry.abstract_store: Waiting up to 300 seconds for model version to finish creation. Model name: GARCH(1,1)_1yrFit, version 322\n",
      "Created version '322' of model 'GARCH(1,1)_1yrFit'.\n",
      "2025/06/24 17:35:21 INFO mlflow.store.model_registry.abstract_store: Waiting up to 300 seconds for model version to finish creation. Model name: GARCH(1,1)_1yrFit, version 323\n",
      "Created version '323' of model 'GARCH(1,1)_1yrFit'.\n",
      "2025/06/24 17:35:21 INFO mlflow.store.model_registry.abstract_store: Waiting up to 300 seconds for model version to finish creation. Model name: GARCH(1,1)_1yrFit, version 324\n",
      "Created version '324' of model 'GARCH(1,1)_1yrFit'.\n"
     ]
    },
    {
     "name": "stdout",
     "output_type": "stream",
     "text": [
      "🏃 View run IR_2025-04-14 at: http://127.0.0.1:8768/#/experiments/1555/runs/54c2c77179b14e788e7165c5c3e02ca2\n",
      "🧪 View experiment at: http://127.0.0.1:8768/#/experiments/1555\n",
      "⏭️  Skipping 2025-05-04: no exact curve_date in pivot\n",
      "using model: GARCH(1,1)_1yrFit\n",
      "⏭️  Skipping 2025-05-03: no exact curve_date in pivot\n",
      "🏃 View run IR_2025-04-16 at: http://127.0.0.1:8768/#/experiments/1555/runs/ea5951ed9aeb463daa87728c160757f3\n",
      "🧪 View experiment at: http://127.0.0.1:8768/#/experiments/1555\n",
      "🏃 View run IR_2025-04-24 at: http://127.0.0.1:8768/#/experiments/1555/runs/9b8775343e2d4c66a3e4b5f491a17ad4\n",
      "🧪 View experiment at: http://127.0.0.1:8768/#/experiments/1555\n",
      "using model: GARCH(1,1)_1yrFit\n",
      "using model: GARCH(1,1)_1yrFit\n",
      "using model: GARCH(1,1)_1yrFit\n",
      "using model: GARCH(1,1)_1yrFit\n"
     ]
    },
    {
     "name": "stderr",
     "output_type": "stream",
     "text": [
      "Registered model 'GARCH(1,1)_1yrFit' already exists. Creating a new version of this model...\n",
      "2025/06/24 17:35:34 INFO mlflow.store.model_registry.abstract_store: Waiting up to 300 seconds for model version to finish creation. Model name: GARCH(1,1)_1yrFit, version 325\n",
      "Created version '325' of model 'GARCH(1,1)_1yrFit'.\n"
     ]
    },
    {
     "name": "stdout",
     "output_type": "stream",
     "text": [
      "🏃 View run IR_2025-04-21 at: http://127.0.0.1:8768/#/experiments/1555/runs/23f1133855694e93a961742dd2907f4b\n",
      "🧪 View experiment at: http://127.0.0.1:8768/#/experiments/1555\n",
      "⏭️  Skipping 2025-05-10: no exact curve_date in pivot\n",
      "using model: GARCH(1,1)_1yrFitusing model: GARCH(1,1)_1yrFit\n",
      "using model: GARCH(1,1)_1yrFit\n",
      "\n",
      "using model: GARCH(1,1)_1yrFit\n",
      "⏭️  Skipping 2025-05-11: no exact curve_date in pivot\n",
      "using model: GARCH(1,1)_1yrFit\n",
      "⏭️  Skipping 2025-05-17: no exact curve_date in pivot\n",
      "⏭️  Skipping 2025-05-18: no exact curve_date in pivot\n",
      "using model: GARCH(1,1)_1yrFit\n"
     ]
    },
    {
     "name": "stderr",
     "output_type": "stream",
     "text": [
      "2025/06/24 17:35:43 INFO mlflow.models.model: Found the following environment variables used during model inference: [DOMINO_USER_API_KEY]. Please check if you need to set them when deploying the model. To disable this message, set environment variable `MLFLOW_RECORD_ENV_VARS_IN_MODEL_LOGGING` to `false`.\n",
      "Registered model 'GARCH(1,1)_1yrFit' already exists. Creating a new version of this model...\n",
      "2025/06/24 17:35:45 INFO mlflow.store.model_registry.abstract_store: Waiting up to 300 seconds for model version to finish creation. Model name: GARCH(1,1)_1yrFit, version 326\n",
      "Created version '326' of model 'GARCH(1,1)_1yrFit'.\n"
     ]
    },
    {
     "name": "stdout",
     "output_type": "stream",
     "text": [
      "🏃 View run IR_2025-04-23 at: http://127.0.0.1:8768/#/experiments/1555/runs/9e2625eef913416ba89ca3ee1fb38805\n",
      "🧪 View experiment at: http://127.0.0.1:8768/#/experiments/1555\n"
     ]
    },
    {
     "name": "stderr",
     "output_type": "stream",
     "text": [
      "Registered model 'GARCH(1,1)_1yrFit' already exists. Creating a new version of this model...\n",
      "2025/06/24 17:35:48 INFO mlflow.store.model_registry.abstract_store: Waiting up to 300 seconds for model version to finish creation. Model name: GARCH(1,1)_1yrFit, version 327\n",
      "Created version '327' of model 'GARCH(1,1)_1yrFit'.\n"
     ]
    },
    {
     "name": "stdout",
     "output_type": "stream",
     "text": [
      "🏃 View run IR_2025-04-22 at: http://127.0.0.1:8768/#/experiments/1555/runs/d6a950602bbf4cc0b0cb0429e3c02673\n",
      "🧪 View experiment at: http://127.0.0.1:8768/#/experiments/1555\n"
     ]
    },
    {
     "name": "stderr",
     "output_type": "stream",
     "text": [
      "2025/06/24 17:35:53 INFO mlflow.models.model: Found the following environment variables used during model inference: [DOMINO_USER_API_KEY]. Please check if you need to set them when deploying the model. To disable this message, set environment variable `MLFLOW_RECORD_ENV_VARS_IN_MODEL_LOGGING` to `false`.\n",
      "Registered model 'GARCH(1,1)_1yrFit' already exists. Creating a new version of this model...\n",
      "Registered model 'GARCH(1,1)_1yrFit' already exists. Creating a new version of this model...\n",
      "2025/06/24 17:35:56 INFO mlflow.store.model_registry.abstract_store: Waiting up to 300 seconds for model version to finish creation. Model name: GARCH(1,1)_1yrFit, version 328\n",
      "Created version '328' of model 'GARCH(1,1)_1yrFit'.\n",
      "2025/06/24 17:35:56 INFO mlflow.store.model_registry.abstract_store: Waiting up to 300 seconds for model version to finish creation. Model name: GARCH(1,1)_1yrFit, version 329\n",
      "Created version '329' of model 'GARCH(1,1)_1yrFit'.\n"
     ]
    },
    {
     "name": "stdout",
     "output_type": "stream",
     "text": [
      "🏃 View run IR_2025-05-01 at: http://127.0.0.1:8768/#/experiments/1555/runs/ba018060155b416fbd62b1b37e36c8da\n",
      "🧪 View experiment at: http://127.0.0.1:8768/#/experiments/1555\n",
      "🏃 View run IR_2025-05-02 at: http://127.0.0.1:8768/#/experiments/1555/runs/09faaf72599240d0ab7e49afe7213bcd\n",
      "🧪 View experiment at: http://127.0.0.1:8768/#/experiments/1555\n"
     ]
    },
    {
     "name": "stderr",
     "output_type": "stream",
     "text": [
      "2025/06/24 17:36:24 INFO mlflow.models.model: Found the following environment variables used during model inference: [DOMINO_USER_API_KEY]. Please check if you need to set them when deploying the model. To disable this message, set environment variable `MLFLOW_RECORD_ENV_VARS_IN_MODEL_LOGGING` to `false`.\n",
      "Registered model 'GARCH(1,1)_1yrFit' already exists. Creating a new version of this model...\n",
      "2025/06/24 17:36:25 INFO mlflow.store.model_registry.abstract_store: Waiting up to 300 seconds for model version to finish creation. Model name: GARCH(1,1)_1yrFit, version 330\n",
      "Created version '330' of model 'GARCH(1,1)_1yrFit'.\n"
     ]
    },
    {
     "name": "stdout",
     "output_type": "stream",
     "text": [
      "🏃 View run IR_2025-05-09 at: http://127.0.0.1:8768/#/experiments/1555/runs/376f37399c6d45eba7e36baca788b347\n",
      "🧪 View experiment at: http://127.0.0.1:8768/#/experiments/1555\n"
     ]
    },
    {
     "name": "stderr",
     "output_type": "stream",
     "text": [
      "Registered model 'GARCH(1,1)_1yrFit' already exists. Creating a new version of this model...\n",
      "2025/06/24 17:36:29 INFO mlflow.store.model_registry.abstract_store: Waiting up to 300 seconds for model version to finish creation. Model name: GARCH(1,1)_1yrFit, version 331\n",
      "Created version '331' of model 'GARCH(1,1)_1yrFit'.\n"
     ]
    },
    {
     "name": "stdout",
     "output_type": "stream",
     "text": [
      "🏃 View run IR_2025-04-21 at: http://127.0.0.1:8768/#/experiments/1555/runs/3e58ab459f44490397c36028ed241cb1\n",
      "🧪 View experiment at: http://127.0.0.1:8768/#/experiments/1555\n",
      "using model: GARCH(1,1)_1yrFit\n"
     ]
    },
    {
     "name": "stderr",
     "output_type": "stream",
     "text": [
      "2025/06/24 17:36:33 INFO mlflow.models.model: Found the following environment variables used during model inference: [DOMINO_USER_API_KEY]. Please check if you need to set them when deploying the model. To disable this message, set environment variable `MLFLOW_RECORD_ENV_VARS_IN_MODEL_LOGGING` to `false`.\n",
      "2025/06/24 17:36:33 INFO mlflow.models.model: Found the following environment variables used during model inference: [DOMINO_USER_API_KEY]. Please check if you need to set them when deploying the model. To disable this message, set environment variable `MLFLOW_RECORD_ENV_VARS_IN_MODEL_LOGGING` to `false`.\n"
     ]
    },
    {
     "name": "stdout",
     "output_type": "stream",
     "text": [
      "using model: GARCH(1,1)_1yrFit\n"
     ]
    },
    {
     "name": "stderr",
     "output_type": "stream",
     "text": [
      "Registered model 'GARCH(1,1)_1yrFit' already exists. Creating a new version of this model...\n",
      "/mnt/artifacts/.domino/.persistence/packages/venv/lib/python3.10/site-packages/arch/univariate/base.py:768: ConvergenceWarning: The optimizer returned code 4. The message is:\n",
      "Inequality constraints incompatible\n",
      "See scipy.optimize.fmin_slsqp for code meaning.\n",
      "\n",
      "  warnings.warn(\n",
      "Registered model 'GARCH(1,1)_1yrFit' already exists. Creating a new version of this model...\n",
      "2025/06/24 17:36:38 INFO mlflow.store.model_registry.abstract_store: Waiting up to 300 seconds for model version to finish creation. Model name: GARCH(1,1)_1yrFit, version 332\n",
      "Created version '332' of model 'GARCH(1,1)_1yrFit'.\n",
      "2025/06/24 17:36:39 INFO mlflow.store.model_registry.abstract_store: Waiting up to 300 seconds for model version to finish creation. Model name: GARCH(1,1)_1yrFit, version 333\n",
      "Created version '333' of model 'GARCH(1,1)_1yrFit'.\n"
     ]
    },
    {
     "name": "stdout",
     "output_type": "stream",
     "text": [
      "🏃 View run IR_2025-05-13 at: http://127.0.0.1:8768/#/experiments/1555/runs/092d156288ca40519999bf9b70c190bd\n",
      "🧪 View experiment at: http://127.0.0.1:8768/#/experiments/1555\n",
      "🏃 View run IR_2025-05-12 at: http://127.0.0.1:8768/#/experiments/1555/runs/1540ea4a25c144d98e8e9188f6706130\n",
      "🧪 View experiment at: http://127.0.0.1:8768/#/experiments/1555\n"
     ]
    },
    {
     "name": "stderr",
     "output_type": "stream",
     "text": [
      "Registered model 'GARCH(1,1)_1yrFit' already exists. Creating a new version of this model...\n",
      "2025/06/24 17:36:46 INFO mlflow.store.model_registry.abstract_store: Waiting up to 300 seconds for model version to finish creation. Model name: GARCH(1,1)_1yrFit, version 334\n",
      "Created version '334' of model 'GARCH(1,1)_1yrFit'.\n"
     ]
    },
    {
     "name": "stdout",
     "output_type": "stream",
     "text": [
      "🏃 View run IR_2025-05-15 at: http://127.0.0.1:8768/#/experiments/1555/runs/90a12c2c627445b892a0550a6ea5a921\n",
      "🧪 View experiment at: http://127.0.0.1:8768/#/experiments/1555\n"
     ]
    },
    {
     "name": "stderr",
     "output_type": "stream",
     "text": [
      "Registered model 'GARCH(1,1)_1yrFit' already exists. Creating a new version of this model...\n",
      "Registered model 'GARCH(1,1)_1yrFit' already exists. Creating a new version of this model...\n",
      "2025/06/24 17:36:49 INFO mlflow.store.model_registry.abstract_store: Waiting up to 300 seconds for model version to finish creation. Model name: GARCH(1,1)_1yrFit, version 335\n",
      "Created version '335' of model 'GARCH(1,1)_1yrFit'.\n",
      "2025/06/24 17:36:49 INFO mlflow.store.model_registry.abstract_store: Waiting up to 300 seconds for model version to finish creation. Model name: GARCH(1,1)_1yrFit, version 336\n",
      "Created version '336' of model 'GARCH(1,1)_1yrFit'.\n"
     ]
    },
    {
     "name": "stdout",
     "output_type": "stream",
     "text": [
      "🏃 View run IR_2025-05-14 at: http://127.0.0.1:8768/#/experiments/1555/runs/c06a317f609d470f9f9bb95f07bdfc78\n",
      "🧪 View experiment at: http://127.0.0.1:8768/#/experiments/1555\n",
      "🏃 View run IR_2025-04-23 at: http://127.0.0.1:8768/#/experiments/1555/runs/92773c696054421d89d8abe5ddd3cd8c\n",
      "🧪 View experiment at: http://127.0.0.1:8768/#/experiments/1555\n"
     ]
    },
    {
     "name": "stderr",
     "output_type": "stream",
     "text": [
      "2025/06/24 17:36:50 INFO mlflow.models.model: Found the following environment variables used during model inference: [DOMINO_USER_API_KEY]. Please check if you need to set them when deploying the model. To disable this message, set environment variable `MLFLOW_RECORD_ENV_VARS_IN_MODEL_LOGGING` to `false`.\n",
      "Registered model 'GARCH(1,1)_1yrFit' already exists. Creating a new version of this model...\n"
     ]
    },
    {
     "name": "stdout",
     "output_type": "stream",
     "text": [
      "using model: GARCH(1,1)_1yrFit\n"
     ]
    },
    {
     "name": "stderr",
     "output_type": "stream",
     "text": [
      "2025/06/24 17:36:52 INFO mlflow.models.model: Found the following environment variables used during model inference: [DOMINO_USER_API_KEY]. Please check if you need to set them when deploying the model. To disable this message, set environment variable `MLFLOW_RECORD_ENV_VARS_IN_MODEL_LOGGING` to `false`.\n",
      "2025/06/24 17:36:52 INFO mlflow.store.model_registry.abstract_store: Waiting up to 300 seconds for model version to finish creation. Model name: GARCH(1,1)_1yrFit, version 337\n",
      "Registered model 'GARCH(1,1)_1yrFit' already exists. Creating a new version of this model...\n",
      "Created version '337' of model 'GARCH(1,1)_1yrFit'.\n",
      "2025/06/24 17:36:54 INFO mlflow.models.model: Found the following environment variables used during model inference: [DOMINO_USER_API_KEY]. Please check if you need to set them when deploying the model. To disable this message, set environment variable `MLFLOW_RECORD_ENV_VARS_IN_MODEL_LOGGING` to `false`.\n",
      "2025/06/24 17:36:54 INFO mlflow.store.model_registry.abstract_store: Waiting up to 300 seconds for model version to finish creation. Model name: GARCH(1,1)_1yrFit, version 338\n",
      "Created version '338' of model 'GARCH(1,1)_1yrFit'.\n"
     ]
    },
    {
     "name": "stdout",
     "output_type": "stream",
     "text": [
      "🏃 View run IR_2025-05-16 at: http://127.0.0.1:8768/#/experiments/1555/runs/29a07ea5c31d452aa04edf3e01fb2280\n",
      "🧪 View experiment at: http://127.0.0.1:8768/#/experiments/1555\n",
      "🏃 View run IR_2025-04-22 at: http://127.0.0.1:8768/#/experiments/1555/runs/a878369ff1c9468f8870721877ae87ea\n",
      "🧪 View experiment at: http://127.0.0.1:8768/#/experiments/1555\n"
     ]
    },
    {
     "name": "stderr",
     "output_type": "stream",
     "text": [
      "Registered model 'GARCH(1,1)_1yrFit' already exists. Creating a new version of this model...\n"
     ]
    },
    {
     "name": "stdout",
     "output_type": "stream",
     "text": [
      "using model: GARCH(1,1)_1yrFit\n"
     ]
    },
    {
     "name": "stderr",
     "output_type": "stream",
     "text": [
      "2025/06/24 17:37:02 INFO mlflow.store.model_registry.abstract_store: Waiting up to 300 seconds for model version to finish creation. Model name: GARCH(1,1)_1yrFit, version 339\n",
      "Created version '339' of model 'GARCH(1,1)_1yrFit'.\n",
      "Registered model 'GARCH(1,1)_1yrFit' already exists. Creating a new version of this model...\n"
     ]
    },
    {
     "name": "stdout",
     "output_type": "stream",
     "text": [
      "🏃 View run IR_2025-05-19 at: http://127.0.0.1:8768/#/experiments/1555/runs/38010367cdaa4b19a2d40a529dfff213\n",
      "🧪 View experiment at: http://127.0.0.1:8768/#/experiments/1555\n"
     ]
    },
    {
     "name": "stderr",
     "output_type": "stream",
     "text": [
      "Registered model 'GARCH(1,1)_1yrFit' already exists. Creating a new version of this model...2025/06/24 17:37:06 INFO mlflow.store.model_registry.abstract_store: Waiting up to 300 seconds for model version to finish creation. Model name: GARCH(1,1)_1yrFit, version 340\n",
      "\n",
      "Created version '340' of model 'GARCH(1,1)_1yrFit'.\n",
      "2025/06/24 17:37:07 INFO mlflow.store.model_registry.abstract_store: Waiting up to 300 seconds for model version to finish creation. Model name: GARCH(1,1)_1yrFit, version 341\n",
      "Created version '341' of model 'GARCH(1,1)_1yrFit'.\n"
     ]
    },
    {
     "name": "stdout",
     "output_type": "stream",
     "text": [
      "🏃 View run IR_2025-05-01 at: http://127.0.0.1:8768/#/experiments/1555/runs/2d66305c655c4f19a5ebb360d6f446fc\n",
      "🧪 View experiment at: http://127.0.0.1:8768/#/experiments/1555\n",
      "🏃 View run IR_2025-05-02 at: http://127.0.0.1:8768/#/experiments/1555/runs/c12338a453dd42d4b4c23e03c75ea272\n",
      "🧪 View experiment at: http://127.0.0.1:8768/#/experiments/1555\n",
      "⏭️  Skipping 2025-05-24: no exact curve_date in pivot\n",
      "⏭️  Skipping 2025-05-26: no exact curve_date in pivot\n",
      "⏭️  Skipping 2025-05-25: no exact curve_date in pivot\n",
      "using model: GARCH(1,1)_1yrFit\n",
      "using model: GARCH(1,1)_1yrFit\n"
     ]
    },
    {
     "name": "stderr",
     "output_type": "stream",
     "text": [
      "2025/06/24 17:37:26 INFO mlflow.models.model: Found the following environment variables used during model inference: [DOMINO_USER_API_KEY]. Please check if you need to set them when deploying the model. To disable this message, set environment variable `MLFLOW_RECORD_ENV_VARS_IN_MODEL_LOGGING` to `false`.\n",
      "Registered model 'GARCH(1,1)_1yrFit' already exists. Creating a new version of this model...\n",
      "2025/06/24 17:37:31 INFO mlflow.store.model_registry.abstract_store: Waiting up to 300 seconds for model version to finish creation. Model name: GARCH(1,1)_1yrFit, version 342\n",
      "Created version '342' of model 'GARCH(1,1)_1yrFit'.\n"
     ]
    },
    {
     "name": "stdout",
     "output_type": "stream",
     "text": [
      "🏃 View run IR_2025-05-20 at: http://127.0.0.1:8768/#/experiments/1555/runs/95ae9502cb1e44d4aafb14f3f91565f2\n",
      "🧪 View experiment at: http://127.0.0.1:8768/#/experiments/1555\n"
     ]
    },
    {
     "name": "stderr",
     "output_type": "stream",
     "text": [
      "Registered model 'GARCH(1,1)_1yrFit' already exists. Creating a new version of this model...\n",
      "2025/06/24 17:37:34 INFO mlflow.models.model: Found the following environment variables used during model inference: [DOMINO_USER_API_KEY]. Please check if you need to set them when deploying the model. To disable this message, set environment variable `MLFLOW_RECORD_ENV_VARS_IN_MODEL_LOGGING` to `false`.\n",
      "Registered model 'GARCH(1,1)_1yrFit' already exists. Creating a new version of this model...\n",
      "2025/06/24 17:37:35 INFO mlflow.store.model_registry.abstract_store: Waiting up to 300 seconds for model version to finish creation. Model name: GARCH(1,1)_1yrFit, version 343\n",
      "Created version '343' of model 'GARCH(1,1)_1yrFit'.\n",
      "Registered model 'GARCH(1,1)_1yrFit' already exists. Creating a new version of this model...\n",
      "Registered model 'GARCH(1,1)_1yrFit' already exists. Creating a new version of this model...\n",
      "2025/06/24 17:37:36 INFO mlflow.store.model_registry.abstract_store: Waiting up to 300 seconds for model version to finish creation. Model name: GARCH(1,1)_1yrFit, version 344\n"
     ]
    },
    {
     "name": "stdout",
     "output_type": "stream",
     "text": [
      "🏃 View run IR_2025-05-21 at: http://127.0.0.1:8768/#/experiments/1555/runs/87f0fbf8c2d3411e8004fa05ed745f62\n",
      "🧪 View experiment at: http://127.0.0.1:8768/#/experiments/1555\n"
     ]
    },
    {
     "name": "stderr",
     "output_type": "stream",
     "text": [
      "Created version '344' of model 'GARCH(1,1)_1yrFit'.\n",
      "2025/06/24 17:37:37 INFO mlflow.store.model_registry.abstract_store: Waiting up to 300 seconds for model version to finish creation. Model name: GARCH(1,1)_1yrFit, version 346\n",
      "Created version '346' of model 'GARCH(1,1)_1yrFit'.\n",
      "2025/06/24 17:37:37 INFO mlflow.store.model_registry.abstract_store: Waiting up to 300 seconds for model version to finish creation. Model name: GARCH(1,1)_1yrFit, version 345\n",
      "Created version '345' of model 'GARCH(1,1)_1yrFit'.\n",
      "/mnt/artifacts/.domino/.persistence/packages/venv/lib/python3.10/site-packages/arch/univariate/base.py:768: ConvergenceWarning: The optimizer returned code 4. The message is:\n",
      "Inequality constraints incompatible\n",
      "See scipy.optimize.fmin_slsqp for code meaning.\n",
      "\n",
      "  warnings.warn(\n"
     ]
    },
    {
     "name": "stdout",
     "output_type": "stream",
     "text": [
      "🏃 View run IR_2025-05-13 at: http://127.0.0.1:8768/#/experiments/1555/runs/c9e778c4f46c4988982de95b7224b25e\n",
      "🧪 View experiment at: http://127.0.0.1:8768/#/experiments/1555\n",
      "🏃 View run IR_2025-05-12 at: http://127.0.0.1:8768/#/experiments/1555/runs/db979bc88bd84e2bafc31d1456f6b72f\n",
      "🧪 View experiment at: http://127.0.0.1:8768/#/experiments/1555\n",
      "🏃 View run IR_2025-05-15 at: http://127.0.0.1:8768/#/experiments/1555/runs/e7fd37c696a3437e83cef5b4902173f1\n",
      "🧪 View experiment at: http://127.0.0.1:8768/#/experiments/1555\n"
     ]
    },
    {
     "name": "stderr",
     "output_type": "stream",
     "text": [
      "Registered model 'GARCH(1,1)_1yrFit' already exists. Creating a new version of this model...\n"
     ]
    },
    {
     "name": "stdout",
     "output_type": "stream",
     "text": [
      "using model: GARCH(1,1)_1yrFit\n",
      "⏭️  Skipping 2025-05-31: no exact curve_date in pivot\n",
      "using model: GARCH(1,1)_1yrFit\n"
     ]
    },
    {
     "name": "stderr",
     "output_type": "stream",
     "text": [
      "2025/06/24 17:37:45 INFO mlflow.store.model_registry.abstract_store: Waiting up to 300 seconds for model version to finish creation. Model name: GARCH(1,1)_1yrFit, version 347\n",
      "Created version '347' of model 'GARCH(1,1)_1yrFit'.\n"
     ]
    },
    {
     "name": "stdout",
     "output_type": "stream",
     "text": [
      "⏭️  Skipping 2025-06-01: no exact curve_date in pivot\n"
     ]
    },
    {
     "name": "stderr",
     "output_type": "stream",
     "text": [
      "/mnt/artifacts/.domino/.persistence/packages/venv/lib/python3.10/site-packages/arch/univariate/base.py:768: ConvergenceWarning: The optimizer returned code 4. The message is:\n",
      "Inequality constraints incompatible\n",
      "See scipy.optimize.fmin_slsqp for code meaning.\n",
      "\n",
      "  warnings.warn(\n",
      "Registered model 'GARCH(1,1)_1yrFit' already exists. Creating a new version of this model...\n"
     ]
    },
    {
     "name": "stdout",
     "output_type": "stream",
     "text": [
      "using model: GARCH(1,1)_1yrFit\n",
      "🏃 View run IR_2025-05-22 at: http://127.0.0.1:8768/#/experiments/1555/runs/e48b0abcac354585b83716ce2d666352\n",
      "🧪 View experiment at: http://127.0.0.1:8768/#/experiments/1555\n"
     ]
    },
    {
     "name": "stderr",
     "output_type": "stream",
     "text": [
      "2025/06/24 17:37:48 INFO mlflow.store.model_registry.abstract_store: Waiting up to 300 seconds for model version to finish creation. Model name: GARCH(1,1)_1yrFit, version 348\n",
      "Created version '348' of model 'GARCH(1,1)_1yrFit'.\n"
     ]
    },
    {
     "name": "stdout",
     "output_type": "stream",
     "text": [
      "🏃 View run IR_2025-05-14 at: http://127.0.0.1:8768/#/experiments/1555/runs/06df920b01bf4d78a553670bf99d3767\n",
      "🧪 View experiment at: http://127.0.0.1:8768/#/experiments/1555\n"
     ]
    },
    {
     "name": "stderr",
     "output_type": "stream",
     "text": [
      "2025/06/24 17:37:50 INFO mlflow.models.model: Found the following environment variables used during model inference: [DOMINO_USER_API_KEY]. Please check if you need to set them when deploying the model. To disable this message, set environment variable `MLFLOW_RECORD_ENV_VARS_IN_MODEL_LOGGING` to `false`.\n"
     ]
    },
    {
     "name": "stdout",
     "output_type": "stream",
     "text": [
      "using model: GARCH(1,1)_1yrFit\n"
     ]
    },
    {
     "name": "stderr",
     "output_type": "stream",
     "text": [
      "Registered model 'GARCH(1,1)_1yrFit' already exists. Creating a new version of this model...\n",
      "2025/06/24 17:37:54 INFO mlflow.store.model_registry.abstract_store: Waiting up to 300 seconds for model version to finish creation. Model name: GARCH(1,1)_1yrFit, version 349\n",
      "Created version '349' of model 'GARCH(1,1)_1yrFit'.\n",
      "Registered model 'GARCH(1,1)_1yrFit' already exists. Creating a new version of this model...\n",
      "2025/06/24 17:37:55 INFO mlflow.store.model_registry.abstract_store: Waiting up to 300 seconds for model version to finish creation. Model name: GARCH(1,1)_1yrFit, version 350\n"
     ]
    },
    {
     "name": "stdout",
     "output_type": "stream",
     "text": [
      "🏃 View run IR_2025-05-16 at: http://127.0.0.1:8768/#/experiments/1555/runs/245407abdea2421e9e457b85cfdccd28\n",
      "🧪 View experiment at: http://127.0.0.1:8768/#/experiments/1555\n"
     ]
    },
    {
     "name": "stderr",
     "output_type": "stream",
     "text": [
      "Created version '350' of model 'GARCH(1,1)_1yrFit'.\n"
     ]
    },
    {
     "name": "stdout",
     "output_type": "stream",
     "text": [
      "🏃 View run IR_2025-05-23 at: http://127.0.0.1:8768/#/experiments/1555/runs/176ecc058972471f98b3f128c8c70ab0\n",
      "🧪 View experiment at: http://127.0.0.1:8768/#/experiments/1555\n",
      "using model: GARCH(1,1)_1yrFit\n"
     ]
    },
    {
     "name": "stderr",
     "output_type": "stream",
     "text": [
      "2025/06/24 17:38:03 INFO mlflow.models.model: Found the following environment variables used during model inference: [DOMINO_USER_API_KEY]. Please check if you need to set them when deploying the model. To disable this message, set environment variable `MLFLOW_RECORD_ENV_VARS_IN_MODEL_LOGGING` to `false`.\n",
      "Registered model 'GARCH(1,1)_1yrFit' already exists. Creating a new version of this model...\n",
      "Registered model 'GARCH(1,1)_1yrFit' already exists. Creating a new version of this model...\n",
      "2025/06/24 17:38:06 INFO mlflow.store.model_registry.abstract_store: Waiting up to 300 seconds for model version to finish creation. Model name: GARCH(1,1)_1yrFit, version 351\n",
      "Created version '351' of model 'GARCH(1,1)_1yrFit'.\n",
      "2025/06/24 17:38:06 INFO mlflow.store.model_registry.abstract_store: Waiting up to 300 seconds for model version to finish creation. Model name: GARCH(1,1)_1yrFit, version 352\n",
      "Created version '352' of model 'GARCH(1,1)_1yrFit'.\n"
     ]
    },
    {
     "name": "stdout",
     "output_type": "stream",
     "text": [
      "🏃 View run IR_2025-05-28 at: http://127.0.0.1:8768/#/experiments/1555/runs/c5c31306a32a498a93f67cbd06bafd30\n",
      "🧪 View experiment at: http://127.0.0.1:8768/#/experiments/1555\n",
      "🏃 View run IR_2025-05-27 at: http://127.0.0.1:8768/#/experiments/1555/runs/87d3f5be5bb64477a64283e7c5c662f6\n",
      "🧪 View experiment at: http://127.0.0.1:8768/#/experiments/1555\n"
     ]
    },
    {
     "name": "stderr",
     "output_type": "stream",
     "text": [
      "Registered model 'GARCH(1,1)_1yrFit' already exists. Creating a new version of this model...\n",
      "2025/06/24 17:38:12 INFO mlflow.store.model_registry.abstract_store: Waiting up to 300 seconds for model version to finish creation. Model name: GARCH(1,1)_1yrFit, version 353\n",
      "Created version '353' of model 'GARCH(1,1)_1yrFit'.\n",
      "Registered model 'GARCH(1,1)_1yrFit' already exists. Creating a new version of this model...\n",
      "2025/06/24 17:38:13 INFO mlflow.store.model_registry.abstract_store: Waiting up to 300 seconds for model version to finish creation. Model name: GARCH(1,1)_1yrFit, version 354\n"
     ]
    },
    {
     "name": "stdout",
     "output_type": "stream",
     "text": [
      "🏃 View run IR_2025-05-19 at: http://127.0.0.1:8768/#/experiments/1555/runs/8e9337c76bd54e5ead8575238713f74b\n",
      "🧪 View experiment at: http://127.0.0.1:8768/#/experiments/1555\n"
     ]
    },
    {
     "name": "stderr",
     "output_type": "stream",
     "text": [
      "Created version '354' of model 'GARCH(1,1)_1yrFit'.\n"
     ]
    },
    {
     "name": "stdout",
     "output_type": "stream",
     "text": [
      "🏃 View run IR_2025-05-20 at: http://127.0.0.1:8768/#/experiments/1555/runs/adde732c3e144554aae4fbcf1ac96464\n",
      "🧪 View experiment at: http://127.0.0.1:8768/#/experiments/1555\n",
      "using model: GARCH(1,1)_1yrFit\n"
     ]
    },
    {
     "name": "stderr",
     "output_type": "stream",
     "text": [
      "2025/06/24 17:38:17 INFO mlflow.models.model: Found the following environment variables used during model inference: [DOMINO_USER_API_KEY]. Please check if you need to set them when deploying the model. To disable this message, set environment variable `MLFLOW_RECORD_ENV_VARS_IN_MODEL_LOGGING` to `false`.\n"
     ]
    },
    {
     "name": "stdout",
     "output_type": "stream",
     "text": [
      "using model: GARCH(1,1)_1yrFit\n"
     ]
    },
    {
     "name": "stderr",
     "output_type": "stream",
     "text": [
      "Registered model 'GARCH(1,1)_1yrFit' already exists. Creating a new version of this model...\n",
      "2025/06/24 17:38:24 INFO mlflow.store.model_registry.abstract_store: Waiting up to 300 seconds for model version to finish creation. Model name: GARCH(1,1)_1yrFit, version 355\n",
      "Created version '355' of model 'GARCH(1,1)_1yrFit'.\n"
     ]
    },
    {
     "name": "stdout",
     "output_type": "stream",
     "text": [
      "🏃 View run IR_2025-05-21 at: http://127.0.0.1:8768/#/experiments/1555/runs/3f62569cd74a4654877f6752f8612475\n",
      "🧪 View experiment at: http://127.0.0.1:8768/#/experiments/1555\n",
      "⏭️  Skipping 2025-06-07: no exact curve_date in pivot\n",
      "⏭️  Skipping 2025-06-08: no exact curve_date in pivot\n",
      "using model: GARCH(1,1)_1yrFit\n"
     ]
    },
    {
     "name": "stderr",
     "output_type": "stream",
     "text": [
      "Registered model 'GARCH(1,1)_1yrFit' already exists. Creating a new version of this model...\n",
      "Registered model 'GARCH(1,1)_1yrFit' already exists. Creating a new version of this model...\n",
      "Registered model 'GARCH(1,1)_1yrFit' already exists. Creating a new version of this model...\n",
      "Registered model 'GARCH(1,1)_1yrFit' already exists. Creating a new version of this model...\n",
      "2025/06/24 17:38:42 INFO mlflow.store.model_registry.abstract_store: Waiting up to 300 seconds for model version to finish creation. Model name: GARCH(1,1)_1yrFit, version 356\n",
      "Created version '356' of model 'GARCH(1,1)_1yrFit'.\n",
      "2025/06/24 17:38:42 INFO mlflow.store.model_registry.abstract_store: Waiting up to 300 seconds for model version to finish creation. Model name: GARCH(1,1)_1yrFit, version 357\n",
      "Created version '357' of model 'GARCH(1,1)_1yrFit'.\n",
      "2025/06/24 17:38:42 INFO mlflow.store.model_registry.abstract_store: Waiting up to 300 seconds for model version to finish creation. Model name: GARCH(1,1)_1yrFit, version 358\n",
      "Created version '358' of model 'GARCH(1,1)_1yrFit'.\n",
      "Registered model 'GARCH(1,1)_1yrFit' already exists. Creating a new version of this model...\n",
      "Registered model 'GARCH(1,1)_1yrFit' already exists. Creating a new version of this model...\n",
      "2025/06/24 17:38:42 INFO mlflow.store.model_registry.abstract_store: Waiting up to 300 seconds for model version to finish creation. Model name: GARCH(1,1)_1yrFit, version 359\n",
      "Created version '359' of model 'GARCH(1,1)_1yrFit'.\n",
      "Registered model 'GARCH(1,1)_1yrFit' already exists. Creating a new version of this model...\n"
     ]
    },
    {
     "name": "stdout",
     "output_type": "stream",
     "text": [
      "🏃 View run IR_2025-06-03 at: http://127.0.0.1:8768/#/experiments/1555/runs/30c36d4b110f4d2bae2bdaf21bf1f473\n",
      "🧪 View experiment at: http://127.0.0.1:8768/#/experiments/1555\n",
      "🏃 View run IR_2025-06-02 at: http://127.0.0.1:8768/#/experiments/1555/runs/83f42b8d13f34a0697b781545f428080\n",
      "🧪 View experiment at: http://127.0.0.1:8768/#/experiments/1555\n"
     ]
    },
    {
     "name": "stderr",
     "output_type": "stream",
     "text": [
      "2025/06/24 17:38:43 INFO mlflow.store.model_registry.abstract_store: Waiting up to 300 seconds for model version to finish creation. Model name: GARCH(1,1)_1yrFit, version 360\n",
      "Created version '360' of model 'GARCH(1,1)_1yrFit'.2025/06/24 17:38:43 INFO mlflow.store.model_registry.abstract_store: Waiting up to 300 seconds for model version to finish creation. Model name: GARCH(1,1)_1yrFit, version 361\n"
     ]
    },
    {
     "name": "stdout",
     "output_type": "stream",
     "text": [
      "🏃 View run IR_2025-05-29 at: http://127.0.0.1:8768/#/experiments/1555/runs/721153f4d29a4b20b605fc99cb5dee49\n",
      "🧪 View experiment at: http://127.0.0.1:8768/#/experiments/1555\n",
      "🏃 View run IR_2025-05-30 at: http://127.0.0.1:8768/#/experiments/1555/runs/ae5e118c956b442fae1ef5724cba961c\n",
      "🧪 View experiment at: http://127.0.0.1:8768/#/experiments/1555\n"
     ]
    },
    {
     "name": "stderr",
     "output_type": "stream",
     "text": [
      "\n",
      "Created version '361' of model 'GARCH(1,1)_1yrFit'.\n",
      "2025/06/24 17:38:45 INFO mlflow.store.model_registry.abstract_store: Waiting up to 300 seconds for model version to finish creation. Model name: GARCH(1,1)_1yrFit, version 362\n",
      "Created version '362' of model 'GARCH(1,1)_1yrFit'.\n",
      "/mnt/artifacts/.domino/.persistence/packages/venv/lib/python3.10/site-packages/arch/univariate/base.py:768: ConvergenceWarning: The optimizer returned code 4. The message is:\n",
      "Inequality constraints incompatible\n",
      "See scipy.optimize.fmin_slsqp for code meaning.\n",
      "\n",
      "  warnings.warn(\n"
     ]
    },
    {
     "name": "stdout",
     "output_type": "stream",
     "text": [
      "🏃 View run IR_2025-06-04 at: http://127.0.0.1:8768/#/experiments/1555/runs/b305316c064542e0b80cb83e55cfba6a\n",
      "🧪 View experiment at: http://127.0.0.1:8768/#/experiments/1555\n",
      "🏃 View run IR_2025-05-22 at: http://127.0.0.1:8768/#/experiments/1555/runs/2ea60b15be0e43f890f104c662ac759a\n",
      "🧪 View experiment at: http://127.0.0.1:8768/#/experiments/1555\n",
      "🏃 View run IR_2025-05-23 at: http://127.0.0.1:8768/#/experiments/1555/runs/ebb517410aa84306aa2b2126c0f0efa5\n",
      "🧪 View experiment at: http://127.0.0.1:8768/#/experiments/1555\n",
      "using model: GARCH(1,1)_1yrFit\n",
      "using model: GARCH(1,1)_1yrFit\n"
     ]
    },
    {
     "name": "stderr",
     "output_type": "stream",
     "text": [
      "/mnt/artifacts/.domino/.persistence/packages/venv/lib/python3.10/site-packages/arch/univariate/base.py:768: ConvergenceWarning: The optimizer returned code 4. The message is:\n",
      "Inequality constraints incompatible\n",
      "See scipy.optimize.fmin_slsqp for code meaning.\n",
      "\n",
      "  warnings.warn(\n",
      "2025/06/24 17:39:07 INFO mlflow.models.model: Found the following environment variables used during model inference: [DOMINO_USER_API_KEY]. Please check if you need to set them when deploying the model. To disable this message, set environment variable `MLFLOW_RECORD_ENV_VARS_IN_MODEL_LOGGING` to `false`.\n",
      "2025/06/24 17:39:08 INFO mlflow.models.model: Found the following environment variables used during model inference: [DOMINO_USER_API_KEY]. Please check if you need to set them when deploying the model. To disable this message, set environment variable `MLFLOW_RECORD_ENV_VARS_IN_MODEL_LOGGING` to `false`.\n",
      "Registered model 'GARCH(1,1)_1yrFit' already exists. Creating a new version of this model...\n",
      "2025/06/24 17:39:10 INFO mlflow.store.model_registry.abstract_store: Waiting up to 300 seconds for model version to finish creation. Model name: GARCH(1,1)_1yrFit, version 363\n",
      "Registered model 'GARCH(1,1)_1yrFit' already exists. Creating a new version of this model...Created version '363' of model 'GARCH(1,1)_1yrFit'.\n",
      "\n",
      "Registered model 'GARCH(1,1)_1yrFit' already exists. Creating a new version of this model...\n",
      "Registered model 'GARCH(1,1)_1yrFit' already exists. Creating a new version of this model...\n",
      "2025/06/24 17:39:11 INFO mlflow.store.model_registry.abstract_store: Waiting up to 300 seconds for model version to finish creation. Model name: GARCH(1,1)_1yrFit, version 364\n",
      "Created version '364' of model 'GARCH(1,1)_1yrFit'.\n"
     ]
    },
    {
     "name": "stdout",
     "output_type": "stream",
     "text": [
      "🏃 View run IR_2025-05-28 at: http://127.0.0.1:8768/#/experiments/1555/runs/2a2e1f5815224e2888da7ee4afc945db\n",
      "🧪 View experiment at: http://127.0.0.1:8768/#/experiments/1555\n"
     ]
    },
    {
     "name": "stderr",
     "output_type": "stream",
     "text": [
      "Registered model 'GARCH(1,1)_1yrFit' already exists. Creating a new version of this model...\n",
      "2025/06/24 17:39:11 INFO mlflow.store.model_registry.abstract_store: Waiting up to 300 seconds for model version to finish creation. Model name: GARCH(1,1)_1yrFit, version 365\n",
      "Created version '365' of model 'GARCH(1,1)_1yrFit'.\n",
      "2025/06/24 17:39:12 INFO mlflow.store.model_registry.abstract_store: Waiting up to 300 seconds for model version to finish creation. Model name: GARCH(1,1)_1yrFit, version 366\n",
      "Created version '366' of model 'GARCH(1,1)_1yrFit'.\n",
      "2025/06/24 17:39:12 INFO mlflow.store.model_registry.abstract_store: Waiting up to 300 seconds for model version to finish creation. Model name: GARCH(1,1)_1yrFit, version 367\n"
     ]
    },
    {
     "name": "stdout",
     "output_type": "stream",
     "text": [
      "🏃 View run IR_2025-06-05 at: http://127.0.0.1:8768/#/experiments/1555/runs/1b9edfad16754e4eac381f4b046d9622\n",
      "🧪 View experiment at: http://127.0.0.1:8768/#/experiments/1555\n"
     ]
    },
    {
     "name": "stderr",
     "output_type": "stream",
     "text": [
      "Created version '367' of model 'GARCH(1,1)_1yrFit'.\n"
     ]
    },
    {
     "name": "stdout",
     "output_type": "stream",
     "text": [
      "🏃 View run IR_2025-06-09 at: http://127.0.0.1:8768/#/experiments/1555/runs/012206ba4f184d4d892b1d2d0cb1204f\n",
      "🧪 View experiment at: http://127.0.0.1:8768/#/experiments/1555\n",
      "using model: GARCH(1,1)_1yrFit\n",
      "🏃 View run IR_2025-06-06 at: http://127.0.0.1:8768/#/experiments/1555/runs/880f99549ddf497eb98732dc63794a88\n",
      "🧪 View experiment at: http://127.0.0.1:8768/#/experiments/1555\n",
      "🏃 View run IR_2025-05-27 at: http://127.0.0.1:8768/#/experiments/1555/runs/d2a13ae84af248b68490c1bc406ed87e\n",
      "🧪 View experiment at: http://127.0.0.1:8768/#/experiments/1555\n",
      "using model: GARCH(1,1)_1yrFit\n"
     ]
    },
    {
     "name": "stderr",
     "output_type": "stream",
     "text": [
      "Registered model 'GARCH(1,1)_1yrFit' already exists. Creating a new version of this model...\n",
      "Registered model 'GARCH(1,1)_1yrFit' already exists. Creating a new version of this model...\n",
      "Registered model 'GARCH(1,1)_1yrFit' already exists. Creating a new version of this model...\n",
      "Registered model 'GARCH(1,1)_1yrFit' already exists. Creating a new version of this model...\n",
      "2025/06/24 17:39:45 INFO mlflow.store.model_registry.abstract_store: Waiting up to 300 seconds for model version to finish creation. Model name: GARCH(1,1)_1yrFit, version 368\n",
      "Created version '368' of model 'GARCH(1,1)_1yrFit'.\n",
      "2025/06/24 17:39:46 INFO mlflow.store.model_registry.abstract_store: Waiting up to 300 seconds for model version to finish creation. Model name: GARCH(1,1)_1yrFit, version 369\n",
      "Created version '369' of model 'GARCH(1,1)_1yrFit'.\n",
      "2025/06/24 17:39:46 INFO mlflow.store.model_registry.abstract_store: Waiting up to 300 seconds for model version to finish creation. Model name: GARCH(1,1)_1yrFit, version 370\n",
      "Created version '370' of model 'GARCH(1,1)_1yrFit'.\n",
      "Registered model 'GARCH(1,1)_1yrFit' already exists. Creating a new version of this model...\n",
      "2025/06/24 17:39:46 INFO mlflow.store.model_registry.abstract_store: Waiting up to 300 seconds for model version to finish creation. Model name: GARCH(1,1)_1yrFit, version 371\n",
      "Registered model 'GARCH(1,1)_1yrFit' already exists. Creating a new version of this model...Created version '371' of model 'GARCH(1,1)_1yrFit'.\n",
      "\n",
      "Registered model 'GARCH(1,1)_1yrFit' already exists. Creating a new version of this model...\n"
     ]
    },
    {
     "name": "stdout",
     "output_type": "stream",
     "text": [
      "🏃 View run IR_2025-06-02 at: http://127.0.0.1:8768/#/experiments/1555/runs/bedf6c6e821749a4a3da4e701bdb8162\n",
      "🧪 View experiment at: http://127.0.0.1:8768/#/experiments/1555\n",
      "🏃 View run IR_2025-06-03 at: http://127.0.0.1:8768/#/experiments/1555/runs/1d089f36533440dfaa03e35757291e74\n",
      "🧪 View experiment at: http://127.0.0.1:8768/#/experiments/1555\n",
      "🏃 View run IR_2025-06-11 at: http://127.0.0.1:8768/#/experiments/1555/runs/7a7ff2c934fd4b47944116247999cddf\n",
      "🧪 View experiment at: http://127.0.0.1:8768/#/experiments/1555\n",
      "🏃 View run IR_2025-05-29 at: http://127.0.0.1:8768/#/experiments/1555/runs/13dafcdda6d24cb99b191c58c93b2905\n",
      "🧪 View experiment at: http://127.0.0.1:8768/#/experiments/1555\n"
     ]
    },
    {
     "name": "stderr",
     "output_type": "stream",
     "text": [
      "2025/06/24 17:39:46 INFO mlflow.store.model_registry.abstract_store: Waiting up to 300 seconds for model version to finish creation. Model name: GARCH(1,1)_1yrFit, version 373\n",
      "Created version '373' of model 'GARCH(1,1)_1yrFit'.\n",
      "2025/06/24 17:39:46 INFO mlflow.store.model_registry.abstract_store: Waiting up to 300 seconds for model version to finish creation. Model name: GARCH(1,1)_1yrFit, version 372\n",
      "Created version '372' of model 'GARCH(1,1)_1yrFit'.\n",
      "2025/06/24 17:39:47 INFO mlflow.store.model_registry.abstract_store: Waiting up to 300 seconds for model version to finish creation. Model name: GARCH(1,1)_1yrFit, version 374\n",
      "Created version '374' of model 'GARCH(1,1)_1yrFit'.\n"
     ]
    },
    {
     "name": "stdout",
     "output_type": "stream",
     "text": [
      "⏭️  Skipping 2025-06-14: no exact curve_date in pivot\n",
      "⏭️  Skipping 2025-06-15: no exact curve_date in pivot\n",
      "using model: GARCH(1,1)_1yrFit\n"
     ]
    },
    {
     "name": "stderr",
     "output_type": "stream",
     "text": [
      "/mnt/artifacts/.domino/.persistence/packages/venv/lib/python3.10/site-packages/arch/univariate/base.py:768: ConvergenceWarning: The optimizer returned code 4. The message is:\n",
      "Inequality constraints incompatible\n",
      "See scipy.optimize.fmin_slsqp for code meaning.\n",
      "\n",
      "  warnings.warn(\n"
     ]
    },
    {
     "name": "stdout",
     "output_type": "stream",
     "text": [
      "🏃 View run IR_2025-05-30 at: http://127.0.0.1:8768/#/experiments/1555/runs/fedf52776feb469281331cf1236ecbbb\n",
      "🧪 View experiment at: http://127.0.0.1:8768/#/experiments/1555\n",
      "🏃 View run IR_2025-06-10 at: http://127.0.0.1:8768/#/experiments/1555/runs/d66eeb830bab48bf95aa523aec1072c4\n",
      "🧪 View experiment at: http://127.0.0.1:8768/#/experiments/1555\n",
      "🏃 View run IR_2025-06-04 at: http://127.0.0.1:8768/#/experiments/1555/runs/9a6be603ef634f2d835093336717112a\n",
      "🧪 View experiment at: http://127.0.0.1:8768/#/experiments/1555\n",
      "using model: GARCH(1,1)_1yrFit\n",
      "using model: GARCH(1,1)_1yrFit\n",
      "⏭️  Skipping 2025-06-19: no exact curve_date in pivot\n",
      "using model: GARCH(1,1)_1yrFit\n",
      "⏭️  Skipping 2025-06-21: no exact curve_date in pivot\n",
      "⏭️  Skipping 2025-06-22: no exact curve_date in pivot\n",
      "using model: GARCH(1,1)_1yrFit\n"
     ]
    },
    {
     "name": "stderr",
     "output_type": "stream",
     "text": [
      "/mnt/artifacts/.domino/.persistence/packages/venv/lib/python3.10/site-packages/arch/univariate/base.py:768: ConvergenceWarning: The optimizer returned code 8. The message is:\n",
      "Positive directional derivative for linesearch\n",
      "See scipy.optimize.fmin_slsqp for code meaning.\n",
      "\n",
      "  warnings.warn(\n",
      "/mnt/artifacts/.domino/.persistence/packages/venv/lib/python3.10/site-packages/arch/univariate/base.py:768: ConvergenceWarning: The optimizer returned code 8. The message is:\n",
      "Positive directional derivative for linesearch\n",
      "See scipy.optimize.fmin_slsqp for code meaning.\n",
      "\n",
      "  warnings.warn(\n"
     ]
    },
    {
     "name": "stdout",
     "output_type": "stream",
     "text": [
      "⏭️  Skipping 2025-06-24: no exact curve_date in pivot\n"
     ]
    },
    {
     "name": "stderr",
     "output_type": "stream",
     "text": [
      "Registered model 'GARCH(1,1)_1yrFit' already exists. Creating a new version of this model...\n",
      "Registered model 'GARCH(1,1)_1yrFit' already exists. Creating a new version of this model...\n",
      "Registered model 'GARCH(1,1)_1yrFit' already exists. Creating a new version of this model...\n",
      "Registered model 'GARCH(1,1)_1yrFit' already exists. Creating a new version of this model...\n",
      "Registered model 'GARCH(1,1)_1yrFit' already exists. Creating a new version of this model...\n",
      "2025/06/24 17:40:15 INFO mlflow.store.model_registry.abstract_store: Waiting up to 300 seconds for model version to finish creation. Model name: GARCH(1,1)_1yrFit, version 375\n",
      "Created version '375' of model 'GARCH(1,1)_1yrFit'.\n",
      "2025/06/24 17:40:15 INFO mlflow.store.model_registry.abstract_store: Waiting up to 300 seconds for model version to finish creation. Model name: GARCH(1,1)_1yrFit, version 376\n",
      "Created version '376' of model 'GARCH(1,1)_1yrFit'.\n",
      "2025/06/24 17:40:15 INFO mlflow.store.model_registry.abstract_store: Waiting up to 300 seconds for model version to finish creation. Model name: GARCH(1,1)_1yrFit, version 377\n",
      "Created version '377' of model 'GARCH(1,1)_1yrFit'.\n",
      "2025/06/24 17:40:16 INFO mlflow.store.model_registry.abstract_store: Waiting up to 300 seconds for model version to finish creation. Model name: GARCH(1,1)_1yrFit, version 378\n",
      "Created version '378' of model 'GARCH(1,1)_1yrFit'.\n",
      "2025/06/24 17:40:16 INFO mlflow.store.model_registry.abstract_store: Waiting up to 300 seconds for model version to finish creation. Model name: GARCH(1,1)_1yrFit, version 379\n",
      "Created version '379' of model 'GARCH(1,1)_1yrFit'.\n"
     ]
    },
    {
     "name": "stdout",
     "output_type": "stream",
     "text": [
      "🏃 View run IR_2025-06-06 at: http://127.0.0.1:8768/#/experiments/1555/runs/90c5f288981b4af99fb79bff7f77ca3e\n",
      "🧪 View experiment at: http://127.0.0.1:8768/#/experiments/1555\n",
      "🏃 View run IR_2025-06-09 at: http://127.0.0.1:8768/#/experiments/1555/runs/894870cead04435da87fc5254c2167c4\n",
      "🧪 View experiment at: http://127.0.0.1:8768/#/experiments/1555\n",
      "🏃 View run IR_2025-06-05 at: http://127.0.0.1:8768/#/experiments/1555/runs/ee8d80343c8e4ca294ba75aea380a47f\n",
      "🧪 View experiment at: http://127.0.0.1:8768/#/experiments/1555\n",
      "🏃 View run IR_2025-06-12 at: http://127.0.0.1:8768/#/experiments/1555/runs/7ea4fd2b8bec445186661355bc4a21d0\n",
      "🧪 View experiment at: http://127.0.0.1:8768/#/experiments/1555\n",
      "🏃 View run IR_2025-06-13 at: http://127.0.0.1:8768/#/experiments/1555/runs/7253a470daca440f9990d0c0d807087a\n",
      "🧪 View experiment at: http://127.0.0.1:8768/#/experiments/1555\n"
     ]
    },
    {
     "name": "stderr",
     "output_type": "stream",
     "text": [
      "Registered model 'GARCH(1,1)_1yrFit' already exists. Creating a new version of this model...\n",
      "2025/06/24 17:40:21 INFO mlflow.store.model_registry.abstract_store: Waiting up to 300 seconds for model version to finish creation. Model name: GARCH(1,1)_1yrFit, version 380\n",
      "Created version '380' of model 'GARCH(1,1)_1yrFit'.\n"
     ]
    },
    {
     "name": "stdout",
     "output_type": "stream",
     "text": [
      "🏃 View run IR_2025-06-11 at: http://127.0.0.1:8768/#/experiments/1555/runs/268bcf4740444d25a881f1d44ad8f6b7\n",
      "🧪 View experiment at: http://127.0.0.1:8768/#/experiments/1555\n"
     ]
    },
    {
     "name": "stderr",
     "output_type": "stream",
     "text": [
      "Registered model 'GARCH(1,1)_1yrFit' already exists. Creating a new version of this model...\n",
      "Registered model 'GARCH(1,1)_1yrFit' already exists. Creating a new version of this model...\n",
      "2025/06/24 17:40:27 INFO mlflow.store.model_registry.abstract_store: Waiting up to 300 seconds for model version to finish creation. Model name: GARCH(1,1)_1yrFit, version 381\n",
      "Created version '381' of model 'GARCH(1,1)_1yrFit'.\n",
      "2025/06/24 17:40:28 INFO mlflow.store.model_registry.abstract_store: Waiting up to 300 seconds for model version to finish creation. Model name: GARCH(1,1)_1yrFit, version 382\n",
      "Created version '382' of model 'GARCH(1,1)_1yrFit'.\n"
     ]
    },
    {
     "name": "stdout",
     "output_type": "stream",
     "text": [
      "🏃 View run IR_2025-06-12 at: http://127.0.0.1:8768/#/experiments/1555/runs/b1ebb01cacdd4fc3bcb4de57e16c023e\n",
      "🧪 View experiment at: http://127.0.0.1:8768/#/experiments/1555\n",
      "🏃 View run IR_2025-06-13 at: http://127.0.0.1:8768/#/experiments/1555/runs/23cb1959649042f882f7c6cbfeed9cb7\n",
      "🧪 View experiment at: http://127.0.0.1:8768/#/experiments/1555\n",
      "⚠️  43 errors:\n",
      "  • 2024-12-30: <matplotlib.backends.backend_agg.RendererAgg object at 0x757fe3dcd720>\n",
      "  • 2025-01-13: functools.partial(<function FigureCanvasAgg.print_png at 0x75803a4040d0>, orientation='portrait') did not call Figure.draw, so no renderer is available\n",
      "  • 2025-01-03: <matplotlib.backends.backend_agg.RendererAgg object at 0x757fe3dcd720>\n",
      "  • 2025-01-09: <matplotlib.backends.backend_agg.RendererAgg object at 0x757fe3dcd720>\n",
      "  • 2024-12-27: <matplotlib.backends.backend_agg.RendererAgg object at 0x757fe3dcd720>\n",
      "  • 2024-12-26: <matplotlib.backends.backend_agg.RendererAgg object at 0x757fe3dcd720>\n",
      "  • 2025-01-07: <matplotlib.backends.backend_agg.RendererAgg object at 0x757fe3dcd720>\n",
      "  • 2025-01-15: <matplotlib.backends.backend_agg.RendererAgg object at 0x757ffef9e8c0>\n",
      "  • 2025-01-16: functools.partial(<function FigureCanvasAgg.print_png at 0x757fe74a3760>, orientation='portrait') did not call Figure.draw, so no renderer is available\n",
      "  • 2025-01-17: functools.partial(<function FigureCanvasAgg.print_png at 0x757fee8adf30>, orientation='portrait') did not call Figure.draw, so no renderer is available\n",
      "  • 2025-02-11: <matplotlib.backends.backend_agg.RendererAgg object at 0x757fff2e0970>\n",
      "  • 2025-02-10: functools.partial(<function FigureCanvasAgg.print_png at 0x757fff51acb0>, orientation='portrait') did not call Figure.draw, so no renderer is available\n",
      "  • 2025-02-18: first_obs and last_obs produce in an empty array.\n",
      "  • 2025-02-19: SVD did not converge\n",
      "  • 2025-02-20: SVD did not converge\n",
      "  • 2025-02-12: <matplotlib.backends.backend_agg.RendererAgg object at 0x757fef6f2da0>\n",
      "  • 2025-02-21: SVD did not converge\n",
      "  • 2025-03-19: <matplotlib.backends.backend_agg.RendererAgg object at 0x757ff25dd0f0>\n",
      "  • 2025-03-20: functools.partial(<function FigureCanvasAgg.print_png at 0x75802ac20c10>, orientation='portrait') did not call Figure.draw, so no renderer is available\n",
      "  • 2025-03-21: <matplotlib.backends.backend_agg.RendererAgg object at 0x7580281cf4f0>\n",
      "  • 2025-03-26: functools.partial(<function FigureCanvasAgg.print_png at 0x757feeccc1f0>, orientation='portrait') did not call Figure.draw, so no renderer is available\n",
      "  • 2025-03-27: <matplotlib.backends.backend_agg.RendererAgg object at 0x757fede4d060>\n",
      "  • 2025-03-24: functools.partial(<function FigureCanvasAgg.print_png at 0x757fede42050>, orientation='portrait') did not call Figure.draw, so no renderer is available\n",
      "  • 2025-03-28: <matplotlib.backends.backend_agg.RendererAgg object at 0x757fedea3a00>\n",
      "  • 2025-04-15: <matplotlib.backends.backend_agg.RendererAgg object at 0x757fec4f9450>\n",
      "  • 2025-04-25: functools.partial(<function FigureCanvasAgg.print_png at 0x757fec4f27a0>, orientation='portrait') did not call Figure.draw, so no renderer is available\n",
      "  • 2025-04-28: <matplotlib.backends.backend_agg.RendererAgg object at 0x757fec4f9450>\n",
      "  • 2025-04-29: <matplotlib.backends.backend_agg.RendererAgg object at 0x757fec4f9450>\n",
      "  • 2025-04-30: <matplotlib.backends.backend_agg.RendererAgg object at 0x757fec4f9450>\n",
      "  • 2025-05-05: <matplotlib.backends.backend_agg.RendererAgg object at 0x757feb9ab2e0>\n",
      "  • 2025-04-17: functools.partial(<function FigureCanvasAgg.print_png at 0x757febe812d0>, orientation='portrait') did not call Figure.draw, so no renderer is available\n",
      "  • 2025-05-06: <matplotlib.backends.backend_agg.RendererAgg object at 0x757febedd8a0>\n",
      "  • 2025-05-08: <matplotlib.backends.backend_agg.RendererAgg object at 0x757febedd8a0>\n",
      "  • 2025-04-16: <matplotlib.backends.backend_agg.RendererAgg object at 0x757febedd8a0>\n",
      "  • 2025-05-07: <matplotlib.backends.backend_agg.RendererAgg object at 0x757febedd8a0>\n",
      "  • 2025-04-24: <matplotlib.backends.backend_agg.RendererAgg object at 0x757febedd8a0>\n",
      "  • 2025-05-09: <matplotlib.backends.backend_agg.RendererAgg object at 0x757febedd8a0>\n",
      "  • 2025-06-16: <matplotlib.backends.backend_agg.RendererAgg object at 0x757fe913d2a0>\n",
      "  • 2025-06-10: <matplotlib.backends.backend_agg.RendererAgg object at 0x757fe913d2a0>\n",
      "  • 2025-06-17: functools.partial(<function FigureCanvasAgg.print_png at 0x757fe81e8e50>, orientation='portrait') did not call Figure.draw, so no renderer is available\n",
      "  • 2025-06-20: functools.partial(<function FigureCanvasAgg.print_png at 0x757fe9144ee0>, orientation='portrait') did not call Figure.draw, so no renderer is available\n",
      "  • 2025-06-18: <matplotlib.backends.backend_agg.RendererAgg object at 0x757fe913d2a0>\n",
      "  • 2025-06-23: <matplotlib.backends.backend_agg.RendererAgg object at 0x757fe913d2a0>\n",
      "🏃 View run populate_ir_cones_2025-06-24 at: http://127.0.0.1:8768/#/experiments/1555/runs/40222669996144b79b7d6f9580c9d00d\n",
      "🧪 View experiment at: http://127.0.0.1:8768/#/experiments/1555\n",
      "⏭️  Skipping 2025-01-04: no exact curve_date in pivot\n",
      "⏭️  Skipping 2024-12-28: no exact curve_date in pivot\n",
      "⏭️  Skipping 2024-12-29: no exact curve_date in pivot\n",
      "⏭️  Skipping 2025-01-01: no exact curve_date in pivot\n",
      "using model: GARCH(1,1)_5yrFit\n",
      "using model: GARCH(1,1)_5yrFit\n",
      "⏭️  Skipping 2025-01-05: no exact curve_date in pivot\n",
      "using model: GARCH(1,1)_5yrFit\n",
      "using model: GARCH(1,1)_5yrFit\n",
      "using model: GARCH(1,1)_5yrFit\n",
      "using model: GARCH(1,1)_5yrFit\n",
      "using model: GARCH(1,1)_5yrFit\n",
      "using model: GARCH(1,1)_5yrFit\n",
      "using model: GARCH(1,1)_5yrFit\n",
      "using model: GARCH(1,1)_5yrFit\n",
      "⏭️  Skipping 2025-01-11: no exact curve_date in pivot\n",
      "using model: GARCH(1,1)_5yrFit\n",
      "⏭️  Skipping 2025-01-12: no exact curve_date in pivot\n",
      "using model: GARCH(1,1)_5yrFit\n"
     ]
    },
    {
     "name": "stderr",
     "output_type": "stream",
     "text": [
      "/tmp/ipykernel_466/2289731576.py:89: UserWarning: Creating legend with loc=\"best\" can be slow with large amounts of data.\n",
      "  plt.tight_layout()\n",
      "Registered model 'GARCH(1,1)_5yrFit' already exists. Creating a new version of this model...\n",
      "2025/06/24 17:41:34 INFO mlflow.store.model_registry.abstract_store: Waiting up to 300 seconds for model version to finish creation. Model name: GARCH(1,1)_5yrFit, version 160\n",
      "Created version '160' of model 'GARCH(1,1)_5yrFit'.\n"
     ]
    },
    {
     "name": "stdout",
     "output_type": "stream",
     "text": [
      "🏃 View run IR_2025-01-02 at: http://127.0.0.1:8768/#/experiments/1555/runs/1a0c6f9797a74a3aa67f9973a2ffce7e\n",
      "🧪 View experiment at: http://127.0.0.1:8768/#/experiments/1555\n"
     ]
    },
    {
     "name": "stderr",
     "output_type": "stream",
     "text": [
      "Registered model 'GARCH(1,1)_5yrFit' already exists. Creating a new version of this model...\n",
      "2025/06/24 17:41:36 INFO mlflow.store.model_registry.abstract_store: Waiting up to 300 seconds for model version to finish creation. Model name: GARCH(1,1)_5yrFit, version 161\n",
      "Created version '161' of model 'GARCH(1,1)_5yrFit'.\n"
     ]
    },
    {
     "name": "stdout",
     "output_type": "stream",
     "text": [
      "🏃 View run IR_2025-01-06 at: http://127.0.0.1:8768/#/experiments/1555/runs/e66c5599c1124a37ab03120979d1daf7\n",
      "🧪 View experiment at: http://127.0.0.1:8768/#/experiments/1555\n"
     ]
    },
    {
     "name": "stderr",
     "output_type": "stream",
     "text": [
      "Registered model 'GARCH(1,1)_5yrFit' already exists. Creating a new version of this model...\n",
      "Registered model 'GARCH(1,1)_5yrFit' already exists. Creating a new version of this model...\n",
      "Registered model 'GARCH(1,1)_5yrFit' already exists. Creating a new version of this model...\n",
      "2025/06/24 17:41:40 INFO mlflow.store.model_registry.abstract_store: Waiting up to 300 seconds for model version to finish creation. Model name: GARCH(1,1)_5yrFit, version 162\n",
      "Created version '162' of model 'GARCH(1,1)_5yrFit'.\n",
      "2025/06/24 17:41:40 INFO mlflow.store.model_registry.abstract_store: Waiting up to 300 seconds for model version to finish creation. Model name: GARCH(1,1)_5yrFit, version 163\n",
      "Created version '163' of model 'GARCH(1,1)_5yrFit'.\n",
      "2025/06/24 17:41:40 INFO mlflow.store.model_registry.abstract_store: Waiting up to 300 seconds for model version to finish creation. Model name: GARCH(1,1)_5yrFit, version 164\n",
      "Created version '164' of model 'GARCH(1,1)_5yrFit'.\n"
     ]
    },
    {
     "name": "stdout",
     "output_type": "stream",
     "text": [
      "🏃 View run IR_2024-12-30 at: http://127.0.0.1:8768/#/experiments/1555/runs/65b5728898f54994b73511aeb8d2a9b6\n",
      "🧪 View experiment at: http://127.0.0.1:8768/#/experiments/1555\n",
      "🏃 View run IR_2025-01-03 at: http://127.0.0.1:8768/#/experiments/1555/runs/5e381986462c4a3bbb14f30b48e3613b\n",
      "🧪 View experiment at: http://127.0.0.1:8768/#/experiments/1555\n"
     ]
    },
    {
     "name": "stderr",
     "output_type": "stream",
     "text": [
      "Registered model 'GARCH(1,1)_5yrFit' already exists. Creating a new version of this model...\n",
      "Registered model 'GARCH(1,1)_5yrFit' already exists. Creating a new version of this model...\n",
      "Registered model 'GARCH(1,1)_5yrFit' already exists. Creating a new version of this model...\n",
      "Registered model 'GARCH(1,1)_5yrFit' already exists. Creating a new version of this model...\n"
     ]
    },
    {
     "name": "stdout",
     "output_type": "stream",
     "text": [
      "🏃 View run IR_2024-12-27 at: http://127.0.0.1:8768/#/experiments/1555/runs/f23149aedce5424285da8234fc195c6d\n",
      "🧪 View experiment at: http://127.0.0.1:8768/#/experiments/1555\n"
     ]
    },
    {
     "name": "stderr",
     "output_type": "stream",
     "text": [
      "Registered model 'GARCH(1,1)_5yrFit' already exists. Creating a new version of this model...\n",
      "2025/06/24 17:41:41 INFO mlflow.store.model_registry.abstract_store: Waiting up to 300 seconds for model version to finish creation. Model name: GARCH(1,1)_5yrFit, version 165\n",
      "Created version '165' of model 'GARCH(1,1)_5yrFit'.\n",
      "Registered model 'GARCH(1,1)_5yrFit' already exists. Creating a new version of this model...\n",
      "2025/06/24 17:41:41 INFO mlflow.store.model_registry.abstract_store: Waiting up to 300 seconds for model version to finish creation. Model name: GARCH(1,1)_5yrFit, version 166\n",
      "Created version '166' of model 'GARCH(1,1)_5yrFit'.\n",
      "2025/06/24 17:41:42 INFO mlflow.store.model_registry.abstract_store: Waiting up to 300 seconds for model version to finish creation. Model name: GARCH(1,1)_5yrFit, version 167\n",
      "Created version '167' of model 'GARCH(1,1)_5yrFit'.\n",
      "2025/06/24 17:41:42 INFO mlflow.store.model_registry.abstract_store: Waiting up to 300 seconds for model version to finish creation. Model name: GARCH(1,1)_5yrFit, version 168\n",
      "Created version '168' of model 'GARCH(1,1)_5yrFit'.\n",
      "2025/06/24 17:41:42 INFO mlflow.store.model_registry.abstract_store: Waiting up to 300 seconds for model version to finish creation. Model name: GARCH(1,1)_5yrFit, version 169\n",
      "Created version '169' of model 'GARCH(1,1)_5yrFit'.\n",
      "Registered model 'GARCH(1,1)_5yrFit' already exists. Creating a new version of this model...\n",
      "2025/06/24 17:41:42 INFO mlflow.store.model_registry.abstract_store: Waiting up to 300 seconds for model version to finish creation. Model name: GARCH(1,1)_5yrFit, version 170\n"
     ]
    },
    {
     "name": "stdout",
     "output_type": "stream",
     "text": [
      "🏃 View run IR_2025-01-09 at: http://127.0.0.1:8768/#/experiments/1555/runs/9f27eee2d8a34ebc84fa05bdf94c6e50\n",
      "🧪 View experiment at: http://127.0.0.1:8768/#/experiments/1555\n",
      "🏃 View run IR_2024-12-31 at: http://127.0.0.1:8768/#/experiments/1555/runs/7a53a1e6d04a497d899018187223c7f9\n",
      "🧪 View experiment at: http://127.0.0.1:8768/#/experiments/1555\n",
      "🏃 View run IR_2025-01-07 at: http://127.0.0.1:8768/#/experiments/1555/runs/574adc5e67be4e36845d773948b80024\n",
      "🧪 View experiment at: http://127.0.0.1:8768/#/experiments/1555\n"
     ]
    },
    {
     "name": "stderr",
     "output_type": "stream",
     "text": [
      "Created version '170' of model 'GARCH(1,1)_5yrFit'.\n"
     ]
    },
    {
     "name": "stdout",
     "output_type": "stream",
     "text": [
      "🏃 View run IR_2024-12-26 at: http://127.0.0.1:8768/#/experiments/1555/runs/8a3249be7fe840f39791986042082cf6\n",
      "🧪 View experiment at: http://127.0.0.1:8768/#/experiments/1555\n",
      "🏃 View run IR_2025-01-10 at: http://127.0.0.1:8768/#/experiments/1555/runs/d0a4de139df64db4a711e2c2d4a0207b\n",
      "🧪 View experiment at: http://127.0.0.1:8768/#/experiments/1555\n"
     ]
    },
    {
     "name": "stderr",
     "output_type": "stream",
     "text": [
      "2025/06/24 17:41:43 INFO mlflow.store.model_registry.abstract_store: Waiting up to 300 seconds for model version to finish creation. Model name: GARCH(1,1)_5yrFit, version 171\n",
      "Created version '171' of model 'GARCH(1,1)_5yrFit'.\n"
     ]
    },
    {
     "name": "stdout",
     "output_type": "stream",
     "text": [
      "🏃 View run IR_2025-01-08 at: http://127.0.0.1:8768/#/experiments/1555/runs/b84764b0a5ce406b8b3db644f084e013\n",
      "🧪 View experiment at: http://127.0.0.1:8768/#/experiments/1555\n",
      "🏃 View run IR_2025-01-13 at: http://127.0.0.1:8768/#/experiments/1555/runs/ada8f666ec8a49ee88f413e39e7430a3\n",
      "🧪 View experiment at: http://127.0.0.1:8768/#/experiments/1555\n"
     ]
    },
    {
     "name": "stderr",
     "output_type": "stream",
     "text": [
      "Registered model 'GARCH(1,1)_5yrFit' already exists. Creating a new version of this model...\n",
      "2025/06/24 17:42:07 INFO mlflow.store.model_registry.abstract_store: Waiting up to 300 seconds for model version to finish creation. Model name: GARCH(1,1)_5yrFit, version 172\n",
      "Created version '172' of model 'GARCH(1,1)_5yrFit'.\n",
      "Registered model 'GARCH(1,1)_5yrFit' already exists. Creating a new version of this model...\n"
     ]
    },
    {
     "name": "stdout",
     "output_type": "stream",
     "text": [
      "🏃 View run IR_2025-01-06 at: http://127.0.0.1:8768/#/experiments/1555/runs/4e6722a75a9c438f88330d66a62df69b\n",
      "🧪 View experiment at: http://127.0.0.1:8768/#/experiments/1555\n"
     ]
    },
    {
     "name": "stderr",
     "output_type": "stream",
     "text": [
      "2025/06/24 17:42:08 INFO mlflow.store.model_registry.abstract_store: Waiting up to 300 seconds for model version to finish creation. Model name: GARCH(1,1)_5yrFit, version 173\n",
      "Created version '173' of model 'GARCH(1,1)_5yrFit'.\n"
     ]
    },
    {
     "name": "stdout",
     "output_type": "stream",
     "text": [
      "🏃 View run IR_2025-01-02 at: http://127.0.0.1:8768/#/experiments/1555/runs/ad386a9f78314c978641b8c215173e07\n",
      "🧪 View experiment at: http://127.0.0.1:8768/#/experiments/1555\n",
      "using model: GARCH(1,1)_5yrFit\n",
      "using model: GARCH(1,1)_5yrFit\n"
     ]
    },
    {
     "name": "stderr",
     "output_type": "stream",
     "text": [
      "Registered model 'GARCH(1,1)_5yrFit' already exists. Creating a new version of this model...\n",
      "2025/06/24 17:42:25 INFO mlflow.store.model_registry.abstract_store: Waiting up to 300 seconds for model version to finish creation. Model name: GARCH(1,1)_5yrFit, version 174\n",
      "Created version '174' of model 'GARCH(1,1)_5yrFit'.\n"
     ]
    },
    {
     "name": "stdout",
     "output_type": "stream",
     "text": [
      "🏃 View run IR_2025-01-03 at: http://127.0.0.1:8768/#/experiments/1555/runs/b54ceacfbce34f1cabad1f29ce92bc19\n",
      "🧪 View experiment at: http://127.0.0.1:8768/#/experiments/1555\n",
      "using model: GARCH(1,1)_5yrFit\n"
     ]
    },
    {
     "name": "stderr",
     "output_type": "stream",
     "text": [
      "2025/06/24 17:42:35 INFO mlflow.models.model: Found the following environment variables used during model inference: [DOMINO_USER_API_KEY]. Please check if you need to set them when deploying the model. To disable this message, set environment variable `MLFLOW_RECORD_ENV_VARS_IN_MODEL_LOGGING` to `false`.\n",
      "Registered model 'GARCH(1,1)_5yrFit' already exists. Creating a new version of this model...\n",
      "2025/06/24 17:42:39 INFO mlflow.store.model_registry.abstract_store: Waiting up to 300 seconds for model version to finish creation. Model name: GARCH(1,1)_5yrFit, version 175\n",
      "Created version '175' of model 'GARCH(1,1)_5yrFit'.\n"
     ]
    },
    {
     "name": "stdout",
     "output_type": "stream",
     "text": [
      "🏃 View run IR_2024-12-30 at: http://127.0.0.1:8768/#/experiments/1555/runs/dfc325673b6c43ff816b6a75d3768ed3\n",
      "🧪 View experiment at: http://127.0.0.1:8768/#/experiments/1555\n",
      "using model: GARCH(1,1)_5yrFit\n"
     ]
    },
    {
     "name": "stderr",
     "output_type": "stream",
     "text": [
      "Registered model 'GARCH(1,1)_5yrFit' already exists. Creating a new version of this model...\n",
      "2025/06/24 17:42:47 INFO mlflow.models.model: Found the following environment variables used during model inference: [DOMINO_USER_API_KEY]. Please check if you need to set them when deploying the model. To disable this message, set environment variable `MLFLOW_RECORD_ENV_VARS_IN_MODEL_LOGGING` to `false`.\n",
      "2025/06/24 17:42:47 INFO mlflow.store.model_registry.abstract_store: Waiting up to 300 seconds for model version to finish creation. Model name: GARCH(1,1)_5yrFit, version 176\n",
      "Created version '176' of model 'GARCH(1,1)_5yrFit'.\n",
      "Registered model 'GARCH(1,1)_5yrFit' already exists. Creating a new version of this model...\n",
      "2025/06/24 17:42:48 INFO mlflow.store.model_registry.abstract_store: Waiting up to 300 seconds for model version to finish creation. Model name: GARCH(1,1)_5yrFit, version 177\n",
      "Created version '177' of model 'GARCH(1,1)_5yrFit'.\n",
      "Registered model 'GARCH(1,1)_5yrFit' already exists. Creating a new version of this model...\n",
      "2025/06/24 17:42:49 INFO mlflow.models.model: Found the following environment variables used during model inference: [DOMINO_USER_API_KEY]. Please check if you need to set them when deploying the model. To disable this message, set environment variable `MLFLOW_RECORD_ENV_VARS_IN_MODEL_LOGGING` to `false`.\n"
     ]
    },
    {
     "name": "stdout",
     "output_type": "stream",
     "text": [
      "🏃 View run IR_2025-01-08 at: http://127.0.0.1:8768/#/experiments/1555/runs/8e3b5deec2964dbb80a8a61025c6a64d\n",
      "🧪 View experiment at: http://127.0.0.1:8768/#/experiments/1555\n"
     ]
    },
    {
     "name": "stderr",
     "output_type": "stream",
     "text": [
      "Registered model 'GARCH(1,1)_5yrFit' already exists. Creating a new version of this model...\n",
      "Registered model 'GARCH(1,1)_5yrFit' already exists. Creating a new version of this model...\n",
      "2025/06/24 17:42:49 INFO mlflow.store.model_registry.abstract_store: Waiting up to 300 seconds for model version to finish creation. Model name: GARCH(1,1)_5yrFit, version 178\n"
     ]
    },
    {
     "name": "stdout",
     "output_type": "stream",
     "text": [
      "🏃 View run IR_2025-01-09 at: http://127.0.0.1:8768/#/experiments/1555/runs/42aa63989d734530a000e3163344bc18\n",
      "🧪 View experiment at: http://127.0.0.1:8768/#/experiments/1555\n"
     ]
    },
    {
     "name": "stderr",
     "output_type": "stream",
     "text": [
      "Created version '178' of model 'GARCH(1,1)_5yrFit'.\n",
      "2025/06/24 17:42:50 INFO mlflow.store.model_registry.abstract_store: Waiting up to 300 seconds for model version to finish creation. Model name: GARCH(1,1)_5yrFit, version 179\n",
      "Created version '179' of model 'GARCH(1,1)_5yrFit'.\n",
      "2025/06/24 17:42:50 INFO mlflow.store.model_registry.abstract_store: Waiting up to 300 seconds for model version to finish creation. Model name: GARCH(1,1)_5yrFit, version 180\n",
      "Created version '180' of model 'GARCH(1,1)_5yrFit'.\n"
     ]
    },
    {
     "name": "stdout",
     "output_type": "stream",
     "text": [
      "⏭️  Skipping 2025-01-19: no exact curve_date in pivot\n",
      "⏭️  Skipping 2025-01-18: no exact curve_date in pivot\n",
      "🏃 View run IR_2025-01-13 at: http://127.0.0.1:8768/#/experiments/1555/runs/2b4ad1cc1bc44e8aa7543d3f278afde1\n",
      "🧪 View experiment at: http://127.0.0.1:8768/#/experiments/1555\n",
      "🏃 View run IR_2024-12-27 at: http://127.0.0.1:8768/#/experiments/1555/runs/11156bbb44e248cfae1ecde91d49418b\n",
      "🧪 View experiment at: http://127.0.0.1:8768/#/experiments/1555\n",
      "🏃 View run IR_2025-01-10 at: http://127.0.0.1:8768/#/experiments/1555/runs/6f807723cbeb4fff95f6311a392016c6\n",
      "🧪 View experiment at: http://127.0.0.1:8768/#/experiments/1555\n"
     ]
    },
    {
     "name": "stderr",
     "output_type": "stream",
     "text": [
      "Registered model 'GARCH(1,1)_5yrFit' already exists. Creating a new version of this model...\n",
      "Registered model 'GARCH(1,1)_5yrFit' already exists. Creating a new version of this model...\n"
     ]
    },
    {
     "name": "stdout",
     "output_type": "stream",
     "text": [
      "⏭️  Skipping 2025-01-20: no exact curve_date in pivotusing model: GARCH(1,1)_5yrFit\n",
      "\n",
      "using model: GARCH(1,1)_5yrFit\n",
      "using model: GARCH(1,1)_5yrFit\n",
      "using model: GARCH(1,1)_5yrFit\n"
     ]
    },
    {
     "name": "stderr",
     "output_type": "stream",
     "text": [
      "2025/06/24 17:42:58 INFO mlflow.store.model_registry.abstract_store: Waiting up to 300 seconds for model version to finish creation. Model name: GARCH(1,1)_5yrFit, version 181\n",
      "Created version '181' of model 'GARCH(1,1)_5yrFit'.\n",
      "Registered model 'GARCH(1,1)_5yrFit' already exists. Creating a new version of this model...\n",
      "2025/06/24 17:42:59 INFO mlflow.store.model_registry.abstract_store: Waiting up to 300 seconds for model version to finish creation. Model name: GARCH(1,1)_5yrFit, version 182\n",
      "Created version '182' of model 'GARCH(1,1)_5yrFit'.\n"
     ]
    },
    {
     "name": "stdout",
     "output_type": "stream",
     "text": [
      "⏭️  Skipping 2025-01-25: no exact curve_date in pivot\n",
      "🏃 View run IR_2024-12-26 at: http://127.0.0.1:8768/#/experiments/1555/runs/bc4e35d5b28442658f95d811875dafde\n",
      "🧪 View experiment at: http://127.0.0.1:8768/#/experiments/1555\n"
     ]
    },
    {
     "name": "stderr",
     "output_type": "stream",
     "text": [
      "2025/06/24 17:43:01 INFO mlflow.store.model_registry.abstract_store: Waiting up to 300 seconds for model version to finish creation. Model name: GARCH(1,1)_5yrFit, version 183\n"
     ]
    },
    {
     "name": "stdout",
     "output_type": "stream",
     "text": [
      "🏃 View run IR_2024-12-31 at: http://127.0.0.1:8768/#/experiments/1555/runs/6eae9042eec74c14a098cf8f8804deaa\n",
      "🧪 View experiment at: http://127.0.0.1:8768/#/experiments/1555\n"
     ]
    },
    {
     "name": "stderr",
     "output_type": "stream",
     "text": [
      "Created version '183' of model 'GARCH(1,1)_5yrFit'.\n"
     ]
    },
    {
     "name": "stdout",
     "output_type": "stream",
     "text": [
      "using model: GARCH(1,1)_5yrFit\n",
      "⏭️  Skipping 2025-01-26: no exact curve_date in pivot\n",
      "🏃 View run IR_2025-01-07 at: http://127.0.0.1:8768/#/experiments/1555/runs/6656927426ef40ba97d6a24eff8718a9\n",
      "🧪 View experiment at: http://127.0.0.1:8768/#/experiments/1555\n",
      "using model: GARCH(1,1)_5yrFit\n",
      "using model: GARCH(1,1)_5yrFit\n",
      "using model: GARCH(1,1)_5yrFit\n",
      "using model: GARCH(1,1)_5yrFit\n"
     ]
    },
    {
     "name": "stderr",
     "output_type": "stream",
     "text": [
      "Registered model 'GARCH(1,1)_5yrFit' already exists. Creating a new version of this model...\n",
      "Registered model 'GARCH(1,1)_5yrFit' already exists. Creating a new version of this model...\n"
     ]
    },
    {
     "name": "stdout",
     "output_type": "stream",
     "text": [
      "⏭️  Skipping 2025-02-01: no exact curve_date in pivot\n"
     ]
    },
    {
     "name": "stderr",
     "output_type": "stream",
     "text": [
      "2025/06/24 17:43:14 INFO mlflow.store.model_registry.abstract_store: Waiting up to 300 seconds for model version to finish creation. Model name: GARCH(1,1)_5yrFit, version 184\n",
      "Created version '184' of model 'GARCH(1,1)_5yrFit'.\n",
      "2025/06/24 17:43:14 INFO mlflow.store.model_registry.abstract_store: Waiting up to 300 seconds for model version to finish creation. Model name: GARCH(1,1)_5yrFit, version 185\n",
      "Created version '185' of model 'GARCH(1,1)_5yrFit'.\n"
     ]
    },
    {
     "name": "stdout",
     "output_type": "stream",
     "text": [
      "🏃 View run IR_2025-01-14 at: http://127.0.0.1:8768/#/experiments/1555/runs/e91df1f1f54245b985620061e874ee30\n",
      "🧪 View experiment at: http://127.0.0.1:8768/#/experiments/1555\n",
      "⏭️  Skipping 2025-02-02: no exact curve_date in pivot\n",
      "using model: GARCH(1,1)_5yrFit\n",
      "🏃 View run IR_2025-01-15 at: http://127.0.0.1:8768/#/experiments/1555/runs/37f96c1c8a1247ac871cbd80de506fae\n",
      "🧪 View experiment at: http://127.0.0.1:8768/#/experiments/1555\n",
      "using model: GARCH(1,1)_5yrFit\n"
     ]
    },
    {
     "name": "stderr",
     "output_type": "stream",
     "text": [
      "Registered model 'GARCH(1,1)_5yrFit' already exists. Creating a new version of this model...\n"
     ]
    },
    {
     "name": "stdout",
     "output_type": "stream",
     "text": [
      "using model: GARCH(1,1)_5yrFit\n"
     ]
    },
    {
     "name": "stderr",
     "output_type": "stream",
     "text": [
      "2025/06/24 17:43:17 INFO mlflow.store.model_registry.abstract_store: Waiting up to 300 seconds for model version to finish creation. Model name: GARCH(1,1)_5yrFit, version 186\n",
      "Created version '186' of model 'GARCH(1,1)_5yrFit'.\n"
     ]
    },
    {
     "name": "stdout",
     "output_type": "stream",
     "text": [
      "🏃 View run IR_2025-01-16 at: http://127.0.0.1:8768/#/experiments/1555/runs/fb5abdc35b264f01895f76fc48aa1227\n",
      "🧪 View experiment at: http://127.0.0.1:8768/#/experiments/1555\n"
     ]
    },
    {
     "name": "stderr",
     "output_type": "stream",
     "text": [
      "/mnt/artifacts/.domino/.persistence/packages/venv/lib/python3.10/site-packages/arch/univariate/base.py:768: ConvergenceWarning: The optimizer returned code 4. The message is:\n",
      "Inequality constraints incompatible\n",
      "See scipy.optimize.fmin_slsqp for code meaning.\n",
      "\n",
      "  warnings.warn(\n",
      "Registered model 'GARCH(1,1)_5yrFit' already exists. Creating a new version of this model...\n",
      "2025/06/24 17:43:19 INFO mlflow.store.model_registry.abstract_store: Waiting up to 300 seconds for model version to finish creation. Model name: GARCH(1,1)_5yrFit, version 187\n",
      "Created version '187' of model 'GARCH(1,1)_5yrFit'.\n"
     ]
    },
    {
     "name": "stdout",
     "output_type": "stream",
     "text": [
      "🏃 View run IR_2025-01-17 at: http://127.0.0.1:8768/#/experiments/1555/runs/24df135d94fd44029c49263abb9b0400\n",
      "🧪 View experiment at: http://127.0.0.1:8768/#/experiments/1555\n"
     ]
    },
    {
     "name": "stderr",
     "output_type": "stream",
     "text": [
      "Registered model 'GARCH(1,1)_5yrFit' already exists. Creating a new version of this model...\n",
      "2025/06/24 17:43:47 INFO mlflow.store.model_registry.abstract_store: Waiting up to 300 seconds for model version to finish creation. Model name: GARCH(1,1)_5yrFit, version 188\n",
      "Created version '188' of model 'GARCH(1,1)_5yrFit'.\n"
     ]
    },
    {
     "name": "stdout",
     "output_type": "stream",
     "text": [
      "🏃 View run IR_2025-01-28 at: http://127.0.0.1:8768/#/experiments/1555/runs/01cb63888fc641cab8730c3135c6b3cc\n",
      "🧪 View experiment at: http://127.0.0.1:8768/#/experiments/1555\n"
     ]
    },
    {
     "name": "stderr",
     "output_type": "stream",
     "text": [
      "2025/06/24 17:43:52 INFO mlflow.models.model: Found the following environment variables used during model inference: [DOMINO_USER_API_KEY]. Please check if you need to set them when deploying the model. To disable this message, set environment variable `MLFLOW_RECORD_ENV_VARS_IN_MODEL_LOGGING` to `false`.\n",
      "Registered model 'GARCH(1,1)_5yrFit' already exists. Creating a new version of this model...\n",
      "2025/06/24 17:43:55 INFO mlflow.store.model_registry.abstract_store: Waiting up to 300 seconds for model version to finish creation. Model name: GARCH(1,1)_5yrFit, version 189\n",
      "Created version '189' of model 'GARCH(1,1)_5yrFit'.\n"
     ]
    },
    {
     "name": "stdout",
     "output_type": "stream",
     "text": [
      "🏃 View run IR_2025-01-27 at: http://127.0.0.1:8768/#/experiments/1555/runs/367e11fc8cca452ea1ed7e682b82b205\n",
      "🧪 View experiment at: http://127.0.0.1:8768/#/experiments/1555\n"
     ]
    },
    {
     "name": "stderr",
     "output_type": "stream",
     "text": [
      "Registered model 'GARCH(1,1)_5yrFit' already exists. Creating a new version of this model...\n",
      "2025/06/24 17:43:57 INFO mlflow.store.model_registry.abstract_store: Waiting up to 300 seconds for model version to finish creation. Model name: GARCH(1,1)_5yrFit, version 190\n",
      "Created version '190' of model 'GARCH(1,1)_5yrFit'.\n"
     ]
    },
    {
     "name": "stdout",
     "output_type": "stream",
     "text": [
      "🏃 View run IR_2025-01-29 at: http://127.0.0.1:8768/#/experiments/1555/runs/4e1b0403e0384d79a9b881c24995359b\n",
      "🧪 View experiment at: http://127.0.0.1:8768/#/experiments/1555\n"
     ]
    },
    {
     "name": "stderr",
     "output_type": "stream",
     "text": [
      "Registered model 'GARCH(1,1)_5yrFit' already exists. Creating a new version of this model...\n",
      "2025/06/24 17:44:13 INFO mlflow.store.model_registry.abstract_store: Waiting up to 300 seconds for model version to finish creation. Model name: GARCH(1,1)_5yrFit, version 191\n",
      "Created version '191' of model 'GARCH(1,1)_5yrFit'.\n"
     ]
    },
    {
     "name": "stdout",
     "output_type": "stream",
     "text": [
      "🏃 View run IR_2025-01-30 at: http://127.0.0.1:8768/#/experiments/1555/runs/d478de5ac1b74010a31b5b4300d3e49a\n",
      "🧪 View experiment at: http://127.0.0.1:8768/#/experiments/1555\n"
     ]
    },
    {
     "name": "stderr",
     "output_type": "stream",
     "text": [
      "2025/06/24 17:44:22 INFO mlflow.models.model: Found the following environment variables used during model inference: [DOMINO_USER_API_KEY]. Please check if you need to set them when deploying the model. To disable this message, set environment variable `MLFLOW_RECORD_ENV_VARS_IN_MODEL_LOGGING` to `false`.\n",
      "Registered model 'GARCH(1,1)_5yrFit' already exists. Creating a new version of this model...\n",
      "Registered model 'GARCH(1,1)_5yrFit' already exists. Creating a new version of this model...\n",
      "Registered model 'GARCH(1,1)_5yrFit' already exists. Creating a new version of this model...\n",
      "2025/06/24 17:44:27 INFO mlflow.store.model_registry.abstract_store: Waiting up to 300 seconds for model version to finish creation. Model name: GARCH(1,1)_5yrFit, version 192\n",
      "Created version '192' of model 'GARCH(1,1)_5yrFit'.\n",
      "2025/06/24 17:44:28 INFO mlflow.store.model_registry.abstract_store: Waiting up to 300 seconds for model version to finish creation. Model name: GARCH(1,1)_5yrFit, version 193\n",
      "Created version '193' of model 'GARCH(1,1)_5yrFit'.\n",
      "2025/06/24 17:44:28 INFO mlflow.store.model_registry.abstract_store: Waiting up to 300 seconds for model version to finish creation. Model name: GARCH(1,1)_5yrFit, version 194\n",
      "Created version '194' of model 'GARCH(1,1)_5yrFit'.\n",
      "Registered model 'GARCH(1,1)_5yrFit' already exists. Creating a new version of this model...\n",
      "Registered model 'GARCH(1,1)_5yrFit' already exists. Creating a new version of this model...\n"
     ]
    },
    {
     "name": "stdout",
     "output_type": "stream",
     "text": [
      "🏃 View run IR_2025-01-15 at: http://127.0.0.1:8768/#/experiments/1555/runs/744d15387de74d8799d552a00c9df1a6\n",
      "🧪 View experiment at: http://127.0.0.1:8768/#/experiments/1555\n"
     ]
    },
    {
     "name": "stderr",
     "output_type": "stream",
     "text": [
      "Registered model 'GARCH(1,1)_5yrFit' already exists. Creating a new version of this model...\n"
     ]
    },
    {
     "name": "stdout",
     "output_type": "stream",
     "text": [
      "🏃 View run IR_2025-02-05 at: http://127.0.0.1:8768/#/experiments/1555/runs/84f4a3dae9d04369be92b465a8de8907\n",
      "🧪 View experiment at: http://127.0.0.1:8768/#/experiments/1555\n",
      "🏃 View run IR_2025-01-14 at: http://127.0.0.1:8768/#/experiments/1555/runs/7fcdc3aa12d8482fbdce49e0aef9afb1\n",
      "🧪 View experiment at: http://127.0.0.1:8768/#/experiments/1555\n"
     ]
    },
    {
     "name": "stderr",
     "output_type": "stream",
     "text": [
      "Registered model 'GARCH(1,1)_5yrFit' already exists. Creating a new version of this model...\n",
      "Registered model 'GARCH(1,1)_5yrFit' already exists. Creating a new version of this model...\n",
      "2025/06/24 17:44:29 INFO mlflow.store.model_registry.abstract_store: Waiting up to 300 seconds for model version to finish creation. Model name: GARCH(1,1)_5yrFit, version 195\n",
      "Created version '195' of model 'GARCH(1,1)_5yrFit'.2025/06/24 17:44:29 INFO mlflow.store.model_registry.abstract_store: Waiting up to 300 seconds for model version to finish creation. Model name: GARCH(1,1)_5yrFit, version 196\n",
      "\n",
      "Created version '196' of model 'GARCH(1,1)_5yrFit'.\n",
      "2025/06/24 17:44:29 INFO mlflow.store.model_registry.abstract_store: Waiting up to 300 seconds for model version to finish creation. Model name: GARCH(1,1)_5yrFit, version 197\n",
      "Created version '197' of model 'GARCH(1,1)_5yrFit'.\n"
     ]
    },
    {
     "name": "stdout",
     "output_type": "stream",
     "text": [
      "using model: GARCH(1,1)_5yrFit\n",
      "using model: GARCH(1,1)_5yrFit\n"
     ]
    },
    {
     "name": "stderr",
     "output_type": "stream",
     "text": [
      "2025/06/24 17:44:31 INFO mlflow.store.model_registry.abstract_store: Waiting up to 300 seconds for model version to finish creation. Model name: GARCH(1,1)_5yrFit, version 198\n",
      "Created version '198' of model 'GARCH(1,1)_5yrFit'.\n",
      "2025/06/24 17:44:32 INFO mlflow.store.model_registry.abstract_store: Waiting up to 300 seconds for model version to finish creation. Model name: GARCH(1,1)_5yrFit, version 199\n",
      "Created version '199' of model 'GARCH(1,1)_5yrFit'.\n"
     ]
    },
    {
     "name": "stdout",
     "output_type": "stream",
     "text": [
      "🏃 View run IR_2025-02-04 at: http://127.0.0.1:8768/#/experiments/1555/runs/87609b8cdc8b4193afb7cb7844a77669\n",
      "🧪 View experiment at: http://127.0.0.1:8768/#/experiments/1555\n",
      "🏃 View run IR_2025-02-03 at: http://127.0.0.1:8768/#/experiments/1555/runs/8df39ec0f1ba49c985d8197c2b5b832d\n",
      "🧪 View experiment at: http://127.0.0.1:8768/#/experiments/1555\n",
      "🏃 View run IR_2025-01-17 at: http://127.0.0.1:8768/#/experiments/1555/runs/a8467b71d030473d9be94fefde2b55ac\n",
      "🧪 View experiment at: http://127.0.0.1:8768/#/experiments/1555\n",
      "🏃 View run IR_2025-01-16 at: http://127.0.0.1:8768/#/experiments/1555/runs/7f84a4a0322f4eda87cef42fda924af0\n",
      "🧪 View experiment at: http://127.0.0.1:8768/#/experiments/1555\n",
      "🏃 View run IR_2025-01-31 at: http://127.0.0.1:8768/#/experiments/1555/runs/8e78b00a00204262930c29c52afbd425\n",
      "🧪 View experiment at: http://127.0.0.1:8768/#/experiments/1555\n",
      "⏭️  Skipping 2025-02-08: no exact curve_date in pivot\n",
      "⏭️  Skipping 2025-02-09: no exact curve_date in pivot\n",
      "using model: GARCH(1,1)_5yrFit\n",
      "using model: GARCH(1,1)_5yrFit\n"
     ]
    },
    {
     "name": "stderr",
     "output_type": "stream",
     "text": [
      "Registered model 'GARCH(1,1)_5yrFit' already exists. Creating a new version of this model...\n",
      "2025/06/24 17:44:41 INFO mlflow.store.model_registry.abstract_store: Waiting up to 300 seconds for model version to finish creation. Model name: GARCH(1,1)_5yrFit, version 200\n",
      "Created version '200' of model 'GARCH(1,1)_5yrFit'.\n"
     ]
    },
    {
     "name": "stdout",
     "output_type": "stream",
     "text": [
      "🏃 View run IR_2025-01-28 at: http://127.0.0.1:8768/#/experiments/1555/runs/1e044f8c00204ebbb62b781a69e60e17\n",
      "🧪 View experiment at: http://127.0.0.1:8768/#/experiments/1555\n"
     ]
    },
    {
     "name": "stderr",
     "output_type": "stream",
     "text": [
      "/mnt/artifacts/.domino/.persistence/packages/venv/lib/python3.10/site-packages/arch/univariate/base.py:768: ConvergenceWarning: The optimizer returned code 4. The message is:\n",
      "Inequality constraints incompatible\n",
      "See scipy.optimize.fmin_slsqp for code meaning.\n",
      "\n",
      "  warnings.warn(\n"
     ]
    },
    {
     "name": "stdout",
     "output_type": "stream",
     "text": [
      "using model: GARCH(1,1)_5yrFit\n"
     ]
    },
    {
     "name": "stderr",
     "output_type": "stream",
     "text": [
      "Registered model 'GARCH(1,1)_5yrFit' already exists. Creating a new version of this model...\n",
      "Registered model 'GARCH(1,1)_5yrFit' already exists. Creating a new version of this model...\n",
      "2025/06/24 17:44:49 INFO mlflow.store.model_registry.abstract_store: Waiting up to 300 seconds for model version to finish creation. Model name: GARCH(1,1)_5yrFit, version 201\n",
      "Created version '201' of model 'GARCH(1,1)_5yrFit'.2025/06/24 17:44:49 INFO mlflow.store.model_registry.abstract_store: Waiting up to 300 seconds for model version to finish creation. Model name: GARCH(1,1)_5yrFit, version 202\n",
      "Created version '202' of model 'GARCH(1,1)_5yrFit'.\n",
      "\n"
     ]
    },
    {
     "name": "stdout",
     "output_type": "stream",
     "text": [
      "using model: GARCH(1,1)_5yrFit\n",
      "using model: GARCH(1,1)_5yrFit\n"
     ]
    },
    {
     "name": "stderr",
     "output_type": "stream",
     "text": [
      "2025/06/24 17:44:50 INFO mlflow.models.model: Found the following environment variables used during model inference: [DOMINO_USER_API_KEY]. Please check if you need to set them when deploying the model. To disable this message, set environment variable `MLFLOW_RECORD_ENV_VARS_IN_MODEL_LOGGING` to `false`.\n"
     ]
    },
    {
     "name": "stdout",
     "output_type": "stream",
     "text": [
      "🏃 View run IR_2025-01-27 at: http://127.0.0.1:8768/#/experiments/1555/runs/4fd471237c0340c389b3eba0423980c0\n",
      "🧪 View experiment at: http://127.0.0.1:8768/#/experiments/1555\n",
      "🏃 View run IR_2025-01-29 at: http://127.0.0.1:8768/#/experiments/1555/runs/57b1b4c5fffa477086b07d2b8e91812a\n",
      "🧪 View experiment at: http://127.0.0.1:8768/#/experiments/1555\n",
      "⏭️  Skipping 2025-02-16: no exact curve_date in pivot\n",
      "⏭️  Skipping 2025-02-15: no exact curve_date in pivot\n"
     ]
    },
    {
     "name": "stderr",
     "output_type": "stream",
     "text": [
      "/mnt/artifacts/.domino/.persistence/packages/venv/lib/python3.10/site-packages/arch/univariate/base.py:768: ConvergenceWarning: The optimizer returned code 8. The message is:\n",
      "Positive directional derivative for linesearch\n",
      "See scipy.optimize.fmin_slsqp for code meaning.\n",
      "\n",
      "  warnings.warn(\n"
     ]
    },
    {
     "name": "stdout",
     "output_type": "stream",
     "text": [
      "⏭️  Skipping 2025-02-17: no exact curve_date in pivot\n",
      "using model: GARCH(1,1)_5yrFit\n"
     ]
    },
    {
     "name": "stderr",
     "output_type": "stream",
     "text": [
      "Registered model 'GARCH(1,1)_5yrFit' already exists. Creating a new version of this model...\n"
     ]
    },
    {
     "name": "stdout",
     "output_type": "stream",
     "text": [
      "using model: GARCH(1,1)_5yrFit\n",
      "using model: GARCH(1,1)_5yrFit\n"
     ]
    },
    {
     "name": "stderr",
     "output_type": "stream",
     "text": [
      "/mnt/artifacts/.domino/.persistence/packages/venv/lib/python3.10/site-packages/arch/univariate/volatility.py:1215: RuntimeWarning: invalid value encountered in scalar divide\n",
      "  scale = np.mean(resids**2) / (target ** (2.0 / power))\n",
      "/mnt/artifacts/.domino/.persistence/packages/venv/lib/python3.10/site-packages/arch/univariate/distribution.py:449: RuntimeWarning: divide by zero encountered in log\n",
      "  lls = -0.5 * (log(2 * pi) + log(sigma2) + resids ** 2.0 / sigma2)\n",
      "/mnt/artifacts/.domino/.persistence/packages/venv/lib/python3.10/site-packages/arch/univariate/distribution.py:449: RuntimeWarning: invalid value encountered in divide\n",
      "  lls = -0.5 * (log(2 * pi) + log(sigma2) + resids ** 2.0 / sigma2)\n",
      "/mnt/artifacts/.domino/.persistence/packages/venv/lib/python3.10/site-packages/arch/univariate/base.py:768: ConvergenceWarning: The optimizer returned code 4. The message is:\n",
      "Inequality constraints incompatible\n",
      "See scipy.optimize.fmin_slsqp for code meaning.\n",
      "\n",
      "  warnings.warn(\n",
      "/mnt/code/models/covariance/garch.py:37: RuntimeWarning: invalid value encountered in divide\n",
      "  std_resid[:, i] = res.resid / cond_vol[:, i]\n",
      "/mnt/artifacts/.domino/.persistence/packages/venv/lib/python3.10/site-packages/arch/univariate/volatility.py:1215: RuntimeWarning: invalid value encountered in scalar divide\n",
      "  scale = np.mean(resids**2) / (target ** (2.0 / power))\n",
      "/mnt/artifacts/.domino/.persistence/packages/venv/lib/python3.10/site-packages/arch/univariate/distribution.py:449: RuntimeWarning: divide by zero encountered in log\n",
      "  lls = -0.5 * (log(2 * pi) + log(sigma2) + resids ** 2.0 / sigma2)\n",
      "/mnt/artifacts/.domino/.persistence/packages/venv/lib/python3.10/site-packages/arch/univariate/distribution.py:449: RuntimeWarning: invalid value encountered in divide\n",
      "  lls = -0.5 * (log(2 * pi) + log(sigma2) + resids ** 2.0 / sigma2)\n",
      "/mnt/artifacts/.domino/.persistence/packages/venv/lib/python3.10/site-packages/arch/univariate/base.py:768: ConvergenceWarning: The optimizer returned code 4. The message is:\n",
      "Inequality constraints incompatible\n",
      "See scipy.optimize.fmin_slsqp for code meaning.\n",
      "\n",
      "  warnings.warn(\n",
      "/mnt/code/models/covariance/garch.py:37: RuntimeWarning: invalid value encountered in divide\n",
      "  std_resid[:, i] = res.resid / cond_vol[:, i]\n",
      "/mnt/artifacts/.domino/.persistence/packages/venv/lib/python3.10/site-packages/arch/univariate/volatility.py:1215: RuntimeWarning: invalid value encountered in scalar divide\n",
      "  scale = np.mean(resids**2) / (target ** (2.0 / power))\n",
      "/mnt/artifacts/.domino/.persistence/packages/venv/lib/python3.10/site-packages/arch/univariate/distribution.py:449: RuntimeWarning: divide by zero encountered in log\n",
      "  lls = -0.5 * (log(2 * pi) + log(sigma2) + resids ** 2.0 / sigma2)\n",
      "/mnt/artifacts/.domino/.persistence/packages/venv/lib/python3.10/site-packages/arch/univariate/distribution.py:449: RuntimeWarning: invalid value encountered in divide\n",
      "  lls = -0.5 * (log(2 * pi) + log(sigma2) + resids ** 2.0 / sigma2)\n",
      "/mnt/artifacts/.domino/.persistence/packages/venv/lib/python3.10/site-packages/arch/univariate/base.py:768: ConvergenceWarning: The optimizer returned code 4. The message is:\n",
      "Inequality constraints incompatible\n",
      "See scipy.optimize.fmin_slsqp for code meaning.\n",
      "\n",
      "  warnings.warn(\n",
      "/mnt/code/models/covariance/garch.py:37: RuntimeWarning: invalid value encountered in divide\n",
      "  std_resid[:, i] = res.resid / cond_vol[:, i]\n",
      "/mnt/artifacts/.domino/.persistence/packages/venv/lib/python3.10/site-packages/arch/univariate/volatility.py:1215: RuntimeWarning: invalid value encountered in scalar divide\n",
      "  scale = np.mean(resids**2) / (target ** (2.0 / power))\n",
      "/mnt/artifacts/.domino/.persistence/packages/venv/lib/python3.10/site-packages/arch/univariate/distribution.py:449: RuntimeWarning: divide by zero encountered in log\n",
      "  lls = -0.5 * (log(2 * pi) + log(sigma2) + resids ** 2.0 / sigma2)\n",
      "/mnt/artifacts/.domino/.persistence/packages/venv/lib/python3.10/site-packages/arch/univariate/distribution.py:449: RuntimeWarning: invalid value encountered in divide\n",
      "  lls = -0.5 * (log(2 * pi) + log(sigma2) + resids ** 2.0 / sigma2)\n",
      "/mnt/artifacts/.domino/.persistence/packages/venv/lib/python3.10/site-packages/arch/univariate/volatility.py:1215: RuntimeWarning: invalid value encountered in scalar divide\n",
      "  scale = np.mean(resids**2) / (target ** (2.0 / power))\n",
      "2025/06/24 17:45:00 INFO mlflow.store.model_registry.abstract_store: Waiting up to 300 seconds for model version to finish creation. Model name: GARCH(1,1)_5yrFit, version 203\n",
      "/mnt/artifacts/.domino/.persistence/packages/venv/lib/python3.10/site-packages/arch/univariate/distribution.py:449: RuntimeWarning: divide by zero encountered in log\n",
      "  lls = -0.5 * (log(2 * pi) + log(sigma2) + resids ** 2.0 / sigma2)\n",
      "Created version '203' of model 'GARCH(1,1)_5yrFit'.\n",
      "/mnt/artifacts/.domino/.persistence/packages/venv/lib/python3.10/site-packages/arch/univariate/distribution.py:449: RuntimeWarning: invalid value encountered in divide\n",
      "  lls = -0.5 * (log(2 * pi) + log(sigma2) + resids ** 2.0 / sigma2)\n",
      "/mnt/artifacts/.domino/.persistence/packages/venv/lib/python3.10/site-packages/arch/univariate/base.py:768: ConvergenceWarning: The optimizer returned code 4. The message is:\n",
      "Inequality constraints incompatible\n",
      "See scipy.optimize.fmin_slsqp for code meaning.\n",
      "\n",
      "  warnings.warn(\n",
      "/mnt/artifacts/.domino/.persistence/packages/venv/lib/python3.10/site-packages/arch/univariate/base.py:768: ConvergenceWarning: The optimizer returned code 4. The message is:\n",
      "Inequality constraints incompatible\n",
      "See scipy.optimize.fmin_slsqp for code meaning.\n",
      "\n",
      "  warnings.warn(\n",
      "/mnt/code/models/covariance/garch.py:37: RuntimeWarning: invalid value encountered in divide\n",
      "  std_resid[:, i] = res.resid / cond_vol[:, i]\n"
     ]
    },
    {
     "name": "stdout",
     "output_type": "stream",
     "text": [
      "🏃 View run IR_2025-01-30 at: http://127.0.0.1:8768/#/experiments/1555/runs/32b603bd3c49456785b1b14556a198cb\n",
      "🧪 View experiment at: http://127.0.0.1:8768/#/experiments/1555\n"
     ]
    },
    {
     "name": "stderr",
     "output_type": "stream",
     "text": [
      "/opt/conda/lib/python3.10/site-packages/numpy/lib/function_base.py:2846: RuntimeWarning: Degrees of freedom <= 0 for slice\n",
      "  c = cov(x, y, rowvar, dtype=dtype)\n",
      "/opt/conda/lib/python3.10/site-packages/numpy/lib/function_base.py:2705: RuntimeWarning: divide by zero encountered in divide\n",
      "  c *= np.true_divide(1, fact)\n",
      "/opt/conda/lib/python3.10/site-packages/numpy/lib/function_base.py:2705: RuntimeWarning: invalid value encountered in multiply\n",
      "  c *= np.true_divide(1, fact)\n"
     ]
    },
    {
     "name": "stdout",
     "output_type": "stream",
     "text": [
      "⏭️  Skipping 2025-02-22: no exact curve_date in pivot\n",
      "using model: GARCH(1,1)_5yrFit\n"
     ]
    },
    {
     "name": "stderr",
     "output_type": "stream",
     "text": [
      "/mnt/artifacts/.domino/.persistence/packages/venv/lib/python3.10/site-packages/arch/univariate/volatility.py:1215: RuntimeWarning: invalid value encountered in scalar divide\n",
      "  scale = np.mean(resids**2) / (target ** (2.0 / power))\n",
      "/mnt/artifacts/.domino/.persistence/packages/venv/lib/python3.10/site-packages/arch/univariate/distribution.py:449: RuntimeWarning: divide by zero encountered in log\n",
      "  lls = -0.5 * (log(2 * pi) + log(sigma2) + resids ** 2.0 / sigma2)\n",
      "/mnt/artifacts/.domino/.persistence/packages/venv/lib/python3.10/site-packages/arch/univariate/distribution.py:449: RuntimeWarning: invalid value encountered in divide\n",
      "  lls = -0.5 * (log(2 * pi) + log(sigma2) + resids ** 2.0 / sigma2)\n",
      "/mnt/artifacts/.domino/.persistence/packages/venv/lib/python3.10/site-packages/arch/univariate/base.py:768: ConvergenceWarning: The optimizer returned code 4. The message is:\n",
      "Inequality constraints incompatible\n",
      "See scipy.optimize.fmin_slsqp for code meaning.\n",
      "\n",
      "  warnings.warn(\n",
      "/mnt/code/models/covariance/garch.py:37: RuntimeWarning: invalid value encountered in divide\n",
      "  std_resid[:, i] = res.resid / cond_vol[:, i]\n"
     ]
    },
    {
     "name": "stdout",
     "output_type": "stream",
     "text": [
      "using model: GARCH(1,1)_5yrFit\n",
      "⏭️  Skipping 2025-02-23: no exact curve_date in pivot\n",
      "using model: GARCH(1,1)_5yrFit\n",
      "using model: GARCH(1,1)_5yrFit\n"
     ]
    },
    {
     "name": "stderr",
     "output_type": "stream",
     "text": [
      "No artists with labels found to put in legend.  Note that artists whose label start with an underscore are ignored when legend() is called with no argument.\n"
     ]
    },
    {
     "name": "stdout",
     "output_type": "stream",
     "text": [
      "using model: GARCH(1,1)_5yrFit\n",
      "using model: GARCH(1,1)_5yrFit\n",
      "⏭️  Skipping 2025-03-01: no exact curve_date in pivot\n"
     ]
    },
    {
     "name": "stderr",
     "output_type": "stream",
     "text": [
      "Registered model 'GARCH(1,1)_5yrFit' already exists. Creating a new version of this model...\n",
      "Registered model 'GARCH(1,1)_5yrFit' already exists. Creating a new version of this model...\n",
      "Registered model 'GARCH(1,1)_5yrFit' already exists. Creating a new version of this model...\n"
     ]
    },
    {
     "name": "stdout",
     "output_type": "stream",
     "text": [
      "⏭️  Skipping 2025-03-02: no exact curve_date in pivot\n"
     ]
    },
    {
     "name": "stderr",
     "output_type": "stream",
     "text": [
      "2025/06/24 17:45:28 INFO mlflow.store.model_registry.abstract_store: Waiting up to 300 seconds for model version to finish creation. Model name: GARCH(1,1)_5yrFit, version 204\n",
      "Created version '204' of model 'GARCH(1,1)_5yrFit'.\n"
     ]
    },
    {
     "name": "stdout",
     "output_type": "stream",
     "text": [
      "using model: GARCH(1,1)_5yrFit\n",
      "using model: GARCH(1,1)_5yrFit\n"
     ]
    },
    {
     "name": "stderr",
     "output_type": "stream",
     "text": [
      "2025/06/24 17:45:29 INFO mlflow.store.model_registry.abstract_store: Waiting up to 300 seconds for model version to finish creation. Model name: GARCH(1,1)_5yrFit, version 205\n",
      "Created version '205' of model 'GARCH(1,1)_5yrFit'.\n",
      "2025/06/24 17:45:29 INFO mlflow.store.model_registry.abstract_store: Waiting up to 300 seconds for model version to finish creation. Model name: GARCH(1,1)_5yrFit, version 206\n",
      "Created version '206' of model 'GARCH(1,1)_5yrFit'.\n"
     ]
    },
    {
     "name": "stdout",
     "output_type": "stream",
     "text": [
      "🏃 View run IR_2025-02-06 at: http://127.0.0.1:8768/#/experiments/1555/runs/fe3801c7975a4f07aac16739d6e1cc8f\n",
      "🧪 View experiment at: http://127.0.0.1:8768/#/experiments/1555\n",
      "🏃 View run IR_2025-02-07 at: http://127.0.0.1:8768/#/experiments/1555/runs/679d74abe92540e7a5ee20ec8272ce0f\n",
      "🧪 View experiment at: http://127.0.0.1:8768/#/experiments/1555\n",
      "🏃 View run IR_2025-02-05 at: http://127.0.0.1:8768/#/experiments/1555/runs/2ce5e68f17d74f2d82c7a53960b27706\n",
      "🧪 View experiment at: http://127.0.0.1:8768/#/experiments/1555\n"
     ]
    },
    {
     "name": "stderr",
     "output_type": "stream",
     "text": [
      "Registered model 'GARCH(1,1)_5yrFit' already exists. Creating a new version of this model...\n",
      "2025/06/24 17:45:33 INFO mlflow.store.model_registry.abstract_store: Waiting up to 300 seconds for model version to finish creation. Model name: GARCH(1,1)_5yrFit, version 207\n",
      "Created version '207' of model 'GARCH(1,1)_5yrFit'.\n"
     ]
    },
    {
     "name": "stdout",
     "output_type": "stream",
     "text": [
      "using model: GARCH(1,1)_5yrFit\n"
     ]
    },
    {
     "name": "stderr",
     "output_type": "stream",
     "text": [
      "Registered model 'GARCH(1,1)_5yrFit' already exists. Creating a new version of this model...\n",
      "Registered model 'GARCH(1,1)_5yrFit' already exists. Creating a new version of this model...\n",
      "2025/06/24 17:45:36 INFO mlflow.store.model_registry.abstract_store: Waiting up to 300 seconds for model version to finish creation. Model name: GARCH(1,1)_5yrFit, version 208\n"
     ]
    },
    {
     "name": "stdout",
     "output_type": "stream",
     "text": [
      "🏃 View run IR_2025-02-11 at: http://127.0.0.1:8768/#/experiments/1555/runs/94f0c091a99f4a72a430532c7a6591f4\n",
      "🧪 View experiment at: http://127.0.0.1:8768/#/experiments/1555\n"
     ]
    },
    {
     "name": "stderr",
     "output_type": "stream",
     "text": [
      "Created version '208' of model 'GARCH(1,1)_5yrFit'.\n",
      "2025/06/24 17:45:36 INFO mlflow.store.model_registry.abstract_store: Waiting up to 300 seconds for model version to finish creation. Model name: GARCH(1,1)_5yrFit, version 209\n",
      "Created version '209' of model 'GARCH(1,1)_5yrFit'.\n"
     ]
    },
    {
     "name": "stdout",
     "output_type": "stream",
     "text": [
      "🏃 View run IR_2025-01-31 at: http://127.0.0.1:8768/#/experiments/1555/runs/c0faa1244b0843a28538f2f00af2d8d8\n",
      "🧪 View experiment at: http://127.0.0.1:8768/#/experiments/1555\n",
      "🏃 View run IR_2025-02-10 at: http://127.0.0.1:8768/#/experiments/1555/runs/bcbb2975654a4618b6d6d0ebb808690d\n",
      "🧪 View experiment at: http://127.0.0.1:8768/#/experiments/1555\n"
     ]
    },
    {
     "name": "stderr",
     "output_type": "stream",
     "text": [
      "Registered model 'GARCH(1,1)_5yrFit' already exists. Creating a new version of this model...\n",
      "2025/06/24 17:45:39 INFO mlflow.store.model_registry.abstract_store: Waiting up to 300 seconds for model version to finish creation. Model name: GARCH(1,1)_5yrFit, version 210\n",
      "Created version '210' of model 'GARCH(1,1)_5yrFit'.\n"
     ]
    },
    {
     "name": "stdout",
     "output_type": "stream",
     "text": [
      "using model: GARCH(1,1)_5yrFit\n",
      "🏃 View run IR_2025-02-12 at: http://127.0.0.1:8768/#/experiments/1555/runs/7dbd3fda4d514614bb00b16ecddd6913\n",
      "🧪 View experiment at: http://127.0.0.1:8768/#/experiments/1555\n"
     ]
    },
    {
     "name": "stderr",
     "output_type": "stream",
     "text": [
      "2025/06/24 17:45:54 INFO mlflow.models.model: Found the following environment variables used during model inference: [DOMINO_USER_API_KEY]. Please check if you need to set them when deploying the model. To disable this message, set environment variable `MLFLOW_RECORD_ENV_VARS_IN_MODEL_LOGGING` to `false`.\n",
      "Registered model 'GARCH(1,1)_5yrFit' already exists. Creating a new version of this model...\n",
      "2025/06/24 17:45:59 INFO mlflow.store.model_registry.abstract_store: Waiting up to 300 seconds for model version to finish creation. Model name: GARCH(1,1)_5yrFit, version 211\n",
      "Created version '211' of model 'GARCH(1,1)_5yrFit'.\n"
     ]
    },
    {
     "name": "stdout",
     "output_type": "stream",
     "text": [
      "🏃 View run IR_2025-02-13 at: http://127.0.0.1:8768/#/experiments/1555/runs/9d3a9fbefe3e4e4b8d12b9d21061b253\n",
      "🧪 View experiment at: http://127.0.0.1:8768/#/experiments/1555\n"
     ]
    },
    {
     "name": "stderr",
     "output_type": "stream",
     "text": [
      "2025/06/24 17:46:02 INFO mlflow.models.model: Found the following environment variables used during model inference: [DOMINO_USER_API_KEY]. Please check if you need to set them when deploying the model. To disable this message, set environment variable `MLFLOW_RECORD_ENV_VARS_IN_MODEL_LOGGING` to `false`.\n",
      "Registered model 'GARCH(1,1)_5yrFit' already exists. Creating a new version of this model...\n",
      "Registered model 'GARCH(1,1)_5yrFit' already exists. Creating a new version of this model...\n",
      "2025/06/24 17:46:06 INFO mlflow.store.model_registry.abstract_store: Waiting up to 300 seconds for model version to finish creation. Model name: GARCH(1,1)_5yrFit, version 212\n",
      "Created version '212' of model 'GARCH(1,1)_5yrFit'.\n",
      "2025/06/24 17:46:06 INFO mlflow.store.model_registry.abstract_store: Waiting up to 300 seconds for model version to finish creation. Model name: GARCH(1,1)_5yrFit, version 213\n",
      "Created version '213' of model 'GARCH(1,1)_5yrFit'.\n"
     ]
    },
    {
     "name": "stdout",
     "output_type": "stream",
     "text": [
      "🏃 View run IR_2025-02-28 at: http://127.0.0.1:8768/#/experiments/1555/runs/dea49bba5e1f4133806fb0e7f668e0fb\n",
      "🧪 View experiment at: http://127.0.0.1:8768/#/experiments/1555\n",
      "🏃 View run IR_2025-02-24 at: http://127.0.0.1:8768/#/experiments/1555/runs/1463c0687ce64757b3591488b235be77\n",
      "🧪 View experiment at: http://127.0.0.1:8768/#/experiments/1555\n"
     ]
    },
    {
     "name": "stderr",
     "output_type": "stream",
     "text": [
      "2025/06/24 17:46:10 INFO mlflow.models.model: Found the following environment variables used during model inference: [DOMINO_USER_API_KEY]. Please check if you need to set them when deploying the model. To disable this message, set environment variable `MLFLOW_RECORD_ENV_VARS_IN_MODEL_LOGGING` to `false`.\n",
      "Registered model 'GARCH(1,1)_5yrFit' already exists. Creating a new version of this model...\n",
      "2025/06/24 17:46:14 INFO mlflow.store.model_registry.abstract_store: Waiting up to 300 seconds for model version to finish creation. Model name: GARCH(1,1)_5yrFit, version 214\n",
      "Created version '214' of model 'GARCH(1,1)_5yrFit'.\n"
     ]
    },
    {
     "name": "stdout",
     "output_type": "stream",
     "text": [
      "🏃 View run IR_2025-03-03 at: http://127.0.0.1:8768/#/experiments/1555/runs/67f8d4fe363043fe982f39a9302e89ef\n",
      "🧪 View experiment at: http://127.0.0.1:8768/#/experiments/1555\n"
     ]
    },
    {
     "name": "stderr",
     "output_type": "stream",
     "text": [
      "2025/06/24 17:46:16 INFO mlflow.models.model: Found the following environment variables used during model inference: [DOMINO_USER_API_KEY]. Please check if you need to set them when deploying the model. To disable this message, set environment variable `MLFLOW_RECORD_ENV_VARS_IN_MODEL_LOGGING` to `false`.\n",
      "Registered model 'GARCH(1,1)_5yrFit' already exists. Creating a new version of this model...\n",
      "2025/06/24 17:46:21 INFO mlflow.store.model_registry.abstract_store: Waiting up to 300 seconds for model version to finish creation. Model name: GARCH(1,1)_5yrFit, version 215\n",
      "Created version '215' of model 'GARCH(1,1)_5yrFit'.\n"
     ]
    },
    {
     "name": "stdout",
     "output_type": "stream",
     "text": [
      "🏃 View run IR_2025-03-04 at: http://127.0.0.1:8768/#/experiments/1555/runs/03e48a86930a4526a97397e68bad4d7c\n",
      "🧪 View experiment at: http://127.0.0.1:8768/#/experiments/1555\n"
     ]
    },
    {
     "name": "stderr",
     "output_type": "stream",
     "text": [
      "2025/06/24 17:46:23 INFO mlflow.models.model: Found the following environment variables used during model inference: [DOMINO_USER_API_KEY]. Please check if you need to set them when deploying the model. To disable this message, set environment variable `MLFLOW_RECORD_ENV_VARS_IN_MODEL_LOGGING` to `false`.\n",
      "Registered model 'GARCH(1,1)_5yrFit' already exists. Creating a new version of this model...\n",
      "Registered model 'GARCH(1,1)_5yrFit' already exists. Creating a new version of this model...\n",
      "Registered model 'GARCH(1,1)_5yrFit' already exists. Creating a new version of this model...\n",
      "2025/06/24 17:46:32 INFO mlflow.store.model_registry.abstract_store: Waiting up to 300 seconds for model version to finish creation. Model name: GARCH(1,1)_5yrFit, version 216\n",
      "Created version '216' of model 'GARCH(1,1)_5yrFit'.\n",
      "2025/06/24 17:46:33 INFO mlflow.store.model_registry.abstract_store: Waiting up to 300 seconds for model version to finish creation. Model name: GARCH(1,1)_5yrFit, version 217\n",
      "Created version '217' of model 'GARCH(1,1)_5yrFit'.\n",
      "2025/06/24 17:46:33 INFO mlflow.store.model_registry.abstract_store: Waiting up to 300 seconds for model version to finish creation. Model name: GARCH(1,1)_5yrFit, version 218\n",
      "Created version '218' of model 'GARCH(1,1)_5yrFit'.\n"
     ]
    },
    {
     "name": "stdout",
     "output_type": "stream",
     "text": [
      "🏃 View run IR_2025-02-07 at: http://127.0.0.1:8768/#/experiments/1555/runs/1c03b277492c4774afe5f87f80fed733\n",
      "🧪 View experiment at: http://127.0.0.1:8768/#/experiments/1555\n",
      "🏃 View run IR_2025-03-05 at: http://127.0.0.1:8768/#/experiments/1555/runs/4e35f67201a543309311d977ecf70e61\n",
      "🧪 View experiment at: http://127.0.0.1:8768/#/experiments/1555\n",
      "🏃 View run IR_2025-03-06 at: http://127.0.0.1:8768/#/experiments/1555/runs/2b1c0d96450c4b959beb3ff577c925a5\n",
      "🧪 View experiment at: http://127.0.0.1:8768/#/experiments/1555\n",
      "using model: GARCH(1,1)_5yrFit\n"
     ]
    },
    {
     "name": "stderr",
     "output_type": "stream",
     "text": [
      "Registered model 'GARCH(1,1)_5yrFit' already exists. Creating a new version of this model...\n",
      "2025/06/24 17:46:43 INFO mlflow.store.model_registry.abstract_store: Waiting up to 300 seconds for model version to finish creation. Model name: GARCH(1,1)_5yrFit, version 219\n",
      "Created version '219' of model 'GARCH(1,1)_5yrFit'.\n"
     ]
    },
    {
     "name": "stdout",
     "output_type": "stream",
     "text": [
      "🏃 View run IR_2025-02-06 at: http://127.0.0.1:8768/#/experiments/1555/runs/54c3772ee894403698d23319b6db21d8\n",
      "🧪 View experiment at: http://127.0.0.1:8768/#/experiments/1555\n",
      "⏭️  Skipping 2025-03-08: no exact curve_date in pivot\n",
      "⏭️  Skipping 2025-03-09: no exact curve_date in pivot\n",
      "using model: GARCH(1,1)_5yrFit\n"
     ]
    },
    {
     "name": "stderr",
     "output_type": "stream",
     "text": [
      "Registered model 'GARCH(1,1)_5yrFit' already exists. Creating a new version of this model...\n",
      "2025/06/24 17:46:57 INFO mlflow.store.model_registry.abstract_store: Waiting up to 300 seconds for model version to finish creation. Model name: GARCH(1,1)_5yrFit, version 220\n",
      "Created version '220' of model 'GARCH(1,1)_5yrFit'.\n"
     ]
    },
    {
     "name": "stdout",
     "output_type": "stream",
     "text": [
      "🏃 View run IR_2025-02-11 at: http://127.0.0.1:8768/#/experiments/1555/runs/924844b385854ce288801213c482e17a\n",
      "🧪 View experiment at: http://127.0.0.1:8768/#/experiments/1555\n",
      "using model: GARCH(1,1)_5yrFit\n"
     ]
    },
    {
     "name": "stderr",
     "output_type": "stream",
     "text": [
      "Registered model 'GARCH(1,1)_5yrFit' already exists. Creating a new version of this model...\n",
      "Registered model 'GARCH(1,1)_5yrFit' already exists. Creating a new version of this model...\n",
      "2025/06/24 17:47:00 INFO mlflow.store.model_registry.abstract_store: Waiting up to 300 seconds for model version to finish creation. Model name: GARCH(1,1)_5yrFit, version 221\n",
      "Created version '221' of model 'GARCH(1,1)_5yrFit'.\n",
      "2025/06/24 17:47:00 INFO mlflow.store.model_registry.abstract_store: Waiting up to 300 seconds for model version to finish creation. Model name: GARCH(1,1)_5yrFit, version 222\n",
      "Created version '222' of model 'GARCH(1,1)_5yrFit'.\n"
     ]
    },
    {
     "name": "stdout",
     "output_type": "stream",
     "text": [
      "🏃 View run IR_2025-02-10 at: http://127.0.0.1:8768/#/experiments/1555/runs/b2746bb84d824ef6aa73643e1ec6950e\n",
      "🧪 View experiment at: http://127.0.0.1:8768/#/experiments/1555\n"
     ]
    },
    {
     "name": "stderr",
     "output_type": "stream",
     "text": [
      "Registered model 'GARCH(1,1)_5yrFit' already exists. Creating a new version of this model...\n"
     ]
    },
    {
     "name": "stdout",
     "output_type": "stream",
     "text": [
      "🏃 View run IR_2025-02-12 at: http://127.0.0.1:8768/#/experiments/1555/runs/da2c7e86bcd8485680ca167476eec071\n",
      "🧪 View experiment at: http://127.0.0.1:8768/#/experiments/1555\n"
     ]
    },
    {
     "name": "stderr",
     "output_type": "stream",
     "text": [
      "Registered model 'GARCH(1,1)_5yrFit' already exists. Creating a new version of this model...\n",
      "Registered model 'GARCH(1,1)_5yrFit' already exists. Creating a new version of this model...\n",
      "2025/06/24 17:47:01 INFO mlflow.store.model_registry.abstract_store: Waiting up to 300 seconds for model version to finish creation. Model name: GARCH(1,1)_5yrFit, version 223\n",
      "Created version '223' of model 'GARCH(1,1)_5yrFit'.\n",
      "Registered model 'GARCH(1,1)_5yrFit' already exists. Creating a new version of this model...\n",
      "2025/06/24 17:47:03 INFO mlflow.store.model_registry.abstract_store: Waiting up to 300 seconds for model version to finish creation. Model name: GARCH(1,1)_5yrFit, version 224\n",
      "Registered model 'GARCH(1,1)_5yrFit' already exists. Creating a new version of this model...Created version '224' of model 'GARCH(1,1)_5yrFit'.\n",
      "2025/06/24 17:47:03 INFO mlflow.store.model_registry.abstract_store: Waiting up to 300 seconds for model version to finish creation. Model name: GARCH(1,1)_5yrFit, version 225\n",
      "\n",
      "Created version '225' of model 'GARCH(1,1)_5yrFit'.\n"
     ]
    },
    {
     "name": "stdout",
     "output_type": "stream",
     "text": [
      "🏃 View run IR_2025-02-28 at: http://127.0.0.1:8768/#/experiments/1555/runs/599a6463617a4d24a9c81d9c84a33140\n",
      "🧪 View experiment at: http://127.0.0.1:8768/#/experiments/1555\n",
      "using model: GARCH(1,1)_5yrFit\n",
      "using model: GARCH(1,1)_5yrFit\n"
     ]
    },
    {
     "name": "stderr",
     "output_type": "stream",
     "text": [
      "2025/06/24 17:47:04 INFO mlflow.store.model_registry.abstract_store: Waiting up to 300 seconds for model version to finish creation. Model name: GARCH(1,1)_5yrFit, version 226\n",
      "Created version '226' of model 'GARCH(1,1)_5yrFit'.\n",
      "2025/06/24 17:47:04 INFO mlflow.store.model_registry.abstract_store: Waiting up to 300 seconds for model version to finish creation. Model name: GARCH(1,1)_5yrFit, version 227\n",
      "Created version '227' of model 'GARCH(1,1)_5yrFit'.\n"
     ]
    },
    {
     "name": "stdout",
     "output_type": "stream",
     "text": [
      "🏃 View run IR_2025-02-24 at: http://127.0.0.1:8768/#/experiments/1555/runs/cc301fe36b1c4d74beb98ddb3967867b\n",
      "🧪 View experiment at: http://127.0.0.1:8768/#/experiments/1555\n",
      "using model: GARCH(1,1)_5yrFit\n",
      "🏃 View run IR_2025-03-03 at: http://127.0.0.1:8768/#/experiments/1555/runs/bd2f1398e9244ef29cb99fe04c22c645\n",
      "🧪 View experiment at: http://127.0.0.1:8768/#/experiments/1555\n",
      "🏃 View run IR_2025-03-04 at: http://127.0.0.1:8768/#/experiments/1555/runs/0b50c9abfdf34e798db020a460ed7e24\n",
      "🧪 View experiment at: http://127.0.0.1:8768/#/experiments/1555\n",
      "🏃 View run IR_2025-02-13 at: http://127.0.0.1:8768/#/experiments/1555/runs/addd5d196ca24ab492e5fa73382895b6\n",
      "🧪 View experiment at: http://127.0.0.1:8768/#/experiments/1555\n",
      "⏭️  Skipping 2025-03-16: no exact curve_date in pivot\n",
      "⏭️  Skipping 2025-03-15: no exact curve_date in pivot\n",
      "using model: GARCH(1,1)_5yrFit\n",
      "using model: GARCH(1,1)_5yrFit\n",
      "using model: GARCH(1,1)_5yrFit\n",
      "using model: GARCH(1,1)_5yrFit\n"
     ]
    },
    {
     "name": "stderr",
     "output_type": "stream",
     "text": [
      "/mnt/artifacts/.domino/.persistence/packages/venv/lib/python3.10/site-packages/arch/univariate/base.py:768: ConvergenceWarning: The optimizer returned code 8. The message is:\n",
      "Positive directional derivative for linesearch\n",
      "See scipy.optimize.fmin_slsqp for code meaning.\n",
      "\n",
      "  warnings.warn(\n",
      "2025/06/24 17:47:37 INFO mlflow.models.model: Found the following environment variables used during model inference: [DOMINO_USER_API_KEY]. Please check if you need to set them when deploying the model. To disable this message, set environment variable `MLFLOW_RECORD_ENV_VARS_IN_MODEL_LOGGING` to `false`.\n",
      "Registered model 'GARCH(1,1)_5yrFit' already exists. Creating a new version of this model...\n",
      "Registered model 'GARCH(1,1)_5yrFit' already exists. Creating a new version of this model...\n",
      "2025/06/24 17:47:38 INFO mlflow.models.model: Found the following environment variables used during model inference: [DOMINO_USER_API_KEY]. Please check if you need to set them when deploying the model. To disable this message, set environment variable `MLFLOW_RECORD_ENV_VARS_IN_MODEL_LOGGING` to `false`.\n",
      "2025/06/24 17:47:39 INFO mlflow.store.model_registry.abstract_store: Waiting up to 300 seconds for model version to finish creation. Model name: GARCH(1,1)_5yrFit, version 228\n",
      "Created version '228' of model 'GARCH(1,1)_5yrFit'.\n",
      "2025/06/24 17:47:39 INFO mlflow.store.model_registry.abstract_store: Waiting up to 300 seconds for model version to finish creation. Model name: GARCH(1,1)_5yrFit, version 229\n",
      "Created version '229' of model 'GARCH(1,1)_5yrFit'.\n",
      "Registered model 'GARCH(1,1)_5yrFit' already exists. Creating a new version of this model...\n"
     ]
    },
    {
     "name": "stdout",
     "output_type": "stream",
     "text": [
      "🏃 View run IR_2025-03-07 at: http://127.0.0.1:8768/#/experiments/1555/runs/ca128ca4f5b64e039394cb2adabccca3\n",
      "🧪 View experiment at: http://127.0.0.1:8768/#/experiments/1555\n",
      "🏃 View run IR_2025-03-06 at: http://127.0.0.1:8768/#/experiments/1555/runs/6362e8fd3ac74b98b06c77adf60d03aa\n",
      "🧪 View experiment at: http://127.0.0.1:8768/#/experiments/1555\n"
     ]
    },
    {
     "name": "stderr",
     "output_type": "stream",
     "text": [
      "2025/06/24 17:47:40 INFO mlflow.store.model_registry.abstract_store: Waiting up to 300 seconds for model version to finish creation. Model name: GARCH(1,1)_5yrFit, version 230\n",
      "Created version '230' of model 'GARCH(1,1)_5yrFit'.\n",
      "Registered model 'GARCH(1,1)_5yrFit' already exists. Creating a new version of this model...\n"
     ]
    },
    {
     "name": "stdout",
     "output_type": "stream",
     "text": [
      "🏃 View run IR_2025-03-05 at: http://127.0.0.1:8768/#/experiments/1555/runs/85a022318fae4bdbb073f346b396c4b4\n",
      "🧪 View experiment at: http://127.0.0.1:8768/#/experiments/1555\n",
      "using model: GARCH(1,1)_5yrFit\n"
     ]
    },
    {
     "name": "stderr",
     "output_type": "stream",
     "text": [
      "2025/06/24 17:47:45 INFO mlflow.store.model_registry.abstract_store: Waiting up to 300 seconds for model version to finish creation. Model name: GARCH(1,1)_5yrFit, version 231\n",
      "Created version '231' of model 'GARCH(1,1)_5yrFit'.\n",
      "Registered model 'GARCH(1,1)_5yrFit' already exists. Creating a new version of this model...\n"
     ]
    },
    {
     "name": "stdout",
     "output_type": "stream",
     "text": [
      "⏭️  Skipping 2025-03-22: no exact curve_date in pivot\n",
      "🏃 View run IR_2025-03-10 at: http://127.0.0.1:8768/#/experiments/1555/runs/3210f423254742fb892917cb3189e5b0\n",
      "🧪 View experiment at: http://127.0.0.1:8768/#/experiments/1555\n"
     ]
    },
    {
     "name": "stderr",
     "output_type": "stream",
     "text": [
      "2025/06/24 17:47:50 INFO mlflow.store.model_registry.abstract_store: Waiting up to 300 seconds for model version to finish creation. Model name: GARCH(1,1)_5yrFit, version 232\n",
      "Created version '232' of model 'GARCH(1,1)_5yrFit'.\n"
     ]
    },
    {
     "name": "stdout",
     "output_type": "stream",
     "text": [
      "⏭️  Skipping 2025-03-23: no exact curve_date in pivot\n",
      "🏃 View run IR_2025-03-11 at: http://127.0.0.1:8768/#/experiments/1555/runs/d449149e1d44425092c8c19eb10ac627\n",
      "🧪 View experiment at: http://127.0.0.1:8768/#/experiments/1555\n",
      "using model: GARCH(1,1)_5yrFit\n"
     ]
    },
    {
     "name": "stderr",
     "output_type": "stream",
     "text": [
      "Registered model 'GARCH(1,1)_5yrFit' already exists. Creating a new version of this model...\n",
      "2025/06/24 17:48:00 INFO mlflow.store.model_registry.abstract_store: Waiting up to 300 seconds for model version to finish creation. Model name: GARCH(1,1)_5yrFit, version 233\n",
      "Created version '233' of model 'GARCH(1,1)_5yrFit'.\n"
     ]
    },
    {
     "name": "stdout",
     "output_type": "stream",
     "text": [
      "🏃 View run IR_2025-03-12 at: http://127.0.0.1:8768/#/experiments/1555/runs/d9aa58876afe4b2885357106bc21c0c3\n",
      "🧪 View experiment at: http://127.0.0.1:8768/#/experiments/1555\n"
     ]
    },
    {
     "name": "stderr",
     "output_type": "stream",
     "text": [
      "Registered model 'GARCH(1,1)_5yrFit' already exists. Creating a new version of this model...\n",
      "Registered model 'GARCH(1,1)_5yrFit' already exists. Creating a new version of this model...\n",
      "Registered model 'GARCH(1,1)_5yrFit' already exists. Creating a new version of this model...\n",
      "Registered model 'GARCH(1,1)_5yrFit' already exists. Creating a new version of this model...\n",
      "Registered model 'GARCH(1,1)_5yrFit' already exists. Creating a new version of this model...\n",
      "Registered model 'GARCH(1,1)_5yrFit' already exists. Creating a new version of this model...\n",
      "2025/06/24 17:48:07 INFO mlflow.store.model_registry.abstract_store: Waiting up to 300 seconds for model version to finish creation. Model name: GARCH(1,1)_5yrFit, version 234\n",
      "Created version '234' of model 'GARCH(1,1)_5yrFit'.\n",
      "2025/06/24 17:48:07 INFO mlflow.store.model_registry.abstract_store: Waiting up to 300 seconds for model version to finish creation. Model name: GARCH(1,1)_5yrFit, version 235\n",
      "Created version '235' of model 'GARCH(1,1)_5yrFit'.\n",
      "2025/06/24 17:48:08 INFO mlflow.store.model_registry.abstract_store: Waiting up to 300 seconds for model version to finish creation. Model name: GARCH(1,1)_5yrFit, version 236\n",
      "Created version '236' of model 'GARCH(1,1)_5yrFit'.\n"
     ]
    },
    {
     "name": "stdout",
     "output_type": "stream",
     "text": [
      "🏃 View run IR_2025-03-13 at: http://127.0.0.1:8768/#/experiments/1555/runs/1e6025b407654fb58da5f4a8582edb97\n",
      "🧪 View experiment at: http://127.0.0.1:8768/#/experiments/1555\n"
     ]
    },
    {
     "name": "stderr",
     "output_type": "stream",
     "text": [
      "2025/06/24 17:48:08 INFO mlflow.store.model_registry.abstract_store: Waiting up to 300 seconds for model version to finish creation. Model name: GARCH(1,1)_5yrFit, version 237\n",
      "Created version '237' of model 'GARCH(1,1)_5yrFit'.\n",
      "2025/06/24 17:48:08 INFO mlflow.store.model_registry.abstract_store: Waiting up to 300 seconds for model version to finish creation. Model name: GARCH(1,1)_5yrFit, version 239\n",
      "Created version '239' of model 'GARCH(1,1)_5yrFit'.\n",
      "2025/06/24 17:48:08 INFO mlflow.store.model_registry.abstract_store: Waiting up to 300 seconds for model version to finish creation. Model name: GARCH(1,1)_5yrFit, version 238\n"
     ]
    },
    {
     "name": "stdout",
     "output_type": "stream",
     "text": [
      "🏃 View run IR_2025-03-17 at: http://127.0.0.1:8768/#/experiments/1555/runs/ce8691f1a6c74d8b96c997e37d3c99f7\n",
      "🧪 View experiment at: http://127.0.0.1:8768/#/experiments/1555\n"
     ]
    },
    {
     "name": "stderr",
     "output_type": "stream",
     "text": [
      "Created version '238' of model 'GARCH(1,1)_5yrFit'.\n"
     ]
    },
    {
     "name": "stdout",
     "output_type": "stream",
     "text": [
      "🏃 View run IR_2025-03-18 at: http://127.0.0.1:8768/#/experiments/1555/runs/0dfe3dcdca8040218a184be06c519841\n",
      "🧪 View experiment at: http://127.0.0.1:8768/#/experiments/1555\n",
      "🏃 View run IR_2025-03-20 at: http://127.0.0.1:8768/#/experiments/1555/runs/b42a41b114ed4f989cf1518c750adbe7\n",
      "🧪 View experiment at: http://127.0.0.1:8768/#/experiments/1555\n",
      "🏃 View run IR_2025-03-19 at: http://127.0.0.1:8768/#/experiments/1555/runs/a46682bc180749b7ae91a9cf296d7141\n",
      "🧪 View experiment at: http://127.0.0.1:8768/#/experiments/1555\n",
      "🏃 View run IR_2025-03-14 at: http://127.0.0.1:8768/#/experiments/1555/runs/351544ae6f6e4f828408222f5b291822\n",
      "🧪 View experiment at: http://127.0.0.1:8768/#/experiments/1555\n"
     ]
    },
    {
     "name": "stderr",
     "output_type": "stream",
     "text": [
      "/mnt/artifacts/.domino/.persistence/packages/venv/lib/python3.10/site-packages/arch/univariate/base.py:768: ConvergenceWarning: The optimizer returned code 8. The message is:\n",
      "Positive directional derivative for linesearch\n",
      "See scipy.optimize.fmin_slsqp for code meaning.\n",
      "\n",
      "  warnings.warn(\n",
      "2025/06/24 17:48:40 INFO mlflow.models.model: Found the following environment variables used during model inference: [DOMINO_USER_API_KEY]. Please check if you need to set them when deploying the model. To disable this message, set environment variable `MLFLOW_RECORD_ENV_VARS_IN_MODEL_LOGGING` to `false`.\n",
      "2025/06/24 17:48:40 INFO mlflow.models.model: Found the following environment variables used during model inference: [DOMINO_USER_API_KEY]. Please check if you need to set them when deploying the model. To disable this message, set environment variable `MLFLOW_RECORD_ENV_VARS_IN_MODEL_LOGGING` to `false`.\n",
      "2025/06/24 17:48:40 INFO mlflow.models.model: Found the following environment variables used during model inference: [DOMINO_USER_API_KEY]. Please check if you need to set them when deploying the model. To disable this message, set environment variable `MLFLOW_RECORD_ENV_VARS_IN_MODEL_LOGGING` to `false`.\n",
      "2025/06/24 17:48:41 INFO mlflow.models.model: Found the following environment variables used during model inference: [DOMINO_USER_API_KEY]. Please check if you need to set them when deploying the model. To disable this message, set environment variable `MLFLOW_RECORD_ENV_VARS_IN_MODEL_LOGGING` to `false`.\n",
      "Registered model 'GARCH(1,1)_5yrFit' already exists. Creating a new version of this model...\n",
      "Registered model 'GARCH(1,1)_5yrFit' already exists. Creating a new version of this model...\n",
      "Registered model 'GARCH(1,1)_5yrFit' already exists. Creating a new version of this model...\n",
      "Registered model 'GARCH(1,1)_5yrFit' already exists. Creating a new version of this model...\n",
      "Registered model 'GARCH(1,1)_5yrFit' already exists. Creating a new version of this model...\n",
      "2025/06/24 17:48:45 INFO mlflow.store.model_registry.abstract_store: Waiting up to 300 seconds for model version to finish creation. Model name: GARCH(1,1)_5yrFit, version 240\n",
      "Created version '240' of model 'GARCH(1,1)_5yrFit'.\n",
      "Registered model 'GARCH(1,1)_5yrFit' already exists. Creating a new version of this model...\n",
      "2025/06/24 17:48:45 INFO mlflow.store.model_registry.abstract_store: Waiting up to 300 seconds for model version to finish creation. Model name: GARCH(1,1)_5yrFit, version 241\n",
      "Created version '241' of model 'GARCH(1,1)_5yrFit'.\n",
      "2025/06/24 17:48:45 INFO mlflow.store.model_registry.abstract_store: Waiting up to 300 seconds for model version to finish creation. Model name: GARCH(1,1)_5yrFit, version 242\n",
      "Created version '242' of model 'GARCH(1,1)_5yrFit'.\n",
      "2025/06/24 17:48:45 INFO mlflow.store.model_registry.abstract_store: Waiting up to 300 seconds for model version to finish creation. Model name: GARCH(1,1)_5yrFit, version 244\n",
      "Created version '244' of model 'GARCH(1,1)_5yrFit'.\n",
      "2025/06/24 17:48:45 INFO mlflow.store.model_registry.abstract_store: Waiting up to 300 seconds for model version to finish creation. Model name: GARCH(1,1)_5yrFit, version 243\n",
      "Created version '243' of model 'GARCH(1,1)_5yrFit'.\n",
      "2025/06/24 17:48:46 INFO mlflow.store.model_registry.abstract_store: Waiting up to 300 seconds for model version to finish creation. Model name: GARCH(1,1)_5yrFit, version 245\n"
     ]
    },
    {
     "name": "stdout",
     "output_type": "stream",
     "text": [
      "🏃 View run IR_2025-03-24 at: http://127.0.0.1:8768/#/experiments/1555/runs/f0c46142ab774eec81e616d1098215f3\n",
      "🧪 View experiment at: http://127.0.0.1:8768/#/experiments/1555\n",
      "🏃 View run IR_2025-03-12 at: http://127.0.0.1:8768/#/experiments/1555/runs/b3d6ce54e4a74947af1977ce894ad027\n",
      "🧪 View experiment at: http://127.0.0.1:8768/#/experiments/1555\n",
      "🏃 View run IR_2025-03-07 at: http://127.0.0.1:8768/#/experiments/1555/runs/2f3b3e2e980a44ca95b78f5ae0d5eaa8\n",
      "🧪 View experiment at: http://127.0.0.1:8768/#/experiments/1555\n"
     ]
    },
    {
     "name": "stderr",
     "output_type": "stream",
     "text": [
      "Created version '245' of model 'GARCH(1,1)_5yrFit'.\n"
     ]
    },
    {
     "name": "stdout",
     "output_type": "stream",
     "text": [
      "🏃 View run IR_2025-03-21 at: http://127.0.0.1:8768/#/experiments/1555/runs/b651c56c06d24749aa25c0573c90b47a\n",
      "🧪 View experiment at: http://127.0.0.1:8768/#/experiments/1555\n",
      "🏃 View run IR_2025-03-10 at: http://127.0.0.1:8768/#/experiments/1555/runs/ad103bb0ff6d499eb920f3055a57adcb\n",
      "🧪 View experiment at: http://127.0.0.1:8768/#/experiments/1555\n",
      "🏃 View run IR_2025-03-11 at: http://127.0.0.1:8768/#/experiments/1555/runs/1b180c7f4eef4b98b4bd016486788965\n",
      "🧪 View experiment at: http://127.0.0.1:8768/#/experiments/1555\n",
      "using model: GARCH(1,1)_5yrFit\n",
      "using model: GARCH(1,1)_5yrFit\n",
      "using model: GARCH(1,1)_5yrFit\n",
      "using model: GARCH(1,1)_5yrFit\n"
     ]
    },
    {
     "name": "stderr",
     "output_type": "stream",
     "text": [
      "Registered model 'GARCH(1,1)_5yrFit' already exists. Creating a new version of this model...\n",
      "Registered model 'GARCH(1,1)_5yrFit' already exists. Creating a new version of this model...\n",
      "Registered model 'GARCH(1,1)_5yrFit' already exists. Creating a new version of this model...\n",
      "Registered model 'GARCH(1,1)_5yrFit' already exists. Creating a new version of this model...\n",
      "Registered model 'GARCH(1,1)_5yrFit' already exists. Creating a new version of this model...\n",
      "2025/06/24 17:49:12 INFO mlflow.store.model_registry.abstract_store: Waiting up to 300 seconds for model version to finish creation. Model name: GARCH(1,1)_5yrFit, version 246\n",
      "Created version '246' of model 'GARCH(1,1)_5yrFit'.\n",
      "2025/06/24 17:49:13 INFO mlflow.store.model_registry.abstract_store: Waiting up to 300 seconds for model version to finish creation. Model name: GARCH(1,1)_5yrFit, version 247\n",
      "Created version '247' of model 'GARCH(1,1)_5yrFit'.\n",
      "2025/06/24 17:49:13 INFO mlflow.store.model_registry.abstract_store: Waiting up to 300 seconds for model version to finish creation. Model name: GARCH(1,1)_5yrFit, version 248\n",
      "Registered model 'GARCH(1,1)_5yrFit' already exists. Creating a new version of this model...Created version '248' of model 'GARCH(1,1)_5yrFit'.\n",
      "\n",
      "2025/06/24 17:49:13 INFO mlflow.store.model_registry.abstract_store: Waiting up to 300 seconds for model version to finish creation. Model name: GARCH(1,1)_5yrFit, version 249\n",
      "Created version '249' of model 'GARCH(1,1)_5yrFit'.\n",
      "2025/06/24 17:49:13 INFO mlflow.store.model_registry.abstract_store: Waiting up to 300 seconds for model version to finish creation. Model name: GARCH(1,1)_5yrFit, version 250\n",
      "Created version '250' of model 'GARCH(1,1)_5yrFit'.\n"
     ]
    },
    {
     "name": "stdout",
     "output_type": "stream",
     "text": [
      "🏃 View run IR_2025-03-14 at: http://127.0.0.1:8768/#/experiments/1555/runs/9f6b296b0ee74966b2e38a3d17fc81ac\n",
      "🧪 View experiment at: http://127.0.0.1:8768/#/experiments/1555\n",
      "🏃 View run IR_2025-03-20 at: http://127.0.0.1:8768/#/experiments/1555/runs/73e6a32a39c74183bf882c77cd6811fc\n",
      "🧪 View experiment at: http://127.0.0.1:8768/#/experiments/1555\n",
      "🏃 View run IR_2025-03-13 at: http://127.0.0.1:8768/#/experiments/1555/runs/82acc550503d4abf9b0849c3b190840b\n",
      "🧪 View experiment at: http://127.0.0.1:8768/#/experiments/1555\n",
      "🏃 View run IR_2025-03-19 at: http://127.0.0.1:8768/#/experiments/1555/runs/89724961465944579be124ea01980d6e\n",
      "🧪 View experiment at: http://127.0.0.1:8768/#/experiments/1555\n",
      "🏃 View run IR_2025-03-18 at: http://127.0.0.1:8768/#/experiments/1555/runs/421bf8697d9847c895800d6eba6d93bf\n",
      "🧪 View experiment at: http://127.0.0.1:8768/#/experiments/1555\n"
     ]
    },
    {
     "name": "stderr",
     "output_type": "stream",
     "text": [
      "2025/06/24 17:49:14 INFO mlflow.store.model_registry.abstract_store: Waiting up to 300 seconds for model version to finish creation. Model name: GARCH(1,1)_5yrFit, version 251\n",
      "Created version '251' of model 'GARCH(1,1)_5yrFit'.\n"
     ]
    },
    {
     "name": "stdout",
     "output_type": "stream",
     "text": [
      "🏃 View run IR_2025-03-17 at: http://127.0.0.1:8768/#/experiments/1555/runs/6954ff3d05ee4976bb45050a67c81a1f\n",
      "🧪 View experiment at: http://127.0.0.1:8768/#/experiments/1555\n",
      "⏭️  Skipping 2025-03-29: no exact curve_date in pivot\n",
      "⏭️  Skipping 2025-03-30: no exact curve_date in pivot\n",
      "using model: GARCH(1,1)_5yrFit\n",
      "using model: GARCH(1,1)_5yrFit\n",
      "using model: GARCH(1,1)_5yrFit\n",
      "using model: GARCH(1,1)_5yrFit\n",
      "⏭️  Skipping 2025-04-05: no exact curve_date in pivot\n",
      "using model: GARCH(1,1)_5yrFit\n",
      "⏭️  Skipping 2025-04-06: no exact curve_date in pivot\n",
      "using model: GARCH(1,1)_5yrFit\n"
     ]
    },
    {
     "name": "stderr",
     "output_type": "stream",
     "text": [
      "Registered model 'GARCH(1,1)_5yrFit' already exists. Creating a new version of this model...\n",
      "Registered model 'GARCH(1,1)_5yrFit' already exists. Creating a new version of this model...\n",
      "Registered model 'GARCH(1,1)_5yrFit' already exists. Creating a new version of this model...\n",
      "Registered model 'GARCH(1,1)_5yrFit' already exists. Creating a new version of this model...\n",
      "Registered model 'GARCH(1,1)_5yrFit' already exists. Creating a new version of this model...\n",
      "2025/06/24 17:49:49 INFO mlflow.store.model_registry.abstract_store: Waiting up to 300 seconds for model version to finish creation. Model name: GARCH(1,1)_5yrFit, version 252\n",
      "Created version '252' of model 'GARCH(1,1)_5yrFit'.\n",
      "2025/06/24 17:49:49 INFO mlflow.store.model_registry.abstract_store: Waiting up to 300 seconds for model version to finish creation. Model name: GARCH(1,1)_5yrFit, version 253\n",
      "Created version '253' of model 'GARCH(1,1)_5yrFit'.\n",
      "2025/06/24 17:49:49 INFO mlflow.store.model_registry.abstract_store: Waiting up to 300 seconds for model version to finish creation. Model name: GARCH(1,1)_5yrFit, version 254\n",
      "Created version '254' of model 'GARCH(1,1)_5yrFit'.\n",
      "Registered model 'GARCH(1,1)_5yrFit' already exists. Creating a new version of this model...2025/06/24 17:49:49 INFO mlflow.store.model_registry.abstract_store: Waiting up to 300 seconds for model version to finish creation. Model name: GARCH(1,1)_5yrFit, version 255\n",
      "\n",
      "Created version '255' of model 'GARCH(1,1)_5yrFit'.\n",
      "2025/06/24 17:49:49 INFO mlflow.store.model_registry.abstract_store: Waiting up to 300 seconds for model version to finish creation. Model name: GARCH(1,1)_5yrFit, version 256\n"
     ]
    },
    {
     "name": "stdout",
     "output_type": "stream",
     "text": [
      "🏃 View run IR_2025-03-26 at: http://127.0.0.1:8768/#/experiments/1555/runs/179bd9a3d5cd4cd69623d6cfc0f9c6d0\n",
      "🧪 View experiment at: http://127.0.0.1:8768/#/experiments/1555\n",
      "🏃 View run IR_2025-03-25 at: http://127.0.0.1:8768/#/experiments/1555/runs/b256e669d5d643db82e3a8a17313343f\n",
      "🧪 View experiment at: http://127.0.0.1:8768/#/experiments/1555\n"
     ]
    },
    {
     "name": "stderr",
     "output_type": "stream",
     "text": [
      "Created version '256' of model 'GARCH(1,1)_5yrFit'.\n"
     ]
    },
    {
     "name": "stdout",
     "output_type": "stream",
     "text": [
      "🏃 View run IR_2025-03-21 at: http://127.0.0.1:8768/#/experiments/1555/runs/5eec6e9c3cab41a7b1d5edf13fd28e13\n",
      "🧪 View experiment at: http://127.0.0.1:8768/#/experiments/1555\n"
     ]
    },
    {
     "name": "stderr",
     "output_type": "stream",
     "text": [
      "2025/06/24 17:49:50 INFO mlflow.store.model_registry.abstract_store: Waiting up to 300 seconds for model version to finish creation. Model name: GARCH(1,1)_5yrFit, version 257\n",
      "Created version '257' of model 'GARCH(1,1)_5yrFit'.\n"
     ]
    },
    {
     "name": "stdout",
     "output_type": "stream",
     "text": [
      "🏃 View run IR_2025-03-24 at: http://127.0.0.1:8768/#/experiments/1555/runs/1780e13b400d4d348f17088aaf42d035\n",
      "🧪 View experiment at: http://127.0.0.1:8768/#/experiments/1555\n",
      "🏃 View run IR_2025-03-28 at: http://127.0.0.1:8768/#/experiments/1555/runs/b7187003831a430cab5891f21db45cd2\n",
      "🧪 View experiment at: http://127.0.0.1:8768/#/experiments/1555\n",
      "using model: GARCH(1,1)_5yrFit\n",
      "🏃 View run IR_2025-03-27 at: http://127.0.0.1:8768/#/experiments/1555/runs/c4e8ed983cdf4517b1274f2ef72015b0\n",
      "🧪 View experiment at: http://127.0.0.1:8768/#/experiments/1555\n",
      "using model: GARCH(1,1)_5yrFit\n"
     ]
    },
    {
     "name": "stderr",
     "output_type": "stream",
     "text": [
      "Registered model 'GARCH(1,1)_5yrFit' already exists. Creating a new version of this model...\n",
      "Registered model 'GARCH(1,1)_5yrFit' already exists. Creating a new version of this model...\n",
      "Registered model 'GARCH(1,1)_5yrFit' already exists. Creating a new version of this model...\n",
      "2025/06/24 17:50:23 INFO mlflow.store.model_registry.abstract_store: Waiting up to 300 seconds for model version to finish creation. Model name: GARCH(1,1)_5yrFit, version 258\n",
      "Created version '258' of model 'GARCH(1,1)_5yrFit'.\n",
      "Registered model 'GARCH(1,1)_5yrFit' already exists. Creating a new version of this model...\n",
      "Registered model 'GARCH(1,1)_5yrFit' already exists. Creating a new version of this model...\n",
      "2025/06/24 17:50:23 INFO mlflow.store.model_registry.abstract_store: Waiting up to 300 seconds for model version to finish creation. Model name: GARCH(1,1)_5yrFit, version 259\n",
      "Created version '259' of model 'GARCH(1,1)_5yrFit'.\n",
      "Registered model 'GARCH(1,1)_5yrFit' already exists. Creating a new version of this model...\n",
      "2025/06/24 17:50:24 INFO mlflow.store.model_registry.abstract_store: Waiting up to 300 seconds for model version to finish creation. Model name: GARCH(1,1)_5yrFit, version 260\n",
      "Created version '260' of model 'GARCH(1,1)_5yrFit'.\n",
      "2025/06/24 17:50:25 INFO mlflow.store.model_registry.abstract_store: Waiting up to 300 seconds for model version to finish creation. Model name: GARCH(1,1)_5yrFit, version 262\n",
      "Created version '262' of model 'GARCH(1,1)_5yrFit'.\n",
      "2025/06/24 17:50:25 INFO mlflow.store.model_registry.abstract_store: Waiting up to 300 seconds for model version to finish creation. Model name: GARCH(1,1)_5yrFit, version 261\n",
      "Created version '261' of model 'GARCH(1,1)_5yrFit'.\n"
     ]
    },
    {
     "name": "stdout",
     "output_type": "stream",
     "text": [
      "🏃 View run IR_2025-03-31 at: http://127.0.0.1:8768/#/experiments/1555/runs/5ad0f7b013df41f7851af6c0dd92f451\n",
      "🧪 View experiment at: http://127.0.0.1:8768/#/experiments/1555\n"
     ]
    },
    {
     "name": "stderr",
     "output_type": "stream",
     "text": [
      "2025/06/24 17:50:25 INFO mlflow.store.model_registry.abstract_store: Waiting up to 300 seconds for model version to finish creation. Model name: GARCH(1,1)_5yrFit, version 263\n"
     ]
    },
    {
     "name": "stdout",
     "output_type": "stream",
     "text": [
      "🏃 View run IR_2025-04-01 at: http://127.0.0.1:8768/#/experiments/1555/runs/bf7a9f41b7064ec7805b3d2185b6232c\n",
      "🧪 View experiment at: http://127.0.0.1:8768/#/experiments/1555\n"
     ]
    },
    {
     "name": "stderr",
     "output_type": "stream",
     "text": [
      "Created version '263' of model 'GARCH(1,1)_5yrFit'.\n"
     ]
    },
    {
     "name": "stdout",
     "output_type": "stream",
     "text": [
      "🏃 View run IR_2025-04-07 at: http://127.0.0.1:8768/#/experiments/1555/runs/2da4c3221c5a4e639394943220d060de\n",
      "🧪 View experiment at: http://127.0.0.1:8768/#/experiments/1555\n",
      "🏃 View run IR_2025-04-03 at: http://127.0.0.1:8768/#/experiments/1555/runs/3e42b212fa694158b50a06ef7912748a\n",
      "🧪 View experiment at: http://127.0.0.1:8768/#/experiments/1555\n",
      "🏃 View run IR_2025-04-04 at: http://127.0.0.1:8768/#/experiments/1555/runs/a98d46c485d0486f860f87dc7b7f3ee0\n",
      "🧪 View experiment at: http://127.0.0.1:8768/#/experiments/1555\n"
     ]
    },
    {
     "name": "stderr",
     "output_type": "stream",
     "text": [
      "/tmp/ipykernel_466/2289731576.py:91: UserWarning: Creating legend with loc=\"best\" can be slow with large amounts of data.\n",
      "  plt.savefig(fn, dpi=150)\n"
     ]
    },
    {
     "name": "stdout",
     "output_type": "stream",
     "text": [
      "🏃 View run IR_2025-04-02 at: http://127.0.0.1:8768/#/experiments/1555/runs/c91ed3b5c98846d3b065316cd4f3638a\n",
      "🧪 View experiment at: http://127.0.0.1:8768/#/experiments/1555\n"
     ]
    },
    {
     "name": "stderr",
     "output_type": "stream",
     "text": [
      "/tmp/ipykernel_466/2289731576.py:91: UserWarning: Creating legend with loc=\"best\" can be slow with large amounts of data.\n",
      "  plt.savefig(fn, dpi=150)\n",
      "Registered model 'GARCH(1,1)_5yrFit' already exists. Creating a new version of this model...\n",
      "Registered model 'GARCH(1,1)_5yrFit' already exists. Creating a new version of this model...\n",
      "Registered model 'GARCH(1,1)_5yrFit' already exists. Creating a new version of this model...\n",
      "Registered model 'GARCH(1,1)_5yrFit' already exists. Creating a new version of this model...\n",
      "2025/06/24 17:50:55 INFO mlflow.store.model_registry.abstract_store: Waiting up to 300 seconds for model version to finish creation. Model name: GARCH(1,1)_5yrFit, version 264\n",
      "Created version '264' of model 'GARCH(1,1)_5yrFit'.\n",
      "2025/06/24 17:50:55 INFO mlflow.store.model_registry.abstract_store: Waiting up to 300 seconds for model version to finish creation. Model name: GARCH(1,1)_5yrFit, version 265\n",
      "Created version '265' of model 'GARCH(1,1)_5yrFit'.\n",
      "2025/06/24 17:50:56 INFO mlflow.store.model_registry.abstract_store: Waiting up to 300 seconds for model version to finish creation. Model name: GARCH(1,1)_5yrFit, version 266\n",
      "Created version '266' of model 'GARCH(1,1)_5yrFit'.\n",
      "2025/06/24 17:50:56 INFO mlflow.store.model_registry.abstract_store: Waiting up to 300 seconds for model version to finish creation. Model name: GARCH(1,1)_5yrFit, version 267\n",
      "Created version '267' of model 'GARCH(1,1)_5yrFit'.\n"
     ]
    },
    {
     "name": "stdout",
     "output_type": "stream",
     "text": [
      "🏃 View run IR_2025-03-27 at: http://127.0.0.1:8768/#/experiments/1555/runs/906f679804d94fc09296c558b5ef7a2c\n",
      "🏃 View run IR_2025-03-28 at: http://127.0.0.1:8768/#/experiments/1555/runs/b75577973acf47d5a720e0d91c7b9d94\n",
      "🧪 View experiment at: http://127.0.0.1:8768/#/experiments/1555\n",
      "🧪 View experiment at: http://127.0.0.1:8768/#/experiments/1555\n",
      "🏃 View run IR_2025-04-08 at: http://127.0.0.1:8768/#/experiments/1555/runs/748c13542eef4a63bc0264b5af0bc677\n",
      "🧪 View experiment at: http://127.0.0.1:8768/#/experiments/1555\n",
      "🏃 View run IR_2025-04-09 at: http://127.0.0.1:8768/#/experiments/1555/runs/7d1eac00f97b4f94ad21304e24749dd2\n",
      "🧪 View experiment at: http://127.0.0.1:8768/#/experiments/1555\n",
      "using model: GARCH(1,1)_5yrFit\n",
      "using model: GARCH(1,1)_5yrFit\n"
     ]
    },
    {
     "name": "stderr",
     "output_type": "stream",
     "text": [
      "Registered model 'GARCH(1,1)_5yrFit' already exists. Creating a new version of this model...\n",
      "Registered model 'GARCH(1,1)_5yrFit' already exists. Creating a new version of this model...\n",
      "2025/06/24 17:51:05 INFO mlflow.store.model_registry.abstract_store: Waiting up to 300 seconds for model version to finish creation. Model name: GARCH(1,1)_5yrFit, version 268\n",
      "Created version '268' of model 'GARCH(1,1)_5yrFit'.\n",
      "2025/06/24 17:51:05 INFO mlflow.store.model_registry.abstract_store: Waiting up to 300 seconds for model version to finish creation. Model name: GARCH(1,1)_5yrFit, version 269\n",
      "Created version '269' of model 'GARCH(1,1)_5yrFit'.\n"
     ]
    },
    {
     "name": "stdout",
     "output_type": "stream",
     "text": [
      "🏃 View run IR_2025-03-25 at: http://127.0.0.1:8768/#/experiments/1555/runs/94837eb5dd764ef4ab7c0af179002849\n",
      "🧪 View experiment at: http://127.0.0.1:8768/#/experiments/1555\n",
      "🏃 View run IR_2025-03-26 at: http://127.0.0.1:8768/#/experiments/1555/runs/0abd9fee0cad4da5a2f8d3f55ddb8e77\n",
      "🧪 View experiment at: http://127.0.0.1:8768/#/experiments/1555\n",
      "⏭️  Skipping 2025-04-13: no exact curve_date in pivot⏭️  Skipping 2025-04-12: no exact curve_date in pivot\n",
      "\n",
      "using model: GARCH(1,1)_5yrFit\n",
      "using model: GARCH(1,1)_5yrFit\n"
     ]
    },
    {
     "name": "stderr",
     "output_type": "stream",
     "text": [
      "Registered model 'GARCH(1,1)_5yrFit' already exists. Creating a new version of this model...\n",
      "Registered model 'GARCH(1,1)_5yrFit' already exists. Creating a new version of this model...\n",
      "Registered model 'GARCH(1,1)_5yrFit' already exists. Creating a new version of this model...\n",
      "2025/06/24 17:51:28 INFO mlflow.store.model_registry.abstract_store: Waiting up to 300 seconds for model version to finish creation. Model name: GARCH(1,1)_5yrFit, version 270\n",
      "Created version '270' of model 'GARCH(1,1)_5yrFit'.\n",
      "Registered model 'GARCH(1,1)_5yrFit' already exists. Creating a new version of this model...\n",
      "Registered model 'GARCH(1,1)_5yrFit' already exists. Creating a new version of this model...\n",
      "2025/06/24 17:51:28 INFO mlflow.store.model_registry.abstract_store: Waiting up to 300 seconds for model version to finish creation. Model name: GARCH(1,1)_5yrFit, version 271\n",
      "Created version '271' of model 'GARCH(1,1)_5yrFit'.\n",
      "Registered model 'GARCH(1,1)_5yrFit' already exists. Creating a new version of this model...\n",
      "2025/06/24 17:51:29 INFO mlflow.store.model_registry.abstract_store: Waiting up to 300 seconds for model version to finish creation. Model name: GARCH(1,1)_5yrFit, version 273\n",
      "Created version '273' of model 'GARCH(1,1)_5yrFit'.\n",
      "2025/06/24 17:51:29 INFO mlflow.store.model_registry.abstract_store: Waiting up to 300 seconds for model version to finish creation. Model name: GARCH(1,1)_5yrFit, version 272\n",
      "Created version '272' of model 'GARCH(1,1)_5yrFit'.\n",
      "2025/06/24 17:51:29 INFO mlflow.store.model_registry.abstract_store: Waiting up to 300 seconds for model version to finish creation. Model name: GARCH(1,1)_5yrFit, version 274\n"
     ]
    },
    {
     "name": "stdout",
     "output_type": "stream",
     "text": [
      "🏃 View run IR_2025-04-02 at: http://127.0.0.1:8768/#/experiments/1555/runs/19f1bfbdf0f4410095d4d0816706be73\n",
      "🧪 View experiment at: http://127.0.0.1:8768/#/experiments/1555\n"
     ]
    },
    {
     "name": "stderr",
     "output_type": "stream",
     "text": [
      "Created version '274' of model 'GARCH(1,1)_5yrFit'.\n",
      "2025/06/24 17:51:29 INFO mlflow.store.model_registry.abstract_store: Waiting up to 300 seconds for model version to finish creation. Model name: GARCH(1,1)_5yrFit, version 275\n",
      "Created version '275' of model 'GARCH(1,1)_5yrFit'.\n"
     ]
    },
    {
     "name": "stdout",
     "output_type": "stream",
     "text": [
      "🏃 View run IR_2025-04-03 at: http://127.0.0.1:8768/#/experiments/1555/runs/4311fae0d5594e76a6b994b031924c04\n",
      "🧪 View experiment at: http://127.0.0.1:8768/#/experiments/1555\n",
      "🏃 View run IR_2025-04-07 at: http://127.0.0.1:8768/#/experiments/1555/runs/24db78e783a14ace9dc8f112d4ac2d8d\n",
      "🧪 View experiment at: http://127.0.0.1:8768/#/experiments/1555\n",
      "🏃 View run IR_2025-04-01 at: http://127.0.0.1:8768/#/experiments/1555/runs/7692c86df0144dbd9fdc80389a3cca92\n",
      "🧪 View experiment at: http://127.0.0.1:8768/#/experiments/1555\n",
      "🏃 View run IR_2025-03-31 at: http://127.0.0.1:8768/#/experiments/1555/runs/179136db81bc4975b66de7a14494a577\n",
      "🧪 View experiment at: http://127.0.0.1:8768/#/experiments/1555\n",
      "🏃 View run IR_2025-04-04 at: http://127.0.0.1:8768/#/experiments/1555/runs/d79b6f39d9744099a1ef019f70eb9fa9\n",
      "🧪 View experiment at: http://127.0.0.1:8768/#/experiments/1555\n",
      "using model: GARCH(1,1)_5yrFit\n",
      "using model: GARCH(1,1)_5yrFit\n",
      "⏭️  Skipping 2025-04-20: no exact curve_date in pivot\n",
      "⏭️  Skipping 2025-04-19: no exact curve_date in pivot\n",
      "⏭️  Skipping 2025-04-18: no exact curve_date in pivot\n",
      "using model: GARCH(1,1)_5yrFit\n",
      "using model: GARCH(1,1)_5yrFit\n",
      "using model: GARCH(1,1)_5yrFit\n",
      "using model: GARCH(1,1)_5yrFit\n"
     ]
    },
    {
     "name": "stderr",
     "output_type": "stream",
     "text": [
      "Registered model 'GARCH(1,1)_5yrFit' already exists. Creating a new version of this model...\n",
      "Registered model 'GARCH(1,1)_5yrFit' already exists. Creating a new version of this model...\n",
      "Registered model 'GARCH(1,1)_5yrFit' already exists. Creating a new version of this model...\n",
      "Registered model 'GARCH(1,1)_5yrFit' already exists. Creating a new version of this model...\n",
      "Registered model 'GARCH(1,1)_5yrFit' already exists. Creating a new version of this model...\n",
      "2025/06/24 17:52:02 INFO mlflow.store.model_registry.abstract_store: Waiting up to 300 seconds for model version to finish creation. Model name: GARCH(1,1)_5yrFit, version 276\n",
      "Created version '276' of model 'GARCH(1,1)_5yrFit'.\n",
      "Registered model 'GARCH(1,1)_5yrFit' already exists. Creating a new version of this model...\n",
      "2025/06/24 17:52:02 INFO mlflow.store.model_registry.abstract_store: Waiting up to 300 seconds for model version to finish creation. Model name: GARCH(1,1)_5yrFit, version 277\n",
      "Created version '277' of model 'GARCH(1,1)_5yrFit'.\n",
      "2025/06/24 17:52:02 INFO mlflow.store.model_registry.abstract_store: Waiting up to 300 seconds for model version to finish creation. Model name: GARCH(1,1)_5yrFit, version 278\n",
      "Created version '278' of model 'GARCH(1,1)_5yrFit'.\n",
      "2025/06/24 17:52:02 INFO mlflow.store.model_registry.abstract_store: Waiting up to 300 seconds for model version to finish creation. Model name: GARCH(1,1)_5yrFit, version 279\n",
      "Created version '279' of model 'GARCH(1,1)_5yrFit'.\n",
      "2025/06/24 17:52:02 INFO mlflow.store.model_registry.abstract_store: Waiting up to 300 seconds for model version to finish creation. Model name: GARCH(1,1)_5yrFit, version 280\n",
      "Created version '280' of model 'GARCH(1,1)_5yrFit'.\n",
      "2025/06/24 17:52:03 INFO mlflow.store.model_registry.abstract_store: Waiting up to 300 seconds for model version to finish creation. Model name: GARCH(1,1)_5yrFit, version 281\n"
     ]
    },
    {
     "name": "stdout",
     "output_type": "stream",
     "text": [
      "🏃 View run IR_2025-04-14 at: http://127.0.0.1:8768/#/experiments/1555/runs/90baf8119bf5466eb6ec7c828f643da0\n",
      "🧪 View experiment at: http://127.0.0.1:8768/#/experiments/1555\n"
     ]
    },
    {
     "name": "stderr",
     "output_type": "stream",
     "text": [
      "Created version '281' of model 'GARCH(1,1)_5yrFit'.\n"
     ]
    },
    {
     "name": "stdout",
     "output_type": "stream",
     "text": [
      "🏃 View run IR_2025-04-11 at: http://127.0.0.1:8768/#/experiments/1555/runs/0c1e5993d64c49b6a8a82e4aaa36cc04\n",
      "🧪 View experiment at: http://127.0.0.1:8768/#/experiments/1555\n",
      "🏃 View run IR_2025-04-10 at: http://127.0.0.1:8768/#/experiments/1555/runs/0cd4bf2318e144599793e4d6e97e482b\n",
      "🧪 View experiment at: http://127.0.0.1:8768/#/experiments/1555\n",
      "🏃 View run IR_2025-04-15 at: http://127.0.0.1:8768/#/experiments/1555/runs/ed8f9abf0cb248bf92bb801e0bbded9d\n",
      "🧪 View experiment at: http://127.0.0.1:8768/#/experiments/1555\n",
      "🏃 View run IR_2025-04-09 at: http://127.0.0.1:8768/#/experiments/1555/runs/e766b9b85c2e4473ba2cb481be878fa3\n",
      "🧪 View experiment at: http://127.0.0.1:8768/#/experiments/1555\n",
      "🏃 View run IR_2025-04-08 at: http://127.0.0.1:8768/#/experiments/1555/runs/edc57ddd2b274016a0cb8135d3936d9b\n",
      "🧪 View experiment at: http://127.0.0.1:8768/#/experiments/1555\n",
      "⏭️  Skipping 2025-04-26: no exact curve_date in pivot\n",
      "using model: GARCH(1,1)_5yrFit\n",
      "⏭️  Skipping 2025-04-27: no exact curve_date in pivot\n",
      "using model: GARCH(1,1)_5yrFit\n",
      "using model: GARCH(1,1)_5yrFit\n"
     ]
    },
    {
     "name": "stderr",
     "output_type": "stream",
     "text": [
      "2025/06/24 17:52:33 INFO mlflow.models.model: Found the following environment variables used during model inference: [DOMINO_USER_API_KEY]. Please check if you need to set them when deploying the model. To disable this message, set environment variable `MLFLOW_RECORD_ENV_VARS_IN_MODEL_LOGGING` to `false`.\n",
      "2025/06/24 17:52:33 INFO mlflow.models.model: Found the following environment variables used during model inference: [DOMINO_USER_API_KEY]. Please check if you need to set them when deploying the model. To disable this message, set environment variable `MLFLOW_RECORD_ENV_VARS_IN_MODEL_LOGGING` to `false`.\n",
      "2025/06/24 17:52:33 INFO mlflow.models.model: Found the following environment variables used during model inference: [DOMINO_USER_API_KEY]. Please check if you need to set them when deploying the model. To disable this message, set environment variable `MLFLOW_RECORD_ENV_VARS_IN_MODEL_LOGGING` to `false`.\n",
      "2025/06/24 17:52:34 INFO mlflow.models.model: Found the following environment variables used during model inference: [DOMINO_USER_API_KEY]. Please check if you need to set them when deploying the model. To disable this message, set environment variable `MLFLOW_RECORD_ENV_VARS_IN_MODEL_LOGGING` to `false`.\n",
      "Registered model 'GARCH(1,1)_5yrFit' already exists. Creating a new version of this model...\n",
      "Registered model 'GARCH(1,1)_5yrFit' already exists. Creating a new version of this model...Registered model 'GARCH(1,1)_5yrFit' already exists. Creating a new version of this model...\n",
      "\n",
      "Registered model 'GARCH(1,1)_5yrFit' already exists. Creating a new version of this model...\n",
      "2025/06/24 17:52:39 INFO mlflow.store.model_registry.abstract_store: Waiting up to 300 seconds for model version to finish creation. Model name: GARCH(1,1)_5yrFit, version 282\n",
      "Created version '282' of model 'GARCH(1,1)_5yrFit'.\n",
      "Registered model 'GARCH(1,1)_5yrFit' already exists. Creating a new version of this model...\n",
      "Registered model 'GARCH(1,1)_5yrFit' already exists. Creating a new version of this model...\n",
      "2025/06/24 17:52:39 INFO mlflow.store.model_registry.abstract_store: Waiting up to 300 seconds for model version to finish creation. Model name: GARCH(1,1)_5yrFit, version 283\n",
      "Created version '283' of model 'GARCH(1,1)_5yrFit'.\n",
      "2025/06/24 17:52:39 INFO mlflow.store.model_registry.abstract_store: Waiting up to 300 seconds for model version to finish creation. Model name: GARCH(1,1)_5yrFit, version 284\n",
      "Created version '284' of model 'GARCH(1,1)_5yrFit'.\n",
      "2025/06/24 17:52:39 INFO mlflow.store.model_registry.abstract_store: Waiting up to 300 seconds for model version to finish creation. Model name: GARCH(1,1)_5yrFit, version 285\n",
      "Created version '285' of model 'GARCH(1,1)_5yrFit'.\n",
      "2025/06/24 17:52:39 INFO mlflow.store.model_registry.abstract_store: Waiting up to 300 seconds for model version to finish creation. Model name: GARCH(1,1)_5yrFit, version 286\n",
      "Created version '286' of model 'GARCH(1,1)_5yrFit'.\n"
     ]
    },
    {
     "name": "stdout",
     "output_type": "stream",
     "text": [
      "🏃 View run IR_2025-04-21 at: http://127.0.0.1:8768/#/experiments/1555/runs/0fe45a5f260f48429cb6dd0a01f22918\n",
      "🧪 View experiment at: http://127.0.0.1:8768/#/experiments/1555\n"
     ]
    },
    {
     "name": "stderr",
     "output_type": "stream",
     "text": [
      "2025/06/24 17:52:40 INFO mlflow.store.model_registry.abstract_store: Waiting up to 300 seconds for model version to finish creation. Model name: GARCH(1,1)_5yrFit, version 287\n"
     ]
    },
    {
     "name": "stdout",
     "output_type": "stream",
     "text": [
      "🏃 View run IR_2025-04-23 at: http://127.0.0.1:8768/#/experiments/1555/runs/47bd66c689514d1dbfc6f45ed21b2e86\n",
      "🧪 View experiment at: http://127.0.0.1:8768/#/experiments/1555\n"
     ]
    },
    {
     "name": "stderr",
     "output_type": "stream",
     "text": [
      "Created version '287' of model 'GARCH(1,1)_5yrFit'.\n"
     ]
    },
    {
     "name": "stdout",
     "output_type": "stream",
     "text": [
      "🏃 View run IR_2025-04-16 at: http://127.0.0.1:8768/#/experiments/1555/runs/d2cebe899ec240bb9205bd0afce5220a\n",
      "🧪 View experiment at: http://127.0.0.1:8768/#/experiments/1555\n",
      "🏃 View run IR_2025-04-17 at: http://127.0.0.1:8768/#/experiments/1555/runs/fba7b00be5a44f109f5de6c439e753ef\n",
      "🧪 View experiment at: http://127.0.0.1:8768/#/experiments/1555\n",
      "🏃 View run IR_2025-04-24 at: http://127.0.0.1:8768/#/experiments/1555/runs/17d5ab9560b24457b37a737e3f274eff\n",
      "🧪 View experiment at: http://127.0.0.1:8768/#/experiments/1555\n",
      "🏃 View run IR_2025-04-22 at: http://127.0.0.1:8768/#/experiments/1555/runs/824d876309984b4e95b1a06db2ce6ea6\n",
      "🧪 View experiment at: http://127.0.0.1:8768/#/experiments/1555\n"
     ]
    },
    {
     "name": "stderr",
     "output_type": "stream",
     "text": [
      "2025/06/24 17:53:05 INFO mlflow.models.model: Found the following environment variables used during model inference: [DOMINO_USER_API_KEY]. Please check if you need to set them when deploying the model. To disable this message, set environment variable `MLFLOW_RECORD_ENV_VARS_IN_MODEL_LOGGING` to `false`.\n",
      "Registered model 'GARCH(1,1)_5yrFit' already exists. Creating a new version of this model...\n",
      "2025/06/24 17:53:10 INFO mlflow.store.model_registry.abstract_store: Waiting up to 300 seconds for model version to finish creation. Model name: GARCH(1,1)_5yrFit, version 288\n",
      "Created version '288' of model 'GARCH(1,1)_5yrFit'.\n",
      "Registered model 'GARCH(1,1)_5yrFit' already exists. Creating a new version of this model...\n",
      "Registered model 'GARCH(1,1)_5yrFit' already exists. Creating a new version of this model...\n",
      "Registered model 'GARCH(1,1)_5yrFit' already exists. Creating a new version of this model...\n"
     ]
    },
    {
     "name": "stdout",
     "output_type": "stream",
     "text": [
      "🏃 View run IR_2025-04-28 at: http://127.0.0.1:8768/#/experiments/1555/runs/e35c1aa7bca641279dbb095a198f9fdc\n",
      "🧪 View experiment at: http://127.0.0.1:8768/#/experiments/1555\n"
     ]
    },
    {
     "name": "stderr",
     "output_type": "stream",
     "text": [
      "Registered model 'GARCH(1,1)_5yrFit' already exists. Creating a new version of this model...\n",
      "2025/06/24 17:53:12 INFO mlflow.store.model_registry.abstract_store: Waiting up to 300 seconds for model version to finish creation. Model name: GARCH(1,1)_5yrFit, version 289\n",
      "Created version '289' of model 'GARCH(1,1)_5yrFit'.\n",
      "2025/06/24 17:53:12 INFO mlflow.store.model_registry.abstract_store: Waiting up to 300 seconds for model version to finish creation. Model name: GARCH(1,1)_5yrFit, version 290\n",
      "Created version '290' of model 'GARCH(1,1)_5yrFit'.\n",
      "2025/06/24 17:53:12 INFO mlflow.store.model_registry.abstract_store: Waiting up to 300 seconds for model version to finish creation. Model name: GARCH(1,1)_5yrFit, version 291\n",
      "Created version '291' of model 'GARCH(1,1)_5yrFit'.\n",
      "Registered model 'GARCH(1,1)_5yrFit' already exists. Creating a new version of this model...\n",
      "2025/06/24 17:53:13 INFO mlflow.store.model_registry.abstract_store: Waiting up to 300 seconds for model version to finish creation. Model name: GARCH(1,1)_5yrFit, version 292\n",
      "Created version '292' of model 'GARCH(1,1)_5yrFit'.\n"
     ]
    },
    {
     "name": "stdout",
     "output_type": "stream",
     "text": [
      "🏃 View run IR_2025-04-15 at: http://127.0.0.1:8768/#/experiments/1555/runs/572584aae45c41e68805b2dca0b3bad7\n",
      "🧪 View experiment at: http://127.0.0.1:8768/#/experiments/1555\n"
     ]
    },
    {
     "name": "stderr",
     "output_type": "stream",
     "text": [
      "2025/06/24 17:53:15 INFO mlflow.store.model_registry.abstract_store: Waiting up to 300 seconds for model version to finish creation. Model name: GARCH(1,1)_5yrFit, version 293\n",
      "Created version '293' of model 'GARCH(1,1)_5yrFit'.\n"
     ]
    },
    {
     "name": "stdout",
     "output_type": "stream",
     "text": [
      "🏃 View run IR_2025-04-25 at: http://127.0.0.1:8768/#/experiments/1555/runs/9092076f3935424f9b3b8af6069d7e5c\n",
      "🧪 View experiment at: http://127.0.0.1:8768/#/experiments/1555\n",
      "🏃 View run IR_2025-04-29 at: http://127.0.0.1:8768/#/experiments/1555/runs/66913b95dfc840efaaf8edda0229897d\n",
      "🏃 View run IR_2025-04-14 at: http://127.0.0.1:8768/#/experiments/1555/runs/e67b57481fac493db45d746fdf613427\n",
      "🧪 View experiment at: http://127.0.0.1:8768/#/experiments/1555\n",
      "🧪 View experiment at: http://127.0.0.1:8768/#/experiments/1555\n",
      "using model: GARCH(1,1)_5yrFit\n",
      "🏃 View run IR_2025-04-11 at: http://127.0.0.1:8768/#/experiments/1555/runs/11fa233fedd0452c8432639bd1a876cf\n",
      "🧪 View experiment at: http://127.0.0.1:8768/#/experiments/1555\n",
      "using model: GARCH(1,1)_5yrFit\n",
      "using model: GARCH(1,1)_5yrFit\n"
     ]
    }
   ],
   "source": [
    "import pandas as pd\n",
    "import numpy as np\n",
    "from datetime import datetime\n",
    "from dateutil.relativedelta import relativedelta\n",
    "import matplotlib.pyplot as plt\n",
    "from concurrent.futures import ThreadPoolExecutor, as_completed\n",
    "\n",
    "import mlflow\n",
    "from mlflow.tracking import MlflowClient\n",
    "from mlflow.models.signature import infer_signature\n",
    "import mlflow.sklearn\n",
    "\n",
    "from data.data_source import get_data_source\n",
    "from data.treasury_curve import get_yield_curve\n",
    "# from models.covariance.empirical_covariance import EmpiricalCovarianceModel as model_choice\n",
    "from models.covariance.garch import GARCHCovarianceModel as model_choice\n",
    "from config import env\n",
    "from utils.artifact_saver import get_artifact_path\n",
    "import math\n",
    "import warnings\n",
    "from arch.univariate.base import DataScaleWarning\n",
    "from sklearn.exceptions import ConvergenceWarning\n",
    "\n",
    "warnings.filterwarnings(\"ignore\", category=DataScaleWarning)\n",
    "warnings.filterwarnings(\"ignore\", category=ConvergenceWarning)\n",
    "\n",
    "# ─── CONFIG ─────────────────────────────────────────────────────────────────\n",
    "CURVE_TYPE        = \"US Treasury Par\"\n",
    "TENORS            = [1/12, 0.125, 2/12, 0.25, 4/12, 0.5, 1, 2, 3, 5, 7, 10, 20, 30]\n",
    "N_SIMS            = 1000\n",
    "MLFLOW_EXPERIMENT = \"IR Cone Fit Experiment\"\n",
    "backfill_DAYS     = 180       # how many days back to pull data\n",
    "MAX_WORKERS       = 12\n",
    "ds                = get_data_source()\n",
    "model_class = model_choice\n",
    "model_shortname = model_class.name\n",
    "\n",
    "\n",
    "def format_tenor(x):\n",
    "    total_months = round(x * 12 * 2) / 2\n",
    "    years = int(total_months // 12)\n",
    "    months = total_months - years * 12\n",
    "    parts = []\n",
    "    if years:\n",
    "        parts.append(f\"{years}Y\")\n",
    "    if months:\n",
    "        parts.append(f\"{months:.1f}M\" if not months.is_integer() else f\"{int(months)}M\")\n",
    "    return \"\".join(parts) or \"0M\"\n",
    "\n",
    "\n",
    "def batch_insert_rate_cones(records, batch_size=200):\n",
    "    total = 0\n",
    "    for i in range(0, len(records), batch_size):\n",
    "        batch = records[i : i + batch_size]\n",
    "        vals = \",\\n\".join(\n",
    "            f\"('{r['curve_type']}', {r['days_forward']:.1f}, '{r['curve_date']}', \"\n",
    "            f\"'{r['cone_type']}', '{r['tenor_str']}', {r['rate']:.8f}, {r['tenor_num']:.8f}, '{r['model_type']}')\"\n",
    "            for r in batch\n",
    "        )        \n",
    "        sql = f\"\"\"\n",
    "        INSERT INTO rate_cones\n",
    "          (curve_type, days_forward, curve_date, cone_type, tenor_str, rate, tenor_num, model_type)\n",
    "        VALUES {vals}\n",
    "        ON CONFLICT DO NOTHING;\n",
    "        \"\"\"\n",
    "        ds.query(sql)\n",
    "        total += len(batch)\n",
    "    return total\n",
    "\n",
    "\n",
    "def plot_ir_cones_matplotlib(base_curve: pd.Series, ir_cone_df: pd.DataFrame, days_forward: int, title: str = \"\"):\n",
    "    plt.figure(figsize=(10, 6))\n",
    "    sample_ids = np.random.choice(\n",
    "        ir_cone_df[\"sim_id\"].unique(),\n",
    "        size=min(100, ir_cone_df[\"sim_id\"].nunique()),\n",
    "        replace=False\n",
    "    )\n",
    "    for sim_id in sample_ids:\n",
    "        sim = ir_cone_df[ir_cone_df[\"sim_id\"] == sim_id]\n",
    "        plt.plot(sim[\"tenor_num\"], sim[\"rate_simulated\"], color=\"gray\", alpha=0.1)\n",
    "\n",
    "    plt.plot(base_curve.index, base_curve.values,\n",
    "             color=\"crimson\", linewidth=2.5, label=\"Base Curve\")\n",
    "    plt.xlabel(\"Tenor (years)\")\n",
    "    plt.ylabel(\"Yield (%)\")\n",
    "    plt.title(title or f\"{days_forward}-Day IR Cones ({N_SIMS} sims) on {base_curve.name}\")\n",
    "    plt.grid(True, linestyle=\"--\", alpha=0.3)\n",
    "    plt.legend()\n",
    "    plt.tight_layout()\n",
    "    fn = get_artifact_path(f\"tsy_cones_{base_curve.name}_{days_forward}d.png\")\n",
    "    plt.savefig(fn, dpi=150)\n",
    "    plt.close()\n",
    "    return fn\n",
    "\n",
    "\n",
    "def generate_ir_cone(base_curve: pd.Series,\n",
    "                     cov_model: model_class,\n",
    "                     n_sims: int,\n",
    "                     days_forward: int) -> pd.DataFrame:\n",
    "\n",
    "    N = len(base_curve)\n",
    "    \n",
    "    cov = cov_model.covariance_ * days_forward\n",
    "    \n",
    "    drift = getattr(cov_model, \"drift_\", np.zeros(N))\n",
    "    drift_fw = drift * days_forward  # horizon drift    \n",
    "\n",
    "    rand_deltas = np.random.multivariate_normal(\n",
    "        mean=np.zeros(len(base_curve)),\n",
    "        cov=cov,\n",
    "        size=n_sims\n",
    "    )\n",
    "    \n",
    "    base_vals = base_curve.to_numpy()\n",
    "    sims = base_vals[np.newaxis, :] + drift_fw[np.newaxis, :] + rand_deltas\n",
    "\n",
    "    records = [\n",
    "        {\"sim_id\": sim, \"tenor_num\": base_curve.index[i], \"rate_simulated\": sims[sim, i]}\n",
    "        for sim in range(n_sims)\n",
    "        for i in range(len(base_curve))\n",
    "    ]\n",
    "    return pd.DataFrame.from_records(records)\n",
    "\n",
    "\n",
    "def populate_ir_cones(backfill_days: int,\n",
    "                      fit_window_years: int = 1,\n",
    "                      years_back: int = 0,\n",
    "                      max_workers: int = 4):\n",
    "    end_date   = datetime.today().date()\n",
    "    start_date = max(\n",
    "        end_date - relativedelta(days=backfill_days, years=years_back),\n",
    "        datetime(2010, 1, 1).date()\n",
    "    )\n",
    "    all_dates = pd.date_range(start=start_date, end=end_date, freq=\"D\").date\n",
    "\n",
    "    mlflow.set_experiment(MLFLOW_EXPERIMENT)\n",
    "    client = MlflowClient()\n",
    "\n",
    "    with mlflow.start_run(run_name=f\"populate_ir_cones_{end_date}\") as parent:\n",
    "        parent_id = parent.info.run_id\n",
    "        mlflow.log_params({\n",
    "            \"as_of_date\": str(start_date),\n",
    "            \"backfill_days\": backfill_days,\n",
    "            \"fit_window_years\": fit_window_years,\n",
    "            \"curve_type\": CURVE_TYPE,\n",
    "            \"n_sims\": N_SIMS,\n",
    "        })\n",
    "\n",
    "        total_obs, total_vars, trace_covs, errors = [], [], [], []\n",
    "\n",
    "        def task(asof_date):\n",
    "            try:\n",
    "                window_start = asof_date - relativedelta(years=fit_window_years)\n",
    "                window_start = max(window_start, datetime(2010,1,1).date())\n",
    "\n",
    "                sql = f\"\"\"\n",
    "                SELECT curve_date, tenor_num, rate\n",
    "                  FROM rate_curves\n",
    "                 WHERE curve_type = '{CURVE_TYPE}'\n",
    "                   AND curve_date BETWEEN '{window_start}' AND '{asof_date}'\n",
    "                   AND tenor_num    IN ({', '.join(map(str, TENORS))})\n",
    "                 ORDER BY curve_date DESC, tenor_num;\n",
    "                \"\"\"\n",
    "                df = ds.query(sql).to_pandas()\n",
    "                if df.empty:\n",
    "                    return (asof_date, \"No curve data\")\n",
    "\n",
    "                pivot = (\n",
    "                    df.pivot(index=\"curve_date\", columns=\"tenor_num\", values=\"rate\")\n",
    "                      .sort_index()\n",
    "                      .interpolate(method=\"linear\", axis=0)\n",
    "                      .dropna()\n",
    "                )\n",
    "                if asof_date not in pivot.index:\n",
    "                    print(f\"⏭️  Skipping {asof_date}: no exact curve_date in pivot\")\n",
    "                    return None\n",
    "\n",
    "                asof_actual = (asof_date if asof_date in pivot.index\n",
    "                               else pivot.index[pivot.index <= asof_date].max())\n",
    "                base_curve = pivot.loc[asof_date]\n",
    "                deltas     = pivot.diff().dropna()   # these deltas now span your lookback window\n",
    "\n",
    "                model_name = f'{model_shortname}_{fit_window_years}yrFit'\n",
    "                print('using model: ' + model_name)\n",
    "\n",
    "                for days_forward in (30, 90):\n",
    "                    model   = model_class().fit(deltas.values)\n",
    "                    cone_df = generate_ir_cone(base_curve, model, N_SIMS, days_forward)\n",
    "                    chart   = plot_ir_cones_matplotlib(base_curve, cone_df,\n",
    "                                                       days_forward,\n",
    "                                                       title=f\"{days_forward}-day cones\")\n",
    "    \n",
    "                    pctls = [1,5,10,50,90,95,99]\n",
    "                    pct_df = (\n",
    "                        cone_df.groupby(\"tenor_num\")[\"rate_simulated\"]\n",
    "                               .quantile([p/100 for p in pctls])\n",
    "                               .unstack(level=1)\n",
    "                               .reset_index()\n",
    "                               .melt(id_vars=\"tenor_num\", var_name=\"percentile\", value_name=\"rate\")\n",
    "                    )\n",
    "                    pct_df[\"percentile\"] = pct_df[\"percentile\"].astype(float)\n",
    "    \n",
    "                    pct_df[\"curve_type\"]   = CURVE_TYPE\n",
    "                    pct_df[\"tenor_str\"]    = pct_df[\"tenor_num\"].apply(format_tenor)\n",
    "                    pct_df[\"cone_type\"]    = pct_df[\"percentile\"].apply(lambda p: f\"{int(p*100)}%\")\n",
    "                    pct_df[\"curve_date\"]   = asof_date\n",
    "                    pct_df[\"days_forward\"] = days_forward\n",
    "                    pct_df[\"model_type\"] = model_name\n",
    "    \n",
    "                    recs = pct_df[[\n",
    "                        \"curve_type\",\"days_forward\",\"curve_date\",\n",
    "                        \"cone_type\",\"tenor_str\",\"rate\",\"tenor_num\", \"model_type\"\n",
    "                    ]].to_dict(orient=\"records\")\n",
    "                    inserted = batch_insert_rate_cones(recs)\n",
    "    \n",
    "                    n_obs     = len(deltas)\n",
    "                    total_var = float(np.var(deltas.values))\n",
    "                    trace_cv  = float(np.trace(model.covariance_))\n",
    "    \n",
    "                    total_obs.append(n_obs)\n",
    "                    total_vars.append(total_var)\n",
    "                    trace_covs.append(trace_cv)\n",
    "                \n",
    "                    input_example = deltas.values[:1]\n",
    "    \n",
    "                    with mlflow.start_run(\n",
    "                        run_name=f\"IR_{asof_date}\",\n",
    "                        nested=True,\n",
    "                        tags={\"mlflow.parentRunId\": parent_id}\n",
    "                    ):\n",
    "                        mlflow.log_params({\n",
    "                            \"as_of_date\": str(asof_actual),\n",
    "                            \"backfill_days\": backfill_days,\n",
    "                            \"fit_window_years\": fit_window_years,\n",
    "                            \"curve_type\": CURVE_TYPE,\n",
    "                            \"n_sims\": N_SIMS,\n",
    "                        })\n",
    "                        mlflow.log_metrics({\n",
    "                            \"n_obs\": n_obs,\n",
    "                            \"total_var\": total_var,\n",
    "                            \"trace_cov\": trace_cv,\n",
    "                            \"days_forward\": days_forward,\n",
    "                            \"dates_processed\": 1,\n",
    "                        })\n",
    "                        mlflow.sklearn.log_model(\n",
    "                            sk_model=model,\n",
    "                            artifact_path=\"model\",\n",
    "                            registered_model_name=model_name,\n",
    "                            input_example=input_example\n",
    "                        )\n",
    "                        mlflow.log_artifact(chart, artifact_path=\"charts\")\n",
    "\n",
    "                return None\n",
    "\n",
    "            except Exception as e:\n",
    "                return (asof_date, str(e))\n",
    "\n",
    "        with ThreadPoolExecutor(max_workers=max_workers) as exe:\n",
    "            futures = [exe.submit(task, d) for d in all_dates]\n",
    "            for fut in as_completed(futures):\n",
    "                if err := fut.result():\n",
    "                    errors.append(err)\n",
    "\n",
    "        mlflow.log_metrics({\n",
    "            \"dates_processed\": len(all_dates) - len(errors),\n",
    "            \"n_errors\": len(errors),\n",
    "            \"n_obs\": sum(total_obs),\n",
    "            \"total_var\": float(np.mean(total_vars)) if total_vars else 0.0,\n",
    "            \"trace_cov\": float(np.mean(trace_covs)) if trace_covs else 0.0,\n",
    "        })\n",
    "\n",
    "        if errors:\n",
    "            print(f\"⚠️  {len(errors)} errors:\")\n",
    "            for d, msg in errors:\n",
    "                print(f\"  • {d}: {msg}\")\n",
    "        else:\n",
    "            print(\"✅ All cones processed and logged.\")\n",
    "\n",
    "\n",
    "if __name__ == \"__main__\":\n",
    "    import sys\n",
    "\n",
    "    populate_ir_cones(\n",
    "        backfill_days=backfill_DAYS,\n",
    "        fit_window_years=1,\n",
    "        max_workers=MAX_WORKERS,\n",
    "        years_back=0\n",
    "    )\n",
    "\n",
    "    \n",
    "    populate_ir_cones(\n",
    "        backfill_days=backfill_DAYS,\n",
    "        fit_window_years=5,\n",
    "        max_workers=MAX_WORKERS,\n",
    "        years_back=0\n",
    "    )\n"
   ]
  },
  {
   "cell_type": "code",
   "execution_count": null,
   "id": "79ba97e5-96ae-4277-af4b-8ac622368a1e",
   "metadata": {},
   "outputs": [],
   "source": []
  }
 ],
 "metadata": {
  "kernelspec": {
   "display_name": "Python 3 (ipykernel)",
   "language": "python",
   "name": "python3"
  },
  "language_info": {
   "codemirror_mode": {
    "name": "ipython",
    "version": 3
   },
   "file_extension": ".py",
   "mimetype": "text/x-python",
   "name": "python",
   "nbconvert_exporter": "python",
   "pygments_lexer": "ipython3",
   "version": "3.10.14"
  }
 },
 "nbformat": 4,
 "nbformat_minor": 5
}
