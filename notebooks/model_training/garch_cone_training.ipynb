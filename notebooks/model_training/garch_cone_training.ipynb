{
 "cells": [
  {
   "cell_type": "code",
   "execution_count": null,
   "id": "a4753bf2-0c13-492f-afae-f28616da8db8",
   "metadata": {},
   "outputs": [
    {
     "name": "stdout",
     "output_type": "stream",
     "text": [
      "'data_env' not found in environment. Defaulting to 'sandbox' env.\n",
      "setting env to sandbox data\n",
      "getting data source for sandbox\n",
      "⏭️  Skipping 2024-12-29: no exact curve_date in pivot\n",
      "using model: GARCH(1,1)_1yrFit\n",
      "⏭️  Skipping 2025-01-01: no exact curve_date in pivot\n",
      "⏭️  Skipping 2025-01-05: no exact curve_date in pivot\n",
      "using model: GARCH(1,1)_1yrFit\n",
      "using model: GARCH(1,1)_1yrFit\n",
      "using model: GARCH(1,1)_1yrFit\n",
      "using model: GARCH(1,1)_1yrFit\n",
      "using model: GARCH(1,1)_1yrFit\n",
      "⏭️  Skipping 2024-12-28: no exact curve_date in pivot\n",
      "⏭️  Skipping 2024-12-25: no exact curve_date in pivot\n",
      "⏭️  Skipping 2025-01-04: no exact curve_date in pivot\n",
      "using model: GARCH(1,1)_1yrFit\n",
      "using model: GARCH(1,1)_1yrFit\n",
      "using model: GARCH(1,1)_1yrFit\n",
      "using model: GARCH(1,1)_1yrFit\n",
      "⏭️  Skipping 2025-01-11: no exact curve_date in pivot\n",
      "using model: GARCH(1,1)_1yrFit\n",
      "⏭️  Skipping 2025-01-12: no exact curve_date in pivot\n",
      "using model: GARCH(1,1)_1yrFit\n"
     ]
    },
    {
     "name": "stderr",
     "output_type": "stream",
     "text": [
      "No artists with labels found to put in legend.  Note that artists whose label start with an underscore are ignored when legend() is called with no argument.\n"
     ]
    },
    {
     "name": "stdout",
     "output_type": "stream",
     "text": [
      "using model: GARCH(1,1)_1yrFit\n",
      "using model: GARCH(1,1)_1yrFit\n",
      "using model: GARCH(1,1)_1yrFit\n",
      "using model: GARCH(1,1)_1yrFit\n",
      "⏭️  Skipping 2025-01-18: no exact curve_date in pivot\n",
      "⏭️  Skipping 2025-01-19: no exact curve_date in pivot\n",
      "⏭️  Skipping 2025-01-20: no exact curve_date in pivot\n",
      "using model: GARCH(1,1)_1yrFit\n"
     ]
    },
    {
     "name": "stderr",
     "output_type": "stream",
     "text": [
      "2025/06/23 20:38:28 INFO mlflow.models.model: Found the following environment variables used during model inference: [DOMINO_USER_API_KEY]. Please check if you need to set them when deploying the model. To disable this message, set environment variable `MLFLOW_RECORD_ENV_VARS_IN_MODEL_LOGGING` to `false`.\n",
      "2025/06/23 20:38:30 INFO mlflow.models.model: Found the following environment variables used during model inference: [DOMINO_USER_API_KEY]. Please check if you need to set them when deploying the model. To disable this message, set environment variable `MLFLOW_RECORD_ENV_VARS_IN_MODEL_LOGGING` to `false`.\n",
      "Registered model 'GARCH(1,1)_1yrFit' already exists. Creating a new version of this model...\n",
      "2025/06/23 20:38:32 INFO mlflow.store.model_registry.abstract_store: Waiting up to 300 seconds for model version to finish creation. Model name: GARCH(1,1)_1yrFit, version 13\n",
      "Created version '13' of model 'GARCH(1,1)_1yrFit'.\n",
      "Registered model 'GARCH(1,1)_1yrFit' already exists. Creating a new version of this model...\n"
     ]
    },
    {
     "name": "stdout",
     "output_type": "stream",
     "text": [
      "🏃 View run IR_2025-01-10 at: http://127.0.0.1:8768/#/experiments/1553/runs/42ab1edd4d674889963e686004935a9f\n",
      "🧪 View experiment at: http://127.0.0.1:8768/#/experiments/1553\n"
     ]
    },
    {
     "name": "stderr",
     "output_type": "stream",
     "text": [
      "2025/06/23 20:38:33 INFO mlflow.store.model_registry.abstract_store: Waiting up to 300 seconds for model version to finish creation. Model name: GARCH(1,1)_1yrFit, version 14\n",
      "Created version '14' of model 'GARCH(1,1)_1yrFit'.\n"
     ]
    },
    {
     "name": "stdout",
     "output_type": "stream",
     "text": [
      "🏃 View run IR_2024-12-26 at: http://127.0.0.1:8768/#/experiments/1553/runs/867a3fe3eb2c4ef594e154e697401c96\n",
      "🧪 View experiment at: http://127.0.0.1:8768/#/experiments/1553\n"
     ]
    },
    {
     "name": "stderr",
     "output_type": "stream",
     "text": [
      "Registered model 'GARCH(1,1)_1yrFit' already exists. Creating a new version of this model...\n",
      "Registered model 'GARCH(1,1)_1yrFit' already exists. Creating a new version of this model...\n",
      "2025/06/23 20:38:37 INFO mlflow.store.model_registry.abstract_store: Waiting up to 300 seconds for model version to finish creation. Model name: GARCH(1,1)_1yrFit, version 15\n",
      "Created version '15' of model 'GARCH(1,1)_1yrFit'.\n",
      "2025/06/23 20:38:37 INFO mlflow.store.model_registry.abstract_store: Waiting up to 300 seconds for model version to finish creation. Model name: GARCH(1,1)_1yrFit, version 16\n",
      "Created version '16' of model 'GARCH(1,1)_1yrFit'.\n"
     ]
    },
    {
     "name": "stdout",
     "output_type": "stream",
     "text": [
      "🏃 View run IR_2025-01-07 at: http://127.0.0.1:8768/#/experiments/1553/runs/215ce8481888410f8479c44cf3a9fbf0\n",
      "🏃 View run IR_2025-01-15 at: http://127.0.0.1:8768/#/experiments/1553/runs/68d593d2d6c743feae89e4d9f85afb64\n",
      "🧪 View experiment at: http://127.0.0.1:8768/#/experiments/1553\n",
      "🧪 View experiment at: http://127.0.0.1:8768/#/experiments/1553\n"
     ]
    },
    {
     "name": "stderr",
     "output_type": "stream",
     "text": [
      "Registered model 'GARCH(1,1)_1yrFit' already exists. Creating a new version of this model...\n",
      "2025/06/23 20:38:40 INFO mlflow.store.model_registry.abstract_store: Waiting up to 300 seconds for model version to finish creation. Model name: GARCH(1,1)_1yrFit, version 17\n",
      "Created version '17' of model 'GARCH(1,1)_1yrFit'.\n",
      "2025/06/23 20:38:40 INFO mlflow.models.model: Found the following environment variables used during model inference: [DOMINO_USER_API_KEY]. Please check if you need to set them when deploying the model. To disable this message, set environment variable `MLFLOW_RECORD_ENV_VARS_IN_MODEL_LOGGING` to `false`.\n"
     ]
    },
    {
     "name": "stdout",
     "output_type": "stream",
     "text": [
      "🏃 View run IR_2025-01-16 at: http://127.0.0.1:8768/#/experiments/1553/runs/25bbddadf6ee49e5a1965329e48fca2a\n",
      "🧪 View experiment at: http://127.0.0.1:8768/#/experiments/1553\n"
     ]
    },
    {
     "name": "stderr",
     "output_type": "stream",
     "text": [
      "Registered model 'GARCH(1,1)_1yrFit' already exists. Creating a new version of this model...\n",
      "2025/06/23 20:38:42 INFO mlflow.store.model_registry.abstract_store: Waiting up to 300 seconds for model version to finish creation. Model name: GARCH(1,1)_1yrFit, version 18\n",
      "Created version '18' of model 'GARCH(1,1)_1yrFit'.\n"
     ]
    },
    {
     "name": "stdout",
     "output_type": "stream",
     "text": [
      "🏃 View run IR_2025-01-14 at: http://127.0.0.1:8768/#/experiments/1553/runs/75160d8c876c4eeba07f98012a6f9312\n",
      "🧪 View experiment at: http://127.0.0.1:8768/#/experiments/1553\n"
     ]
    },
    {
     "name": "stderr",
     "output_type": "stream",
     "text": [
      "Registered model 'GARCH(1,1)_1yrFit' already exists. Creating a new version of this model...\n",
      "2025/06/23 20:38:44 INFO mlflow.store.model_registry.abstract_store: Waiting up to 300 seconds for model version to finish creation. Model name: GARCH(1,1)_1yrFit, version 19\n",
      "Created version '19' of model 'GARCH(1,1)_1yrFit'.\n"
     ]
    },
    {
     "name": "stdout",
     "output_type": "stream",
     "text": [
      "🏃 View run IR_2025-01-21 at: http://127.0.0.1:8768/#/experiments/1553/runs/3913109ffbbf4bedaaf781a1573a4150\n",
      "🧪 View experiment at: http://127.0.0.1:8768/#/experiments/1553\n"
     ]
    },
    {
     "name": "stderr",
     "output_type": "stream",
     "text": [
      "2025/06/23 20:38:46 INFO mlflow.models.model: Found the following environment variables used during model inference: [DOMINO_USER_API_KEY]. Please check if you need to set them when deploying the model. To disable this message, set environment variable `MLFLOW_RECORD_ENV_VARS_IN_MODEL_LOGGING` to `false`.\n",
      "Registered model 'GARCH(1,1)_1yrFit' already exists. Creating a new version of this model...\n",
      "2025/06/23 20:38:50 INFO mlflow.store.model_registry.abstract_store: Waiting up to 300 seconds for model version to finish creation. Model name: GARCH(1,1)_1yrFit, version 20\n",
      "Created version '20' of model 'GARCH(1,1)_1yrFit'.\n"
     ]
    },
    {
     "name": "stdout",
     "output_type": "stream",
     "text": [
      "🏃 View run IR_2025-01-17 at: http://127.0.0.1:8768/#/experiments/1553/runs/7a62d75153244cb28329202be8457095\n",
      "🧪 View experiment at: http://127.0.0.1:8768/#/experiments/1553\n"
     ]
    },
    {
     "name": "stderr",
     "output_type": "stream",
     "text": [
      "Registered model 'GARCH(1,1)_1yrFit' already exists. Creating a new version of this model...\n",
      "2025/06/23 20:39:08 INFO mlflow.store.model_registry.abstract_store: Waiting up to 300 seconds for model version to finish creation. Model name: GARCH(1,1)_1yrFit, version 21\n",
      "Created version '21' of model 'GARCH(1,1)_1yrFit'.\n"
     ]
    },
    {
     "name": "stdout",
     "output_type": "stream",
     "text": [
      "🏃 View run IR_2025-01-02 at: http://127.0.0.1:8768/#/experiments/1553/runs/059ae5709a5a4ec298f10c60e48daeed\n",
      "🧪 View experiment at: http://127.0.0.1:8768/#/experiments/1553\n"
     ]
    },
    {
     "name": "stderr",
     "output_type": "stream",
     "text": [
      "2025/06/23 20:39:11 INFO mlflow.models.model: Found the following environment variables used during model inference: [DOMINO_USER_API_KEY]. Please check if you need to set them when deploying the model. To disable this message, set environment variable `MLFLOW_RECORD_ENV_VARS_IN_MODEL_LOGGING` to `false`.\n",
      "Registered model 'GARCH(1,1)_1yrFit' already exists. Creating a new version of this model...\n",
      "2025/06/23 20:39:16 INFO mlflow.store.model_registry.abstract_store: Waiting up to 300 seconds for model version to finish creation. Model name: GARCH(1,1)_1yrFit, version 22\n",
      "Created version '22' of model 'GARCH(1,1)_1yrFit'.\n",
      "Registered model 'GARCH(1,1)_1yrFit' already exists. Creating a new version of this model...\n",
      "2025/06/23 20:39:17 INFO mlflow.store.model_registry.abstract_store: Waiting up to 300 seconds for model version to finish creation. Model name: GARCH(1,1)_1yrFit, version 23\n"
     ]
    },
    {
     "name": "stdout",
     "output_type": "stream",
     "text": [
      "🏃 View run IR_2024-12-26 at: http://127.0.0.1:8768/#/experiments/1553/runs/9c8ceec5a88c4dd9924bd2c658f7b346\n",
      "🧪 View experiment at: http://127.0.0.1:8768/#/experiments/1553\n"
     ]
    },
    {
     "name": "stderr",
     "output_type": "stream",
     "text": [
      "Created version '23' of model 'GARCH(1,1)_1yrFit'.\n"
     ]
    },
    {
     "name": "stdout",
     "output_type": "stream",
     "text": [
      "🏃 View run IR_2025-01-15 at: http://127.0.0.1:8768/#/experiments/1553/runs/fe8b788137cf438e9cb742374843868f\n",
      "🧪 View experiment at: http://127.0.0.1:8768/#/experiments/1553\n",
      "using model: GARCH(1,1)_1yrFit\n"
     ]
    },
    {
     "name": "stderr",
     "output_type": "stream",
     "text": [
      "Registered model 'GARCH(1,1)_1yrFit' already exists. Creating a new version of this model...\n"
     ]
    },
    {
     "name": "stdout",
     "output_type": "stream",
     "text": [
      "using model: GARCH(1,1)_1yrFit\n"
     ]
    },
    {
     "name": "stderr",
     "output_type": "stream",
     "text": [
      "2025/06/23 20:39:21 INFO mlflow.store.model_registry.abstract_store: Waiting up to 300 seconds for model version to finish creation. Model name: GARCH(1,1)_1yrFit, version 24\n",
      "Created version '24' of model 'GARCH(1,1)_1yrFit'.\n",
      "2025/06/23 20:39:21 INFO mlflow.models.model: Found the following environment variables used during model inference: [DOMINO_USER_API_KEY]. Please check if you need to set them when deploying the model. To disable this message, set environment variable `MLFLOW_RECORD_ENV_VARS_IN_MODEL_LOGGING` to `false`.\n"
     ]
    },
    {
     "name": "stdout",
     "output_type": "stream",
     "text": [
      "🏃 View run IR_2025-01-03 at: http://127.0.0.1:8768/#/experiments/1553/runs/99f7f0fe06b54e3295c98eb8821f5750\n",
      "🧪 View experiment at: http://127.0.0.1:8768/#/experiments/1553\n"
     ]
    },
    {
     "name": "stderr",
     "output_type": "stream",
     "text": [
      "2025/06/23 20:39:24 INFO mlflow.models.model: Found the following environment variables used during model inference: [DOMINO_USER_API_KEY]. Please check if you need to set them when deploying the model. To disable this message, set environment variable `MLFLOW_RECORD_ENV_VARS_IN_MODEL_LOGGING` to `false`.\n",
      "Registered model 'GARCH(1,1)_1yrFit' already exists. Creating a new version of this model...\n",
      "2025/06/23 20:39:24 INFO mlflow.store.model_registry.abstract_store: Waiting up to 300 seconds for model version to finish creation. Model name: GARCH(1,1)_1yrFit, version 25\n",
      "Created version '25' of model 'GARCH(1,1)_1yrFit'.\n"
     ]
    },
    {
     "name": "stdout",
     "output_type": "stream",
     "text": [
      "🏃 View run IR_2025-01-10 at: http://127.0.0.1:8768/#/experiments/1553/runs/17a65a1beb074571ac3a978da137ab86\n",
      "🧪 View experiment at: http://127.0.0.1:8768/#/experiments/1553\n",
      "using model: GARCH(1,1)_1yrFit\n"
     ]
    },
    {
     "name": "stderr",
     "output_type": "stream",
     "text": [
      "Registered model 'GARCH(1,1)_1yrFit' already exists. Creating a new version of this model...\n",
      "2025/06/23 20:39:27 INFO mlflow.store.model_registry.abstract_store: Waiting up to 300 seconds for model version to finish creation. Model name: GARCH(1,1)_1yrFit, version 26\n",
      "Created version '26' of model 'GARCH(1,1)_1yrFit'.\n"
     ]
    },
    {
     "name": "stdout",
     "output_type": "stream",
     "text": [
      "🏃 View run IR_2025-01-07 at: http://127.0.0.1:8768/#/experiments/1553/runs/d0323a219118432ab3bbd98a18c28da7\n",
      "🧪 View experiment at: http://127.0.0.1:8768/#/experiments/1553\n"
     ]
    },
    {
     "name": "stderr",
     "output_type": "stream",
     "text": [
      "2025/06/23 20:39:29 INFO mlflow.models.model: Found the following environment variables used during model inference: [DOMINO_USER_API_KEY]. Please check if you need to set them when deploying the model. To disable this message, set environment variable `MLFLOW_RECORD_ENV_VARS_IN_MODEL_LOGGING` to `false`.\n"
     ]
    },
    {
     "name": "stdout",
     "output_type": "stream",
     "text": [
      "⏭️  Skipping 2025-01-25: no exact curve_date in pivot\n",
      "⏭️  Skipping 2025-01-26: no exact curve_date in pivot\n"
     ]
    },
    {
     "name": "stderr",
     "output_type": "stream",
     "text": [
      "Registered model 'GARCH(1,1)_1yrFit' already exists. Creating a new version of this model...\n",
      "2025/06/23 20:39:32 INFO mlflow.store.model_registry.abstract_store: Waiting up to 300 seconds for model version to finish creation. Model name: GARCH(1,1)_1yrFit, version 27\n",
      "Created version '27' of model 'GARCH(1,1)_1yrFit'.\n"
     ]
    },
    {
     "name": "stdout",
     "output_type": "stream",
     "text": [
      "using model: GARCH(1,1)_1yrFit\n",
      "🏃 View run IR_2025-01-16 at: http://127.0.0.1:8768/#/experiments/1553/runs/108850d76a8143c29b9c1ee6f4ee97f6\n",
      "🧪 View experiment at: http://127.0.0.1:8768/#/experiments/1553\n",
      "using model: GARCH(1,1)_1yrFit\n"
     ]
    },
    {
     "name": "stderr",
     "output_type": "stream",
     "text": [
      "2025/06/23 20:39:37 INFO mlflow.models.model: Found the following environment variables used during model inference: [DOMINO_USER_API_KEY]. Please check if you need to set them when deploying the model. To disable this message, set environment variable `MLFLOW_RECORD_ENV_VARS_IN_MODEL_LOGGING` to `false`.\n",
      "Registered model 'GARCH(1,1)_1yrFit' already exists. Creating a new version of this model...\n",
      "2025/06/23 20:39:40 INFO mlflow.store.model_registry.abstract_store: Waiting up to 300 seconds for model version to finish creation. Model name: GARCH(1,1)_1yrFit, version 28\n",
      "Created version '28' of model 'GARCH(1,1)_1yrFit'.\n",
      "Registered model 'GARCH(1,1)_1yrFit' already exists. Creating a new version of this model...\n",
      "2025/06/23 20:39:41 INFO mlflow.models.model: Found the following environment variables used during model inference: [DOMINO_USER_API_KEY]. Please check if you need to set them when deploying the model. To disable this message, set environment variable `MLFLOW_RECORD_ENV_VARS_IN_MODEL_LOGGING` to `false`.\n"
     ]
    },
    {
     "name": "stdout",
     "output_type": "stream",
     "text": [
      "🏃 View run IR_2025-01-14 at: http://127.0.0.1:8768/#/experiments/1553/runs/6fee7ba86b7a438c8dcae81d63ec1e21\n",
      "🧪 View experiment at: http://127.0.0.1:8768/#/experiments/1553\n"
     ]
    },
    {
     "name": "stderr",
     "output_type": "stream",
     "text": [
      "2025/06/23 20:39:43 INFO mlflow.store.model_registry.abstract_store: Waiting up to 300 seconds for model version to finish creation. Model name: GARCH(1,1)_1yrFit, version 29\n",
      "Created version '29' of model 'GARCH(1,1)_1yrFit'.\n"
     ]
    },
    {
     "name": "stdout",
     "output_type": "stream",
     "text": [
      "🏃 View run IR_2024-12-31 at: http://127.0.0.1:8768/#/experiments/1553/runs/80d32195acc9434795b7ce47694ca7ca\n",
      "🧪 View experiment at: http://127.0.0.1:8768/#/experiments/1553\n",
      "using model: GARCH(1,1)_1yrFit\n"
     ]
    },
    {
     "name": "stderr",
     "output_type": "stream",
     "text": [
      "Registered model 'GARCH(1,1)_1yrFit' already exists. Creating a new version of this model...\n",
      "2025/06/23 20:39:45 INFO mlflow.store.model_registry.abstract_store: Waiting up to 300 seconds for model version to finish creation. Model name: GARCH(1,1)_1yrFit, version 30\n",
      "Created version '30' of model 'GARCH(1,1)_1yrFit'.\n"
     ]
    },
    {
     "name": "stdout",
     "output_type": "stream",
     "text": [
      "🏃 View run IR_2025-01-21 at: http://127.0.0.1:8768/#/experiments/1553/runs/64b2cfb0996a49f69009e115f0ecaec0\n",
      "🧪 View experiment at: http://127.0.0.1:8768/#/experiments/1553\n"
     ]
    },
    {
     "name": "stderr",
     "output_type": "stream",
     "text": [
      "Registered model 'GARCH(1,1)_1yrFit' already exists. Creating a new version of this model...\n"
     ]
    },
    {
     "name": "stdout",
     "output_type": "stream",
     "text": [
      "using model: GARCH(1,1)_1yrFit\n"
     ]
    },
    {
     "name": "stderr",
     "output_type": "stream",
     "text": [
      "2025/06/23 20:39:47 INFO mlflow.store.model_registry.abstract_store: Waiting up to 300 seconds for model version to finish creation. Model name: GARCH(1,1)_1yrFit, version 31\n",
      "Created version '31' of model 'GARCH(1,1)_1yrFit'.\n"
     ]
    },
    {
     "name": "stdout",
     "output_type": "stream",
     "text": [
      "🏃 View run IR_2025-01-17 at: http://127.0.0.1:8768/#/experiments/1553/runs/d7293ddfbabc4f63ac242045eafae1cd\n",
      "🧪 View experiment at: http://127.0.0.1:8768/#/experiments/1553\n",
      "using model: GARCH(1,1)_1yrFit\n"
     ]
    },
    {
     "name": "stderr",
     "output_type": "stream",
     "text": [
      "Registered model 'GARCH(1,1)_1yrFit' already exists. Creating a new version of this model...\n",
      "2025/06/23 20:39:54 INFO mlflow.store.model_registry.abstract_store: Waiting up to 300 seconds for model version to finish creation. Model name: GARCH(1,1)_1yrFit, version 32\n",
      "Created version '32' of model 'GARCH(1,1)_1yrFit'.\n",
      "Registered model 'GARCH(1,1)_1yrFit' already exists. Creating a new version of this model...\n",
      "2025/06/23 20:39:54 INFO mlflow.models.model: Found the following environment variables used during model inference: [DOMINO_USER_API_KEY]. Please check if you need to set them when deploying the model. To disable this message, set environment variable `MLFLOW_RECORD_ENV_VARS_IN_MODEL_LOGGING` to `false`.\n",
      "2025/06/23 20:39:54 INFO mlflow.store.model_registry.abstract_store: Waiting up to 300 seconds for model version to finish creation. Model name: GARCH(1,1)_1yrFit, version 33\n"
     ]
    },
    {
     "name": "stdout",
     "output_type": "stream",
     "text": [
      "🏃 View run IR_2025-01-02 at: http://127.0.0.1:8768/#/experiments/1553/runs/54bef49928d34f6095b6e25e3d39dd17\n",
      "🧪 View experiment at: http://127.0.0.1:8768/#/experiments/1553\n"
     ]
    },
    {
     "name": "stderr",
     "output_type": "stream",
     "text": [
      "Created version '33' of model 'GARCH(1,1)_1yrFit'.\n"
     ]
    },
    {
     "name": "stdout",
     "output_type": "stream",
     "text": [
      "🏃 View run IR_2024-12-27 at: http://127.0.0.1:8768/#/experiments/1553/runs/281e715bb81d4c5b94a7d39df633d4f6\n",
      "🧪 View experiment at: http://127.0.0.1:8768/#/experiments/1553\n",
      "⏭️  Skipping 2025-02-01: no exact curve_date in pivot\n",
      "⏭️  Skipping 2025-02-02: no exact curve_date in pivot\n"
     ]
    },
    {
     "name": "stderr",
     "output_type": "stream",
     "text": [
      "Registered model 'GARCH(1,1)_1yrFit' already exists. Creating a new version of this model...\n",
      "2025/06/23 20:39:58 INFO mlflow.models.model: Found the following environment variables used during model inference: [DOMINO_USER_API_KEY]. Please check if you need to set them when deploying the model. To disable this message, set environment variable `MLFLOW_RECORD_ENV_VARS_IN_MODEL_LOGGING` to `false`.\n",
      "2025/06/23 20:39:58 INFO mlflow.store.model_registry.abstract_store: Waiting up to 300 seconds for model version to finish creation. Model name: GARCH(1,1)_1yrFit, version 34\n"
     ]
    },
    {
     "name": "stdout",
     "output_type": "stream",
     "text": [
      "using model: GARCH(1,1)_1yrFit\n"
     ]
    },
    {
     "name": "stderr",
     "output_type": "stream",
     "text": [
      "Created version '34' of model 'GARCH(1,1)_1yrFit'.\n"
     ]
    },
    {
     "name": "stdout",
     "output_type": "stream",
     "text": [
      "🏃 View run IR_2025-01-03 at: http://127.0.0.1:8768/#/experiments/1553/runs/b4a9dc469f814531bc37695298e0009e\n",
      "🧪 View experiment at: http://127.0.0.1:8768/#/experiments/1553\n"
     ]
    },
    {
     "name": "stderr",
     "output_type": "stream",
     "text": [
      "Registered model 'GARCH(1,1)_1yrFit' already exists. Creating a new version of this model...\n"
     ]
    },
    {
     "name": "stdout",
     "output_type": "stream",
     "text": [
      "using model: GARCH(1,1)_1yrFit\n"
     ]
    },
    {
     "name": "stderr",
     "output_type": "stream",
     "text": [
      "2025/06/23 20:40:03 INFO mlflow.store.model_registry.abstract_store: Waiting up to 300 seconds for model version to finish creation. Model name: GARCH(1,1)_1yrFit, version 35\n",
      "Created version '35' of model 'GARCH(1,1)_1yrFit'.\n"
     ]
    },
    {
     "name": "stdout",
     "output_type": "stream",
     "text": [
      "🏃 View run IR_2025-01-22 at: http://127.0.0.1:8768/#/experiments/1553/runs/2f6d4b1b372643e39eadc32993efd1f4\n",
      "🧪 View experiment at: http://127.0.0.1:8768/#/experiments/1553\n"
     ]
    },
    {
     "name": "stderr",
     "output_type": "stream",
     "text": [
      "2025/06/23 20:40:09 INFO mlflow.models.model: Found the following environment variables used during model inference: [DOMINO_USER_API_KEY]. Please check if you need to set them when deploying the model. To disable this message, set environment variable `MLFLOW_RECORD_ENV_VARS_IN_MODEL_LOGGING` to `false`.\n",
      "Registered model 'GARCH(1,1)_1yrFit' already exists. Creating a new version of this model...\n",
      "2025/06/23 20:40:14 INFO mlflow.store.model_registry.abstract_store: Waiting up to 300 seconds for model version to finish creation. Model name: GARCH(1,1)_1yrFit, version 36\n",
      "Created version '36' of model 'GARCH(1,1)_1yrFit'.\n"
     ]
    },
    {
     "name": "stdout",
     "output_type": "stream",
     "text": [
      "🏃 View run IR_2025-01-23 at: http://127.0.0.1:8768/#/experiments/1553/runs/0755951df8d3450c9d87e6afc00af9bf\n",
      "🧪 View experiment at: http://127.0.0.1:8768/#/experiments/1553\n"
     ]
    },
    {
     "name": "stderr",
     "output_type": "stream",
     "text": [
      "Registered model 'GARCH(1,1)_1yrFit' already exists. Creating a new version of this model...\n",
      "Registered model 'GARCH(1,1)_1yrFit' already exists. Creating a new version of this model...\n",
      "2025/06/23 20:40:21 INFO mlflow.store.model_registry.abstract_store: Waiting up to 300 seconds for model version to finish creation. Model name: GARCH(1,1)_1yrFit, version 37\n",
      "Created version '37' of model 'GARCH(1,1)_1yrFit'.\n",
      "2025/06/23 20:40:21 INFO mlflow.store.model_registry.abstract_store: Waiting up to 300 seconds for model version to finish creation. Model name: GARCH(1,1)_1yrFit, version 38\n",
      "Created version '38' of model 'GARCH(1,1)_1yrFit'.\n"
     ]
    },
    {
     "name": "stdout",
     "output_type": "stream",
     "text": [
      "🏃 View run IR_2025-01-24 at: http://127.0.0.1:8768/#/experiments/1553/runs/0a75954bd0ea4e59b5c59b0578914619\n",
      "🧪 View experiment at: http://127.0.0.1:8768/#/experiments/1553\n",
      "🏃 View run IR_2025-01-28 at: http://127.0.0.1:8768/#/experiments/1553/runs/553f6a8a664f4745bfd3e4a8d2fe313c\n",
      "🧪 View experiment at: http://127.0.0.1:8768/#/experiments/1553\n"
     ]
    },
    {
     "name": "stderr",
     "output_type": "stream",
     "text": [
      "Registered model 'GARCH(1,1)_1yrFit' already exists. Creating a new version of this model...\n",
      "2025/06/23 20:40:23 INFO mlflow.store.model_registry.abstract_store: Waiting up to 300 seconds for model version to finish creation. Model name: GARCH(1,1)_1yrFit, version 39\n",
      "Created version '39' of model 'GARCH(1,1)_1yrFit'.\n"
     ]
    },
    {
     "name": "stdout",
     "output_type": "stream",
     "text": [
      "🏃 View run IR_2025-01-27 at: http://127.0.0.1:8768/#/experiments/1553/runs/de3553752fc1452aa6d02fa82e379f27\n",
      "🧪 View experiment at: http://127.0.0.1:8768/#/experiments/1553\n"
     ]
    },
    {
     "name": "stderr",
     "output_type": "stream",
     "text": [
      "Registered model 'GARCH(1,1)_1yrFit' already exists. Creating a new version of this model...\n",
      "2025/06/23 20:40:25 INFO mlflow.store.model_registry.abstract_store: Waiting up to 300 seconds for model version to finish creation. Model name: GARCH(1,1)_1yrFit, version 40\n",
      "Created version '40' of model 'GARCH(1,1)_1yrFit'.\n"
     ]
    },
    {
     "name": "stdout",
     "output_type": "stream",
     "text": [
      "🏃 View run IR_2024-12-31 at: http://127.0.0.1:8768/#/experiments/1553/runs/5fdfbba25a1a414b9719c4d03f11132c\n",
      "🧪 View experiment at: http://127.0.0.1:8768/#/experiments/1553\n"
     ]
    },
    {
     "name": "stderr",
     "output_type": "stream",
     "text": [
      "2025/06/23 20:40:26 INFO mlflow.models.model: Found the following environment variables used during model inference: [DOMINO_USER_API_KEY]. Please check if you need to set them when deploying the model. To disable this message, set environment variable `MLFLOW_RECORD_ENV_VARS_IN_MODEL_LOGGING` to `false`.\n"
     ]
    },
    {
     "name": "stdout",
     "output_type": "stream",
     "text": [
      "using model: GARCH(1,1)_1yrFit\n"
     ]
    },
    {
     "name": "stderr",
     "output_type": "stream",
     "text": [
      "2025/06/23 20:40:27 INFO mlflow.models.model: Found the following environment variables used during model inference: [DOMINO_USER_API_KEY]. Please check if you need to set them when deploying the model. To disable this message, set environment variable `MLFLOW_RECORD_ENV_VARS_IN_MODEL_LOGGING` to `false`.\n",
      "Registered model 'GARCH(1,1)_1yrFit' already exists. Creating a new version of this model...\n",
      "2025/06/23 20:40:30 INFO mlflow.store.model_registry.abstract_store: Waiting up to 300 seconds for model version to finish creation. Model name: GARCH(1,1)_1yrFit, version 41\n",
      "Created version '41' of model 'GARCH(1,1)_1yrFit'.\n"
     ]
    },
    {
     "name": "stdout",
     "output_type": "stream",
     "text": [
      "🏃 View run IR_2025-01-29 at: http://127.0.0.1:8768/#/experiments/1553/runs/525f8e4b886346b888c140e44bb6ee65\n",
      "🧪 View experiment at: http://127.0.0.1:8768/#/experiments/1553\n"
     ]
    },
    {
     "name": "stderr",
     "output_type": "stream",
     "text": [
      "Registered model 'GARCH(1,1)_1yrFit' already exists. Creating a new version of this model...\n",
      "2025/06/23 20:40:35 INFO mlflow.store.model_registry.abstract_store: Waiting up to 300 seconds for model version to finish creation. Model name: GARCH(1,1)_1yrFit, version 42\n",
      "Created version '42' of model 'GARCH(1,1)_1yrFit'.\n",
      "2025/06/23 20:40:35 INFO mlflow.models.model: Found the following environment variables used during model inference: [DOMINO_USER_API_KEY]. Please check if you need to set them when deploying the model. To disable this message, set environment variable `MLFLOW_RECORD_ENV_VARS_IN_MODEL_LOGGING` to `false`.\n"
     ]
    },
    {
     "name": "stdout",
     "output_type": "stream",
     "text": [
      "🏃 View run IR_2025-01-31 at: http://127.0.0.1:8768/#/experiments/1553/runs/d59f31a7e81945e4947367f2d6c928e5\n",
      "🧪 View experiment at: http://127.0.0.1:8768/#/experiments/1553\n"
     ]
    },
    {
     "name": "stderr",
     "output_type": "stream",
     "text": [
      "Registered model 'GARCH(1,1)_1yrFit' already exists. Creating a new version of this model...\n",
      "2025/06/23 20:40:38 INFO mlflow.store.model_registry.abstract_store: Waiting up to 300 seconds for model version to finish creation. Model name: GARCH(1,1)_1yrFit, version 43\n",
      "Created version '43' of model 'GARCH(1,1)_1yrFit'.\n"
     ]
    },
    {
     "name": "stdout",
     "output_type": "stream",
     "text": [
      "🏃 View run IR_2025-01-30 at: http://127.0.0.1:8768/#/experiments/1553/runs/e9e38038d25a4c949a8083213b25e949\n",
      "🧪 View experiment at: http://127.0.0.1:8768/#/experiments/1553\n"
     ]
    },
    {
     "name": "stderr",
     "output_type": "stream",
     "text": [
      "2025/06/23 20:40:48 INFO mlflow.models.model: Found the following environment variables used during model inference: [DOMINO_USER_API_KEY]. Please check if you need to set them when deploying the model. To disable this message, set environment variable `MLFLOW_RECORD_ENV_VARS_IN_MODEL_LOGGING` to `false`.\n",
      "Registered model 'GARCH(1,1)_1yrFit' already exists. Creating a new version of this model...\n",
      "Registered model 'GARCH(1,1)_1yrFit' already exists. Creating a new version of this model...\n",
      "2025/06/23 20:40:54 INFO mlflow.store.model_registry.abstract_store: Waiting up to 300 seconds for model version to finish creation. Model name: GARCH(1,1)_1yrFit, version 44\n",
      "Created version '44' of model 'GARCH(1,1)_1yrFit'.\n",
      "2025/06/23 20:40:54 INFO mlflow.store.model_registry.abstract_store: Waiting up to 300 seconds for model version to finish creation. Model name: GARCH(1,1)_1yrFit, version 45\n",
      "Created version '45' of model 'GARCH(1,1)_1yrFit'.\n",
      "2025/06/23 20:40:54 INFO mlflow.models.model: Found the following environment variables used during model inference: [DOMINO_USER_API_KEY]. Please check if you need to set them when deploying the model. To disable this message, set environment variable `MLFLOW_RECORD_ENV_VARS_IN_MODEL_LOGGING` to `false`.\n"
     ]
    },
    {
     "name": "stdout",
     "output_type": "stream",
     "text": [
      "🏃 View run IR_2025-02-04 at: http://127.0.0.1:8768/#/experiments/1553/runs/d4a91abad68b43a3bb87fcfe1f84e234\n",
      "🧪 View experiment at: http://127.0.0.1:8768/#/experiments/1553\n",
      "🏃 View run IR_2024-12-27 at: http://127.0.0.1:8768/#/experiments/1553/runs/0f2f741ba5f848d7812e3bac02571827\n",
      "🧪 View experiment at: http://127.0.0.1:8768/#/experiments/1553\n",
      "using model: GARCH(1,1)_1yrFit\n"
     ]
    },
    {
     "name": "stderr",
     "output_type": "stream",
     "text": [
      "Registered model 'GARCH(1,1)_1yrFit' already exists. Creating a new version of this model...\n",
      "2025/06/23 20:41:00 INFO mlflow.store.model_registry.abstract_store: Waiting up to 300 seconds for model version to finish creation. Model name: GARCH(1,1)_1yrFit, version 46\n",
      "Created version '46' of model 'GARCH(1,1)_1yrFit'.\n",
      "2025/06/23 20:41:00 INFO mlflow.models.model: Found the following environment variables used during model inference: [DOMINO_USER_API_KEY]. Please check if you need to set them when deploying the model. To disable this message, set environment variable `MLFLOW_RECORD_ENV_VARS_IN_MODEL_LOGGING` to `false`.\n"
     ]
    },
    {
     "name": "stdout",
     "output_type": "stream",
     "text": [
      "🏃 View run IR_2025-02-03 at: http://127.0.0.1:8768/#/experiments/1553/runs/fdcf077f0b48440dbe69511114e16a0a\n",
      "🧪 View experiment at: http://127.0.0.1:8768/#/experiments/1553\n"
     ]
    },
    {
     "name": "stderr",
     "output_type": "stream",
     "text": [
      "Registered model 'GARCH(1,1)_1yrFit' already exists. Creating a new version of this model...\n",
      "2025/06/23 20:41:04 INFO mlflow.store.model_registry.abstract_store: Waiting up to 300 seconds for model version to finish creation. Model name: GARCH(1,1)_1yrFit, version 47\n",
      "Created version '47' of model 'GARCH(1,1)_1yrFit'.\n",
      "2025/06/23 20:41:04 INFO mlflow.models.model: Found the following environment variables used during model inference: [DOMINO_USER_API_KEY]. Please check if you need to set them when deploying the model. To disable this message, set environment variable `MLFLOW_RECORD_ENV_VARS_IN_MODEL_LOGGING` to `false`.\n"
     ]
    },
    {
     "name": "stdout",
     "output_type": "stream",
     "text": [
      "🏃 View run IR_2025-01-22 at: http://127.0.0.1:8768/#/experiments/1553/runs/c172d180fb9b48faab4d258a9208bb13\n",
      "🧪 View experiment at: http://127.0.0.1:8768/#/experiments/1553\n",
      "using model: GARCH(1,1)_1yrFit\n"
     ]
    },
    {
     "name": "stderr",
     "output_type": "stream",
     "text": [
      "Registered model 'GARCH(1,1)_1yrFit' already exists. Creating a new version of this model...\n",
      "2025/06/23 20:41:08 INFO mlflow.store.model_registry.abstract_store: Waiting up to 300 seconds for model version to finish creation. Model name: GARCH(1,1)_1yrFit, version 48\n",
      "Created version '48' of model 'GARCH(1,1)_1yrFit'.\n"
     ]
    },
    {
     "name": "stdout",
     "output_type": "stream",
     "text": [
      "🏃 View run IR_2025-01-28 at: http://127.0.0.1:8768/#/experiments/1553/runs/0b1d54b1a2084a73870cd05640e8cfd8\n",
      "🧪 View experiment at: http://127.0.0.1:8768/#/experiments/1553\n",
      "⏭️  Skipping 2025-02-08: no exact curve_date in pivot\n",
      "⏭️  Skipping 2025-02-09: no exact curve_date in pivot\n",
      "using model: GARCH(1,1)_1yrFit\n"
     ]
    },
    {
     "name": "stderr",
     "output_type": "stream",
     "text": [
      "Registered model 'GARCH(1,1)_1yrFit' already exists. Creating a new version of this model...\n",
      "2025/06/23 20:41:15 INFO mlflow.store.model_registry.abstract_store: Waiting up to 300 seconds for model version to finish creation. Model name: GARCH(1,1)_1yrFit, version 49\n",
      "Created version '49' of model 'GARCH(1,1)_1yrFit'.\n"
     ]
    },
    {
     "name": "stdout",
     "output_type": "stream",
     "text": [
      "🏃 View run IR_2025-01-24 at: http://127.0.0.1:8768/#/experiments/1553/runs/ab96ba1bb22243eba5bb2399b33298a7\n",
      "🧪 View experiment at: http://127.0.0.1:8768/#/experiments/1553\n"
     ]
    },
    {
     "name": "stderr",
     "output_type": "stream",
     "text": [
      "Registered model 'GARCH(1,1)_1yrFit' already exists. Creating a new version of this model...\n",
      "Registered model 'GARCH(1,1)_1yrFit' already exists. Creating a new version of this model...\n",
      "2025/06/23 20:41:16 INFO mlflow.store.model_registry.abstract_store: Waiting up to 300 seconds for model version to finish creation. Model name: GARCH(1,1)_1yrFit, version 50\n",
      "Created version '50' of model 'GARCH(1,1)_1yrFit'.\n",
      "2025/06/23 20:41:17 INFO mlflow.store.model_registry.abstract_store: Waiting up to 300 seconds for model version to finish creation. Model name: GARCH(1,1)_1yrFit, version 51\n"
     ]
    },
    {
     "name": "stdout",
     "output_type": "stream",
     "text": [
      "using model: GARCH(1,1)_1yrFit\n",
      "🏃 View run IR_2025-01-23 at: http://127.0.0.1:8768/#/experiments/1553/runs/87ca3f44e7f14c60bc7b2d73ce4e2db8\n",
      "🧪 View experiment at: http://127.0.0.1:8768/#/experiments/1553\n"
     ]
    },
    {
     "name": "stderr",
     "output_type": "stream",
     "text": [
      "Created version '51' of model 'GARCH(1,1)_1yrFit'.\n"
     ]
    },
    {
     "name": "stdout",
     "output_type": "stream",
     "text": [
      "🏃 View run IR_2025-02-05 at: http://127.0.0.1:8768/#/experiments/1553/runs/33997633beb64a0d8be804230250be71\n",
      "🧪 View experiment at: http://127.0.0.1:8768/#/experiments/1553\n"
     ]
    },
    {
     "name": "stderr",
     "output_type": "stream",
     "text": [
      "2025/06/23 20:41:17 INFO mlflow.models.model: Found the following environment variables used during model inference: [DOMINO_USER_API_KEY]. Please check if you need to set them when deploying the model. To disable this message, set environment variable `MLFLOW_RECORD_ENV_VARS_IN_MODEL_LOGGING` to `false`.\n"
     ]
    },
    {
     "name": "stdout",
     "output_type": "stream",
     "text": [
      "using model: GARCH(1,1)_1yrFit\n"
     ]
    },
    {
     "name": "stderr",
     "output_type": "stream",
     "text": [
      "Registered model 'GARCH(1,1)_1yrFit' already exists. Creating a new version of this model...\n",
      "2025/06/23 20:41:19 INFO mlflow.store.model_registry.abstract_store: Waiting up to 300 seconds for model version to finish creation. Model name: GARCH(1,1)_1yrFit, version 52\n",
      "Created version '52' of model 'GARCH(1,1)_1yrFit'.\n"
     ]
    },
    {
     "name": "stdout",
     "output_type": "stream",
     "text": [
      "🏃 View run IR_2025-01-27 at: http://127.0.0.1:8768/#/experiments/1553/runs/2e53debb1e8649ab81e6e661d1bc349c\n",
      "🧪 View experiment at: http://127.0.0.1:8768/#/experiments/1553\n"
     ]
    },
    {
     "name": "stderr",
     "output_type": "stream",
     "text": [
      "Registered model 'GARCH(1,1)_1yrFit' already exists. Creating a new version of this model...\n",
      "2025/06/23 20:41:23 INFO mlflow.store.model_registry.abstract_store: Waiting up to 300 seconds for model version to finish creation. Model name: GARCH(1,1)_1yrFit, version 53\n",
      "Created version '53' of model 'GARCH(1,1)_1yrFit'.\n"
     ]
    },
    {
     "name": "stdout",
     "output_type": "stream",
     "text": [
      "using model: GARCH(1,1)_1yrFit\n"
     ]
    },
    {
     "name": "stderr",
     "output_type": "stream",
     "text": [
      "2025/06/23 20:41:25 INFO mlflow.models.model: Found the following environment variables used during model inference: [DOMINO_USER_API_KEY]. Please check if you need to set them when deploying the model. To disable this message, set environment variable `MLFLOW_RECORD_ENV_VARS_IN_MODEL_LOGGING` to `false`.\n"
     ]
    },
    {
     "name": "stdout",
     "output_type": "stream",
     "text": [
      "🏃 View run IR_2025-01-30 at: http://127.0.0.1:8768/#/experiments/1553/runs/ac4beaa04108420bae50653c366c1eb7\n",
      "🧪 View experiment at: http://127.0.0.1:8768/#/experiments/1553\n",
      "using model: GARCH(1,1)_1yrFit\n"
     ]
    },
    {
     "name": "stderr",
     "output_type": "stream",
     "text": [
      "Registered model 'GARCH(1,1)_1yrFit' already exists. Creating a new version of this model...\n",
      "2025/06/23 20:41:29 INFO mlflow.store.model_registry.abstract_store: Waiting up to 300 seconds for model version to finish creation. Model name: GARCH(1,1)_1yrFit, version 54\n",
      "Created version '54' of model 'GARCH(1,1)_1yrFit'.\n"
     ]
    },
    {
     "name": "stdout",
     "output_type": "stream",
     "text": [
      "🏃 View run IR_2025-01-31 at: http://127.0.0.1:8768/#/experiments/1553/runs/c3c12c812e5d4dd4a061caa8e85cdee6\n",
      "🧪 View experiment at: http://127.0.0.1:8768/#/experiments/1553\n",
      "⏭️  Skipping 2025-02-15: no exact curve_date in pivot\n",
      "⏭️  Skipping 2025-02-16: no exact curve_date in pivot\n"
     ]
    },
    {
     "name": "stderr",
     "output_type": "stream",
     "text": [
      "Registered model 'GARCH(1,1)_1yrFit' already exists. Creating a new version of this model...\n",
      "2025/06/23 20:41:33 INFO mlflow.store.model_registry.abstract_store: Waiting up to 300 seconds for model version to finish creation. Model name: GARCH(1,1)_1yrFit, version 55\n",
      "Created version '55' of model 'GARCH(1,1)_1yrFit'.\n"
     ]
    },
    {
     "name": "stdout",
     "output_type": "stream",
     "text": [
      "⏭️  Skipping 2025-02-17: no exact curve_date in pivot\n",
      "🏃 View run IR_2025-01-29 at: http://127.0.0.1:8768/#/experiments/1553/runs/ef42117174914087b907bf5086fea2e0\n",
      "🧪 View experiment at: http://127.0.0.1:8768/#/experiments/1553\n",
      "using model: GARCH(1,1)_1yrFit\n"
     ]
    },
    {
     "name": "stderr",
     "output_type": "stream",
     "text": [
      "2025/06/23 20:41:34 INFO mlflow.models.model: Found the following environment variables used during model inference: [DOMINO_USER_API_KEY]. Please check if you need to set them when deploying the model. To disable this message, set environment variable `MLFLOW_RECORD_ENV_VARS_IN_MODEL_LOGGING` to `false`.\n",
      "/mnt/artifacts/.domino/.persistence/packages/venv/lib/python3.10/site-packages/arch/univariate/volatility.py:1215: RuntimeWarning: invalid value encountered in scalar divide\n",
      "  scale = np.mean(resids**2) / (target ** (2.0 / power))\n",
      "/mnt/artifacts/.domino/.persistence/packages/venv/lib/python3.10/site-packages/arch/univariate/distribution.py:449: RuntimeWarning: divide by zero encountered in log\n",
      "  lls = -0.5 * (log(2 * pi) + log(sigma2) + resids ** 2.0 / sigma2)\n",
      "/mnt/artifacts/.domino/.persistence/packages/venv/lib/python3.10/site-packages/arch/univariate/distribution.py:449: RuntimeWarning: invalid value encountered in divide\n",
      "  lls = -0.5 * (log(2 * pi) + log(sigma2) + resids ** 2.0 / sigma2)\n",
      "/mnt/artifacts/.domino/.persistence/packages/venv/lib/python3.10/site-packages/arch/univariate/base.py:768: ConvergenceWarning: The optimizer returned code 4. The message is:\n",
      "Inequality constraints incompatible\n",
      "See scipy.optimize.fmin_slsqp for code meaning.\n",
      "\n",
      "  warnings.warn(\n",
      "/mnt/code/models/covariance/garch.py:37: RuntimeWarning: invalid value encountered in divide\n",
      "  std_resid[:, i] = res.resid / cond_vol[:, i]\n"
     ]
    },
    {
     "name": "stdout",
     "output_type": "stream",
     "text": [
      "using model: GARCH(1,1)_1yrFit\n"
     ]
    },
    {
     "name": "stderr",
     "output_type": "stream",
     "text": [
      "/mnt/artifacts/.domino/.persistence/packages/venv/lib/python3.10/site-packages/arch/univariate/volatility.py:1215: RuntimeWarning: invalid value encountered in scalar divide\n",
      "  scale = np.mean(resids**2) / (target ** (2.0 / power))\n",
      "/mnt/artifacts/.domino/.persistence/packages/venv/lib/python3.10/site-packages/arch/univariate/distribution.py:449: RuntimeWarning: divide by zero encountered in log\n",
      "  lls = -0.5 * (log(2 * pi) + log(sigma2) + resids ** 2.0 / sigma2)\n",
      "/mnt/artifacts/.domino/.persistence/packages/venv/lib/python3.10/site-packages/arch/univariate/distribution.py:449: RuntimeWarning: invalid value encountered in divide\n",
      "  lls = -0.5 * (log(2 * pi) + log(sigma2) + resids ** 2.0 / sigma2)\n",
      "/mnt/artifacts/.domino/.persistence/packages/venv/lib/python3.10/site-packages/arch/univariate/base.py:768: ConvergenceWarning: The optimizer returned code 4. The message is:\n",
      "Inequality constraints incompatible\n",
      "See scipy.optimize.fmin_slsqp for code meaning.\n",
      "\n",
      "  warnings.warn(\n",
      "/mnt/code/models/covariance/garch.py:37: RuntimeWarning: invalid value encountered in divide\n",
      "  std_resid[:, i] = res.resid / cond_vol[:, i]\n",
      "/mnt/artifacts/.domino/.persistence/packages/venv/lib/python3.10/site-packages/arch/univariate/volatility.py:1215: RuntimeWarning: invalid value encountered in scalar divide\n",
      "  scale = np.mean(resids**2) / (target ** (2.0 / power))\n",
      "/mnt/artifacts/.domino/.persistence/packages/venv/lib/python3.10/site-packages/arch/univariate/distribution.py:449: RuntimeWarning: divide by zero encountered in log\n",
      "  lls = -0.5 * (log(2 * pi) + log(sigma2) + resids ** 2.0 / sigma2)\n",
      "/mnt/artifacts/.domino/.persistence/packages/venv/lib/python3.10/site-packages/arch/univariate/distribution.py:449: RuntimeWarning: invalid value encountered in divide\n",
      "  lls = -0.5 * (log(2 * pi) + log(sigma2) + resids ** 2.0 / sigma2)\n",
      "/mnt/artifacts/.domino/.persistence/packages/venv/lib/python3.10/site-packages/arch/univariate/base.py:768: ConvergenceWarning: The optimizer returned code 4. The message is:\n",
      "Inequality constraints incompatible\n",
      "See scipy.optimize.fmin_slsqp for code meaning.\n",
      "\n",
      "  warnings.warn(\n",
      "/mnt/code/models/covariance/garch.py:37: RuntimeWarning: invalid value encountered in divide\n",
      "  std_resid[:, i] = res.resid / cond_vol[:, i]\n",
      "/mnt/artifacts/.domino/.persistence/packages/venv/lib/python3.10/site-packages/arch/univariate/volatility.py:1215: RuntimeWarning: invalid value encountered in scalar divide\n",
      "  scale = np.mean(resids**2) / (target ** (2.0 / power))\n",
      "/mnt/artifacts/.domino/.persistence/packages/venv/lib/python3.10/site-packages/arch/univariate/distribution.py:449: RuntimeWarning: divide by zero encountered in log\n",
      "  lls = -0.5 * (log(2 * pi) + log(sigma2) + resids ** 2.0 / sigma2)\n",
      "/mnt/artifacts/.domino/.persistence/packages/venv/lib/python3.10/site-packages/arch/univariate/distribution.py:449: RuntimeWarning: invalid value encountered in divide\n",
      "  lls = -0.5 * (log(2 * pi) + log(sigma2) + resids ** 2.0 / sigma2)\n"
     ]
    },
    {
     "name": "stdout",
     "output_type": "stream",
     "text": [
      "using model: GARCH(1,1)_1yrFit\n"
     ]
    },
    {
     "name": "stderr",
     "output_type": "stream",
     "text": [
      "/mnt/artifacts/.domino/.persistence/packages/venv/lib/python3.10/site-packages/arch/univariate/base.py:768: ConvergenceWarning: The optimizer returned code 4. The message is:\n",
      "Inequality constraints incompatible\n",
      "See scipy.optimize.fmin_slsqp for code meaning.\n",
      "\n",
      "  warnings.warn(\n",
      "/mnt/code/models/covariance/garch.py:37: RuntimeWarning: invalid value encountered in divide\n",
      "  std_resid[:, i] = res.resid / cond_vol[:, i]\n",
      "/mnt/artifacts/.domino/.persistence/packages/venv/lib/python3.10/site-packages/arch/univariate/volatility.py:1215: RuntimeWarning: invalid value encountered in scalar divide\n",
      "  scale = np.mean(resids**2) / (target ** (2.0 / power))\n",
      "/mnt/artifacts/.domino/.persistence/packages/venv/lib/python3.10/site-packages/arch/univariate/distribution.py:449: RuntimeWarning: divide by zero encountered in log\n",
      "  lls = -0.5 * (log(2 * pi) + log(sigma2) + resids ** 2.0 / sigma2)\n",
      "/mnt/artifacts/.domino/.persistence/packages/venv/lib/python3.10/site-packages/arch/univariate/distribution.py:449: RuntimeWarning: invalid value encountered in divide\n",
      "  lls = -0.5 * (log(2 * pi) + log(sigma2) + resids ** 2.0 / sigma2)\n",
      "/mnt/artifacts/.domino/.persistence/packages/venv/lib/python3.10/site-packages/arch/univariate/base.py:768: ConvergenceWarning: The optimizer returned code 4. The message is:\n",
      "Inequality constraints incompatible\n",
      "See scipy.optimize.fmin_slsqp for code meaning.\n",
      "\n",
      "  warnings.warn(\n",
      "/mnt/code/models/covariance/garch.py:37: RuntimeWarning: invalid value encountered in divide\n",
      "  std_resid[:, i] = res.resid / cond_vol[:, i]\n",
      "Registered model 'GARCH(1,1)_1yrFit' already exists. Creating a new version of this model...\n",
      "/opt/conda/lib/python3.10/site-packages/numpy/lib/function_base.py:2846: RuntimeWarning: Degrees of freedom <= 0 for slice\n",
      "  c = cov(x, y, rowvar, dtype=dtype)\n",
      "/opt/conda/lib/python3.10/site-packages/numpy/lib/function_base.py:2705: RuntimeWarning: divide by zero encountered in divide\n",
      "  c *= np.true_divide(1, fact)\n",
      "/opt/conda/lib/python3.10/site-packages/numpy/lib/function_base.py:2705: RuntimeWarning: invalid value encountered in multiply\n",
      "  c *= np.true_divide(1, fact)\n",
      "2025/06/23 20:41:38 INFO mlflow.store.model_registry.abstract_store: Waiting up to 300 seconds for model version to finish creation. Model name: GARCH(1,1)_1yrFit, version 56\n",
      "Created version '56' of model 'GARCH(1,1)_1yrFit'.\n"
     ]
    },
    {
     "name": "stdout",
     "output_type": "stream",
     "text": [
      "using model: GARCH(1,1)_1yrFit\n",
      "⏭️  Skipping 2025-02-22: no exact curve_date in pivot\n"
     ]
    },
    {
     "name": "stderr",
     "output_type": "stream",
     "text": [
      "/mnt/artifacts/.domino/.persistence/packages/venv/lib/python3.10/site-packages/arch/univariate/volatility.py:1215: RuntimeWarning: invalid value encountered in scalar divide\n",
      "  scale = np.mean(resids**2) / (target ** (2.0 / power))\n",
      "/mnt/artifacts/.domino/.persistence/packages/venv/lib/python3.10/site-packages/arch/univariate/distribution.py:449: RuntimeWarning: divide by zero encountered in log\n",
      "  lls = -0.5 * (log(2 * pi) + log(sigma2) + resids ** 2.0 / sigma2)\n",
      "/mnt/artifacts/.domino/.persistence/packages/venv/lib/python3.10/site-packages/arch/univariate/distribution.py:449: RuntimeWarning: invalid value encountered in divide\n",
      "  lls = -0.5 * (log(2 * pi) + log(sigma2) + resids ** 2.0 / sigma2)\n",
      "/mnt/artifacts/.domino/.persistence/packages/venv/lib/python3.10/site-packages/arch/univariate/base.py:768: ConvergenceWarning: The optimizer returned code 4. The message is:\n",
      "Inequality constraints incompatible\n",
      "See scipy.optimize.fmin_slsqp for code meaning.\n",
      "\n",
      "  warnings.warn(\n",
      "/mnt/code/models/covariance/garch.py:37: RuntimeWarning: invalid value encountered in divide\n",
      "  std_resid[:, i] = res.resid / cond_vol[:, i]\n"
     ]
    },
    {
     "name": "stdout",
     "output_type": "stream",
     "text": [
      "🏃 View run IR_2025-02-06 at: http://127.0.0.1:8768/#/experiments/1553/runs/052aea14a90140ae8be1ed6716dac96e\n",
      "🧪 View experiment at: http://127.0.0.1:8768/#/experiments/1553\n"
     ]
    },
    {
     "name": "stderr",
     "output_type": "stream",
     "text": [
      "Registered model 'GARCH(1,1)_1yrFit' already exists. Creating a new version of this model...\n"
     ]
    },
    {
     "name": "stdout",
     "output_type": "stream",
     "text": [
      "⏭️  Skipping 2025-02-23: no exact curve_date in pivot\n"
     ]
    },
    {
     "name": "stderr",
     "output_type": "stream",
     "text": [
      "2025/06/23 20:41:40 INFO mlflow.models.model: Found the following environment variables used during model inference: [DOMINO_USER_API_KEY]. Please check if you need to set them when deploying the model. To disable this message, set environment variable `MLFLOW_RECORD_ENV_VARS_IN_MODEL_LOGGING` to `false`.\n",
      "2025/06/23 20:41:40 INFO mlflow.store.model_registry.abstract_store: Waiting up to 300 seconds for model version to finish creation. Model name: GARCH(1,1)_1yrFit, version 57\n",
      "Created version '57' of model 'GARCH(1,1)_1yrFit'.\n"
     ]
    },
    {
     "name": "stdout",
     "output_type": "stream",
     "text": [
      "using model: GARCH(1,1)_1yrFit\n",
      "🏃 View run IR_2025-02-03 at: http://127.0.0.1:8768/#/experiments/1553/runs/cf89974b542c4fe0991c6ee47d137481\n",
      "🧪 View experiment at: http://127.0.0.1:8768/#/experiments/1553\n",
      "using model: GARCH(1,1)_1yrFit\n",
      "using model: GARCH(1,1)_1yrFit\n"
     ]
    },
    {
     "name": "stderr",
     "output_type": "stream",
     "text": [
      "Registered model 'GARCH(1,1)_1yrFit' already exists. Creating a new version of this model...\n",
      "2025/06/23 20:41:45 INFO mlflow.store.model_registry.abstract_store: Waiting up to 300 seconds for model version to finish creation. Model name: GARCH(1,1)_1yrFit, version 58\n",
      "Created version '58' of model 'GARCH(1,1)_1yrFit'.\n"
     ]
    },
    {
     "name": "stdout",
     "output_type": "stream",
     "text": [
      "🏃 View run IR_2025-02-04 at: http://127.0.0.1:8768/#/experiments/1553/runs/f0ce0675f95540d98513e80109dbb134\n",
      "🧪 View experiment at: http://127.0.0.1:8768/#/experiments/1553\n",
      "using model: GARCH(1,1)_1yrFit\n"
     ]
    },
    {
     "name": "stderr",
     "output_type": "stream",
     "text": [
      "Registered model 'GARCH(1,1)_1yrFit' already exists. Creating a new version of this model...\n",
      "2025/06/23 20:42:02 INFO mlflow.models.model: Found the following environment variables used during model inference: [DOMINO_USER_API_KEY]. Please check if you need to set them when deploying the model. To disable this message, set environment variable `MLFLOW_RECORD_ENV_VARS_IN_MODEL_LOGGING` to `false`.\n",
      "Registered model 'GARCH(1,1)_1yrFit' already exists. Creating a new version of this model...\n",
      "2025/06/23 20:42:03 INFO mlflow.store.model_registry.abstract_store: Waiting up to 300 seconds for model version to finish creation. Model name: GARCH(1,1)_1yrFit, version 59\n",
      "Created version '59' of model 'GARCH(1,1)_1yrFit'.\n",
      "2025/06/23 20:42:04 INFO mlflow.store.model_registry.abstract_store: Waiting up to 300 seconds for model version to finish creation. Model name: GARCH(1,1)_1yrFit, version 60\n",
      "Created version '60' of model 'GARCH(1,1)_1yrFit'.\n"
     ]
    },
    {
     "name": "stdout",
     "output_type": "stream",
     "text": [
      "🏃 View run IR_2025-02-10 at: http://127.0.0.1:8768/#/experiments/1553/runs/7d94d271d6024766839f3050e05a0b36\n",
      "🧪 View experiment at: http://127.0.0.1:8768/#/experiments/1553\n"
     ]
    },
    {
     "name": "stderr",
     "output_type": "stream",
     "text": [
      "Registered model 'GARCH(1,1)_1yrFit' already exists. Creating a new version of this model...\n"
     ]
    },
    {
     "name": "stdout",
     "output_type": "stream",
     "text": [
      "🏃 View run IR_2025-02-07 at: http://127.0.0.1:8768/#/experiments/1553/runs/70d35e1609bb43cb9857facf987a22cf\n",
      "🧪 View experiment at: http://127.0.0.1:8768/#/experiments/1553\n"
     ]
    },
    {
     "name": "stderr",
     "output_type": "stream",
     "text": [
      "2025/06/23 20:42:05 INFO mlflow.store.model_registry.abstract_store: Waiting up to 300 seconds for model version to finish creation. Model name: GARCH(1,1)_1yrFit, version 61\n",
      "Created version '61' of model 'GARCH(1,1)_1yrFit'.\n"
     ]
    },
    {
     "name": "stdout",
     "output_type": "stream",
     "text": [
      "🏃 View run IR_2025-02-11 at: http://127.0.0.1:8768/#/experiments/1553/runs/47769e3188e84e5ab9bbbe505186b2de\n",
      "🧪 View experiment at: http://127.0.0.1:8768/#/experiments/1553\n"
     ]
    },
    {
     "name": "stderr",
     "output_type": "stream",
     "text": [
      "Registered model 'GARCH(1,1)_1yrFit' already exists. Creating a new version of this model...\n",
      "2025/06/23 20:42:07 INFO mlflow.store.model_registry.abstract_store: Waiting up to 300 seconds for model version to finish creation. Model name: GARCH(1,1)_1yrFit, version 62\n",
      "Created version '62' of model 'GARCH(1,1)_1yrFit'.\n"
     ]
    },
    {
     "name": "stdout",
     "output_type": "stream",
     "text": [
      "🏃 View run IR_2025-02-05 at: http://127.0.0.1:8768/#/experiments/1553/runs/14a5b17b2b274414b7b1f32b6c9cf8e0\n",
      "🧪 View experiment at: http://127.0.0.1:8768/#/experiments/1553\n"
     ]
    },
    {
     "name": "stderr",
     "output_type": "stream",
     "text": [
      "Registered model 'GARCH(1,1)_1yrFit' already exists. Creating a new version of this model...\n"
     ]
    },
    {
     "name": "stdout",
     "output_type": "stream",
     "text": [
      "using model: GARCH(1,1)_1yrFit\n"
     ]
    },
    {
     "name": "stderr",
     "output_type": "stream",
     "text": [
      "Registered model 'GARCH(1,1)_1yrFit' already exists. Creating a new version of this model...\n",
      "2025/06/23 20:42:13 INFO mlflow.store.model_registry.abstract_store: Waiting up to 300 seconds for model version to finish creation. Model name: GARCH(1,1)_1yrFit, version 63\n",
      "Created version '63' of model 'GARCH(1,1)_1yrFit'.\n",
      "2025/06/23 20:42:15 INFO mlflow.store.model_registry.abstract_store: Waiting up to 300 seconds for model version to finish creation. Model name: GARCH(1,1)_1yrFit, version 64\n",
      "Created version '64' of model 'GARCH(1,1)_1yrFit'.\n"
     ]
    },
    {
     "name": "stdout",
     "output_type": "stream",
     "text": [
      "🏃 View run IR_2025-02-14 at: http://127.0.0.1:8768/#/experiments/1553/runs/2abd3b3c34154849b65f902b6e458b30\n",
      "🧪 View experiment at: http://127.0.0.1:8768/#/experiments/1553\n",
      "🏃 View run IR_2025-02-12 at: http://127.0.0.1:8768/#/experiments/1553/runs/f8ffbc8ced5e4fc581f147bc40bb887b\n",
      "🧪 View experiment at: http://127.0.0.1:8768/#/experiments/1553\n"
     ]
    },
    {
     "name": "stderr",
     "output_type": "stream",
     "text": [
      "2025/06/23 20:42:17 INFO mlflow.models.model: Found the following environment variables used during model inference: [DOMINO_USER_API_KEY]. Please check if you need to set them when deploying the model. To disable this message, set environment variable `MLFLOW_RECORD_ENV_VARS_IN_MODEL_LOGGING` to `false`.\n",
      "Registered model 'GARCH(1,1)_1yrFit' already exists. Creating a new version of this model...\n",
      "2025/06/23 20:42:21 INFO mlflow.store.model_registry.abstract_store: Waiting up to 300 seconds for model version to finish creation. Model name: GARCH(1,1)_1yrFit, version 65\n",
      "Created version '65' of model 'GARCH(1,1)_1yrFit'.\n"
     ]
    },
    {
     "name": "stdout",
     "output_type": "stream",
     "text": [
      "🏃 View run IR_2025-02-13 at: http://127.0.0.1:8768/#/experiments/1553/runs/c6aabd2f5d0446fb828e1aad5879f664\n",
      "🧪 View experiment at: http://127.0.0.1:8768/#/experiments/1553\n"
     ]
    },
    {
     "name": "stderr",
     "output_type": "stream",
     "text": [
      "2025/06/23 20:42:30 INFO mlflow.models.model: Found the following environment variables used during model inference: [DOMINO_USER_API_KEY]. Please check if you need to set them when deploying the model. To disable this message, set environment variable `MLFLOW_RECORD_ENV_VARS_IN_MODEL_LOGGING` to `false`.\n",
      "Registered model 'GARCH(1,1)_1yrFit' already exists. Creating a new version of this model...\n",
      "2025/06/23 20:42:33 INFO mlflow.store.model_registry.abstract_store: Waiting up to 300 seconds for model version to finish creation. Model name: GARCH(1,1)_1yrFit, version 66\n",
      "Created version '66' of model 'GARCH(1,1)_1yrFit'.\n"
     ]
    },
    {
     "name": "stdout",
     "output_type": "stream",
     "text": [
      "🏃 View run IR_2025-02-26 at: http://127.0.0.1:8768/#/experiments/1553/runs/b6ec7e769536474c97f585415b9862a2\n",
      "🧪 View experiment at: http://127.0.0.1:8768/#/experiments/1553\n"
     ]
    },
    {
     "name": "stderr",
     "output_type": "stream",
     "text": [
      "Registered model 'GARCH(1,1)_1yrFit' already exists. Creating a new version of this model...\n",
      "2025/06/23 20:42:36 INFO mlflow.store.model_registry.abstract_store: Waiting up to 300 seconds for model version to finish creation. Model name: GARCH(1,1)_1yrFit, version 67\n",
      "Created version '67' of model 'GARCH(1,1)_1yrFit'.\n",
      "2025/06/23 20:42:36 INFO mlflow.models.model: Found the following environment variables used during model inference: [DOMINO_USER_API_KEY]. Please check if you need to set them when deploying the model. To disable this message, set environment variable `MLFLOW_RECORD_ENV_VARS_IN_MODEL_LOGGING` to `false`.\n",
      "Registered model 'GARCH(1,1)_1yrFit' already exists. Creating a new version of this model...\n",
      "2025/06/23 20:42:38 INFO mlflow.store.model_registry.abstract_store: Waiting up to 300 seconds for model version to finish creation. Model name: GARCH(1,1)_1yrFit, version 68\n",
      "Created version '68' of model 'GARCH(1,1)_1yrFit'.\n"
     ]
    },
    {
     "name": "stdout",
     "output_type": "stream",
     "text": [
      "🏃 View run IR_2025-02-06 at: http://127.0.0.1:8768/#/experiments/1553/runs/93e52d23945c4821a0a7613e10b68e54\n",
      "🧪 View experiment at: http://127.0.0.1:8768/#/experiments/1553\n",
      "🏃 View run IR_2025-02-25 at: http://127.0.0.1:8768/#/experiments/1553/runs/a03789a94278485993de83164b24dd77\n",
      "🧪 View experiment at: http://127.0.0.1:8768/#/experiments/1553\n"
     ]
    },
    {
     "name": "stderr",
     "output_type": "stream",
     "text": [
      "Registered model 'GARCH(1,1)_1yrFit' already exists. Creating a new version of this model...\n"
     ]
    },
    {
     "name": "stdout",
     "output_type": "stream",
     "text": [
      "⏭️  Skipping 2025-03-01: no exact curve_date in pivot\n"
     ]
    },
    {
     "name": "stderr",
     "output_type": "stream",
     "text": [
      "2025/06/23 20:42:41 INFO mlflow.store.model_registry.abstract_store: Waiting up to 300 seconds for model version to finish creation. Model name: GARCH(1,1)_1yrFit, version 69\n",
      "Created version '69' of model 'GARCH(1,1)_1yrFit'.\n"
     ]
    },
    {
     "name": "stdout",
     "output_type": "stream",
     "text": [
      "⏭️  Skipping 2025-03-02: no exact curve_date in pivot\n",
      "🏃 View run IR_2025-02-27 at: http://127.0.0.1:8768/#/experiments/1553/runs/993148b4ce6547908a504de986483b6e\n",
      "🧪 View experiment at: http://127.0.0.1:8768/#/experiments/1553\n"
     ]
    },
    {
     "name": "stderr",
     "output_type": "stream",
     "text": [
      "Registered model 'GARCH(1,1)_1yrFit' already exists. Creating a new version of this model...\n"
     ]
    },
    {
     "name": "stdout",
     "output_type": "stream",
     "text": [
      "using model: GARCH(1,1)_1yrFit\n"
     ]
    },
    {
     "name": "stderr",
     "output_type": "stream",
     "text": [
      "2025/06/23 20:42:45 INFO mlflow.store.model_registry.abstract_store: Waiting up to 300 seconds for model version to finish creation. Model name: GARCH(1,1)_1yrFit, version 70\n",
      "Created version '70' of model 'GARCH(1,1)_1yrFit'.\n"
     ]
    },
    {
     "name": "stdout",
     "output_type": "stream",
     "text": [
      "🏃 View run IR_2025-02-24 at: http://127.0.0.1:8768/#/experiments/1553/runs/1e66479554e54ecd9a5257a30a82d446\n",
      "🧪 View experiment at: http://127.0.0.1:8768/#/experiments/1553\n"
     ]
    },
    {
     "name": "stderr",
     "output_type": "stream",
     "text": [
      "Registered model 'GARCH(1,1)_1yrFit' already exists. Creating a new version of this model...\n",
      "2025/06/23 20:42:56 INFO mlflow.store.model_registry.abstract_store: Waiting up to 300 seconds for model version to finish creation. Model name: GARCH(1,1)_1yrFit, version 71\n",
      "Created version '71' of model 'GARCH(1,1)_1yrFit'.\n"
     ]
    },
    {
     "name": "stdout",
     "output_type": "stream",
     "text": [
      "🏃 View run IR_2025-02-10 at: http://127.0.0.1:8768/#/experiments/1553/runs/68644f0452384d0295b6c8b989f94c64\n",
      "🧪 View experiment at: http://127.0.0.1:8768/#/experiments/1553\n"
     ]
    },
    {
     "name": "stderr",
     "output_type": "stream",
     "text": [
      "2025/06/23 20:42:57 INFO mlflow.models.model: Found the following environment variables used during model inference: [DOMINO_USER_API_KEY]. Please check if you need to set them when deploying the model. To disable this message, set environment variable `MLFLOW_RECORD_ENV_VARS_IN_MODEL_LOGGING` to `false`.\n"
     ]
    },
    {
     "name": "stdout",
     "output_type": "stream",
     "text": [
      "using model: GARCH(1,1)_1yrFit\n"
     ]
    },
    {
     "name": "stderr",
     "output_type": "stream",
     "text": [
      "Registered model 'GARCH(1,1)_1yrFit' already exists. Creating a new version of this model...\n",
      "2025/06/23 20:43:00 INFO mlflow.store.model_registry.abstract_store: Waiting up to 300 seconds for model version to finish creation. Model name: GARCH(1,1)_1yrFit, version 72\n",
      "Created version '72' of model 'GARCH(1,1)_1yrFit'.\n",
      "Registered model 'GARCH(1,1)_1yrFit' already exists. Creating a new version of this model...\n",
      "2025/06/23 20:43:00 INFO mlflow.store.model_registry.abstract_store: Waiting up to 300 seconds for model version to finish creation. Model name: GARCH(1,1)_1yrFit, version 73\n"
     ]
    },
    {
     "name": "stdout",
     "output_type": "stream",
     "text": [
      "🏃 View run IR_2025-02-07 at: http://127.0.0.1:8768/#/experiments/1553/runs/c87b9545d0894e2ba9c9113d42d76f97\n",
      "🧪 View experiment at: http://127.0.0.1:8768/#/experiments/1553\n"
     ]
    },
    {
     "name": "stderr",
     "output_type": "stream",
     "text": [
      "Created version '73' of model 'GARCH(1,1)_1yrFit'.\n"
     ]
    },
    {
     "name": "stdout",
     "output_type": "stream",
     "text": [
      "🏃 View run IR_2025-02-11 at: http://127.0.0.1:8768/#/experiments/1553/runs/8d641192873145928b3a2c20af6c7128\n",
      "🧪 View experiment at: http://127.0.0.1:8768/#/experiments/1553\n",
      "using model: GARCH(1,1)_1yrFit\n",
      "using model: GARCH(1,1)_1yrFit\n"
     ]
    },
    {
     "name": "stderr",
     "output_type": "stream",
     "text": [
      "Registered model 'GARCH(1,1)_1yrFit' already exists. Creating a new version of this model...\n",
      "2025/06/23 20:43:03 INFO mlflow.store.model_registry.abstract_store: Waiting up to 300 seconds for model version to finish creation. Model name: GARCH(1,1)_1yrFit, version 74\n",
      "Created version '74' of model 'GARCH(1,1)_1yrFit'.\n"
     ]
    },
    {
     "name": "stdout",
     "output_type": "stream",
     "text": [
      "🏃 View run IR_2025-02-28 at: http://127.0.0.1:8768/#/experiments/1553/runs/b35fccf1f03341dcb9e9210993b023bc\n",
      "🧪 View experiment at: http://127.0.0.1:8768/#/experiments/1553\n"
     ]
    },
    {
     "name": "stderr",
     "output_type": "stream",
     "text": [
      "Registered model 'GARCH(1,1)_1yrFit' already exists. Creating a new version of this model...\n",
      "Registered model 'GARCH(1,1)_1yrFit' already exists. Creating a new version of this model...\n",
      "2025/06/23 20:43:04 INFO mlflow.store.model_registry.abstract_store: Waiting up to 300 seconds for model version to finish creation. Model name: GARCH(1,1)_1yrFit, version 75\n",
      "Created version '75' of model 'GARCH(1,1)_1yrFit'.\n",
      "2025/06/23 20:43:05 INFO mlflow.store.model_registry.abstract_store: Waiting up to 300 seconds for model version to finish creation. Model name: GARCH(1,1)_1yrFit, version 76\n"
     ]
    },
    {
     "name": "stdout",
     "output_type": "stream",
     "text": [
      "🏃 View run IR_2025-02-12 at: http://127.0.0.1:8768/#/experiments/1553/runs/263bdc9223dc4772ab1f8a83b093468c\n",
      "🧪 View experiment at: http://127.0.0.1:8768/#/experiments/1553\n"
     ]
    },
    {
     "name": "stderr",
     "output_type": "stream",
     "text": [
      "Created version '76' of model 'GARCH(1,1)_1yrFit'.\n",
      "Registered model 'GARCH(1,1)_1yrFit' already exists. Creating a new version of this model...\n",
      "2025/06/23 20:43:05 INFO mlflow.store.model_registry.abstract_store: Waiting up to 300 seconds for model version to finish creation. Model name: GARCH(1,1)_1yrFit, version 77\n"
     ]
    },
    {
     "name": "stdout",
     "output_type": "stream",
     "text": [
      "🏃 View run IR_2025-02-14 at: http://127.0.0.1:8768/#/experiments/1553/runs/5e4e3c75a7ba4425baba055ac3e8442b\n",
      "🧪 View experiment at: http://127.0.0.1:8768/#/experiments/1553\n"
     ]
    },
    {
     "name": "stderr",
     "output_type": "stream",
     "text": [
      "Created version '77' of model 'GARCH(1,1)_1yrFit'.\n"
     ]
    },
    {
     "name": "stdout",
     "output_type": "stream",
     "text": [
      "using model: GARCH(1,1)_1yrFit\n",
      "🏃 View run IR_2025-02-13 at: http://127.0.0.1:8768/#/experiments/1553/runs/7caee054c71049988082e761f92fa5de\n",
      "🧪 View experiment at: http://127.0.0.1:8768/#/experiments/1553\n",
      "⏭️  Skipping 2025-03-08: no exact curve_date in pivot\n",
      "using model: GARCH(1,1)_1yrFit\n",
      "⏭️  Skipping 2025-03-09: no exact curve_date in pivot\n",
      "using model: GARCH(1,1)_1yrFit\n"
     ]
    },
    {
     "name": "stderr",
     "output_type": "stream",
     "text": [
      "Registered model 'GARCH(1,1)_1yrFit' already exists. Creating a new version of this model...\n",
      "2025/06/23 20:43:12 INFO mlflow.store.model_registry.abstract_store: Waiting up to 300 seconds for model version to finish creation. Model name: GARCH(1,1)_1yrFit, version 78\n",
      "Created version '78' of model 'GARCH(1,1)_1yrFit'.\n"
     ]
    },
    {
     "name": "stdout",
     "output_type": "stream",
     "text": [
      "🏃 View run IR_2025-02-26 at: http://127.0.0.1:8768/#/experiments/1553/runs/196e3263aebb480681328150544d1e8c\n",
      "🧪 View experiment at: http://127.0.0.1:8768/#/experiments/1553\n",
      "using model: GARCH(1,1)_1yrFit\n"
     ]
    },
    {
     "name": "stderr",
     "output_type": "stream",
     "text": [
      "2025/06/23 20:43:23 INFO mlflow.models.model: Found the following environment variables used during model inference: [DOMINO_USER_API_KEY]. Please check if you need to set them when deploying the model. To disable this message, set environment variable `MLFLOW_RECORD_ENV_VARS_IN_MODEL_LOGGING` to `false`.\n",
      "Registered model 'GARCH(1,1)_1yrFit' already exists. Creating a new version of this model...\n",
      "2025/06/23 20:43:24 INFO mlflow.store.model_registry.abstract_store: Waiting up to 300 seconds for model version to finish creation. Model name: GARCH(1,1)_1yrFit, version 79\n",
      "Created version '79' of model 'GARCH(1,1)_1yrFit'.\n"
     ]
    },
    {
     "name": "stdout",
     "output_type": "stream",
     "text": [
      "🏃 View run IR_2025-02-27 at: http://127.0.0.1:8768/#/experiments/1553/runs/8d43e8cb26fe47b4ab0adca54994b418\n",
      "🧪 View experiment at: http://127.0.0.1:8768/#/experiments/1553\n"
     ]
    },
    {
     "name": "stderr",
     "output_type": "stream",
     "text": [
      "Registered model 'GARCH(1,1)_1yrFit' already exists. Creating a new version of this model...\n",
      "2025/06/23 20:43:26 INFO mlflow.store.model_registry.abstract_store: Waiting up to 300 seconds for model version to finish creation. Model name: GARCH(1,1)_1yrFit, version 80\n",
      "Created version '80' of model 'GARCH(1,1)_1yrFit'.\n"
     ]
    },
    {
     "name": "stdout",
     "output_type": "stream",
     "text": [
      "using model: GARCH(1,1)_1yrFit\n",
      "🏃 View run IR_2025-02-24 at: http://127.0.0.1:8768/#/experiments/1553/runs/5802f63dbb4c41618ba62ada9b1dd740\n",
      "🧪 View experiment at: http://127.0.0.1:8768/#/experiments/1553\n"
     ]
    },
    {
     "name": "stderr",
     "output_type": "stream",
     "text": [
      "Registered model 'GARCH(1,1)_1yrFit' already exists. Creating a new version of this model...\n"
     ]
    },
    {
     "name": "stdout",
     "output_type": "stream",
     "text": [
      "using model: GARCH(1,1)_1yrFit\n"
     ]
    },
    {
     "name": "stderr",
     "output_type": "stream",
     "text": [
      "2025/06/23 20:43:29 INFO mlflow.store.model_registry.abstract_store: Waiting up to 300 seconds for model version to finish creation. Model name: GARCH(1,1)_1yrFit, version 81\n",
      "Created version '81' of model 'GARCH(1,1)_1yrFit'.\n"
     ]
    },
    {
     "name": "stdout",
     "output_type": "stream",
     "text": [
      "🏃 View run IR_2025-02-25 at: http://127.0.0.1:8768/#/experiments/1553/runs/1c3b9494d9924f4790326aea41485950\n",
      "🧪 View experiment at: http://127.0.0.1:8768/#/experiments/1553\n",
      "⏭️  Skipping 2025-03-15: no exact curve_date in pivot\n",
      "⏭️  Skipping 2025-03-16: no exact curve_date in pivot\n",
      "using model: GARCH(1,1)_1yrFit\n"
     ]
    },
    {
     "name": "stderr",
     "output_type": "stream",
     "text": [
      "2025/06/23 20:43:37 INFO mlflow.models.model: Found the following environment variables used during model inference: [DOMINO_USER_API_KEY]. Please check if you need to set them when deploying the model. To disable this message, set environment variable `MLFLOW_RECORD_ENV_VARS_IN_MODEL_LOGGING` to `false`.\n",
      "Registered model 'GARCH(1,1)_1yrFit' already exists. Creating a new version of this model...\n",
      "2025/06/23 20:43:40 INFO mlflow.store.model_registry.abstract_store: Waiting up to 300 seconds for model version to finish creation. Model name: GARCH(1,1)_1yrFit, version 82\n",
      "Created version '82' of model 'GARCH(1,1)_1yrFit'.\n"
     ]
    },
    {
     "name": "stdout",
     "output_type": "stream",
     "text": [
      "🏃 View run IR_2025-03-03 at: http://127.0.0.1:8768/#/experiments/1553/runs/98046a07c22c438090d2ec3836a3e337\n",
      "🧪 View experiment at: http://127.0.0.1:8768/#/experiments/1553\n"
     ]
    },
    {
     "name": "stderr",
     "output_type": "stream",
     "text": [
      "2025/06/23 20:43:47 INFO mlflow.models.model: Found the following environment variables used during model inference: [DOMINO_USER_API_KEY]. Please check if you need to set them when deploying the model. To disable this message, set environment variable `MLFLOW_RECORD_ENV_VARS_IN_MODEL_LOGGING` to `false`.\n",
      "2025/06/23 20:43:48 INFO mlflow.models.model: Found the following environment variables used during model inference: [DOMINO_USER_API_KEY]. Please check if you need to set them when deploying the model. To disable this message, set environment variable `MLFLOW_RECORD_ENV_VARS_IN_MODEL_LOGGING` to `false`.\n",
      "Registered model 'GARCH(1,1)_1yrFit' already exists. Creating a new version of this model...\n",
      "Registered model 'GARCH(1,1)_1yrFit' already exists. Creating a new version of this model...\n",
      "2025/06/23 20:43:52 INFO mlflow.store.model_registry.abstract_store: Waiting up to 300 seconds for model version to finish creation. Model name: GARCH(1,1)_1yrFit, version 83\n",
      "Created version '83' of model 'GARCH(1,1)_1yrFit'.\n",
      "2025/06/23 20:43:52 INFO mlflow.store.model_registry.abstract_store: Waiting up to 300 seconds for model version to finish creation. Model name: GARCH(1,1)_1yrFit, version 84\n",
      "Created version '84' of model 'GARCH(1,1)_1yrFit'.\n",
      "Registered model 'GARCH(1,1)_1yrFit' already exists. Creating a new version of this model...\n"
     ]
    },
    {
     "name": "stdout",
     "output_type": "stream",
     "text": [
      "🏃 View run IR_2025-03-04 at: http://127.0.0.1:8768/#/experiments/1553/runs/2f59c5a2a6794337ac2aaead36483f27\n",
      "🏃 View run IR_2025-03-06 at: http://127.0.0.1:8768/#/experiments/1553/runs/dda78d84a0844e57bdb45e1392e2ea41\n",
      "🧪 View experiment at: http://127.0.0.1:8768/#/experiments/1553\n",
      "🧪 View experiment at: http://127.0.0.1:8768/#/experiments/1553\n"
     ]
    },
    {
     "name": "stderr",
     "output_type": "stream",
     "text": [
      "2025/06/23 20:43:53 INFO mlflow.store.model_registry.abstract_store: Waiting up to 300 seconds for model version to finish creation. Model name: GARCH(1,1)_1yrFit, version 85\n",
      "Created version '85' of model 'GARCH(1,1)_1yrFit'.\n"
     ]
    },
    {
     "name": "stdout",
     "output_type": "stream",
     "text": [
      "🏃 View run IR_2025-02-28 at: http://127.0.0.1:8768/#/experiments/1553/runs/f40edd6cdfbb496c9bce87b4f4702dce\n",
      "🧪 View experiment at: http://127.0.0.1:8768/#/experiments/1553\n",
      "using model: GARCH(1,1)_1yrFit\n"
     ]
    },
    {
     "name": "stderr",
     "output_type": "stream",
     "text": [
      "Registered model 'GARCH(1,1)_1yrFit' already exists. Creating a new version of this model...\n",
      "2025/06/23 20:43:59 INFO mlflow.store.model_registry.abstract_store: Waiting up to 300 seconds for model version to finish creation. Model name: GARCH(1,1)_1yrFit, version 86\n",
      "Created version '86' of model 'GARCH(1,1)_1yrFit'.\n"
     ]
    },
    {
     "name": "stdout",
     "output_type": "stream",
     "text": [
      "🏃 View run IR_2025-03-10 at: http://127.0.0.1:8768/#/experiments/1553/runs/3221a8d2e4014c85a9e74acda0d4df50\n",
      "🧪 View experiment at: http://127.0.0.1:8768/#/experiments/1553\n"
     ]
    },
    {
     "name": "stderr",
     "output_type": "stream",
     "text": [
      "2025/06/23 20:44:00 INFO mlflow.models.model: Found the following environment variables used during model inference: [DOMINO_USER_API_KEY]. Please check if you need to set them when deploying the model. To disable this message, set environment variable `MLFLOW_RECORD_ENV_VARS_IN_MODEL_LOGGING` to `false`.\n",
      "Registered model 'GARCH(1,1)_1yrFit' already exists. Creating a new version of this model...\n"
     ]
    },
    {
     "name": "stdout",
     "output_type": "stream",
     "text": [
      "using model: GARCH(1,1)_1yrFit\n"
     ]
    },
    {
     "name": "stderr",
     "output_type": "stream",
     "text": [
      "/mnt/artifacts/.domino/.persistence/packages/venv/lib/python3.10/site-packages/arch/univariate/base.py:768: ConvergenceWarning: The optimizer returned code 8. The message is:\n",
      "Positive directional derivative for linesearch\n",
      "See scipy.optimize.fmin_slsqp for code meaning.\n",
      "\n",
      "  warnings.warn(\n",
      "Registered model 'GARCH(1,1)_1yrFit' already exists. Creating a new version of this model...\n",
      "2025/06/23 20:44:04 INFO mlflow.store.model_registry.abstract_store: Waiting up to 300 seconds for model version to finish creation. Model name: GARCH(1,1)_1yrFit, version 87\n",
      "Created version '87' of model 'GARCH(1,1)_1yrFit'.\n",
      "2025/06/23 20:44:05 INFO mlflow.store.model_registry.abstract_store: Waiting up to 300 seconds for model version to finish creation. Model name: GARCH(1,1)_1yrFit, version 88\n",
      "Created version '88' of model 'GARCH(1,1)_1yrFit'.\n",
      "2025/06/23 20:44:06 INFO mlflow.models.model: Found the following environment variables used during model inference: [DOMINO_USER_API_KEY]. Please check if you need to set them when deploying the model. To disable this message, set environment variable `MLFLOW_RECORD_ENV_VARS_IN_MODEL_LOGGING` to `false`.\n"
     ]
    },
    {
     "name": "stdout",
     "output_type": "stream",
     "text": [
      "🏃 View run IR_2025-03-07 at: http://127.0.0.1:8768/#/experiments/1553/runs/48f11fe24ff348cbbee32f3c7baef816\n",
      "🧪 View experiment at: http://127.0.0.1:8768/#/experiments/1553\n",
      "using model: GARCH(1,1)_1yrFit\n",
      "🏃 View run IR_2025-03-12 at: http://127.0.0.1:8768/#/experiments/1553/runs/de030c559f1a46cc8b1945206b667caf\n",
      "🧪 View experiment at: http://127.0.0.1:8768/#/experiments/1553\n"
     ]
    },
    {
     "name": "stderr",
     "output_type": "stream",
     "text": [
      "Registered model 'GARCH(1,1)_1yrFit' already exists. Creating a new version of this model...\n",
      "2025/06/23 20:44:09 INFO mlflow.store.model_registry.abstract_store: Waiting up to 300 seconds for model version to finish creation. Model name: GARCH(1,1)_1yrFit, version 89\n",
      "Created version '89' of model 'GARCH(1,1)_1yrFit'.\n"
     ]
    },
    {
     "name": "stdout",
     "output_type": "stream",
     "text": [
      "🏃 View run IR_2025-03-11 at: http://127.0.0.1:8768/#/experiments/1553/runs/faaa04ec94ad47fcb1b3ab8b678435a5\n",
      "🧪 View experiment at: http://127.0.0.1:8768/#/experiments/1553\n"
     ]
    },
    {
     "name": "stderr",
     "output_type": "stream",
     "text": [
      "Registered model 'GARCH(1,1)_1yrFit' already exists. Creating a new version of this model...\n",
      "2025/06/23 20:44:11 INFO mlflow.store.model_registry.abstract_store: Waiting up to 300 seconds for model version to finish creation. Model name: GARCH(1,1)_1yrFit, version 90\n",
      "Created version '90' of model 'GARCH(1,1)_1yrFit'.\n"
     ]
    },
    {
     "name": "stdout",
     "output_type": "stream",
     "text": [
      "🏃 View run IR_2025-03-05 at: http://127.0.0.1:8768/#/experiments/1553/runs/dbc8b08c3b3d48b797f07a0b935a1f82\n",
      "🧪 View experiment at: http://127.0.0.1:8768/#/experiments/1553\n",
      "using model: GARCH(1,1)_1yrFit\n",
      "⏭️  Skipping 2025-03-23: no exact curve_date in pivot\n",
      "⏭️  Skipping 2025-03-22: no exact curve_date in pivot\n",
      "using model: GARCH(1,1)_1yrFit\n",
      "using model: GARCH(1,1)_1yrFit\n"
     ]
    },
    {
     "name": "stderr",
     "output_type": "stream",
     "text": [
      "Registered model 'GARCH(1,1)_1yrFit' already exists. Creating a new version of this model...\n",
      "2025/06/23 20:44:22 INFO mlflow.models.model: Found the following environment variables used during model inference: [DOMINO_USER_API_KEY]. Please check if you need to set them when deploying the model. To disable this message, set environment variable `MLFLOW_RECORD_ENV_VARS_IN_MODEL_LOGGING` to `false`.\n",
      "Registered model 'GARCH(1,1)_1yrFit' already exists. Creating a new version of this model...2025/06/23 20:44:22 INFO mlflow.store.model_registry.abstract_store: Waiting up to 300 seconds for model version to finish creation. Model name: GARCH(1,1)_1yrFit, version 91\n",
      "\n",
      "Created version '91' of model 'GARCH(1,1)_1yrFit'.\n"
     ]
    },
    {
     "name": "stdout",
     "output_type": "stream",
     "text": [
      "🏃 View run IR_2025-03-13 at: http://127.0.0.1:8768/#/experiments/1553/runs/9794d17f9c9c4bf690f42c39e50032ee\n",
      "🧪 View experiment at: http://127.0.0.1:8768/#/experiments/1553\n"
     ]
    },
    {
     "name": "stderr",
     "output_type": "stream",
     "text": [
      "2025/06/23 20:44:23 INFO mlflow.store.model_registry.abstract_store: Waiting up to 300 seconds for model version to finish creation. Model name: GARCH(1,1)_1yrFit, version 92\n",
      "Created version '92' of model 'GARCH(1,1)_1yrFit'.\n"
     ]
    },
    {
     "name": "stdout",
     "output_type": "stream",
     "text": [
      "🏃 View run IR_2025-03-17 at: http://127.0.0.1:8768/#/experiments/1553/runs/083b1646b2f64397b452d7227b84274a\n",
      "🧪 View experiment at: http://127.0.0.1:8768/#/experiments/1553\n"
     ]
    },
    {
     "name": "stderr",
     "output_type": "stream",
     "text": [
      "Registered model 'GARCH(1,1)_1yrFit' already exists. Creating a new version of this model...\n",
      "2025/06/23 20:44:25 INFO mlflow.store.model_registry.abstract_store: Waiting up to 300 seconds for model version to finish creation. Model name: GARCH(1,1)_1yrFit, version 93\n",
      "Created version '93' of model 'GARCH(1,1)_1yrFit'.\n"
     ]
    },
    {
     "name": "stdout",
     "output_type": "stream",
     "text": [
      "🏃 View run IR_2025-03-14 at: http://127.0.0.1:8768/#/experiments/1553/runs/afbc94016bcf441cb5e63cc544835deb\n",
      "🧪 View experiment at: http://127.0.0.1:8768/#/experiments/1553\n"
     ]
    },
    {
     "name": "stderr",
     "output_type": "stream",
     "text": [
      "Registered model 'GARCH(1,1)_1yrFit' already exists. Creating a new version of this model...\n",
      "2025/06/23 20:44:29 INFO mlflow.store.model_registry.abstract_store: Waiting up to 300 seconds for model version to finish creation. Model name: GARCH(1,1)_1yrFit, version 94\n",
      "Created version '94' of model 'GARCH(1,1)_1yrFit'.\n"
     ]
    },
    {
     "name": "stdout",
     "output_type": "stream",
     "text": [
      "🏃 View run IR_2025-03-03 at: http://127.0.0.1:8768/#/experiments/1553/runs/9e1eccd1a5654fdcae6062666b767985\n",
      "🧪 View experiment at: http://127.0.0.1:8768/#/experiments/1553\n",
      "using model: GARCH(1,1)_1yrFit\n"
     ]
    },
    {
     "name": "stderr",
     "output_type": "stream",
     "text": [
      "2025/06/23 20:44:41 INFO mlflow.models.model: Found the following environment variables used during model inference: [DOMINO_USER_API_KEY]. Please check if you need to set them when deploying the model. To disable this message, set environment variable `MLFLOW_RECORD_ENV_VARS_IN_MODEL_LOGGING` to `false`.\n",
      "Registered model 'GARCH(1,1)_1yrFit' already exists. Creating a new version of this model...\n",
      "2025/06/23 20:44:45 INFO mlflow.models.model: Found the following environment variables used during model inference: [DOMINO_USER_API_KEY]. Please check if you need to set them when deploying the model. To disable this message, set environment variable `MLFLOW_RECORD_ENV_VARS_IN_MODEL_LOGGING` to `false`.\n",
      "2025/06/23 20:44:45 INFO mlflow.store.model_registry.abstract_store: Waiting up to 300 seconds for model version to finish creation. Model name: GARCH(1,1)_1yrFit, version 95\n",
      "Created version '95' of model 'GARCH(1,1)_1yrFit'.\n"
     ]
    },
    {
     "name": "stdout",
     "output_type": "stream",
     "text": [
      "🏃 View run IR_2025-03-19 at: http://127.0.0.1:8768/#/experiments/1553/runs/1c0ce12aa00f409ab7dd300ae7895756\n",
      "🧪 View experiment at: http://127.0.0.1:8768/#/experiments/1553\n"
     ]
    },
    {
     "name": "stderr",
     "output_type": "stream",
     "text": [
      "/mnt/artifacts/.domino/.persistence/packages/venv/lib/python3.10/site-packages/arch/univariate/base.py:768: ConvergenceWarning: The optimizer returned code 8. The message is:\n",
      "Positive directional derivative for linesearch\n",
      "See scipy.optimize.fmin_slsqp for code meaning.\n",
      "\n",
      "  warnings.warn(\n",
      "Registered model 'GARCH(1,1)_1yrFit' already exists. Creating a new version of this model...\n",
      "2025/06/23 20:44:48 INFO mlflow.store.model_registry.abstract_store: Waiting up to 300 seconds for model version to finish creation. Model name: GARCH(1,1)_1yrFit, version 96\n",
      "Created version '96' of model 'GARCH(1,1)_1yrFit'.\n"
     ]
    },
    {
     "name": "stdout",
     "output_type": "stream",
     "text": [
      "🏃 View run IR_2025-03-12 at: http://127.0.0.1:8768/#/experiments/1553/runs/cc46f203a1b24c469eca6b3d35542855\n",
      "🧪 View experiment at: http://127.0.0.1:8768/#/experiments/1553\n",
      "using model: GARCH(1,1)_1yrFit\n"
     ]
    },
    {
     "name": "stderr",
     "output_type": "stream",
     "text": [
      "2025/06/23 20:44:56 INFO mlflow.models.model: Found the following environment variables used during model inference: [DOMINO_USER_API_KEY]. Please check if you need to set them when deploying the model. To disable this message, set environment variable `MLFLOW_RECORD_ENV_VARS_IN_MODEL_LOGGING` to `false`.\n",
      "2025/06/23 20:44:57 INFO mlflow.models.model: Found the following environment variables used during model inference: [DOMINO_USER_API_KEY]. Please check if you need to set them when deploying the model. To disable this message, set environment variable `MLFLOW_RECORD_ENV_VARS_IN_MODEL_LOGGING` to `false`.\n",
      "Registered model 'GARCH(1,1)_1yrFit' already exists. Creating a new version of this model...\n",
      "2025/06/23 20:45:00 INFO mlflow.store.model_registry.abstract_store: Waiting up to 300 seconds for model version to finish creation. Model name: GARCH(1,1)_1yrFit, version 97\n",
      "Created version '97' of model 'GARCH(1,1)_1yrFit'.\n",
      "Registered model 'GARCH(1,1)_1yrFit' already exists. Creating a new version of this model...\n",
      "2025/06/23 20:45:01 INFO mlflow.store.model_registry.abstract_store: Waiting up to 300 seconds for model version to finish creation. Model name: GARCH(1,1)_1yrFit, version 98\n"
     ]
    },
    {
     "name": "stdout",
     "output_type": "stream",
     "text": [
      "🏃 View run IR_2025-03-20 at: http://127.0.0.1:8768/#/experiments/1553/runs/425a151dbec04f239cd5767461b5f56b\n",
      "🧪 View experiment at: http://127.0.0.1:8768/#/experiments/1553\n"
     ]
    },
    {
     "name": "stderr",
     "output_type": "stream",
     "text": [
      "Created version '98' of model 'GARCH(1,1)_1yrFit'.\n"
     ]
    },
    {
     "name": "stdout",
     "output_type": "stream",
     "text": [
      "🏃 View run IR_2025-03-25 at: http://127.0.0.1:8768/#/experiments/1553/runs/6395dbe50a8e4b1a919c115f2dc5d467\n",
      "🧪 View experiment at: http://127.0.0.1:8768/#/experiments/1553\n"
     ]
    },
    {
     "name": "stderr",
     "output_type": "stream",
     "text": [
      "2025/06/23 20:45:06 INFO mlflow.models.model: Found the following environment variables used during model inference: [DOMINO_USER_API_KEY]. Please check if you need to set them when deploying the model. To disable this message, set environment variable `MLFLOW_RECORD_ENV_VARS_IN_MODEL_LOGGING` to `false`.\n",
      "Registered model 'GARCH(1,1)_1yrFit' already exists. Creating a new version of this model...\n",
      "2025/06/23 20:45:07 INFO mlflow.store.model_registry.abstract_store: Waiting up to 300 seconds for model version to finish creation. Model name: GARCH(1,1)_1yrFit, version 99\n",
      "Created version '99' of model 'GARCH(1,1)_1yrFit'.\n"
     ]
    },
    {
     "name": "stdout",
     "output_type": "stream",
     "text": [
      "🏃 View run IR_2025-03-21 at: http://127.0.0.1:8768/#/experiments/1553/runs/a66ccc28d8414f849c76c95228dd02a6\n",
      "🧪 View experiment at: http://127.0.0.1:8768/#/experiments/1553\n"
     ]
    },
    {
     "name": "stderr",
     "output_type": "stream",
     "text": [
      "Registered model 'GARCH(1,1)_1yrFit' already exists. Creating a new version of this model...\n",
      "2025/06/23 20:45:08 INFO mlflow.store.model_registry.abstract_store: Waiting up to 300 seconds for model version to finish creation. Model name: GARCH(1,1)_1yrFit, version 100\n",
      "Created version '100' of model 'GARCH(1,1)_1yrFit'.\n",
      "2025/06/23 20:45:08 INFO mlflow.models.model: Found the following environment variables used during model inference: [DOMINO_USER_API_KEY]. Please check if you need to set them when deploying the model. To disable this message, set environment variable `MLFLOW_RECORD_ENV_VARS_IN_MODEL_LOGGING` to `false`.\n",
      "Registered model 'GARCH(1,1)_1yrFit' already exists. Creating a new version of this model...\n"
     ]
    },
    {
     "name": "stdout",
     "output_type": "stream",
     "text": [
      "🏃 View run IR_2025-03-11 at: http://127.0.0.1:8768/#/experiments/1553/runs/51116a8d17394988a081a23f1aed04bb\n",
      "🧪 View experiment at: http://127.0.0.1:8768/#/experiments/1553\n"
     ]
    },
    {
     "name": "stderr",
     "output_type": "stream",
     "text": [
      "2025/06/23 20:45:10 INFO mlflow.store.model_registry.abstract_store: Waiting up to 300 seconds for model version to finish creation. Model name: GARCH(1,1)_1yrFit, version 101\n",
      "Created version '101' of model 'GARCH(1,1)_1yrFit'.\n"
     ]
    },
    {
     "name": "stdout",
     "output_type": "stream",
     "text": [
      "using model: GARCH(1,1)_1yrFit\n",
      "🏃 View run IR_2025-03-05 at: http://127.0.0.1:8768/#/experiments/1553/runs/fe697b1f9d6949beb0e9ce27c1fa47ac\n",
      "🧪 View experiment at: http://127.0.0.1:8768/#/experiments/1553\n",
      "⏭️  Skipping 2025-03-29: no exact curve_date in pivot\n"
     ]
    },
    {
     "name": "stderr",
     "output_type": "stream",
     "text": [
      "Registered model 'GARCH(1,1)_1yrFit' already exists. Creating a new version of this model...\n"
     ]
    },
    {
     "name": "stdout",
     "output_type": "stream",
     "text": [
      "⏭️  Skipping 2025-03-30: no exact curve_date in pivot\n"
     ]
    },
    {
     "name": "stderr",
     "output_type": "stream",
     "text": [
      "2025/06/23 20:45:20 INFO mlflow.store.model_registry.abstract_store: Waiting up to 300 seconds for model version to finish creation. Model name: GARCH(1,1)_1yrFit, version 102\n",
      "Created version '102' of model 'GARCH(1,1)_1yrFit'.\n"
     ]
    },
    {
     "name": "stdout",
     "output_type": "stream",
     "text": [
      "using model: GARCH(1,1)_1yrFit\n",
      "🏃 View run IR_2025-03-24 at: http://127.0.0.1:8768/#/experiments/1553/runs/75ba20cabf6f4af28e62a813ca00111a\n",
      "🧪 View experiment at: http://127.0.0.1:8768/#/experiments/1553\n"
     ]
    },
    {
     "name": "stderr",
     "output_type": "stream",
     "text": [
      "Registered model 'GARCH(1,1)_1yrFit' already exists. Creating a new version of this model...Registered model 'GARCH(1,1)_1yrFit' already exists. Creating a new version of this model...\n",
      "\n",
      "2025/06/23 20:45:24 INFO mlflow.store.model_registry.abstract_store: Waiting up to 300 seconds for model version to finish creation. Model name: GARCH(1,1)_1yrFit, version 103\n",
      "Created version '103' of model 'GARCH(1,1)_1yrFit'.\n",
      "2025/06/23 20:45:24 INFO mlflow.store.model_registry.abstract_store: Waiting up to 300 seconds for model version to finish creation. Model name: GARCH(1,1)_1yrFit, version 104\n",
      "Created version '104' of model 'GARCH(1,1)_1yrFit'.\n"
     ]
    },
    {
     "name": "stdout",
     "output_type": "stream",
     "text": [
      "🏃 View run IR_2025-03-14 at: http://127.0.0.1:8768/#/experiments/1553/runs/3bea9db7d9cc4f8fa66012a2fc43b919\n",
      "🧪 View experiment at: http://127.0.0.1:8768/#/experiments/1553\n",
      "🏃 View run IR_2025-03-13 at: http://127.0.0.1:8768/#/experiments/1553/runs/4c8c71f860a44796b33d1ca222efb506\n",
      "🧪 View experiment at: http://127.0.0.1:8768/#/experiments/1553\n",
      "using model: GARCH(1,1)_1yrFit\n",
      "using model: GARCH(1,1)_1yrFit\n"
     ]
    },
    {
     "name": "stderr",
     "output_type": "stream",
     "text": [
      "2025/06/23 20:45:32 INFO mlflow.models.model: Found the following environment variables used during model inference: [DOMINO_USER_API_KEY]. Please check if you need to set them when deploying the model. To disable this message, set environment variable `MLFLOW_RECORD_ENV_VARS_IN_MODEL_LOGGING` to `false`.\n",
      "Registered model 'GARCH(1,1)_1yrFit' already exists. Creating a new version of this model...\n",
      "2025/06/23 20:45:35 INFO mlflow.store.model_registry.abstract_store: Waiting up to 300 seconds for model version to finish creation. Model name: GARCH(1,1)_1yrFit, version 105\n",
      "Created version '105' of model 'GARCH(1,1)_1yrFit'.\n"
     ]
    },
    {
     "name": "stdout",
     "output_type": "stream",
     "text": [
      "🏃 View run IR_2025-03-17 at: http://127.0.0.1:8768/#/experiments/1553/runs/10a189cd52334062b7215b8407a4df0f\n",
      "🧪 View experiment at: http://127.0.0.1:8768/#/experiments/1553\n"
     ]
    },
    {
     "name": "stderr",
     "output_type": "stream",
     "text": [
      "2025/06/23 20:45:37 INFO mlflow.models.model: Found the following environment variables used during model inference: [DOMINO_USER_API_KEY]. Please check if you need to set them when deploying the model. To disable this message, set environment variable `MLFLOW_RECORD_ENV_VARS_IN_MODEL_LOGGING` to `false`.\n"
     ]
    },
    {
     "name": "stdout",
     "output_type": "stream",
     "text": [
      "using model: GARCH(1,1)_1yrFit\n"
     ]
    },
    {
     "name": "stderr",
     "output_type": "stream",
     "text": [
      "Registered model 'GARCH(1,1)_1yrFit' already exists. Creating a new version of this model...\n",
      "Registered model 'GARCH(1,1)_1yrFit' already exists. Creating a new version of this model...\n",
      "2025/06/23 20:45:40 INFO mlflow.store.model_registry.abstract_store: Waiting up to 300 seconds for model version to finish creation. Model name: GARCH(1,1)_1yrFit, version 106\n",
      "Created version '106' of model 'GARCH(1,1)_1yrFit'.\n",
      "2025/06/23 20:45:41 INFO mlflow.store.model_registry.abstract_store: Waiting up to 300 seconds for model version to finish creation. Model name: GARCH(1,1)_1yrFit, version 107\n",
      "Created version '107' of model 'GARCH(1,1)_1yrFit'.\n"
     ]
    },
    {
     "name": "stdout",
     "output_type": "stream",
     "text": [
      "🏃 View run IR_2025-03-26 at: http://127.0.0.1:8768/#/experiments/1553/runs/7248ed48bb214781ac1b520532b701fe\n",
      "🧪 View experiment at: http://127.0.0.1:8768/#/experiments/1553\n",
      "🏃 View run IR_2025-03-27 at: http://127.0.0.1:8768/#/experiments/1553/runs/d65ea20fc01b4c068487a05f0139fb25\n",
      "🧪 View experiment at: http://127.0.0.1:8768/#/experiments/1553\n"
     ]
    },
    {
     "name": "stderr",
     "output_type": "stream",
     "text": [
      "Registered model 'GARCH(1,1)_1yrFit' already exists. Creating a new version of this model...\n",
      "Registered model 'GARCH(1,1)_1yrFit' already exists. Creating a new version of this model...\n",
      "2025/06/23 20:45:41 INFO mlflow.store.model_registry.abstract_store: Waiting up to 300 seconds for model version to finish creation. Model name: GARCH(1,1)_1yrFit, version 108\n",
      "Created version '108' of model 'GARCH(1,1)_1yrFit'.\n",
      "2025/06/23 20:45:42 INFO mlflow.store.model_registry.abstract_store: Waiting up to 300 seconds for model version to finish creation. Model name: GARCH(1,1)_1yrFit, version 109\n",
      "Created version '109' of model 'GARCH(1,1)_1yrFit'.\n"
     ]
    },
    {
     "name": "stdout",
     "output_type": "stream",
     "text": [
      "🏃 View run IR_2025-03-20 at: http://127.0.0.1:8768/#/experiments/1553/runs/0a0ae81257cd4e3c81b0e117c17dfccd\n",
      "🧪 View experiment at: http://127.0.0.1:8768/#/experiments/1553\n"
     ]
    },
    {
     "name": "stderr",
     "output_type": "stream",
     "text": [
      "Registered model 'GARCH(1,1)_1yrFit' already exists. Creating a new version of this model...\n",
      "2025/06/23 20:45:43 INFO mlflow.models.model: Found the following environment variables used during model inference: [DOMINO_USER_API_KEY]. Please check if you need to set them when deploying the model. To disable this message, set environment variable `MLFLOW_RECORD_ENV_VARS_IN_MODEL_LOGGING` to `false`.\n"
     ]
    },
    {
     "name": "stdout",
     "output_type": "stream",
     "text": [
      "🏃 View run IR_2025-03-25 at: http://127.0.0.1:8768/#/experiments/1553/runs/05fe2cf301d74c5884e1d1a6889652b2\n",
      "🧪 View experiment at: http://127.0.0.1:8768/#/experiments/1553\n",
      "using model: GARCH(1,1)_1yrFit\n"
     ]
    },
    {
     "name": "stderr",
     "output_type": "stream",
     "text": [
      "2025/06/23 20:45:45 INFO mlflow.store.model_registry.abstract_store: Waiting up to 300 seconds for model version to finish creation. Model name: GARCH(1,1)_1yrFit, version 110\n",
      "Created version '110' of model 'GARCH(1,1)_1yrFit'.\n"
     ]
    },
    {
     "name": "stdout",
     "output_type": "stream",
     "text": [
      "⏭️  Skipping 2025-04-05: no exact curve_date in pivot\n",
      "⏭️  Skipping 2025-04-06: no exact curve_date in pivot\n",
      "🏃 View run IR_2025-03-19 at: http://127.0.0.1:8768/#/experiments/1553/runs/3c8974ca6a454f2090ec04d8e2bf383b\n",
      "🧪 View experiment at: http://127.0.0.1:8768/#/experiments/1553\n",
      "using model: GARCH(1,1)_1yrFit\n",
      "using model: GARCH(1,1)_1yrFit\n"
     ]
    },
    {
     "name": "stderr",
     "output_type": "stream",
     "text": [
      "Registered model 'GARCH(1,1)_1yrFit' already exists. Creating a new version of this model...\n",
      "2025/06/23 20:45:53 INFO mlflow.store.model_registry.abstract_store: Waiting up to 300 seconds for model version to finish creation. Model name: GARCH(1,1)_1yrFit, version 111\n",
      "Created version '111' of model 'GARCH(1,1)_1yrFit'.\n"
     ]
    },
    {
     "name": "stdout",
     "output_type": "stream",
     "text": [
      "🏃 View run IR_2025-03-21 at: http://127.0.0.1:8768/#/experiments/1553/runs/baf1802b41d7496d8087f6e3260841be\n",
      "🧪 View experiment at: http://127.0.0.1:8768/#/experiments/1553\n",
      "using model: GARCH(1,1)_1yrFit\n"
     ]
    },
    {
     "name": "stderr",
     "output_type": "stream",
     "text": [
      "2025/06/23 20:46:04 INFO mlflow.models.model: Found the following environment variables used during model inference: [DOMINO_USER_API_KEY]. Please check if you need to set them when deploying the model. To disable this message, set environment variable `MLFLOW_RECORD_ENV_VARS_IN_MODEL_LOGGING` to `false`.\n",
      "Registered model 'GARCH(1,1)_1yrFit' already exists. Creating a new version of this model...\n",
      "2025/06/23 20:46:05 INFO mlflow.store.model_registry.abstract_store: Waiting up to 300 seconds for model version to finish creation. Model name: GARCH(1,1)_1yrFit, version 112\n",
      "Created version '112' of model 'GARCH(1,1)_1yrFit'.\n"
     ]
    },
    {
     "name": "stdout",
     "output_type": "stream",
     "text": [
      "🏃 View run IR_2025-03-28 at: http://127.0.0.1:8768/#/experiments/1553/runs/d6487b8a79f7449ea5e026395d93e669\n",
      "🧪 View experiment at: http://127.0.0.1:8768/#/experiments/1553\n"
     ]
    },
    {
     "name": "stderr",
     "output_type": "stream",
     "text": [
      "Registered model 'GARCH(1,1)_1yrFit' already exists. Creating a new version of this model...\n",
      "Registered model 'GARCH(1,1)_1yrFit' already exists. Creating a new version of this model...\n",
      "2025/06/23 20:46:10 INFO mlflow.store.model_registry.abstract_store: Waiting up to 300 seconds for model version to finish creation. Model name: GARCH(1,1)_1yrFit, version 113\n",
      "Created version '113' of model 'GARCH(1,1)_1yrFit'.\n",
      "2025/06/23 20:46:12 INFO mlflow.store.model_registry.abstract_store: Waiting up to 300 seconds for model version to finish creation. Model name: GARCH(1,1)_1yrFit, version 114\n",
      "Created version '114' of model 'GARCH(1,1)_1yrFit'.\n"
     ]
    },
    {
     "name": "stdout",
     "output_type": "stream",
     "text": [
      "🏃 View run IR_2025-03-24 at: http://127.0.0.1:8768/#/experiments/1553/runs/420acee7f3d745e583bfd9f0c7f4e44d\n",
      "🧪 View experiment at: http://127.0.0.1:8768/#/experiments/1553\n",
      "🏃 View run IR_2025-04-01 at: http://127.0.0.1:8768/#/experiments/1553/runs/d316138ee37b4d57be069832d20af5d9\n",
      "🧪 View experiment at: http://127.0.0.1:8768/#/experiments/1553\n"
     ]
    },
    {
     "name": "stderr",
     "output_type": "stream",
     "text": [
      "Registered model 'GARCH(1,1)_1yrFit' already exists. Creating a new version of this model...\n"
     ]
    },
    {
     "name": "stdout",
     "output_type": "stream",
     "text": [
      "using model: GARCH(1,1)_1yrFit\n"
     ]
    },
    {
     "name": "stderr",
     "output_type": "stream",
     "text": [
      "Registered model 'GARCH(1,1)_1yrFit' already exists. Creating a new version of this model...\n",
      "2025/06/23 20:46:15 INFO mlflow.store.model_registry.abstract_store: Waiting up to 300 seconds for model version to finish creation. Model name: GARCH(1,1)_1yrFit, version 115\n",
      "Created version '115' of model 'GARCH(1,1)_1yrFit'.\n",
      "2025/06/23 20:46:16 INFO mlflow.store.model_registry.abstract_store: Waiting up to 300 seconds for model version to finish creation. Model name: GARCH(1,1)_1yrFit, version 116\n",
      "Created version '116' of model 'GARCH(1,1)_1yrFit'.\n"
     ]
    },
    {
     "name": "stdout",
     "output_type": "stream",
     "text": [
      "🏃 View run IR_2025-03-31 at: http://127.0.0.1:8768/#/experiments/1553/runs/77e797da081f40d3991b2d82e90df0e0\n",
      "🧪 View experiment at: http://127.0.0.1:8768/#/experiments/1553\n",
      "🏃 View run IR_2025-04-02 at: http://127.0.0.1:8768/#/experiments/1553/runs/1c89b5486af14650b11d3561bc5ec4e9\n",
      "🧪 View experiment at: http://127.0.0.1:8768/#/experiments/1553\n"
     ]
    },
    {
     "name": "stderr",
     "output_type": "stream",
     "text": [
      "2025/06/23 20:46:27 INFO mlflow.models.model: Found the following environment variables used during model inference: [DOMINO_USER_API_KEY]. Please check if you need to set them when deploying the model. To disable this message, set environment variable `MLFLOW_RECORD_ENV_VARS_IN_MODEL_LOGGING` to `false`.\n",
      "Registered model 'GARCH(1,1)_1yrFit' already exists. Creating a new version of this model...\n",
      "2025/06/23 20:46:30 INFO mlflow.store.model_registry.abstract_store: Waiting up to 300 seconds for model version to finish creation. Model name: GARCH(1,1)_1yrFit, version 117\n",
      "Created version '117' of model 'GARCH(1,1)_1yrFit'.\n"
     ]
    },
    {
     "name": "stdout",
     "output_type": "stream",
     "text": [
      "using model: GARCH(1,1)_1yrFit\n",
      "🏃 View run IR_2025-04-03 at: http://127.0.0.1:8768/#/experiments/1553/runs/8241c71cb8144c5c907049a8f34cbcaa\n",
      "🧪 View experiment at: http://127.0.0.1:8768/#/experiments/1553\n"
     ]
    },
    {
     "name": "stderr",
     "output_type": "stream",
     "text": [
      "2025/06/23 20:46:32 INFO mlflow.models.model: Found the following environment variables used during model inference: [DOMINO_USER_API_KEY]. Please check if you need to set them when deploying the model. To disable this message, set environment variable `MLFLOW_RECORD_ENV_VARS_IN_MODEL_LOGGING` to `false`.\n"
     ]
    },
    {
     "name": "stdout",
     "output_type": "stream",
     "text": [
      "⏭️  Skipping 2025-04-12: no exact curve_date in pivot\n"
     ]
    },
    {
     "name": "stderr",
     "output_type": "stream",
     "text": [
      "Registered model 'GARCH(1,1)_1yrFit' already exists. Creating a new version of this model...\n"
     ]
    },
    {
     "name": "stdout",
     "output_type": "stream",
     "text": [
      "⏭️  Skipping 2025-04-13: no exact curve_date in pivot\n"
     ]
    },
    {
     "name": "stderr",
     "output_type": "stream",
     "text": [
      "Registered model 'GARCH(1,1)_1yrFit' already exists. Creating a new version of this model...\n",
      "2025/06/23 20:46:36 INFO mlflow.store.model_registry.abstract_store: Waiting up to 300 seconds for model version to finish creation. Model name: GARCH(1,1)_1yrFit, version 118\n",
      "Created version '118' of model 'GARCH(1,1)_1yrFit'.\n"
     ]
    },
    {
     "name": "stdout",
     "output_type": "stream",
     "text": [
      "using model: GARCH(1,1)_1yrFit\n"
     ]
    },
    {
     "name": "stderr",
     "output_type": "stream",
     "text": [
      "2025/06/23 20:46:37 INFO mlflow.store.model_registry.abstract_store: Waiting up to 300 seconds for model version to finish creation. Model name: GARCH(1,1)_1yrFit, version 119\n",
      "Created version '119' of model 'GARCH(1,1)_1yrFit'.\n"
     ]
    },
    {
     "name": "stdout",
     "output_type": "stream",
     "text": [
      "using model: GARCH(1,1)_1yrFit\n",
      "using model: GARCH(1,1)_1yrFit\n",
      "🏃 View run IR_2025-04-04 at: http://127.0.0.1:8768/#/experiments/1553/runs/02599b4f34f249a4852b2a054ac20fd0\n",
      "🧪 View experiment at: http://127.0.0.1:8768/#/experiments/1553\n",
      "🏃 View run IR_2025-03-27 at: http://127.0.0.1:8768/#/experiments/1553/runs/c0eb799e218f47e69547fc3604ae95c7\n",
      "🧪 View experiment at: http://127.0.0.1:8768/#/experiments/1553\n"
     ]
    },
    {
     "name": "stderr",
     "output_type": "stream",
     "text": [
      "Registered model 'GARCH(1,1)_1yrFit' already exists. Creating a new version of this model...\n",
      "2025/06/23 20:46:39 INFO mlflow.store.model_registry.abstract_store: Waiting up to 300 seconds for model version to finish creation. Model name: GARCH(1,1)_1yrFit, version 120\n",
      "Created version '120' of model 'GARCH(1,1)_1yrFit'.\n",
      "Registered model 'GARCH(1,1)_1yrFit' already exists. Creating a new version of this model...\n",
      "Registered model 'GARCH(1,1)_1yrFit' already exists. Creating a new version of this model...\n"
     ]
    },
    {
     "name": "stdout",
     "output_type": "stream",
     "text": [
      "using model: GARCH(1,1)_1yrFit\n"
     ]
    },
    {
     "name": "stderr",
     "output_type": "stream",
     "text": [
      "2025/06/23 20:46:40 INFO mlflow.store.model_registry.abstract_store: Waiting up to 300 seconds for model version to finish creation. Model name: GARCH(1,1)_1yrFit, version 122\n",
      "Created version '122' of model 'GARCH(1,1)_1yrFit'.2025/06/23 20:46:40 INFO mlflow.store.model_registry.abstract_store: Waiting up to 300 seconds for model version to finish creation. Model name: GARCH(1,1)_1yrFit, version 121\n",
      "\n",
      "Created version '121' of model 'GARCH(1,1)_1yrFit'.\n"
     ]
    },
    {
     "name": "stdout",
     "output_type": "stream",
     "text": [
      "🏃 View run IR_2025-03-26 at: http://127.0.0.1:8768/#/experiments/1553/runs/875f8f5a0b60471887ae6eec482036cc\n",
      "🧪 View experiment at: http://127.0.0.1:8768/#/experiments/1553\n",
      "🏃 View run IR_2025-04-08 at: http://127.0.0.1:8768/#/experiments/1553/runs/792aa152316c4ef289c4625988afed6f\n",
      "🧪 View experiment at: http://127.0.0.1:8768/#/experiments/1553\n",
      "🏃 View run IR_2025-04-07 at: http://127.0.0.1:8768/#/experiments/1553/runs/5f1dbb620b6440b59f41c1003631fd43\n",
      "🧪 View experiment at: http://127.0.0.1:8768/#/experiments/1553\n",
      "⏭️  Skipping 2025-04-18: no exact curve_date in pivot\n",
      "⏭️  Skipping 2025-04-19: no exact curve_date in pivot\n"
     ]
    },
    {
     "name": "stderr",
     "output_type": "stream",
     "text": [
      "/tmp/ipykernel_17165/2642250633.py:72: RuntimeWarning: More than 20 figures have been opened. Figures created through the pyplot interface (`matplotlib.pyplot.figure`) are retained until explicitly closed and may consume too much memory. (To control this warning, see the rcParam `figure.max_open_warning`). Consider using `matplotlib.pyplot.close()`.\n",
      "  plt.figure(figsize=(10, 6))\n"
     ]
    },
    {
     "name": "stdout",
     "output_type": "stream",
     "text": [
      "⏭️  Skipping 2025-04-20: no exact curve_date in pivot\n"
     ]
    },
    {
     "name": "stderr",
     "output_type": "stream",
     "text": [
      "/tmp/ipykernel_17165/2642250633.py:72: RuntimeWarning: More than 20 figures have been opened. Figures created through the pyplot interface (`matplotlib.pyplot.figure`) are retained until explicitly closed and may consume too much memory. (To control this warning, see the rcParam `figure.max_open_warning`). Consider using `matplotlib.pyplot.close()`.\n",
      "  plt.figure(figsize=(10, 6))\n",
      "Registered model 'GARCH(1,1)_1yrFit' already exists. Creating a new version of this model...\n",
      "2025/06/23 20:46:44 INFO mlflow.store.model_registry.abstract_store: Waiting up to 300 seconds for model version to finish creation. Model name: GARCH(1,1)_1yrFit, version 123\n",
      "Created version '123' of model 'GARCH(1,1)_1yrFit'.\n"
     ]
    },
    {
     "name": "stdout",
     "output_type": "stream",
     "text": [
      "using model: GARCH(1,1)_1yrFit\n",
      "🏃 View run IR_2025-04-09 at: http://127.0.0.1:8768/#/experiments/1553/runs/fd3968c639024111b39144c6eeed0946\n",
      "🧪 View experiment at: http://127.0.0.1:8768/#/experiments/1553\n"
     ]
    },
    {
     "name": "stderr",
     "output_type": "stream",
     "text": [
      "2025/06/23 20:46:45 INFO mlflow.models.model: Found the following environment variables used during model inference: [DOMINO_USER_API_KEY]. Please check if you need to set them when deploying the model. To disable this message, set environment variable `MLFLOW_RECORD_ENV_VARS_IN_MODEL_LOGGING` to `false`.\n"
     ]
    },
    {
     "name": "stdout",
     "output_type": "stream",
     "text": [
      "using model: GARCH(1,1)_1yrFit\n"
     ]
    },
    {
     "name": "stderr",
     "output_type": "stream",
     "text": [
      "Registered model 'GARCH(1,1)_1yrFit' already exists. Creating a new version of this model...\n",
      "2025/06/23 20:46:48 INFO mlflow.store.model_registry.abstract_store: Waiting up to 300 seconds for model version to finish creation. Model name: GARCH(1,1)_1yrFit, version 124\n",
      "Created version '124' of model 'GARCH(1,1)_1yrFit'.\n"
     ]
    },
    {
     "name": "stdout",
     "output_type": "stream",
     "text": [
      "🏃 View run IR_2025-03-28 at: http://127.0.0.1:8768/#/experiments/1553/runs/0eee28ccab5d44358efd78bf603ab5f4\n",
      "🧪 View experiment at: http://127.0.0.1:8768/#/experiments/1553\n",
      "using model: GARCH(1,1)_1yrFit\n",
      "using model: GARCH(1,1)_1yrFit\n",
      "using model: GARCH(1,1)_1yrFit\n",
      "⏭️  Skipping 2025-04-26: no exact curve_date in pivot\n",
      "⏭️  Skipping 2025-04-27: no exact curve_date in pivot\n",
      "using model: GARCH(1,1)_1yrFit\n"
     ]
    },
    {
     "name": "stderr",
     "output_type": "stream",
     "text": [
      "Registered model 'GARCH(1,1)_1yrFit' already exists. Creating a new version of this model...\n",
      "Registered model 'GARCH(1,1)_1yrFit' already exists. Creating a new version of this model...\n",
      "2025/06/23 20:47:02 INFO mlflow.store.model_registry.abstract_store: Waiting up to 300 seconds for model version to finish creation. Model name: GARCH(1,1)_1yrFit, version 125\n",
      "Created version '125' of model 'GARCH(1,1)_1yrFit'.\n",
      "2025/06/23 20:47:03 INFO mlflow.store.model_registry.abstract_store: Waiting up to 300 seconds for model version to finish creation. Model name: GARCH(1,1)_1yrFit, version 126\n",
      "Created version '126' of model 'GARCH(1,1)_1yrFit'.\n"
     ]
    },
    {
     "name": "stdout",
     "output_type": "stream",
     "text": [
      "🏃 View run IR_2025-04-11 at: http://127.0.0.1:8768/#/experiments/1553/runs/fd782cca00574d468b65eb38fe3eec71\n",
      "🧪 View experiment at: http://127.0.0.1:8768/#/experiments/1553\n",
      "🏃 View run IR_2025-04-03 at: http://127.0.0.1:8768/#/experiments/1553/runs/ce4ea2d769eb4464bcec4d8e35cec4c6\n",
      "🧪 View experiment at: http://127.0.0.1:8768/#/experiments/1553\n",
      "using model: GARCH(1,1)_1yrFit\n"
     ]
    },
    {
     "name": "stderr",
     "output_type": "stream",
     "text": [
      "/tmp/ipykernel_17165/2642250633.py:72: RuntimeWarning: More than 20 figures have been opened. Figures created through the pyplot interface (`matplotlib.pyplot.figure`) are retained until explicitly closed and may consume too much memory. (To control this warning, see the rcParam `figure.max_open_warning`). Consider using `matplotlib.pyplot.close()`.\n",
      "  plt.figure(figsize=(10, 6))\n",
      "/tmp/ipykernel_17165/2642250633.py:72: RuntimeWarning: More than 20 figures have been opened. Figures created through the pyplot interface (`matplotlib.pyplot.figure`) are retained until explicitly closed and may consume too much memory. (To control this warning, see the rcParam `figure.max_open_warning`). Consider using `matplotlib.pyplot.close()`.\n",
      "  plt.figure(figsize=(10, 6))\n",
      "Registered model 'GARCH(1,1)_1yrFit' already exists. Creating a new version of this model...\n",
      "2025/06/23 20:47:29 INFO mlflow.store.model_registry.abstract_store: Waiting up to 300 seconds for model version to finish creation. Model name: GARCH(1,1)_1yrFit, version 127\n",
      "Created version '127' of model 'GARCH(1,1)_1yrFit'.\n"
     ]
    },
    {
     "name": "stdout",
     "output_type": "stream",
     "text": [
      "🏃 View run IR_2025-04-08 at: http://127.0.0.1:8768/#/experiments/1553/runs/7d55a8c80cf6489686dd97088ffbbea0\n",
      "🧪 View experiment at: http://127.0.0.1:8768/#/experiments/1553\n",
      "using model: GARCH(1,1)_1yrFit\n"
     ]
    },
    {
     "name": "stderr",
     "output_type": "stream",
     "text": [
      "Registered model 'GARCH(1,1)_1yrFit' already exists. Creating a new version of this model...\n",
      "2025/06/23 20:47:39 INFO mlflow.store.model_registry.abstract_store: Waiting up to 300 seconds for model version to finish creation. Model name: GARCH(1,1)_1yrFit, version 128\n",
      "Created version '128' of model 'GARCH(1,1)_1yrFit'.\n",
      "Registered model 'GARCH(1,1)_1yrFit' already exists. Creating a new version of this model...\n",
      "2025/06/23 20:47:39 INFO mlflow.store.model_registry.abstract_store: Waiting up to 300 seconds for model version to finish creation. Model name: GARCH(1,1)_1yrFit, version 129\n"
     ]
    },
    {
     "name": "stdout",
     "output_type": "stream",
     "text": [
      "🏃 View run IR_2025-04-17 at: http://127.0.0.1:8768/#/experiments/1553/runs/998b167c3b71488f9b65610db19a5992\n",
      "🧪 View experiment at: http://127.0.0.1:8768/#/experiments/1553\n"
     ]
    },
    {
     "name": "stderr",
     "output_type": "stream",
     "text": [
      "Created version '129' of model 'GARCH(1,1)_1yrFit'.\n"
     ]
    },
    {
     "name": "stdout",
     "output_type": "stream",
     "text": [
      "🏃 View run IR_2025-04-07 at: http://127.0.0.1:8768/#/experiments/1553/runs/aa86b2b85b984bcba1228726e2703d93\n",
      "🧪 View experiment at: http://127.0.0.1:8768/#/experiments/1553\n",
      "using model: GARCH(1,1)_1yrFit\n"
     ]
    },
    {
     "name": "stderr",
     "output_type": "stream",
     "text": [
      "Registered model 'GARCH(1,1)_1yrFit' already exists. Creating a new version of this model...\n",
      "2025/06/23 20:47:43 INFO mlflow.store.model_registry.abstract_store: Waiting up to 300 seconds for model version to finish creation. Model name: GARCH(1,1)_1yrFit, version 130\n",
      "Created version '130' of model 'GARCH(1,1)_1yrFit'.\n"
     ]
    },
    {
     "name": "stdout",
     "output_type": "stream",
     "text": [
      "🏃 View run IR_2025-04-21 at: http://127.0.0.1:8768/#/experiments/1553/runs/b103b22c805f4bbdabe39a1efcaa8f33\n",
      "🧪 View experiment at: http://127.0.0.1:8768/#/experiments/1553\n"
     ]
    },
    {
     "name": "stderr",
     "output_type": "stream",
     "text": [
      "2025/06/23 20:47:44 INFO mlflow.models.model: Found the following environment variables used during model inference: [DOMINO_USER_API_KEY]. Please check if you need to set them when deploying the model. To disable this message, set environment variable `MLFLOW_RECORD_ENV_VARS_IN_MODEL_LOGGING` to `false`.\n",
      "Registered model 'GARCH(1,1)_1yrFit' already exists. Creating a new version of this model...\n",
      "/tmp/ipykernel_17165/2642250633.py:72: RuntimeWarning: More than 20 figures have been opened. Figures created through the pyplot interface (`matplotlib.pyplot.figure`) are retained until explicitly closed and may consume too much memory. (To control this warning, see the rcParam `figure.max_open_warning`). Consider using `matplotlib.pyplot.close()`.\n",
      "  plt.figure(figsize=(10, 6))\n",
      "2025/06/23 20:47:48 INFO mlflow.store.model_registry.abstract_store: Waiting up to 300 seconds for model version to finish creation. Model name: GARCH(1,1)_1yrFit, version 131\n",
      "Created version '131' of model 'GARCH(1,1)_1yrFit'.\n",
      "Registered model 'GARCH(1,1)_1yrFit' already exists. Creating a new version of this model...\n"
     ]
    },
    {
     "name": "stdout",
     "output_type": "stream",
     "text": [
      "🏃 View run IR_2025-04-22 at: http://127.0.0.1:8768/#/experiments/1553/runs/ae831076ded545baaf840193da427418\n",
      "🧪 View experiment at: http://127.0.0.1:8768/#/experiments/1553\n"
     ]
    },
    {
     "name": "stderr",
     "output_type": "stream",
     "text": [
      "Registered model 'GARCH(1,1)_1yrFit' already exists. Creating a new version of this model...\n",
      "2025/06/23 20:47:49 INFO mlflow.store.model_registry.abstract_store: Waiting up to 300 seconds for model version to finish creation. Model name: GARCH(1,1)_1yrFit, version 132\n",
      "Created version '132' of model 'GARCH(1,1)_1yrFit'.\n",
      "2025/06/23 20:47:50 INFO mlflow.store.model_registry.abstract_store: Waiting up to 300 seconds for model version to finish creation. Model name: GARCH(1,1)_1yrFit, version 133\n"
     ]
    },
    {
     "name": "stdout",
     "output_type": "stream",
     "text": [
      "🏃 View run IR_2025-04-09 at: http://127.0.0.1:8768/#/experiments/1553/runs/0fd2c8f9e6b64a27acee1b17bfde84c7\n",
      "🧪 View experiment at: http://127.0.0.1:8768/#/experiments/1553\n"
     ]
    },
    {
     "name": "stderr",
     "output_type": "stream",
     "text": [
      "Created version '133' of model 'GARCH(1,1)_1yrFit'.\n",
      "Registered model 'GARCH(1,1)_1yrFit' already exists. Creating a new version of this model...\n"
     ]
    },
    {
     "name": "stdout",
     "output_type": "stream",
     "text": [
      "🏃 View run IR_2025-04-25 at: http://127.0.0.1:8768/#/experiments/1553/runs/c565efc4efc14c95bb9baab1e4c47872\n",
      "🧪 View experiment at: http://127.0.0.1:8768/#/experiments/1553\n"
     ]
    },
    {
     "name": "stderr",
     "output_type": "stream",
     "text": [
      "2025/06/23 20:47:50 INFO mlflow.store.model_registry.abstract_store: Waiting up to 300 seconds for model version to finish creation. Model name: GARCH(1,1)_1yrFit, version 134\n",
      "Created version '134' of model 'GARCH(1,1)_1yrFit'.\n"
     ]
    },
    {
     "name": "stdout",
     "output_type": "stream",
     "text": [
      "using model: GARCH(1,1)_1yrFit\n"
     ]
    },
    {
     "name": "stderr",
     "output_type": "stream",
     "text": [
      "2025/06/23 20:47:51 INFO mlflow.models.model: Found the following environment variables used during model inference: [DOMINO_USER_API_KEY]. Please check if you need to set them when deploying the model. To disable this message, set environment variable `MLFLOW_RECORD_ENV_VARS_IN_MODEL_LOGGING` to `false`.\n",
      "2025/06/23 20:47:51 INFO mlflow.models.model: Found the following environment variables used during model inference: [DOMINO_USER_API_KEY]. Please check if you need to set them when deploying the model. To disable this message, set environment variable `MLFLOW_RECORD_ENV_VARS_IN_MODEL_LOGGING` to `false`.\n",
      "Registered model 'GARCH(1,1)_1yrFit' already exists. Creating a new version of this model...\n"
     ]
    },
    {
     "name": "stdout",
     "output_type": "stream",
     "text": [
      "🏃 View run IR_2025-04-23 at: http://127.0.0.1:8768/#/experiments/1553/runs/e18c83a5f45f44fb92a8d59cc18efcf2\n",
      "🧪 View experiment at: http://127.0.0.1:8768/#/experiments/1553\n"
     ]
    },
    {
     "name": "stderr",
     "output_type": "stream",
     "text": [
      "2025/06/23 20:47:53 INFO mlflow.store.model_registry.abstract_store: Waiting up to 300 seconds for model version to finish creation. Model name: GARCH(1,1)_1yrFit, version 135\n",
      "Created version '135' of model 'GARCH(1,1)_1yrFit'.\n",
      "/tmp/ipykernel_17165/2642250633.py:72: RuntimeWarning: More than 20 figures have been opened. Figures created through the pyplot interface (`matplotlib.pyplot.figure`) are retained until explicitly closed and may consume too much memory. (To control this warning, see the rcParam `figure.max_open_warning`). Consider using `matplotlib.pyplot.close()`.\n",
      "  plt.figure(figsize=(10, 6))\n"
     ]
    },
    {
     "name": "stdout",
     "output_type": "stream",
     "text": [
      "🏃 View run IR_2025-04-24 at: http://127.0.0.1:8768/#/experiments/1553/runs/3d72d416065542e9bcfbf779e91f183f\n",
      "🧪 View experiment at: http://127.0.0.1:8768/#/experiments/1553\n"
     ]
    },
    {
     "name": "stderr",
     "output_type": "stream",
     "text": [
      "Registered model 'GARCH(1,1)_1yrFit' already exists. Creating a new version of this model...\n",
      "Registered model 'GARCH(1,1)_1yrFit' already exists. Creating a new version of this model...\n",
      "2025/06/23 20:48:01 INFO mlflow.models.model: Found the following environment variables used during model inference: [DOMINO_USER_API_KEY]. Please check if you need to set them when deploying the model. To disable this message, set environment variable `MLFLOW_RECORD_ENV_VARS_IN_MODEL_LOGGING` to `false`.\n",
      "2025/06/23 20:48:01 INFO mlflow.store.model_registry.abstract_store: Waiting up to 300 seconds for model version to finish creation. Model name: GARCH(1,1)_1yrFit, version 136\n",
      "Created version '136' of model 'GARCH(1,1)_1yrFit'.\n",
      "2025/06/23 20:48:02 INFO mlflow.store.model_registry.abstract_store: Waiting up to 300 seconds for model version to finish creation. Model name: GARCH(1,1)_1yrFit, version 137\n"
     ]
    },
    {
     "name": "stdout",
     "output_type": "stream",
     "text": [
      "🏃 View run IR_2025-04-11 at: http://127.0.0.1:8768/#/experiments/1553/runs/c2b8ea2a17e94e42af5a5375fd4ac577\n",
      "🧪 View experiment at: http://127.0.0.1:8768/#/experiments/1553\n"
     ]
    },
    {
     "name": "stderr",
     "output_type": "stream",
     "text": [
      "Created version '137' of model 'GARCH(1,1)_1yrFit'.\n"
     ]
    },
    {
     "name": "stdout",
     "output_type": "stream",
     "text": [
      "⏭️  Skipping 2025-05-03: no exact curve_date in pivot\n",
      "🏃 View run IR_2025-04-28 at: http://127.0.0.1:8768/#/experiments/1553/runs/9b338b3ffd2e486db812a70b21aeff24\n",
      "🧪 View experiment at: http://127.0.0.1:8768/#/experiments/1553\n",
      "⏭️  Skipping 2025-05-04: no exact curve_date in pivot\n"
     ]
    },
    {
     "name": "stderr",
     "output_type": "stream",
     "text": [
      "Registered model 'GARCH(1,1)_1yrFit' already exists. Creating a new version of this model...\n",
      "2025/06/23 20:48:07 INFO mlflow.store.model_registry.abstract_store: Waiting up to 300 seconds for model version to finish creation. Model name: GARCH(1,1)_1yrFit, version 138\n",
      "Created version '138' of model 'GARCH(1,1)_1yrFit'.\n"
     ]
    },
    {
     "name": "stdout",
     "output_type": "stream",
     "text": [
      "using model: GARCH(1,1)_1yrFit\n",
      "🏃 View run IR_2025-04-29 at: http://127.0.0.1:8768/#/experiments/1553/runs/f384a2d52ca14779bae239ca71ee4ff5\n",
      "🧪 View experiment at: http://127.0.0.1:8768/#/experiments/1553\n"
     ]
    },
    {
     "name": "stderr",
     "output_type": "stream",
     "text": [
      "Registered model 'GARCH(1,1)_1yrFit' already exists. Creating a new version of this model...\n",
      "Registered model 'GARCH(1,1)_1yrFit' already exists. Creating a new version of this model...\n"
     ]
    },
    {
     "name": "stdout",
     "output_type": "stream",
     "text": [
      "using model: GARCH(1,1)_1yrFit\n"
     ]
    },
    {
     "name": "stderr",
     "output_type": "stream",
     "text": [
      "Registered model 'GARCH(1,1)_1yrFit' already exists. Creating a new version of this model...\n",
      "2025/06/23 20:48:16 INFO mlflow.store.model_registry.abstract_store: Waiting up to 300 seconds for model version to finish creation. Model name: GARCH(1,1)_1yrFit, version 139\n",
      "Created version '139' of model 'GARCH(1,1)_1yrFit'.\n",
      "2025/06/23 20:48:16 INFO mlflow.store.model_registry.abstract_store: Waiting up to 300 seconds for model version to finish creation. Model name: GARCH(1,1)_1yrFit, version 140\n",
      "Created version '140' of model 'GARCH(1,1)_1yrFit'.\n",
      "2025/06/23 20:48:16 INFO mlflow.store.model_registry.abstract_store: Waiting up to 300 seconds for model version to finish creation. Model name: GARCH(1,1)_1yrFit, version 141\n",
      "Created version '141' of model 'GARCH(1,1)_1yrFit'.\n",
      "Registered model 'GARCH(1,1)_1yrFit' already exists. Creating a new version of this model...\n"
     ]
    },
    {
     "name": "stdout",
     "output_type": "stream",
     "text": [
      "🏃 View run IR_2025-04-21 at: http://127.0.0.1:8768/#/experiments/1553/runs/42bed7855e264029ad1e17b1ddd2afec\n",
      "🧪 View experiment at: http://127.0.0.1:8768/#/experiments/1553\n",
      "🏃 View run IR_2025-05-01 at: http://127.0.0.1:8768/#/experiments/1553/runs/3e2cfd138c9e4dc6912307b0490ae451\n",
      "🧪 View experiment at: http://127.0.0.1:8768/#/experiments/1553\n",
      "🏃 View run IR_2025-04-30 at: http://127.0.0.1:8768/#/experiments/1553/runs/77b3257feedb422d8ceaf1a911d74984\n",
      "🧪 View experiment at: http://127.0.0.1:8768/#/experiments/1553\n"
     ]
    },
    {
     "name": "stderr",
     "output_type": "stream",
     "text": [
      "2025/06/23 20:48:19 INFO mlflow.store.model_registry.abstract_store: Waiting up to 300 seconds for model version to finish creation. Model name: GARCH(1,1)_1yrFit, version 142\n",
      "Created version '142' of model 'GARCH(1,1)_1yrFit'.\n"
     ]
    },
    {
     "name": "stdout",
     "output_type": "stream",
     "text": [
      "using model: GARCH(1,1)_1yrFit\n",
      "🏃 View run IR_2025-04-17 at: http://127.0.0.1:8768/#/experiments/1553/runs/aa225b91b09e4d8583bc01c0830a0e56\n",
      "🧪 View experiment at: http://127.0.0.1:8768/#/experiments/1553\n",
      "using model: GARCH(1,1)_1yrFit\n"
     ]
    },
    {
     "name": "stderr",
     "output_type": "stream",
     "text": [
      "2025/06/23 20:48:39 INFO mlflow.models.model: Found the following environment variables used during model inference: [DOMINO_USER_API_KEY]. Please check if you need to set them when deploying the model. To disable this message, set environment variable `MLFLOW_RECORD_ENV_VARS_IN_MODEL_LOGGING` to `false`.\n",
      "Registered model 'GARCH(1,1)_1yrFit' already exists. Creating a new version of this model...\n",
      "Registered model 'GARCH(1,1)_1yrFit' already exists. Creating a new version of this model...\n",
      "2025/06/23 20:48:42 INFO mlflow.store.model_registry.abstract_store: Waiting up to 300 seconds for model version to finish creation. Model name: GARCH(1,1)_1yrFit, version 143\n",
      "Created version '143' of model 'GARCH(1,1)_1yrFit'.\n",
      "2025/06/23 20:48:43 INFO mlflow.store.model_registry.abstract_store: Waiting up to 300 seconds for model version to finish creation. Model name: GARCH(1,1)_1yrFit, version 144\n",
      "Created version '144' of model 'GARCH(1,1)_1yrFit'.\n"
     ]
    },
    {
     "name": "stdout",
     "output_type": "stream",
     "text": [
      "🏃 View run IR_2025-04-22 at: http://127.0.0.1:8768/#/experiments/1553/runs/56a8baf9cf5f475cba73160856742935\n",
      "🧪 View experiment at: http://127.0.0.1:8768/#/experiments/1553\n",
      "🏃 View run IR_2025-05-02 at: http://127.0.0.1:8768/#/experiments/1553/runs/686aab835dcf4143bd1f172a4fb2e0b2\n",
      "🧪 View experiment at: http://127.0.0.1:8768/#/experiments/1553\n"
     ]
    },
    {
     "name": "stderr",
     "output_type": "stream",
     "text": [
      "Registered model 'GARCH(1,1)_1yrFit' already exists. Creating a new version of this model...\n"
     ]
    },
    {
     "name": "stdout",
     "output_type": "stream",
     "text": [
      "using model: GARCH(1,1)_1yrFit\n"
     ]
    },
    {
     "name": "stderr",
     "output_type": "stream",
     "text": [
      "2025/06/23 20:48:45 INFO mlflow.store.model_registry.abstract_store: Waiting up to 300 seconds for model version to finish creation. Model name: GARCH(1,1)_1yrFit, version 145\n",
      "Created version '145' of model 'GARCH(1,1)_1yrFit'.\n",
      "Registered model 'GARCH(1,1)_1yrFit' already exists. Creating a new version of this model...\n"
     ]
    },
    {
     "name": "stdout",
     "output_type": "stream",
     "text": [
      "🏃 View run IR_2025-04-23 at: http://127.0.0.1:8768/#/experiments/1553/runs/e76e619297bc4f75b7176dd83e93d724\n",
      "🧪 View experiment at: http://127.0.0.1:8768/#/experiments/1553\n"
     ]
    },
    {
     "name": "stderr",
     "output_type": "stream",
     "text": [
      "Registered model 'GARCH(1,1)_1yrFit' already exists. Creating a new version of this model...\n"
     ]
    },
    {
     "name": "stdout",
     "output_type": "stream",
     "text": [
      "⏭️  Skipping 2025-05-10: no exact curve_date in pivot\n"
     ]
    },
    {
     "name": "stderr",
     "output_type": "stream",
     "text": [
      "Registered model 'GARCH(1,1)_1yrFit' already exists. Creating a new version of this model...\n",
      "2025/06/23 20:48:48 INFO mlflow.store.model_registry.abstract_store: Waiting up to 300 seconds for model version to finish creation. Model name: GARCH(1,1)_1yrFit, version 146\n",
      "Created version '146' of model 'GARCH(1,1)_1yrFit'.\n",
      "2025/06/23 20:48:48 INFO mlflow.store.model_registry.abstract_store: Waiting up to 300 seconds for model version to finish creation. Model name: GARCH(1,1)_1yrFit, version 147\n",
      "Created version '147' of model 'GARCH(1,1)_1yrFit'.\n"
     ]
    },
    {
     "name": "stdout",
     "output_type": "stream",
     "text": [
      "⏭️  Skipping 2025-05-11: no exact curve_date in pivot\n",
      "🏃 View run IR_2025-04-29 at: http://127.0.0.1:8768/#/experiments/1553/runs/d7913431e0dc4fc99e1adb4427040a4e\n",
      "🧪 View experiment at: http://127.0.0.1:8768/#/experiments/1553\n",
      "🏃 View run IR_2025-04-25 at: http://127.0.0.1:8768/#/experiments/1553/runs/9b7dcb21f0954546bc205384c431e9a3\n",
      "🧪 View experiment at: http://127.0.0.1:8768/#/experiments/1553\n"
     ]
    },
    {
     "name": "stderr",
     "output_type": "stream",
     "text": [
      "2025/06/23 20:48:51 INFO mlflow.store.model_registry.abstract_store: Waiting up to 300 seconds for model version to finish creation. Model name: GARCH(1,1)_1yrFit, version 148\n",
      "Created version '148' of model 'GARCH(1,1)_1yrFit'.\n"
     ]
    },
    {
     "name": "stdout",
     "output_type": "stream",
     "text": [
      "using model: GARCH(1,1)_1yrFit\n",
      "using model: GARCH(1,1)_1yrFit\n",
      "🏃 View run IR_2025-04-24 at: http://127.0.0.1:8768/#/experiments/1553/runs/a9a3dad6bbb545a09c504d567fbb3f54\n",
      "🧪 View experiment at: http://127.0.0.1:8768/#/experiments/1553\n",
      "using model: GARCH(1,1)_1yrFit\n",
      "using model: GARCH(1,1)_1yrFit\n"
     ]
    },
    {
     "name": "stderr",
     "output_type": "stream",
     "text": [
      "2025/06/23 20:49:07 INFO mlflow.models.model: Found the following environment variables used during model inference: [DOMINO_USER_API_KEY]. Please check if you need to set them when deploying the model. To disable this message, set environment variable `MLFLOW_RECORD_ENV_VARS_IN_MODEL_LOGGING` to `false`.\n"
     ]
    },
    {
     "name": "stdout",
     "output_type": "stream",
     "text": [
      "using model: GARCH(1,1)_1yrFit\n"
     ]
    },
    {
     "name": "stderr",
     "output_type": "stream",
     "text": [
      "Registered model 'GARCH(1,1)_1yrFit' already exists. Creating a new version of this model...\n",
      "Registered model 'GARCH(1,1)_1yrFit' already exists. Creating a new version of this model...\n"
     ]
    },
    {
     "name": "stdout",
     "output_type": "stream",
     "text": [
      "⏭️  Skipping 2025-05-17: no exact curve_date in pivot\n",
      "⏭️  Skipping 2025-05-18: no exact curve_date in pivot\n"
     ]
    },
    {
     "name": "stderr",
     "output_type": "stream",
     "text": [
      "2025/06/23 20:49:10 INFO mlflow.store.model_registry.abstract_store: Waiting up to 300 seconds for model version to finish creation. Model name: GARCH(1,1)_1yrFit, version 150\n",
      "Created version '150' of model 'GARCH(1,1)_1yrFit'.\n",
      "2025/06/23 20:49:10 INFO mlflow.store.model_registry.abstract_store: Waiting up to 300 seconds for model version to finish creation. Model name: GARCH(1,1)_1yrFit, version 149\n",
      "Created version '149' of model 'GARCH(1,1)_1yrFit'.\n",
      "Registered model 'GARCH(1,1)_1yrFit' already exists. Creating a new version of this model...\n",
      "Registered model 'GARCH(1,1)_1yrFit' already exists. Creating a new version of this model...\n"
     ]
    },
    {
     "name": "stdout",
     "output_type": "stream",
     "text": [
      "using model: GARCH(1,1)_1yrFit\n",
      "using model: GARCH(1,1)_1yrFit\n"
     ]
    },
    {
     "name": "stderr",
     "output_type": "stream",
     "text": [
      "2025/06/23 20:49:13 INFO mlflow.store.model_registry.abstract_store: Waiting up to 300 seconds for model version to finish creation. Model name: GARCH(1,1)_1yrFit, version 151\n",
      "Created version '151' of model 'GARCH(1,1)_1yrFit'.\n"
     ]
    },
    {
     "name": "stdout",
     "output_type": "stream",
     "text": [
      "using model: GARCH(1,1)_1yrFit\n",
      "🏃 View run IR_2025-05-06 at: http://127.0.0.1:8768/#/experiments/1553/runs/86e219f39617424297e126c44f0b3e09\n",
      "🧪 View experiment at: http://127.0.0.1:8768/#/experiments/1553\n"
     ]
    },
    {
     "name": "stderr",
     "output_type": "stream",
     "text": [
      "2025/06/23 20:49:14 INFO mlflow.store.model_registry.abstract_store: Waiting up to 300 seconds for model version to finish creation. Model name: GARCH(1,1)_1yrFit, version 152\n"
     ]
    },
    {
     "name": "stdout",
     "output_type": "stream",
     "text": [
      "🏃 View run IR_2025-05-05 at: http://127.0.0.1:8768/#/experiments/1553/runs/0b15d85fa7514899bafccca3e1afe7e4\n",
      "🧪 View experiment at: http://127.0.0.1:8768/#/experiments/1553\n"
     ]
    },
    {
     "name": "stderr",
     "output_type": "stream",
     "text": [
      "Created version '152' of model 'GARCH(1,1)_1yrFit'.\n",
      "/mnt/artifacts/.domino/.persistence/packages/venv/lib/python3.10/site-packages/arch/univariate/base.py:768: ConvergenceWarning: The optimizer returned code 4. The message is:\n",
      "Inequality constraints incompatible\n",
      "See scipy.optimize.fmin_slsqp for code meaning.\n",
      "\n",
      "  warnings.warn(\n",
      "Registered model 'GARCH(1,1)_1yrFit' already exists. Creating a new version of this model...\n"
     ]
    },
    {
     "name": "stdout",
     "output_type": "stream",
     "text": [
      "🏃 View run IR_2025-05-08 at: http://127.0.0.1:8768/#/experiments/1553/runs/282889f19615496784ee56570471543b\n",
      "🧪 View experiment at: http://127.0.0.1:8768/#/experiments/1553\n",
      "🏃 View run IR_2025-05-07 at: http://127.0.0.1:8768/#/experiments/1553/runs/69835576baaf4a26a3f547624c0f83d2\n",
      "🧪 View experiment at: http://127.0.0.1:8768/#/experiments/1553\n"
     ]
    },
    {
     "name": "stderr",
     "output_type": "stream",
     "text": [
      "2025/06/23 20:49:15 INFO mlflow.store.model_registry.abstract_store: Waiting up to 300 seconds for model version to finish creation. Model name: GARCH(1,1)_1yrFit, version 153\n",
      "Created version '153' of model 'GARCH(1,1)_1yrFit'.\n",
      "Registered model 'GARCH(1,1)_1yrFit' already exists. Creating a new version of this model...\n",
      "2025/06/23 20:49:16 INFO mlflow.store.model_registry.abstract_store: Waiting up to 300 seconds for model version to finish creation. Model name: GARCH(1,1)_1yrFit, version 154\n"
     ]
    },
    {
     "name": "stdout",
     "output_type": "stream",
     "text": [
      "🏃 View run IR_2025-04-30 at: http://127.0.0.1:8768/#/experiments/1553/runs/4e7594d4ba9f4904bb28d3293c922702\n",
      "🧪 View experiment at: http://127.0.0.1:8768/#/experiments/1553\n"
     ]
    },
    {
     "name": "stderr",
     "output_type": "stream",
     "text": [
      "Created version '154' of model 'GARCH(1,1)_1yrFit'.\n"
     ]
    },
    {
     "name": "stdout",
     "output_type": "stream",
     "text": [
      "🏃 View run IR_2025-05-01 at: http://127.0.0.1:8768/#/experiments/1553/runs/f7dac6f419f64c5e8ae19a54c84d5324\n",
      "🧪 View experiment at: http://127.0.0.1:8768/#/experiments/1553\n",
      "using model: GARCH(1,1)_1yrFit\n",
      "using model: GARCH(1,1)_1yrFit\n"
     ]
    },
    {
     "name": "stderr",
     "output_type": "stream",
     "text": [
      "Registered model 'GARCH(1,1)_1yrFit' already exists. Creating a new version of this model...\n",
      "Registered model 'GARCH(1,1)_1yrFit' already exists. Creating a new version of this model...\n",
      "2025/06/23 20:49:29 INFO mlflow.store.model_registry.abstract_store: Waiting up to 300 seconds for model version to finish creation. Model name: GARCH(1,1)_1yrFit, version 155\n",
      "Created version '155' of model 'GARCH(1,1)_1yrFit'.\n",
      "2025/06/23 20:49:29 INFO mlflow.store.model_registry.abstract_store: Waiting up to 300 seconds for model version to finish creation. Model name: GARCH(1,1)_1yrFit, version 156\n"
     ]
    },
    {
     "name": "stdout",
     "output_type": "stream",
     "text": [
      "🏃 View run IR_2025-05-09 at: http://127.0.0.1:8768/#/experiments/1553/runs/378f25fd9f644ee192b897850661e14e\n",
      "🧪 View experiment at: http://127.0.0.1:8768/#/experiments/1553\n"
     ]
    },
    {
     "name": "stderr",
     "output_type": "stream",
     "text": [
      "Created version '156' of model 'GARCH(1,1)_1yrFit'.\n",
      "Registered model 'GARCH(1,1)_1yrFit' already exists. Creating a new version of this model...\n"
     ]
    },
    {
     "name": "stdout",
     "output_type": "stream",
     "text": [
      "🏃 View run IR_2025-05-02 at: http://127.0.0.1:8768/#/experiments/1553/runs/2af1978abe7641e19c39f9b65a587cf2\n",
      "🧪 View experiment at: http://127.0.0.1:8768/#/experiments/1553\n"
     ]
    },
    {
     "name": "stderr",
     "output_type": "stream",
     "text": [
      "2025/06/23 20:49:32 INFO mlflow.store.model_registry.abstract_store: Waiting up to 300 seconds for model version to finish creation. Model name: GARCH(1,1)_1yrFit, version 157\n",
      "Created version '157' of model 'GARCH(1,1)_1yrFit'.\n"
     ]
    },
    {
     "name": "stdout",
     "output_type": "stream",
     "text": [
      "🏃 View run IR_2025-05-16 at: http://127.0.0.1:8768/#/experiments/1553/runs/d9ca1277e42d464e9ba63bb715c3cc23\n",
      "🧪 View experiment at: http://127.0.0.1:8768/#/experiments/1553\n",
      "⏭️  Skipping 2025-05-24: no exact curve_date in pivot\n",
      "⏭️  Skipping 2025-05-25: no exact curve_date in pivot\n",
      "⏭️  Skipping 2025-05-26: no exact curve_date in pivot\n",
      "using model: GARCH(1,1)_1yrFit\n"
     ]
    },
    {
     "name": "stderr",
     "output_type": "stream",
     "text": [
      "2025/06/23 20:50:11 INFO mlflow.models.model: Found the following environment variables used during model inference: [DOMINO_USER_API_KEY]. Please check if you need to set them when deploying the model. To disable this message, set environment variable `MLFLOW_RECORD_ENV_VARS_IN_MODEL_LOGGING` to `false`.\n",
      "Registered model 'GARCH(1,1)_1yrFit' already exists. Creating a new version of this model...\n",
      "Registered model 'GARCH(1,1)_1yrFit' already exists. Creating a new version of this model...\n",
      "Registered model 'GARCH(1,1)_1yrFit' already exists. Creating a new version of this model...\n",
      "Registered model 'GARCH(1,1)_1yrFit' already exists. Creating a new version of this model...\n",
      "2025/06/23 20:50:12 INFO mlflow.store.model_registry.abstract_store: Waiting up to 300 seconds for model version to finish creation. Model name: GARCH(1,1)_1yrFit, version 158\n",
      "Created version '158' of model 'GARCH(1,1)_1yrFit'.\n",
      "Registered model 'GARCH(1,1)_1yrFit' already exists. Creating a new version of this model...\n",
      "2025/06/23 20:50:12 INFO mlflow.store.model_registry.abstract_store: Waiting up to 300 seconds for model version to finish creation. Model name: GARCH(1,1)_1yrFit, version 159\n",
      "Created version '159' of model 'GARCH(1,1)_1yrFit'.\n",
      "2025/06/23 20:50:12 INFO mlflow.store.model_registry.abstract_store: Waiting up to 300 seconds for model version to finish creation. Model name: GARCH(1,1)_1yrFit, version 160\n",
      "Created version '160' of model 'GARCH(1,1)_1yrFit'.\n",
      "2025/06/23 20:50:13 INFO mlflow.store.model_registry.abstract_store: Waiting up to 300 seconds for model version to finish creation. Model name: GARCH(1,1)_1yrFit, version 161\n",
      "Created version '161' of model 'GARCH(1,1)_1yrFit'.\n"
     ]
    },
    {
     "name": "stdout",
     "output_type": "stream",
     "text": [
      "🏃 View run IR_2025-05-19 at: http://127.0.0.1:8768/#/experiments/1553/runs/811e4c08169245ccb008d637c0f2f829\n",
      "🧪 View experiment at: http://127.0.0.1:8768/#/experiments/1553\n",
      "🏃 View run IR_2025-05-06 at: http://127.0.0.1:8768/#/experiments/1553/runs/8320eb163d4040a9869d9105f48b1bd7\n",
      "🧪 View experiment at: http://127.0.0.1:8768/#/experiments/1553\n"
     ]
    },
    {
     "name": "stderr",
     "output_type": "stream",
     "text": [
      "2025/06/23 20:50:13 INFO mlflow.store.model_registry.abstract_store: Waiting up to 300 seconds for model version to finish creation. Model name: GARCH(1,1)_1yrFit, version 162\n"
     ]
    },
    {
     "name": "stdout",
     "output_type": "stream",
     "text": [
      "🏃 View run IR_2025-05-07 at: http://127.0.0.1:8768/#/experiments/1553/runs/40ffdae8778640a9820bdfa6ae454a05\n",
      "🧪 View experiment at: http://127.0.0.1:8768/#/experiments/1553\n"
     ]
    },
    {
     "name": "stderr",
     "output_type": "stream",
     "text": [
      "Created version '162' of model 'GARCH(1,1)_1yrFit'.\n"
     ]
    },
    {
     "name": "stdout",
     "output_type": "stream",
     "text": [
      "🏃 View run IR_2025-05-21 at: http://127.0.0.1:8768/#/experiments/1553/runs/1729ae1562f34fe487f20f99d42028f1\n",
      "🧪 View experiment at: http://127.0.0.1:8768/#/experiments/1553\n"
     ]
    },
    {
     "name": "stderr",
     "output_type": "stream",
     "text": [
      "Registered model 'GARCH(1,1)_1yrFit' already exists. Creating a new version of this model...\n"
     ]
    },
    {
     "name": "stdout",
     "output_type": "stream",
     "text": [
      "using model: GARCH(1,1)_1yrFit\n",
      "using model: GARCH(1,1)_1yrFit\n"
     ]
    },
    {
     "name": "stderr",
     "output_type": "stream",
     "text": [
      "Registered model 'GARCH(1,1)_1yrFit' already exists. Creating a new version of this model...\n",
      "Registered model 'GARCH(1,1)_1yrFit' already exists. Creating a new version of this model...\n"
     ]
    },
    {
     "name": "stdout",
     "output_type": "stream",
     "text": [
      "🏃 View run IR_2025-05-08 at: http://127.0.0.1:8768/#/experiments/1553/runs/105a00ce9bd94a689b983cc9d59e981f\n",
      "🧪 View experiment at: http://127.0.0.1:8768/#/experiments/1553\n"
     ]
    },
    {
     "name": "stderr",
     "output_type": "stream",
     "text": [
      "Registered model 'GARCH(1,1)_1yrFit' already exists. Creating a new version of this model...\n",
      "Registered model 'GARCH(1,1)_1yrFit' already exists. Creating a new version of this model...2025/06/23 20:50:17 INFO mlflow.store.model_registry.abstract_store: Waiting up to 300 seconds for model version to finish creation. Model name: GARCH(1,1)_1yrFit, version 164\n",
      "\n",
      "Created version '164' of model 'GARCH(1,1)_1yrFit'.\n",
      "2025/06/23 20:50:17 INFO mlflow.store.model_registry.abstract_store: Waiting up to 300 seconds for model version to finish creation. Model name: GARCH(1,1)_1yrFit, version 163\n",
      "Created version '163' of model 'GARCH(1,1)_1yrFit'.\n",
      "2025/06/23 20:50:17 INFO mlflow.store.model_registry.abstract_store: Waiting up to 300 seconds for model version to finish creation. Model name: GARCH(1,1)_1yrFit, version 165\n",
      "Created version '165' of model 'GARCH(1,1)_1yrFit'.\n",
      "2025/06/23 20:50:17 INFO mlflow.store.model_registry.abstract_store: Waiting up to 300 seconds for model version to finish creation. Model name: GARCH(1,1)_1yrFit, version 166\n",
      "Created version '166' of model 'GARCH(1,1)_1yrFit'.\n",
      "/mnt/artifacts/.domino/.persistence/packages/venv/lib/python3.10/site-packages/arch/univariate/base.py:768: ConvergenceWarning: The optimizer returned code 4. The message is:\n",
      "Inequality constraints incompatible\n",
      "See scipy.optimize.fmin_slsqp for code meaning.\n",
      "\n",
      "  warnings.warn(\n"
     ]
    },
    {
     "name": "stdout",
     "output_type": "stream",
     "text": [
      "using model: GARCH(1,1)_1yrFit\n"
     ]
    },
    {
     "name": "stderr",
     "output_type": "stream",
     "text": [
      "2025/06/23 20:50:19 INFO mlflow.store.model_registry.abstract_store: Waiting up to 300 seconds for model version to finish creation. Model name: GARCH(1,1)_1yrFit, version 167\n"
     ]
    },
    {
     "name": "stdout",
     "output_type": "stream",
     "text": [
      "🏃 View run IR_2025-05-22 at: http://127.0.0.1:8768/#/experiments/1553/runs/4a2b361bf0d34f43a6c40dc3e74ea8f9\n",
      "🧪 View experiment at: http://127.0.0.1:8768/#/experiments/1553\n",
      "🏃 View run IR_2025-05-05 at: http://127.0.0.1:8768/#/experiments/1553/runs/4dfd61b6c5094703bc7e18c42e9b06a8\n",
      "🧪 View experiment at: http://127.0.0.1:8768/#/experiments/1553\n",
      "🏃 View run IR_2025-05-23 at: http://127.0.0.1:8768/#/experiments/1553/runs/b05915875ddb4516a37334498d2eeaad\n",
      "🧪 View experiment at: http://127.0.0.1:8768/#/experiments/1553\n",
      "🏃 View run IR_2025-05-20 at: http://127.0.0.1:8768/#/experiments/1553/runs/9204a1b8907c413ba728cbff9b8b54de\n",
      "🧪 View experiment at: http://127.0.0.1:8768/#/experiments/1553\n"
     ]
    },
    {
     "name": "stderr",
     "output_type": "stream",
     "text": [
      "Created version '167' of model 'GARCH(1,1)_1yrFit'.\n",
      "/mnt/artifacts/.domino/.persistence/packages/venv/lib/python3.10/site-packages/arch/univariate/base.py:768: ConvergenceWarning: The optimizer returned code 4. The message is:\n",
      "Inequality constraints incompatible\n",
      "See scipy.optimize.fmin_slsqp for code meaning.\n",
      "\n",
      "  warnings.warn(\n"
     ]
    },
    {
     "name": "stdout",
     "output_type": "stream",
     "text": [
      "🏃 View run IR_2025-05-09 at: http://127.0.0.1:8768/#/experiments/1553/runs/ed7fe0b3f3284e95a00ff6dc575bdc9e\n",
      "🧪 View experiment at: http://127.0.0.1:8768/#/experiments/1553\n",
      "⏭️  Skipping 2025-05-31: no exact curve_date in pivot\n",
      "⏭️  Skipping 2025-06-01: no exact curve_date in pivot\n",
      "using model: GARCH(1,1)_1yrFit\n",
      "using model: GARCH(1,1)_1yrFit\n",
      "using model: GARCH(1,1)_1yrFit\n",
      "using model: GARCH(1,1)_1yrFit\n"
     ]
    },
    {
     "name": "stderr",
     "output_type": "stream",
     "text": [
      "Registered model 'GARCH(1,1)_1yrFit' already exists. Creating a new version of this model...\n",
      "2025/06/23 20:50:32 INFO mlflow.store.model_registry.abstract_store: Waiting up to 300 seconds for model version to finish creation. Model name: GARCH(1,1)_1yrFit, version 168\n",
      "Created version '168' of model 'GARCH(1,1)_1yrFit'.\n"
     ]
    },
    {
     "name": "stdout",
     "output_type": "stream",
     "text": [
      "using model: GARCH(1,1)_1yrFit\n",
      "🏃 View run IR_2025-05-16 at: http://127.0.0.1:8768/#/experiments/1553/runs/89e5143da2964c41b2958cace362992c\n",
      "🧪 View experiment at: http://127.0.0.1:8768/#/experiments/1553\n",
      "⏭️  Skipping 2025-06-07: no exact curve_date in pivot\n"
     ]
    },
    {
     "name": "stderr",
     "output_type": "stream",
     "text": [
      "Registered model 'GARCH(1,1)_1yrFit' already exists. Creating a new version of this model...\n"
     ]
    },
    {
     "name": "stdout",
     "output_type": "stream",
     "text": [
      "⏭️  Skipping 2025-06-08: no exact curve_date in pivot\n"
     ]
    },
    {
     "name": "stderr",
     "output_type": "stream",
     "text": [
      "2025/06/23 20:50:34 INFO mlflow.store.model_registry.abstract_store: Waiting up to 300 seconds for model version to finish creation. Model name: GARCH(1,1)_1yrFit, version 169\n",
      "Created version '169' of model 'GARCH(1,1)_1yrFit'.\n"
     ]
    },
    {
     "name": "stdout",
     "output_type": "stream",
     "text": [
      "using model: GARCH(1,1)_1yrFit\n",
      "🏃 View run IR_2025-05-27 at: http://127.0.0.1:8768/#/experiments/1553/runs/630b077160664d8aa066781dcc526712\n",
      "🧪 View experiment at: http://127.0.0.1:8768/#/experiments/1553\n",
      "using model: GARCH(1,1)_1yrFit\n",
      "using model: GARCH(1,1)_1yrFit\n"
     ]
    },
    {
     "name": "stderr",
     "output_type": "stream",
     "text": [
      "/mnt/artifacts/.domino/.persistence/packages/venv/lib/python3.10/site-packages/arch/univariate/base.py:768: ConvergenceWarning: The optimizer returned code 4. The message is:\n",
      "Inequality constraints incompatible\n",
      "See scipy.optimize.fmin_slsqp for code meaning.\n",
      "\n",
      "  warnings.warn(\n",
      "2025/06/23 20:50:40 INFO mlflow.models.model: Found the following environment variables used during model inference: [DOMINO_USER_API_KEY]. Please check if you need to set them when deploying the model. To disable this message, set environment variable `MLFLOW_RECORD_ENV_VARS_IN_MODEL_LOGGING` to `false`.\n",
      "Registered model 'GARCH(1,1)_1yrFit' already exists. Creating a new version of this model...\n",
      "2025/06/23 20:50:43 INFO mlflow.store.model_registry.abstract_store: Waiting up to 300 seconds for model version to finish creation. Model name: GARCH(1,1)_1yrFit, version 170\n",
      "Created version '170' of model 'GARCH(1,1)_1yrFit'.\n"
     ]
    },
    {
     "name": "stdout",
     "output_type": "stream",
     "text": [
      "🏃 View run IR_2025-05-19 at: http://127.0.0.1:8768/#/experiments/1553/runs/7374bffa41fa4cdf8540de71a4d76fe7\n",
      "🧪 View experiment at: http://127.0.0.1:8768/#/experiments/1553\n",
      "using model: GARCH(1,1)_1yrFit\n"
     ]
    },
    {
     "name": "stderr",
     "output_type": "stream",
     "text": [
      "2025/06/23 20:50:49 INFO mlflow.models.model: Found the following environment variables used during model inference: [DOMINO_USER_API_KEY]. Please check if you need to set them when deploying the model. To disable this message, set environment variable `MLFLOW_RECORD_ENV_VARS_IN_MODEL_LOGGING` to `false`.\n",
      "Registered model 'GARCH(1,1)_1yrFit' already exists. Creating a new version of this model...\n",
      "2025/06/23 20:50:55 INFO mlflow.store.model_registry.abstract_store: Waiting up to 300 seconds for model version to finish creation. Model name: GARCH(1,1)_1yrFit, version 171\n",
      "Created version '171' of model 'GARCH(1,1)_1yrFit'.\n"
     ]
    },
    {
     "name": "stdout",
     "output_type": "stream",
     "text": [
      "🏃 View run IR_2025-05-30 at: http://127.0.0.1:8768/#/experiments/1553/runs/ae80fc4bb5a448d182da4312b6b1c4de\n",
      "🧪 View experiment at: http://127.0.0.1:8768/#/experiments/1553\n"
     ]
    },
    {
     "name": "stderr",
     "output_type": "stream",
     "text": [
      "/mnt/artifacts/.domino/.persistence/packages/venv/lib/python3.10/site-packages/arch/univariate/base.py:768: ConvergenceWarning: The optimizer returned code 4. The message is:\n",
      "Inequality constraints incompatible\n",
      "See scipy.optimize.fmin_slsqp for code meaning.\n",
      "\n",
      "  warnings.warn(\n",
      "2025/06/23 20:51:02 INFO mlflow.models.model: Found the following environment variables used during model inference: [DOMINO_USER_API_KEY]. Please check if you need to set them when deploying the model. To disable this message, set environment variable `MLFLOW_RECORD_ENV_VARS_IN_MODEL_LOGGING` to `false`.\n",
      "Registered model 'GARCH(1,1)_1yrFit' already exists. Creating a new version of this model...\n",
      "2025/06/23 20:51:07 INFO mlflow.store.model_registry.abstract_store: Waiting up to 300 seconds for model version to finish creation. Model name: GARCH(1,1)_1yrFit, version 172\n",
      "Created version '172' of model 'GARCH(1,1)_1yrFit'.\n"
     ]
    },
    {
     "name": "stdout",
     "output_type": "stream",
     "text": [
      "🏃 View run IR_2025-05-21 at: http://127.0.0.1:8768/#/experiments/1553/runs/ec8f87a32a1b43abba2837f3238f9323\n",
      "🧪 View experiment at: http://127.0.0.1:8768/#/experiments/1553\n",
      "using model: GARCH(1,1)_1yrFit\n"
     ]
    },
    {
     "name": "stderr",
     "output_type": "stream",
     "text": [
      "Registered model 'GARCH(1,1)_1yrFit' already exists. Creating a new version of this model...\n",
      "2025/06/23 20:51:20 INFO mlflow.store.model_registry.abstract_store: Waiting up to 300 seconds for model version to finish creation. Model name: GARCH(1,1)_1yrFit, version 173\n",
      "Created version '173' of model 'GARCH(1,1)_1yrFit'.\n"
     ]
    },
    {
     "name": "stdout",
     "output_type": "stream",
     "text": [
      "🏃 View run IR_2025-06-02 at: http://127.0.0.1:8768/#/experiments/1553/runs/07c27595c9be4c15a5f16390ce0f1ad1\n",
      "🧪 View experiment at: http://127.0.0.1:8768/#/experiments/1553\n"
     ]
    },
    {
     "name": "stderr",
     "output_type": "stream",
     "text": [
      "Registered model 'GARCH(1,1)_1yrFit' already exists. Creating a new version of this model...\n",
      "2025/06/23 20:51:22 INFO mlflow.store.model_registry.abstract_store: Waiting up to 300 seconds for model version to finish creation. Model name: GARCH(1,1)_1yrFit, version 174\n",
      "Created version '174' of model 'GARCH(1,1)_1yrFit'.\n"
     ]
    },
    {
     "name": "stdout",
     "output_type": "stream",
     "text": [
      "🏃 View run IR_2025-06-05 at: http://127.0.0.1:8768/#/experiments/1553/runs/8c139ad591ef4d1bb870c205b6b79097\n",
      "🧪 View experiment at: http://127.0.0.1:8768/#/experiments/1553\n"
     ]
    },
    {
     "name": "stderr",
     "output_type": "stream",
     "text": [
      "2025/06/23 20:51:25 INFO mlflow.models.model: Found the following environment variables used during model inference: [DOMINO_USER_API_KEY]. Please check if you need to set them when deploying the model. To disable this message, set environment variable `MLFLOW_RECORD_ENV_VARS_IN_MODEL_LOGGING` to `false`.\n",
      "Registered model 'GARCH(1,1)_1yrFit' already exists. Creating a new version of this model...\n",
      "Registered model 'GARCH(1,1)_1yrFit' already exists. Creating a new version of this model...\n",
      "2025/06/23 20:51:27 INFO mlflow.models.model: Found the following environment variables used during model inference: [DOMINO_USER_API_KEY]. Please check if you need to set them when deploying the model. To disable this message, set environment variable `MLFLOW_RECORD_ENV_VARS_IN_MODEL_LOGGING` to `false`.\n",
      "2025/06/23 20:51:28 INFO mlflow.store.model_registry.abstract_store: Waiting up to 300 seconds for model version to finish creation. Model name: GARCH(1,1)_1yrFit, version 176\n",
      "Created version '176' of model 'GARCH(1,1)_1yrFit'.\n",
      "2025/06/23 20:51:28 INFO mlflow.store.model_registry.abstract_store: Waiting up to 300 seconds for model version to finish creation. Model name: GARCH(1,1)_1yrFit, version 175\n",
      "Created version '175' of model 'GARCH(1,1)_1yrFit'.\n"
     ]
    },
    {
     "name": "stdout",
     "output_type": "stream",
     "text": [
      "🏃 View run IR_2025-06-03 at: http://127.0.0.1:8768/#/experiments/1553/runs/08f14172eb34423f9f71f27308784e5b\n",
      "🏃 View run IR_2025-06-06 at: http://127.0.0.1:8768/#/experiments/1553/runs/9d4254afaa1f427da9552047a78c09d5\n",
      "🧪 View experiment at: http://127.0.0.1:8768/#/experiments/1553\n",
      "🧪 View experiment at: http://127.0.0.1:8768/#/experiments/1553\n"
     ]
    },
    {
     "name": "stderr",
     "output_type": "stream",
     "text": [
      "Registered model 'GARCH(1,1)_1yrFit' already exists. Creating a new version of this model...\n",
      "Registered model 'GARCH(1,1)_1yrFit' already exists. Creating a new version of this model...\n",
      "2025/06/23 20:51:32 INFO mlflow.store.model_registry.abstract_store: Waiting up to 300 seconds for model version to finish creation. Model name: GARCH(1,1)_1yrFit, version 177\n",
      "Created version '177' of model 'GARCH(1,1)_1yrFit'.\n",
      "Registered model 'GARCH(1,1)_1yrFit' already exists. Creating a new version of this model...\n",
      "2025/06/23 20:51:33 INFO mlflow.store.model_registry.abstract_store: Waiting up to 300 seconds for model version to finish creation. Model name: GARCH(1,1)_1yrFit, version 178\n",
      "Created version '178' of model 'GARCH(1,1)_1yrFit'.\n",
      "Registered model 'GARCH(1,1)_1yrFit' already exists. Creating a new version of this model...\n",
      "Registered model 'GARCH(1,1)_1yrFit' already exists. Creating a new version of this model...\n",
      "2025/06/23 20:51:33 INFO mlflow.store.model_registry.abstract_store: Waiting up to 300 seconds for model version to finish creation. Model name: GARCH(1,1)_1yrFit, version 179\n",
      "Created version '179' of model 'GARCH(1,1)_1yrFit'.\n",
      "2025/06/23 20:51:34 INFO mlflow.store.model_registry.abstract_store: Waiting up to 300 seconds for model version to finish creation. Model name: GARCH(1,1)_1yrFit, version 180\n"
     ]
    },
    {
     "name": "stdout",
     "output_type": "stream",
     "text": [
      "🏃 View run IR_2025-06-04 at: http://127.0.0.1:8768/#/experiments/1553/runs/faf5055e466348dbb969209956032a53\n",
      "🧪 View experiment at: http://127.0.0.1:8768/#/experiments/1553\n"
     ]
    },
    {
     "name": "stderr",
     "output_type": "stream",
     "text": [
      "Created version '180' of model 'GARCH(1,1)_1yrFit'.\n"
     ]
    },
    {
     "name": "stdout",
     "output_type": "stream",
     "text": [
      "🏃 View run IR_2025-06-10 at: http://127.0.0.1:8768/#/experiments/1553/runs/878b0d80cd054c979b5739032164c988\n",
      "🧪 View experiment at: http://127.0.0.1:8768/#/experiments/1553\n",
      "🏃 View run IR_2025-06-11 at: http://127.0.0.1:8768/#/experiments/1553/runs/0f6bd89c295241f3bbd0d60d1516ef68\n",
      "🧪 View experiment at: http://127.0.0.1:8768/#/experiments/1553\n",
      "🏃 View run IR_2025-06-09 at: http://127.0.0.1:8768/#/experiments/1553/runs/782ea679352642c1b1775e6eb669f29c\n",
      "🧪 View experiment at: http://127.0.0.1:8768/#/experiments/1553\n"
     ]
    },
    {
     "name": "stderr",
     "output_type": "stream",
     "text": [
      "2025/06/23 20:51:34 INFO mlflow.store.model_registry.abstract_store: Waiting up to 300 seconds for model version to finish creation. Model name: GARCH(1,1)_1yrFit, version 181\n",
      "Created version '181' of model 'GARCH(1,1)_1yrFit'.\n"
     ]
    },
    {
     "name": "stdout",
     "output_type": "stream",
     "text": [
      "🏃 View run IR_2025-05-27 at: http://127.0.0.1:8768/#/experiments/1553/runs/df355c6e69b8484ca2cbbc37599d89ef\n",
      "🧪 View experiment at: http://127.0.0.1:8768/#/experiments/1553\n"
     ]
    },
    {
     "name": "stderr",
     "output_type": "stream",
     "text": [
      "/mnt/artifacts/.domino/.persistence/packages/venv/lib/python3.10/site-packages/arch/univariate/base.py:768: ConvergenceWarning: The optimizer returned code 4. The message is:\n",
      "Inequality constraints incompatible\n",
      "See scipy.optimize.fmin_slsqp for code meaning.\n",
      "\n",
      "  warnings.warn(\n"
     ]
    },
    {
     "name": "stdout",
     "output_type": "stream",
     "text": [
      "⏭️  Skipping 2025-06-14: no exact curve_date in pivot\n",
      "⏭️  Skipping 2025-06-15: no exact curve_date in pivot\n",
      "using model: GARCH(1,1)_1yrFit\n"
     ]
    },
    {
     "name": "stderr",
     "output_type": "stream",
     "text": [
      "2025/06/23 20:51:41 INFO mlflow.models.model: Found the following environment variables used during model inference: [DOMINO_USER_API_KEY]. Please check if you need to set them when deploying the model. To disable this message, set environment variable `MLFLOW_RECORD_ENV_VARS_IN_MODEL_LOGGING` to `false`.\n",
      "Registered model 'GARCH(1,1)_1yrFit' already exists. Creating a new version of this model...\n",
      "2025/06/23 20:51:45 INFO mlflow.store.model_registry.abstract_store: Waiting up to 300 seconds for model version to finish creation. Model name: GARCH(1,1)_1yrFit, version 182\n",
      "Created version '182' of model 'GARCH(1,1)_1yrFit'.\n"
     ]
    },
    {
     "name": "stdout",
     "output_type": "stream",
     "text": [
      "🏃 View run IR_2025-06-12 at: http://127.0.0.1:8768/#/experiments/1553/runs/45713cbbcd3645f59ad7adbf9c91a7fd\n",
      "🧪 View experiment at: http://127.0.0.1:8768/#/experiments/1553\n"
     ]
    },
    {
     "name": "stderr",
     "output_type": "stream",
     "text": [
      "2025/06/23 20:51:47 INFO mlflow.models.model: Found the following environment variables used during model inference: [DOMINO_USER_API_KEY]. Please check if you need to set them when deploying the model. To disable this message, set environment variable `MLFLOW_RECORD_ENV_VARS_IN_MODEL_LOGGING` to `false`.\n",
      "Registered model 'GARCH(1,1)_1yrFit' already exists. Creating a new version of this model...\n",
      "2025/06/23 20:51:51 INFO mlflow.store.model_registry.abstract_store: Waiting up to 300 seconds for model version to finish creation. Model name: GARCH(1,1)_1yrFit, version 183\n",
      "Created version '183' of model 'GARCH(1,1)_1yrFit'.\n"
     ]
    },
    {
     "name": "stdout",
     "output_type": "stream",
     "text": [
      "🏃 View run IR_2025-05-30 at: http://127.0.0.1:8768/#/experiments/1553/runs/a7e0157a23804d8295a7230668f6a03b\n",
      "🧪 View experiment at: http://127.0.0.1:8768/#/experiments/1553\n",
      "using model: GARCH(1,1)_1yrFit\n"
     ]
    },
    {
     "name": "stderr",
     "output_type": "stream",
     "text": [
      "2025/06/23 20:51:57 INFO mlflow.models.model: Found the following environment variables used during model inference: [DOMINO_USER_API_KEY]. Please check if you need to set them when deploying the model. To disable this message, set environment variable `MLFLOW_RECORD_ENV_VARS_IN_MODEL_LOGGING` to `false`.\n",
      "2025/06/23 20:52:02 INFO mlflow.models.model: Found the following environment variables used during model inference: [DOMINO_USER_API_KEY]. Please check if you need to set them when deploying the model. To disable this message, set environment variable `MLFLOW_RECORD_ENV_VARS_IN_MODEL_LOGGING` to `false`.\n",
      "Registered model 'GARCH(1,1)_1yrFit' already exists. Creating a new version of this model...\n",
      "2025/06/23 20:52:03 INFO mlflow.store.model_registry.abstract_store: Waiting up to 300 seconds for model version to finish creation. Model name: GARCH(1,1)_1yrFit, version 184\n",
      "Created version '184' of model 'GARCH(1,1)_1yrFit'.\n"
     ]
    },
    {
     "name": "stdout",
     "output_type": "stream",
     "text": [
      "🏃 View run IR_2025-06-13 at: http://127.0.0.1:8768/#/experiments/1553/runs/d0a09b572d1842a6846b9daa9bdca51c\n",
      "🧪 View experiment at: http://127.0.0.1:8768/#/experiments/1553\n"
     ]
    },
    {
     "name": "stderr",
     "output_type": "stream",
     "text": [
      "Registered model 'GARCH(1,1)_1yrFit' already exists. Creating a new version of this model...\n",
      "2025/06/23 20:52:07 INFO mlflow.store.model_registry.abstract_store: Waiting up to 300 seconds for model version to finish creation. Model name: GARCH(1,1)_1yrFit, version 185\n",
      "Created version '185' of model 'GARCH(1,1)_1yrFit'.\n"
     ]
    },
    {
     "name": "stdout",
     "output_type": "stream",
     "text": [
      "🏃 View run IR_2025-06-02 at: http://127.0.0.1:8768/#/experiments/1553/runs/3e31c8b3f486437b85cc6054d81072cb\n",
      "🧪 View experiment at: http://127.0.0.1:8768/#/experiments/1553\n",
      "using model: GARCH(1,1)_1yrFit\n"
     ]
    },
    {
     "name": "stderr",
     "output_type": "stream",
     "text": [
      "Registered model 'GARCH(1,1)_1yrFit' already exists. Creating a new version of this model...\n",
      "2025/06/23 20:52:12 INFO mlflow.store.model_registry.abstract_store: Waiting up to 300 seconds for model version to finish creation. Model name: GARCH(1,1)_1yrFit, version 186\n",
      "Created version '186' of model 'GARCH(1,1)_1yrFit'.\n"
     ]
    },
    {
     "name": "stdout",
     "output_type": "stream",
     "text": [
      "🏃 View run IR_2025-06-05 at: http://127.0.0.1:8768/#/experiments/1553/runs/5e0dce4cf32a4ef2a28c2cfb150741cc\n",
      "🧪 View experiment at: http://127.0.0.1:8768/#/experiments/1553\n"
     ]
    },
    {
     "name": "stderr",
     "output_type": "stream",
     "text": [
      "/mnt/artifacts/.domino/.persistence/packages/venv/lib/python3.10/site-packages/arch/univariate/base.py:768: ConvergenceWarning: The optimizer returned code 8. The message is:\n",
      "Positive directional derivative for linesearch\n",
      "See scipy.optimize.fmin_slsqp for code meaning.\n",
      "\n",
      "  warnings.warn(\n"
     ]
    },
    {
     "name": "stdout",
     "output_type": "stream",
     "text": [
      "⏭️  Skipping 2025-06-19: no exact curve_date in pivot\n",
      "using model: GARCH(1,1)_1yrFit\n"
     ]
    },
    {
     "name": "stderr",
     "output_type": "stream",
     "text": [
      "2025/06/23 20:52:18 INFO mlflow.models.model: Found the following environment variables used during model inference: [DOMINO_USER_API_KEY]. Please check if you need to set them when deploying the model. To disable this message, set environment variable `MLFLOW_RECORD_ENV_VARS_IN_MODEL_LOGGING` to `false`.\n",
      "Registered model 'GARCH(1,1)_1yrFit' already exists. Creating a new version of this model...\n",
      "2025/06/23 20:52:19 INFO mlflow.store.model_registry.abstract_store: Waiting up to 300 seconds for model version to finish creation. Model name: GARCH(1,1)_1yrFit, version 187\n",
      "Created version '187' of model 'GARCH(1,1)_1yrFit'.\n"
     ]
    },
    {
     "name": "stdout",
     "output_type": "stream",
     "text": [
      "🏃 View run IR_2025-06-03 at: http://127.0.0.1:8768/#/experiments/1553/runs/e9105baa55b74ff192c9c53ba28d04ad\n",
      "🧪 View experiment at: http://127.0.0.1:8768/#/experiments/1553\n"
     ]
    },
    {
     "name": "stderr",
     "output_type": "stream",
     "text": [
      "Registered model 'GARCH(1,1)_1yrFit' already exists. Creating a new version of this model...\n",
      "2025/06/23 20:52:22 INFO mlflow.store.model_registry.abstract_store: Waiting up to 300 seconds for model version to finish creation. Model name: GARCH(1,1)_1yrFit, version 188\n",
      "Created version '188' of model 'GARCH(1,1)_1yrFit'.\n"
     ]
    },
    {
     "name": "stdout",
     "output_type": "stream",
     "text": [
      "🏃 View run IR_2025-06-06 at: http://127.0.0.1:8768/#/experiments/1553/runs/bb59b6e2ad704d0b9bdc78635b7f3cfe\n",
      "🧪 View experiment at: http://127.0.0.1:8768/#/experiments/1553\n",
      "⏭️  Skipping 2025-06-21: no exact curve_date in pivot\n",
      "using model: GARCH(1,1)_1yrFit\n",
      "⏭️  Skipping 2025-06-22: no exact curve_date in pivot\n"
     ]
    },
    {
     "name": "stderr",
     "output_type": "stream",
     "text": [
      "/mnt/artifacts/.domino/.persistence/packages/venv/lib/python3.10/site-packages/arch/univariate/base.py:768: ConvergenceWarning: The optimizer returned code 8. The message is:\n",
      "Positive directional derivative for linesearch\n",
      "See scipy.optimize.fmin_slsqp for code meaning.\n",
      "\n",
      "  warnings.warn(\n",
      "Registered model 'GARCH(1,1)_1yrFit' already exists. Creating a new version of this model...\n",
      "Registered model 'GARCH(1,1)_1yrFit' already exists. Creating a new version of this model...\n",
      "2025/06/23 20:52:30 INFO mlflow.store.model_registry.abstract_store: Waiting up to 300 seconds for model version to finish creation. Model name: GARCH(1,1)_1yrFit, version 189\n",
      "Created version '189' of model 'GARCH(1,1)_1yrFit'.\n",
      "2025/06/23 20:52:30 INFO mlflow.store.model_registry.abstract_store: Waiting up to 300 seconds for model version to finish creation. Model name: GARCH(1,1)_1yrFit, version 190\n",
      "Created version '190' of model 'GARCH(1,1)_1yrFit'.\n",
      "Registered model 'GARCH(1,1)_1yrFit' already exists. Creating a new version of this model...\n"
     ]
    },
    {
     "name": "stdout",
     "output_type": "stream",
     "text": [
      "🏃 View run IR_2025-06-10 at: http://127.0.0.1:8768/#/experiments/1553/runs/592b857c683e4033993abdf59937138f\n",
      "🧪 View experiment at: http://127.0.0.1:8768/#/experiments/1553\n",
      "🏃 View run IR_2025-06-11 at: http://127.0.0.1:8768/#/experiments/1553/runs/afb4c0bb328a49b49602b2ec9ca89044\n",
      "🧪 View experiment at: http://127.0.0.1:8768/#/experiments/1553\n"
     ]
    },
    {
     "name": "stderr",
     "output_type": "stream",
     "text": [
      "2025/06/23 20:52:31 INFO mlflow.store.model_registry.abstract_store: Waiting up to 300 seconds for model version to finish creation. Model name: GARCH(1,1)_1yrFit, version 191\n",
      "Registered model 'GARCH(1,1)_1yrFit' already exists. Creating a new version of this model...\n",
      "Created version '191' of model 'GARCH(1,1)_1yrFit'.\n",
      "2025/06/23 20:52:31 INFO mlflow.store.model_registry.abstract_store: Waiting up to 300 seconds for model version to finish creation. Model name: GARCH(1,1)_1yrFit, version 192\n"
     ]
    },
    {
     "name": "stdout",
     "output_type": "stream",
     "text": [
      "🏃 View run IR_2025-06-04 at: http://127.0.0.1:8768/#/experiments/1553/runs/41079ffb5f4f4c32ba3630a175c741bd\n",
      "🧪 View experiment at: http://127.0.0.1:8768/#/experiments/1553\n"
     ]
    },
    {
     "name": "stderr",
     "output_type": "stream",
     "text": [
      "Created version '192' of model 'GARCH(1,1)_1yrFit'.\n",
      "2025/06/23 20:52:32 INFO mlflow.models.model: Found the following environment variables used during model inference: [DOMINO_USER_API_KEY]. Please check if you need to set them when deploying the model. To disable this message, set environment variable `MLFLOW_RECORD_ENV_VARS_IN_MODEL_LOGGING` to `false`.\n"
     ]
    },
    {
     "name": "stdout",
     "output_type": "stream",
     "text": [
      "🏃 View run IR_2025-06-09 at: http://127.0.0.1:8768/#/experiments/1553/runs/b6111389118440bc9516c7d3272a22bc\n",
      "🧪 View experiment at: http://127.0.0.1:8768/#/experiments/1553\n"
     ]
    },
    {
     "name": "stderr",
     "output_type": "stream",
     "text": [
      "Registered model 'GARCH(1,1)_1yrFit' already exists. Creating a new version of this model...\n",
      "2025/06/23 20:52:33 INFO mlflow.store.model_registry.abstract_store: Waiting up to 300 seconds for model version to finish creation. Model name: GARCH(1,1)_1yrFit, version 193\n",
      "Created version '193' of model 'GARCH(1,1)_1yrFit'.\n",
      "Registered model 'GARCH(1,1)_1yrFit' already exists. Creating a new version of this model...\n"
     ]
    },
    {
     "name": "stdout",
     "output_type": "stream",
     "text": [
      "🏃 View run IR_2025-06-16 at: http://127.0.0.1:8768/#/experiments/1553/runs/e7f3ae420e7e4436b2831c61f5cfc566\n",
      "🧪 View experiment at: http://127.0.0.1:8768/#/experiments/1553\n"
     ]
    },
    {
     "name": "stderr",
     "output_type": "stream",
     "text": [
      "2025/06/23 20:52:34 INFO mlflow.store.model_registry.abstract_store: Waiting up to 300 seconds for model version to finish creation. Model name: GARCH(1,1)_1yrFit, version 194\n",
      "Created version '194' of model 'GARCH(1,1)_1yrFit'.\n"
     ]
    },
    {
     "name": "stdout",
     "output_type": "stream",
     "text": [
      "🏃 View run IR_2025-06-12 at: http://127.0.0.1:8768/#/experiments/1553/runs/8b96e73f915c4cb19dd6c5ca5482c1df\n",
      "🧪 View experiment at: http://127.0.0.1:8768/#/experiments/1553\n"
     ]
    },
    {
     "name": "stderr",
     "output_type": "stream",
     "text": [
      "Registered model 'GARCH(1,1)_1yrFit' already exists. Creating a new version of this model...\n",
      "2025/06/23 20:52:35 INFO mlflow.store.model_registry.abstract_store: Waiting up to 300 seconds for model version to finish creation. Model name: GARCH(1,1)_1yrFit, version 195\n",
      "Created version '195' of model 'GARCH(1,1)_1yrFit'.\n"
     ]
    },
    {
     "name": "stdout",
     "output_type": "stream",
     "text": [
      "🏃 View run IR_2025-06-17 at: http://127.0.0.1:8768/#/experiments/1553/runs/9971ee5b25cf4c669a2dbe78a5659baa\n",
      "🧪 View experiment at: http://127.0.0.1:8768/#/experiments/1553\n"
     ]
    },
    {
     "name": "stderr",
     "output_type": "stream",
     "text": [
      "Registered model 'GARCH(1,1)_1yrFit' already exists. Creating a new version of this model...\n",
      "2025/06/23 20:52:45 INFO mlflow.models.model: Found the following environment variables used during model inference: [DOMINO_USER_API_KEY]. Please check if you need to set them when deploying the model. To disable this message, set environment variable `MLFLOW_RECORD_ENV_VARS_IN_MODEL_LOGGING` to `false`.\n",
      "2025/06/23 20:52:45 INFO mlflow.store.model_registry.abstract_store: Waiting up to 300 seconds for model version to finish creation. Model name: GARCH(1,1)_1yrFit, version 196\n",
      "Created version '196' of model 'GARCH(1,1)_1yrFit'.\n"
     ]
    },
    {
     "name": "stdout",
     "output_type": "stream",
     "text": [
      "🏃 View run IR_2025-06-13 at: http://127.0.0.1:8768/#/experiments/1553/runs/ddf34f21eee044828e4a506085c2e6c6\n",
      "🧪 View experiment at: http://127.0.0.1:8768/#/experiments/1553\n"
     ]
    },
    {
     "name": "stderr",
     "output_type": "stream",
     "text": [
      "Registered model 'GARCH(1,1)_1yrFit' already exists. Creating a new version of this model...\n",
      "2025/06/23 20:52:47 INFO mlflow.store.model_registry.abstract_store: Waiting up to 300 seconds for model version to finish creation. Model name: GARCH(1,1)_1yrFit, version 197\n",
      "Created version '197' of model 'GARCH(1,1)_1yrFit'.\n",
      "Registered model 'GARCH(1,1)_1yrFit' already exists. Creating a new version of this model...\n"
     ]
    },
    {
     "name": "stdout",
     "output_type": "stream",
     "text": [
      "🏃 View run IR_2025-06-18 at: http://127.0.0.1:8768/#/experiments/1553/runs/8ef5b52fc875490eae6d8c47a1d0611e\n",
      "🧪 View experiment at: http://127.0.0.1:8768/#/experiments/1553\n"
     ]
    },
    {
     "name": "stderr",
     "output_type": "stream",
     "text": [
      "/mnt/artifacts/.domino/.persistence/packages/venv/lib/python3.10/site-packages/arch/univariate/base.py:768: ConvergenceWarning: The optimizer returned code 8. The message is:\n",
      "Positive directional derivative for linesearch\n",
      "See scipy.optimize.fmin_slsqp for code meaning.\n",
      "\n",
      "  warnings.warn(\n",
      "2025/06/23 20:52:48 INFO mlflow.store.model_registry.abstract_store: Waiting up to 300 seconds for model version to finish creation. Model name: GARCH(1,1)_1yrFit, version 198\n",
      "Created version '198' of model 'GARCH(1,1)_1yrFit'.\n"
     ]
    },
    {
     "name": "stdout",
     "output_type": "stream",
     "text": [
      "🏃 View run IR_2025-06-20 at: http://127.0.0.1:8768/#/experiments/1553/runs/f6ce3496aac34866a53536b770176c0b\n",
      "🧪 View experiment at: http://127.0.0.1:8768/#/experiments/1553\n"
     ]
    },
    {
     "name": "stderr",
     "output_type": "stream",
     "text": [
      "Registered model 'GARCH(1,1)_1yrFit' already exists. Creating a new version of this model...\n",
      "2025/06/23 20:52:49 INFO mlflow.store.model_registry.abstract_store: Waiting up to 300 seconds for model version to finish creation. Model name: GARCH(1,1)_1yrFit, version 199\n",
      "Created version '199' of model 'GARCH(1,1)_1yrFit'.\n"
     ]
    },
    {
     "name": "stdout",
     "output_type": "stream",
     "text": [
      "🏃 View run IR_2025-06-23 at: http://127.0.0.1:8768/#/experiments/1553/runs/68406e70376d42bcaced0edb4ab4fc76\n",
      "🧪 View experiment at: http://127.0.0.1:8768/#/experiments/1553\n"
     ]
    },
    {
     "name": "stderr",
     "output_type": "stream",
     "text": [
      "/mnt/artifacts/.domino/.persistence/packages/venv/lib/python3.10/site-packages/arch/univariate/base.py:768: ConvergenceWarning: The optimizer returned code 8. The message is:\n",
      "Positive directional derivative for linesearch\n",
      "See scipy.optimize.fmin_slsqp for code meaning.\n",
      "\n",
      "  warnings.warn(\n",
      "Registered model 'GARCH(1,1)_1yrFit' already exists. Creating a new version of this model...\n",
      "Registered model 'GARCH(1,1)_1yrFit' already exists. Creating a new version of this model...\n",
      "2025/06/23 20:52:56 INFO mlflow.store.model_registry.abstract_store: Waiting up to 300 seconds for model version to finish creation. Model name: GARCH(1,1)_1yrFit, version 200\n",
      "Created version '200' of model 'GARCH(1,1)_1yrFit'.\n",
      "2025/06/23 20:52:56 INFO mlflow.store.model_registry.abstract_store: Waiting up to 300 seconds for model version to finish creation. Model name: GARCH(1,1)_1yrFit, version 201\n",
      "Created version '201' of model 'GARCH(1,1)_1yrFit'.\n"
     ]
    },
    {
     "name": "stdout",
     "output_type": "stream",
     "text": [
      "🏃 View run IR_2025-06-17 at: http://127.0.0.1:8768/#/experiments/1553/runs/288797c4588d46ca8aa0d920df449d3c\n",
      "🧪 View experiment at: http://127.0.0.1:8768/#/experiments/1553\n",
      "🏃 View run IR_2025-06-16 at: http://127.0.0.1:8768/#/experiments/1553/runs/77b259c04b4f4caebe1b36b09c94ae6f\n",
      "🧪 View experiment at: http://127.0.0.1:8768/#/experiments/1553\n"
     ]
    },
    {
     "name": "stderr",
     "output_type": "stream",
     "text": [
      "Registered model 'GARCH(1,1)_1yrFit' already exists. Creating a new version of this model...\n",
      "Registered model 'GARCH(1,1)_1yrFit' already exists. Creating a new version of this model...\n",
      "2025/06/23 20:53:03 INFO mlflow.store.model_registry.abstract_store: Waiting up to 300 seconds for model version to finish creation. Model name: GARCH(1,1)_1yrFit, version 202\n",
      "Created version '202' of model 'GARCH(1,1)_1yrFit'.\n",
      "Registered model 'GARCH(1,1)_1yrFit' already exists. Creating a new version of this model...\n",
      "2025/06/23 20:53:04 INFO mlflow.store.model_registry.abstract_store: Waiting up to 300 seconds for model version to finish creation. Model name: GARCH(1,1)_1yrFit, version 203\n",
      "Created version '203' of model 'GARCH(1,1)_1yrFit'.\n"
     ]
    },
    {
     "name": "stdout",
     "output_type": "stream",
     "text": [
      "🏃 View run IR_2025-06-18 at: http://127.0.0.1:8768/#/experiments/1553/runs/73907bbf61ca409f8e6d8c7a44dabdd3\n",
      "🧪 View experiment at: http://127.0.0.1:8768/#/experiments/1553\n"
     ]
    },
    {
     "name": "stderr",
     "output_type": "stream",
     "text": [
      "2025/06/23 20:53:04 INFO mlflow.store.model_registry.abstract_store: Waiting up to 300 seconds for model version to finish creation. Model name: GARCH(1,1)_1yrFit, version 204\n",
      "Created version '204' of model 'GARCH(1,1)_1yrFit'.\n"
     ]
    },
    {
     "name": "stdout",
     "output_type": "stream",
     "text": [
      "🏃 View run IR_2025-06-20 at: http://127.0.0.1:8768/#/experiments/1553/runs/f7b6d316c277467b831b36a27ed9a115\n",
      "🧪 View experiment at: http://127.0.0.1:8768/#/experiments/1553\n",
      "🏃 View run IR_2025-06-23 at: http://127.0.0.1:8768/#/experiments/1553/runs/07172c325b0a44f7b254de6646a6ec23\n",
      "🧪 View experiment at: http://127.0.0.1:8768/#/experiments/1553\n",
      "⚠️  32 errors:\n",
      "  • 2025-01-06: <matplotlib.backends.backend_agg.RendererAgg object at 0x71ad5445e4d0>\n",
      "  • 2025-01-09: functools.partial(<function FigureCanvasAgg.print_png at 0x71ad68244e50>, orientation='portrait') did not call Figure.draw, so no renderer is available\n",
      "  • 2024-12-30: <matplotlib.backends.backend_agg.RendererAgg object at 0x71ad5445e4d0>\n",
      "  • 2025-01-08: functools.partial(<function FigureCanvasAgg.print_png at 0x71ad6835d510>, orientation='portrait') did not call Figure.draw, so no renderer is available\n",
      "  • 2025-01-13: <matplotlib.backends.backend_agg.RendererAgg object at 0x71ad5445e4d0>\n",
      "  • 2025-02-18: first_obs and last_obs produce in an empty array.\n",
      "  • 2025-02-19: SVD did not converge\n",
      "  • 2025-02-20: SVD did not converge\n",
      "  • 2025-02-21: SVD did not converge\n",
      "  • 2025-03-06: <matplotlib.backends.backend_agg.RendererAgg object at 0x71ad00101510>\n",
      "  • 2025-03-04: functools.partial(<function FigureCanvasAgg.print_png at 0x71ad002b1bd0>, orientation='portrait') did not call Figure.draw, so no renderer is available\n",
      "  • 2025-03-10: <matplotlib.backends.backend_agg.RendererAgg object at 0x71ad012c0df0>\n",
      "  • 2025-03-18: <matplotlib.backends.backend_agg.RendererAgg object at 0x71ad012c0df0>\n",
      "  • 2025-03-07: <matplotlib.backends.backend_agg.RendererAgg object at 0x71acfbf06c20>\n",
      "  • 2025-04-10: <matplotlib.backends.backend_agg.RendererAgg object at 0x71acf8365000>\n",
      "  • 2025-04-01: functools.partial(<function FigureCanvasAgg.print_png at 0x71acf8249870>, orientation='portrait') did not call Figure.draw, so no renderer is available\n",
      "  • 2025-03-31: <matplotlib.backends.backend_agg.RendererAgg object at 0x71acf8365000>\n",
      "  • 2025-04-02: <matplotlib.backends.backend_agg.RendererAgg object at 0x71acf89dd840>\n",
      "  • 2025-04-14: <matplotlib.backends.backend_agg.RendererAgg object at 0x71ad463748e0>\n",
      "  • 2025-04-15: functools.partial(<function FigureCanvasAgg.print_png at 0x71acf9755ea0>, orientation='portrait') did not call Figure.draw, so no renderer is available\n",
      "  • 2025-04-04: <matplotlib.backends.backend_agg.RendererAgg object at 0x71ad463748e0>\n",
      "  • 2025-04-16: <matplotlib.backends.backend_agg.RendererAgg object at 0x71acf3c1f490>\n",
      "  • 2025-04-28: <matplotlib.backends.backend_agg.RendererAgg object at 0x71acf9b78340>\n",
      "  • 2025-05-15: <matplotlib.backends.backend_agg.RendererAgg object at 0x71acf3eab5e0>\n",
      "  • 2025-05-13: functools.partial(<function FigureCanvasAgg.print_png at 0x71ad036f5990>, orientation='portrait') did not call Figure.draw, so no renderer is available\n",
      "  • 2025-05-14: <matplotlib.backends.backend_agg.RendererAgg object at 0x71acf3eab5e0>\n",
      "  • 2025-05-12: <matplotlib.backends.backend_agg.RendererAgg object at 0x71acf3eab5e0>\n",
      "  • 2025-05-29: <matplotlib.backends.backend_agg.RendererAgg object at 0x71ad44c28790>\n",
      "  • 2025-05-28: <matplotlib.backends.backend_agg.RendererAgg object at 0x71ad44c28790>\n",
      "  • 2025-05-23: <matplotlib.backends.backend_agg.RendererAgg object at 0x71acf9063070>\n",
      "  • 2025-05-22: functools.partial(<function FigureCanvasAgg.print_png at 0x71ad44f4d3f0>, orientation='portrait') did not call Figure.draw, so no renderer is available\n",
      "  • 2025-05-20: functools.partial(<function FigureCanvasAgg.print_png at 0x71acf9072830>, orientation='portrait') did not call Figure.draw, so no renderer is available\n",
      "🏃 View run populate_ir_cones_2025-06-23 at: http://127.0.0.1:8768/#/experiments/1553/runs/084b416e176b4991aa5d56e7fe2eb9c8\n",
      "🧪 View experiment at: http://127.0.0.1:8768/#/experiments/1553\n",
      "⏭️  Skipping 2025-01-01: no exact curve_date in pivot\n",
      "⏭️  Skipping 2024-12-29: no exact curve_date in pivot\n",
      "using model: GARCH(1,1)_5yrFit\n",
      "using model: GARCH(1,1)_5yrFit\n",
      "⏭️  Skipping 2024-12-25: no exact curve_date in pivot\n",
      "using model: GARCH(1,1)_5yrFit\n",
      "using model: GARCH(1,1)_5yrFit\n",
      "using model: GARCH(1,1)_5yrFit\n",
      "using model: GARCH(1,1)_5yrFit\n",
      "⏭️  Skipping 2024-12-28: no exact curve_date in pivot\n",
      "⏭️  Skipping 2025-01-04: no exact curve_date in pivot\n",
      "⏭️  Skipping 2025-01-05: no exact curve_date in pivot\n",
      "using model: GARCH(1,1)_5yrFit\n",
      "using model: GARCH(1,1)_5yrFit\n",
      "using model: GARCH(1,1)_5yrFit\n",
      "using model: GARCH(1,1)_5yrFit\n",
      "⏭️  Skipping 2025-01-11: no exact curve_date in pivot\n",
      "using model: GARCH(1,1)_5yrFit\n",
      "⏭️  Skipping 2025-01-12: no exact curve_date in pivot\n",
      "using model: GARCH(1,1)_5yrFit\n"
     ]
    },
    {
     "name": "stderr",
     "output_type": "stream",
     "text": [
      "No artists with labels found to put in legend.  Note that artists whose label start with an underscore are ignored when legend() is called with no argument.\n",
      "Registered model 'GARCH(1,1)_5yrFit' already exists. Creating a new version of this model...\n",
      "2025/06/23 20:53:57 INFO mlflow.store.model_registry.abstract_store: Waiting up to 300 seconds for model version to finish creation. Model name: GARCH(1,1)_5yrFit, version 7\n",
      "Created version '7' of model 'GARCH(1,1)_5yrFit'.\n"
     ]
    },
    {
     "name": "stdout",
     "output_type": "stream",
     "text": [
      "🏃 View run IR_2024-12-30 at: http://127.0.0.1:8768/#/experiments/1553/runs/ffee6c4f008b4a35a38af30547092a26\n",
      "🧪 View experiment at: http://127.0.0.1:8768/#/experiments/1553\n"
     ]
    },
    {
     "name": "stderr",
     "output_type": "stream",
     "text": [
      "Registered model 'GARCH(1,1)_5yrFit' already exists. Creating a new version of this model...\n",
      "2025/06/23 20:54:11 INFO mlflow.store.model_registry.abstract_store: Waiting up to 300 seconds for model version to finish creation. Model name: GARCH(1,1)_5yrFit, version 8\n",
      "Created version '8' of model 'GARCH(1,1)_5yrFit'.\n"
     ]
    },
    {
     "name": "stdout",
     "output_type": "stream",
     "text": [
      "🏃 View run IR_2024-12-27 at: http://127.0.0.1:8768/#/experiments/1553/runs/bcad1d4ecc4a4e8eab4cf923b19b346f\n",
      "🧪 View experiment at: http://127.0.0.1:8768/#/experiments/1553\n"
     ]
    },
    {
     "name": "stderr",
     "output_type": "stream",
     "text": [
      "Registered model 'GARCH(1,1)_5yrFit' already exists. Creating a new version of this model...\n",
      "Registered model 'GARCH(1,1)_5yrFit' already exists. Creating a new version of this model...\n",
      "2025/06/23 20:54:12 INFO mlflow.store.model_registry.abstract_store: Waiting up to 300 seconds for model version to finish creation. Model name: GARCH(1,1)_5yrFit, version 9\n",
      "Created version '9' of model 'GARCH(1,1)_5yrFit'.\n",
      "Registered model 'GARCH(1,1)_5yrFit' already exists. Creating a new version of this model...\n",
      "2025/06/23 20:54:12 INFO mlflow.store.model_registry.abstract_store: Waiting up to 300 seconds for model version to finish creation. Model name: GARCH(1,1)_5yrFit, version 10\n",
      "Created version '10' of model 'GARCH(1,1)_5yrFit'.\n"
     ]
    },
    {
     "name": "stdout",
     "output_type": "stream",
     "text": [
      "🏃 View run IR_2025-01-03 at: http://127.0.0.1:8768/#/experiments/1553/runs/024e743dafb142c18aa90a378678cbbb\n",
      "🧪 View experiment at: http://127.0.0.1:8768/#/experiments/1553\n"
     ]
    },
    {
     "name": "stderr",
     "output_type": "stream",
     "text": [
      "Registered model 'GARCH(1,1)_5yrFit' already exists. Creating a new version of this model...\n",
      "2025/06/23 20:54:13 INFO mlflow.store.model_registry.abstract_store: Waiting up to 300 seconds for model version to finish creation. Model name: GARCH(1,1)_5yrFit, version 11\n",
      "Created version '11' of model 'GARCH(1,1)_5yrFit'.\n"
     ]
    },
    {
     "name": "stdout",
     "output_type": "stream",
     "text": [
      "🏃 View run IR_2025-01-07 at: http://127.0.0.1:8768/#/experiments/1553/runs/458cb3574def4c8ead412eb1ccf86a54\n",
      "🧪 View experiment at: http://127.0.0.1:8768/#/experiments/1553\n"
     ]
    },
    {
     "name": "stderr",
     "output_type": "stream",
     "text": [
      "2025/06/23 20:54:13 INFO mlflow.store.model_registry.abstract_store: Waiting up to 300 seconds for model version to finish creation. Model name: GARCH(1,1)_5yrFit, version 12\n",
      "Created version '12' of model 'GARCH(1,1)_5yrFit'.\n",
      "Registered model 'GARCH(1,1)_5yrFit' already exists. Creating a new version of this model...\n"
     ]
    },
    {
     "name": "stdout",
     "output_type": "stream",
     "text": [
      "🏃 View run IR_2025-01-09 at: http://127.0.0.1:8768/#/experiments/1553/runs/567db39eab6449a4b6b7fda33f6e3f70\n",
      "🧪 View experiment at: http://127.0.0.1:8768/#/experiments/1553\n",
      "🏃 View run IR_2024-12-31 at: http://127.0.0.1:8768/#/experiments/1553/runs/59f217ee61cc4248a924e9a41c46d80d\n",
      "🧪 View experiment at: http://127.0.0.1:8768/#/experiments/1553\n"
     ]
    },
    {
     "name": "stderr",
     "output_type": "stream",
     "text": [
      "Registered model 'GARCH(1,1)_5yrFit' already exists. Creating a new version of this model...\n",
      "Registered model 'GARCH(1,1)_5yrFit' already exists. Creating a new version of this model...\n",
      "2025/06/23 20:54:14 INFO mlflow.store.model_registry.abstract_store: Waiting up to 300 seconds for model version to finish creation. Model name: GARCH(1,1)_5yrFit, version 13\n",
      "Created version '13' of model 'GARCH(1,1)_5yrFit'.\n",
      "Registered model 'GARCH(1,1)_5yrFit' already exists. Creating a new version of this model...\n",
      "Registered model 'GARCH(1,1)_5yrFit' already exists. Creating a new version of this model...\n",
      "Registered model 'GARCH(1,1)_5yrFit' already exists. Creating a new version of this model...\n",
      "2025/06/23 20:54:14 INFO mlflow.store.model_registry.abstract_store: Waiting up to 300 seconds for model version to finish creation. Model name: GARCH(1,1)_5yrFit, version 14\n",
      "Created version '14' of model 'GARCH(1,1)_5yrFit'.2025/06/23 20:54:14 INFO mlflow.store.model_registry.abstract_store: Waiting up to 300 seconds for model version to finish creation. Model name: GARCH(1,1)_5yrFit, version 15\n",
      "\n",
      "Created version '15' of model 'GARCH(1,1)_5yrFit'.\n"
     ]
    },
    {
     "name": "stdout",
     "output_type": "stream",
     "text": [
      "🏃 View run IR_2025-01-02 at: http://127.0.0.1:8768/#/experiments/1553/runs/2de2d0217a114d2da311ba80105ca608\n",
      "🧪 View experiment at: http://127.0.0.1:8768/#/experiments/1553\n"
     ]
    },
    {
     "name": "stderr",
     "output_type": "stream",
     "text": [
      "2025/06/23 20:54:15 INFO mlflow.store.model_registry.abstract_store: Waiting up to 300 seconds for model version to finish creation. Model name: GARCH(1,1)_5yrFit, version 16\n",
      "Created version '16' of model 'GARCH(1,1)_5yrFit'.\n",
      "2025/06/23 20:54:15 INFO mlflow.store.model_registry.abstract_store: Waiting up to 300 seconds for model version to finish creation. Model name: GARCH(1,1)_5yrFit, version 17\n",
      "Created version '17' of model 'GARCH(1,1)_5yrFit'.\n",
      "2025/06/23 20:54:15 INFO mlflow.store.model_registry.abstract_store: Waiting up to 300 seconds for model version to finish creation. Model name: GARCH(1,1)_5yrFit, version 18\n",
      "Created version '18' of model 'GARCH(1,1)_5yrFit'.\n"
     ]
    },
    {
     "name": "stdout",
     "output_type": "stream",
     "text": [
      "🏃 View run IR_2024-12-26 at: http://127.0.0.1:8768/#/experiments/1553/runs/329e3da081f04ec2ba9d5c7cc7fca0df\n",
      "🧪 View experiment at: http://127.0.0.1:8768/#/experiments/1553\n",
      "🏃 View run IR_2025-01-06 at: http://127.0.0.1:8768/#/experiments/1553/runs/8d887cbeb57b4c0ab6bee8606573f272\n",
      "🧪 View experiment at: http://127.0.0.1:8768/#/experiments/1553\n",
      "🏃 View run IR_2025-01-10 at: http://127.0.0.1:8768/#/experiments/1553/runs/0b23033a765a4728b3ae3fdbe178221a\n",
      "🧪 View experiment at: http://127.0.0.1:8768/#/experiments/1553\n",
      "🏃 View run IR_2025-01-13 at: http://127.0.0.1:8768/#/experiments/1553/runs/8f46e74b1c2d4b51b8458f216c310e68\n",
      "🧪 View experiment at: http://127.0.0.1:8768/#/experiments/1553\n",
      "🏃 View run IR_2025-01-08 at: http://127.0.0.1:8768/#/experiments/1553/runs/c5355bdee435486282f3152c862f4fdf\n",
      "🧪 View experiment at: http://127.0.0.1:8768/#/experiments/1553\n",
      "using model: GARCH(1,1)_5yrFit\n"
     ]
    },
    {
     "name": "stderr",
     "output_type": "stream",
     "text": [
      "2025/06/23 20:54:32 INFO mlflow.models.model: Found the following environment variables used during model inference: [DOMINO_USER_API_KEY]. Please check if you need to set them when deploying the model. To disable this message, set environment variable `MLFLOW_RECORD_ENV_VARS_IN_MODEL_LOGGING` to `false`.\n",
      "2025/06/23 20:54:33 INFO mlflow.models.model: Found the following environment variables used during model inference: [DOMINO_USER_API_KEY]. Please check if you need to set them when deploying the model. To disable this message, set environment variable `MLFLOW_RECORD_ENV_VARS_IN_MODEL_LOGGING` to `false`.\n"
     ]
    },
    {
     "name": "stdout",
     "output_type": "stream",
     "text": [
      "using model: GARCH(1,1)_5yrFit\n",
      "using model: GARCH(1,1)_5yrFit\n"
     ]
    },
    {
     "name": "stderr",
     "output_type": "stream",
     "text": [
      "Registered model 'GARCH(1,1)_5yrFit' already exists. Creating a new version of this model...\n",
      "Registered model 'GARCH(1,1)_5yrFit' already exists. Creating a new version of this model...\n",
      "2025/06/23 20:54:37 INFO mlflow.store.model_registry.abstract_store: Waiting up to 300 seconds for model version to finish creation. Model name: GARCH(1,1)_5yrFit, version 19\n",
      "Created version '19' of model 'GARCH(1,1)_5yrFit'.\n",
      "2025/06/23 20:54:37 INFO mlflow.store.model_registry.abstract_store: Waiting up to 300 seconds for model version to finish creation. Model name: GARCH(1,1)_5yrFit, version 20\n"
     ]
    },
    {
     "name": "stdout",
     "output_type": "stream",
     "text": [
      "🏃 View run IR_2024-12-30 at: http://127.0.0.1:8768/#/experiments/1553/runs/087ca2af145f49ca9bb05aa457424eaa\n",
      "🧪 View experiment at: http://127.0.0.1:8768/#/experiments/1553\n"
     ]
    },
    {
     "name": "stderr",
     "output_type": "stream",
     "text": [
      "Created version '20' of model 'GARCH(1,1)_5yrFit'.\n"
     ]
    },
    {
     "name": "stdout",
     "output_type": "stream",
     "text": [
      "using model: GARCH(1,1)_5yrFit\n",
      "🏃 View run IR_2024-12-27 at: http://127.0.0.1:8768/#/experiments/1553/runs/5c8ce0ceba46417895693cc569b26d96\n",
      "🧪 View experiment at: http://127.0.0.1:8768/#/experiments/1553\n",
      "⏭️  Skipping 2025-01-18: no exact curve_date in pivot\n",
      "⏭️  Skipping 2025-01-19: no exact curve_date in pivot\n",
      "⏭️  Skipping 2025-01-20: no exact curve_date in pivot\n",
      "using model: GARCH(1,1)_5yrFit\n"
     ]
    },
    {
     "name": "stderr",
     "output_type": "stream",
     "text": [
      "2025/06/23 20:54:42 INFO mlflow.models.model: Found the following environment variables used during model inference: [DOMINO_USER_API_KEY]. Please check if you need to set them when deploying the model. To disable this message, set environment variable `MLFLOW_RECORD_ENV_VARS_IN_MODEL_LOGGING` to `false`.\n"
     ]
    },
    {
     "name": "stdout",
     "output_type": "stream",
     "text": [
      "using model: GARCH(1,1)_5yrFit\n"
     ]
    },
    {
     "name": "stderr",
     "output_type": "stream",
     "text": [
      "Registered model 'GARCH(1,1)_5yrFit' already exists. Creating a new version of this model...\n",
      "2025/06/23 20:54:49 INFO mlflow.store.model_registry.abstract_store: Waiting up to 300 seconds for model version to finish creation. Model name: GARCH(1,1)_5yrFit, version 21\n",
      "Created version '21' of model 'GARCH(1,1)_5yrFit'.\n"
     ]
    },
    {
     "name": "stdout",
     "output_type": "stream",
     "text": [
      "🏃 View run IR_2025-01-07 at: http://127.0.0.1:8768/#/experiments/1553/runs/defd6b097f724f46861854763b24f04d\n",
      "🧪 View experiment at: http://127.0.0.1:8768/#/experiments/1553\n",
      "using model: GARCH(1,1)_5yrFit\n"
     ]
    },
    {
     "name": "stderr",
     "output_type": "stream",
     "text": [
      "2025/06/23 20:54:52 INFO mlflow.models.model: Found the following environment variables used during model inference: [DOMINO_USER_API_KEY]. Please check if you need to set them when deploying the model. To disable this message, set environment variable `MLFLOW_RECORD_ENV_VARS_IN_MODEL_LOGGING` to `false`.\n",
      "Registered model 'GARCH(1,1)_5yrFit' already exists. Creating a new version of this model...\n",
      "2025/06/23 20:54:55 INFO mlflow.store.model_registry.abstract_store: Waiting up to 300 seconds for model version to finish creation. Model name: GARCH(1,1)_5yrFit, version 22\n",
      "Created version '22' of model 'GARCH(1,1)_5yrFit'.\n"
     ]
    },
    {
     "name": "stdout",
     "output_type": "stream",
     "text": [
      "🏃 View run IR_2025-01-03 at: http://127.0.0.1:8768/#/experiments/1553/runs/31e52a0e8372421ea3b0889e564644be\n",
      "🧪 View experiment at: http://127.0.0.1:8768/#/experiments/1553\n",
      "using model: GARCH(1,1)_5yrFit\n"
     ]
    },
    {
     "name": "stderr",
     "output_type": "stream",
     "text": [
      "Registered model 'GARCH(1,1)_5yrFit' already exists. Creating a new version of this model...\n",
      "Registered model 'GARCH(1,1)_5yrFit' already exists. Creating a new version of this model...\n",
      "2025/06/23 20:55:03 INFO mlflow.store.model_registry.abstract_store: Waiting up to 300 seconds for model version to finish creation. Model name: GARCH(1,1)_5yrFit, version 23\n",
      "Created version '23' of model 'GARCH(1,1)_5yrFit'.\n",
      "2025/06/23 20:55:03 INFO mlflow.store.model_registry.abstract_store: Waiting up to 300 seconds for model version to finish creation. Model name: GARCH(1,1)_5yrFit, version 24\n",
      "Created version '24' of model 'GARCH(1,1)_5yrFit'.\n"
     ]
    },
    {
     "name": "stdout",
     "output_type": "stream",
     "text": [
      "🏃 View run IR_2025-01-13 at: http://127.0.0.1:8768/#/experiments/1553/runs/9ea93d6ffdc64ab3b9af1a0e64d578ca\n",
      "🧪 View experiment at: http://127.0.0.1:8768/#/experiments/1553\n",
      "🏃 View run IR_2024-12-26 at: http://127.0.0.1:8768/#/experiments/1553/runs/cfc53cfe63db43108d6c1876c00425f2\n",
      "🧪 View experiment at: http://127.0.0.1:8768/#/experiments/1553\n",
      "⏭️  Skipping 2025-01-25: no exact curve_date in pivot\n",
      "⏭️  Skipping 2025-01-26: no exact curve_date in pivot\n",
      "using model: GARCH(1,1)_5yrFitusing model: GARCH(1,1)_5yrFit\n",
      "\n"
     ]
    },
    {
     "name": "stderr",
     "output_type": "stream",
     "text": [
      "2025/06/23 20:55:12 INFO mlflow.models.model: Found the following environment variables used during model inference: [DOMINO_USER_API_KEY]. Please check if you need to set them when deploying the model. To disable this message, set environment variable `MLFLOW_RECORD_ENV_VARS_IN_MODEL_LOGGING` to `false`.\n",
      "Registered model 'GARCH(1,1)_5yrFit' already exists. Creating a new version of this model...\n",
      "2025/06/23 20:55:15 INFO mlflow.store.model_registry.abstract_store: Waiting up to 300 seconds for model version to finish creation. Model name: GARCH(1,1)_5yrFit, version 25\n",
      "Created version '25' of model 'GARCH(1,1)_5yrFit'.\n"
     ]
    },
    {
     "name": "stdout",
     "output_type": "stream",
     "text": [
      "🏃 View run IR_2025-01-08 at: http://127.0.0.1:8768/#/experiments/1553/runs/db1a2354792a4c42912ae13a6bcbbeec\n",
      "🧪 View experiment at: http://127.0.0.1:8768/#/experiments/1553\n"
     ]
    },
    {
     "name": "stderr",
     "output_type": "stream",
     "text": [
      "2025/06/23 20:55:16 INFO mlflow.models.model: Found the following environment variables used during model inference: [DOMINO_USER_API_KEY]. Please check if you need to set them when deploying the model. To disable this message, set environment variable `MLFLOW_RECORD_ENV_VARS_IN_MODEL_LOGGING` to `false`.\n"
     ]
    },
    {
     "name": "stdout",
     "output_type": "stream",
     "text": [
      "using model: GARCH(1,1)_5yrFit\n"
     ]
    },
    {
     "name": "stderr",
     "output_type": "stream",
     "text": [
      "Registered model 'GARCH(1,1)_5yrFit' already exists. Creating a new version of this model...\n",
      "2025/06/23 20:55:19 INFO mlflow.models.model: Found the following environment variables used during model inference: [DOMINO_USER_API_KEY]. Please check if you need to set them when deploying the model. To disable this message, set environment variable `MLFLOW_RECORD_ENV_VARS_IN_MODEL_LOGGING` to `false`.\n",
      "2025/06/23 20:55:20 INFO mlflow.store.model_registry.abstract_store: Waiting up to 300 seconds for model version to finish creation. Model name: GARCH(1,1)_5yrFit, version 26\n",
      "Created version '26' of model 'GARCH(1,1)_5yrFit'.\n"
     ]
    },
    {
     "name": "stdout",
     "output_type": "stream",
     "text": [
      "🏃 View run IR_2025-01-02 at: http://127.0.0.1:8768/#/experiments/1553/runs/34852885756641dd8a19a860e4ae73bb\n",
      "🧪 View experiment at: http://127.0.0.1:8768/#/experiments/1553\n"
     ]
    },
    {
     "name": "stderr",
     "output_type": "stream",
     "text": [
      "Registered model 'GARCH(1,1)_5yrFit' already exists. Creating a new version of this model...\n"
     ]
    },
    {
     "name": "stdout",
     "output_type": "stream",
     "text": [
      "using model: GARCH(1,1)_5yrFit\n"
     ]
    },
    {
     "name": "stderr",
     "output_type": "stream",
     "text": [
      "2025/06/23 20:55:25 INFO mlflow.store.model_registry.abstract_store: Waiting up to 300 seconds for model version to finish creation. Model name: GARCH(1,1)_5yrFit, version 27\n",
      "Registered model 'GARCH(1,1)_5yrFit' already exists. Creating a new version of this model...\n",
      "Created version '27' of model 'GARCH(1,1)_5yrFit'.\n",
      "2025/06/23 20:55:26 INFO mlflow.store.model_registry.abstract_store: Waiting up to 300 seconds for model version to finish creation. Model name: GARCH(1,1)_5yrFit, version 28\n",
      "Created version '28' of model 'GARCH(1,1)_5yrFit'.\n"
     ]
    },
    {
     "name": "stdout",
     "output_type": "stream",
     "text": [
      "🏃 View run IR_2025-01-17 at: http://127.0.0.1:8768/#/experiments/1553/runs/777aa025889a413db86fe34f52eb898e\n",
      "🧪 View experiment at: http://127.0.0.1:8768/#/experiments/1553\n",
      "🏃 View run IR_2025-01-14 at: http://127.0.0.1:8768/#/experiments/1553/runs/c9caf50086894a60b4e96f56eb5195a9\n",
      "🧪 View experiment at: http://127.0.0.1:8768/#/experiments/1553\n"
     ]
    },
    {
     "name": "stderr",
     "output_type": "stream",
     "text": [
      "2025/06/23 20:55:32 INFO mlflow.models.model: Found the following environment variables used during model inference: [DOMINO_USER_API_KEY]. Please check if you need to set them when deploying the model. To disable this message, set environment variable `MLFLOW_RECORD_ENV_VARS_IN_MODEL_LOGGING` to `false`.\n",
      "Registered model 'GARCH(1,1)_5yrFit' already exists. Creating a new version of this model...\n",
      "2025/06/23 20:55:35 INFO mlflow.store.model_registry.abstract_store: Waiting up to 300 seconds for model version to finish creation. Model name: GARCH(1,1)_5yrFit, version 29\n",
      "Created version '29' of model 'GARCH(1,1)_5yrFit'.\n"
     ]
    },
    {
     "name": "stdout",
     "output_type": "stream",
     "text": [
      "🏃 View run IR_2025-01-16 at: http://127.0.0.1:8768/#/experiments/1553/runs/a543359405424822abb79fc2abf85087\n",
      "🧪 View experiment at: http://127.0.0.1:8768/#/experiments/1553\n"
     ]
    },
    {
     "name": "stderr",
     "output_type": "stream",
     "text": [
      "2025/06/23 20:55:40 INFO mlflow.models.model: Found the following environment variables used during model inference: [DOMINO_USER_API_KEY]. Please check if you need to set them when deploying the model. To disable this message, set environment variable `MLFLOW_RECORD_ENV_VARS_IN_MODEL_LOGGING` to `false`.\n",
      "Registered model 'GARCH(1,1)_5yrFit' already exists. Creating a new version of this model...\n",
      "2025/06/23 20:55:45 INFO mlflow.store.model_registry.abstract_store: Waiting up to 300 seconds for model version to finish creation. Model name: GARCH(1,1)_5yrFit, version 30\n",
      "Created version '30' of model 'GARCH(1,1)_5yrFit'.\n",
      "2025/06/23 20:55:45 INFO mlflow.models.model: Found the following environment variables used during model inference: [DOMINO_USER_API_KEY]. Please check if you need to set them when deploying the model. To disable this message, set environment variable `MLFLOW_RECORD_ENV_VARS_IN_MODEL_LOGGING` to `false`.\n"
     ]
    },
    {
     "name": "stdout",
     "output_type": "stream",
     "text": [
      "🏃 View run IR_2025-01-15 at: http://127.0.0.1:8768/#/experiments/1553/runs/4f1bac79f9f2421fab941015cedc0104\n",
      "🧪 View experiment at: http://127.0.0.1:8768/#/experiments/1553\n"
     ]
    },
    {
     "name": "stderr",
     "output_type": "stream",
     "text": [
      "Registered model 'GARCH(1,1)_5yrFit' already exists. Creating a new version of this model...\n",
      "2025/06/23 20:55:49 INFO mlflow.store.model_registry.abstract_store: Waiting up to 300 seconds for model version to finish creation. Model name: GARCH(1,1)_5yrFit, version 31\n",
      "Created version '31' of model 'GARCH(1,1)_5yrFit'.\n",
      "Registered model 'GARCH(1,1)_5yrFit' already exists. Creating a new version of this model...\n"
     ]
    },
    {
     "name": "stdout",
     "output_type": "stream",
     "text": [
      "🏃 View run IR_2025-01-22 at: http://127.0.0.1:8768/#/experiments/1553/runs/114eefb00a374be18d43f52bf82fbd48\n",
      "🧪 View experiment at: http://127.0.0.1:8768/#/experiments/1553\n"
     ]
    },
    {
     "name": "stderr",
     "output_type": "stream",
     "text": [
      "2025/06/23 20:55:50 INFO mlflow.store.model_registry.abstract_store: Waiting up to 300 seconds for model version to finish creation. Model name: GARCH(1,1)_5yrFit, version 32\n",
      "Created version '32' of model 'GARCH(1,1)_5yrFit'.\n"
     ]
    },
    {
     "name": "stdout",
     "output_type": "stream",
     "text": [
      "🏃 View run IR_2025-01-21 at: http://127.0.0.1:8768/#/experiments/1553/runs/b15f441714b14e95878a1188c22bf680\n",
      "🧪 View experiment at: http://127.0.0.1:8768/#/experiments/1553\n"
     ]
    },
    {
     "name": "stderr",
     "output_type": "stream",
     "text": [
      "2025/06/23 20:55:52 INFO mlflow.models.model: Found the following environment variables used during model inference: [DOMINO_USER_API_KEY]. Please check if you need to set them when deploying the model. To disable this message, set environment variable `MLFLOW_RECORD_ENV_VARS_IN_MODEL_LOGGING` to `false`.\n",
      "2025/06/23 20:55:54 INFO mlflow.models.model: Found the following environment variables used during model inference: [DOMINO_USER_API_KEY]. Please check if you need to set them when deploying the model. To disable this message, set environment variable `MLFLOW_RECORD_ENV_VARS_IN_MODEL_LOGGING` to `false`.\n",
      "Registered model 'GARCH(1,1)_5yrFit' already exists. Creating a new version of this model...\n",
      "2025/06/23 20:55:57 INFO mlflow.store.model_registry.abstract_store: Waiting up to 300 seconds for model version to finish creation. Model name: GARCH(1,1)_5yrFit, version 33\n",
      "Created version '33' of model 'GARCH(1,1)_5yrFit'.\n"
     ]
    },
    {
     "name": "stdout",
     "output_type": "stream",
     "text": [
      "🏃 View run IR_2025-01-24 at: http://127.0.0.1:8768/#/experiments/1553/runs/454387c8953049168298feaf1287a91f\n",
      "🧪 View experiment at: http://127.0.0.1:8768/#/experiments/1553\n"
     ]
    },
    {
     "name": "stderr",
     "output_type": "stream",
     "text": [
      "Registered model 'GARCH(1,1)_5yrFit' already exists. Creating a new version of this model...\n",
      "2025/06/23 20:55:58 INFO mlflow.store.model_registry.abstract_store: Waiting up to 300 seconds for model version to finish creation. Model name: GARCH(1,1)_5yrFit, version 34\n",
      "Created version '34' of model 'GARCH(1,1)_5yrFit'.\n"
     ]
    },
    {
     "name": "stdout",
     "output_type": "stream",
     "text": [
      "🏃 View run IR_2025-01-23 at: http://127.0.0.1:8768/#/experiments/1553/runs/4e66cd6ac16840e199c21f1036c588c3\n",
      "🧪 View experiment at: http://127.0.0.1:8768/#/experiments/1553\n"
     ]
    },
    {
     "name": "stderr",
     "output_type": "stream",
     "text": [
      "Registered model 'GARCH(1,1)_5yrFit' already exists. Creating a new version of this model...\n",
      "2025/06/23 20:56:03 INFO mlflow.store.model_registry.abstract_store: Waiting up to 300 seconds for model version to finish creation. Model name: GARCH(1,1)_5yrFit, version 35\n",
      "Created version '35' of model 'GARCH(1,1)_5yrFit'.\n"
     ]
    },
    {
     "name": "stdout",
     "output_type": "stream",
     "text": [
      "🏃 View run IR_2025-01-28 at: http://127.0.0.1:8768/#/experiments/1553/runs/06a2bbb94a5a41988ddfbbd6defee24f\n",
      "🧪 View experiment at: http://127.0.0.1:8768/#/experiments/1553\n"
     ]
    },
    {
     "name": "stderr",
     "output_type": "stream",
     "text": [
      "2025/06/23 20:56:04 INFO mlflow.models.model: Found the following environment variables used during model inference: [DOMINO_USER_API_KEY]. Please check if you need to set them when deploying the model. To disable this message, set environment variable `MLFLOW_RECORD_ENV_VARS_IN_MODEL_LOGGING` to `false`.\n",
      "Registered model 'GARCH(1,1)_5yrFit' already exists. Creating a new version of this model...\n",
      "2025/06/23 20:56:08 INFO mlflow.store.model_registry.abstract_store: Waiting up to 300 seconds for model version to finish creation. Model name: GARCH(1,1)_5yrFit, version 36\n",
      "Created version '36' of model 'GARCH(1,1)_5yrFit'.\n",
      "2025/06/23 20:56:09 INFO mlflow.models.model: Found the following environment variables used during model inference: [DOMINO_USER_API_KEY]. Please check if you need to set them when deploying the model. To disable this message, set environment variable `MLFLOW_RECORD_ENV_VARS_IN_MODEL_LOGGING` to `false`.\n"
     ]
    },
    {
     "name": "stdout",
     "output_type": "stream",
     "text": [
      "🏃 View run IR_2025-01-27 at: http://127.0.0.1:8768/#/experiments/1553/runs/20243d4386c147a8a36efcdb160a2507\n",
      "🧪 View experiment at: http://127.0.0.1:8768/#/experiments/1553\n"
     ]
    },
    {
     "name": "stderr",
     "output_type": "stream",
     "text": [
      "Registered model 'GARCH(1,1)_5yrFit' already exists. Creating a new version of this model...\n",
      "2025/06/23 20:56:12 INFO mlflow.store.model_registry.abstract_store: Waiting up to 300 seconds for model version to finish creation. Model name: GARCH(1,1)_5yrFit, version 37\n",
      "Created version '37' of model 'GARCH(1,1)_5yrFit'.\n"
     ]
    },
    {
     "name": "stdout",
     "output_type": "stream",
     "text": [
      "🏃 View run IR_2025-01-29 at: http://127.0.0.1:8768/#/experiments/1553/runs/7ac3a31fddc14e818c71d11a1793c6bf\n",
      "🧪 View experiment at: http://127.0.0.1:8768/#/experiments/1553\n"
     ]
    },
    {
     "name": "stderr",
     "output_type": "stream",
     "text": [
      "Registered model 'GARCH(1,1)_5yrFit' already exists. Creating a new version of this model...\n",
      "Registered model 'GARCH(1,1)_5yrFit' already exists. Creating a new version of this model...\n",
      "2025/06/23 20:56:18 INFO mlflow.store.model_registry.abstract_store: Waiting up to 300 seconds for model version to finish creation. Model name: GARCH(1,1)_5yrFit, version 38\n",
      "Created version '38' of model 'GARCH(1,1)_5yrFit'.\n",
      "2025/06/23 20:56:18 INFO mlflow.store.model_registry.abstract_store: Waiting up to 300 seconds for model version to finish creation. Model name: GARCH(1,1)_5yrFit, version 39\n",
      "Created version '39' of model 'GARCH(1,1)_5yrFit'.\n"
     ]
    },
    {
     "name": "stdout",
     "output_type": "stream",
     "text": [
      "🏃 View run IR_2025-01-17 at: http://127.0.0.1:8768/#/experiments/1553/runs/96d0ded9133d4d5ca3311a28a402cbc1\n",
      "🧪 View experiment at: http://127.0.0.1:8768/#/experiments/1553\n",
      "🏃 View run IR_2025-01-14 at: http://127.0.0.1:8768/#/experiments/1553/runs/0bc199616db140828cc7126192ce4805\n",
      "🧪 View experiment at: http://127.0.0.1:8768/#/experiments/1553\n",
      "⏭️  Skipping 2025-02-01: no exact curve_date in pivot\n",
      "using model: GARCH(1,1)_5yrFit\n",
      "⏭️  Skipping 2025-02-02: no exact curve_date in pivot\n"
     ]
    },
    {
     "name": "stderr",
     "output_type": "stream",
     "text": [
      "2025/06/23 20:56:23 INFO mlflow.models.model: Found the following environment variables used during model inference: [DOMINO_USER_API_KEY]. Please check if you need to set them when deploying the model. To disable this message, set environment variable `MLFLOW_RECORD_ENV_VARS_IN_MODEL_LOGGING` to `false`.\n"
     ]
    },
    {
     "name": "stdout",
     "output_type": "stream",
     "text": [
      "using model: GARCH(1,1)_5yrFit\n"
     ]
    },
    {
     "name": "stderr",
     "output_type": "stream",
     "text": [
      "Registered model 'GARCH(1,1)_5yrFit' already exists. Creating a new version of this model...\n",
      "2025/06/23 20:56:27 INFO mlflow.store.model_registry.abstract_store: Waiting up to 300 seconds for model version to finish creation. Model name: GARCH(1,1)_5yrFit, version 40\n",
      "Created version '40' of model 'GARCH(1,1)_5yrFit'.\n"
     ]
    },
    {
     "name": "stdout",
     "output_type": "stream",
     "text": [
      "🏃 View run IR_2025-01-30 at: http://127.0.0.1:8768/#/experiments/1553/runs/6ed0fee66001403681ed4beba9581aea\n",
      "🧪 View experiment at: http://127.0.0.1:8768/#/experiments/1553\n"
     ]
    },
    {
     "name": "stderr",
     "output_type": "stream",
     "text": [
      "Registered model 'GARCH(1,1)_5yrFit' already exists. Creating a new version of this model...\n",
      "2025/06/23 20:56:30 INFO mlflow.store.model_registry.abstract_store: Waiting up to 300 seconds for model version to finish creation. Model name: GARCH(1,1)_5yrFit, version 41\n",
      "Created version '41' of model 'GARCH(1,1)_5yrFit'.\n"
     ]
    },
    {
     "name": "stdout",
     "output_type": "stream",
     "text": [
      "🏃 View run IR_2025-01-16 at: http://127.0.0.1:8768/#/experiments/1553/runs/4668531adab54737b00c7ed53ca65038\n",
      "🧪 View experiment at: http://127.0.0.1:8768/#/experiments/1553\n"
     ]
    },
    {
     "name": "stderr",
     "output_type": "stream",
     "text": [
      "/mnt/artifacts/.domino/.persistence/packages/venv/lib/python3.10/site-packages/arch/univariate/base.py:768: ConvergenceWarning: The optimizer returned code 4. The message is:\n",
      "Inequality constraints incompatible\n",
      "See scipy.optimize.fmin_slsqp for code meaning.\n",
      "\n",
      "  warnings.warn(\n"
     ]
    },
    {
     "name": "stdout",
     "output_type": "stream",
     "text": [
      "using model: GARCH(1,1)_5yrFit\n"
     ]
    },
    {
     "name": "stderr",
     "output_type": "stream",
     "text": [
      "Registered model 'GARCH(1,1)_5yrFit' already exists. Creating a new version of this model...\n",
      "2025/06/23 20:56:34 INFO mlflow.store.model_registry.abstract_store: Waiting up to 300 seconds for model version to finish creation. Model name: GARCH(1,1)_5yrFit, version 42\n",
      "Created version '42' of model 'GARCH(1,1)_5yrFit'.\n"
     ]
    },
    {
     "name": "stdout",
     "output_type": "stream",
     "text": [
      "🏃 View run IR_2025-01-15 at: http://127.0.0.1:8768/#/experiments/1553/runs/4f9ddcb808c84f5584ba1f28a0059c08\n",
      "🧪 View experiment at: http://127.0.0.1:8768/#/experiments/1553\n",
      "using model: GARCH(1,1)_5yrFit\n"
     ]
    },
    {
     "name": "stderr",
     "output_type": "stream",
     "text": [
      "Registered model 'GARCH(1,1)_5yrFit' already exists. Creating a new version of this model...\n",
      "2025/06/23 20:56:40 INFO mlflow.store.model_registry.abstract_store: Waiting up to 300 seconds for model version to finish creation. Model name: GARCH(1,1)_5yrFit, version 43\n",
      "Created version '43' of model 'GARCH(1,1)_5yrFit'.\n"
     ]
    },
    {
     "name": "stdout",
     "output_type": "stream",
     "text": [
      "🏃 View run IR_2025-01-21 at: http://127.0.0.1:8768/#/experiments/1553/runs/e57ad8a547824aa38da1f915f5ba4e54\n",
      "🧪 View experiment at: http://127.0.0.1:8768/#/experiments/1553\n",
      "using model: GARCH(1,1)_5yrFit\n"
     ]
    },
    {
     "name": "stderr",
     "output_type": "stream",
     "text": [
      "Registered model 'GARCH(1,1)_5yrFit' already exists. Creating a new version of this model...\n",
      "2025/06/23 20:56:45 INFO mlflow.store.model_registry.abstract_store: Waiting up to 300 seconds for model version to finish creation. Model name: GARCH(1,1)_5yrFit, version 44\n",
      "Created version '44' of model 'GARCH(1,1)_5yrFit'.\n"
     ]
    },
    {
     "name": "stdout",
     "output_type": "stream",
     "text": [
      "🏃 View run IR_2025-01-22 at: http://127.0.0.1:8768/#/experiments/1553/runs/e39ee6a48da1405dabcc37f1b017dc98\n",
      "🧪 View experiment at: http://127.0.0.1:8768/#/experiments/1553\n"
     ]
    },
    {
     "name": "stderr",
     "output_type": "stream",
     "text": [
      "2025/06/23 20:56:48 INFO mlflow.models.model: Found the following environment variables used during model inference: [DOMINO_USER_API_KEY]. Please check if you need to set them when deploying the model. To disable this message, set environment variable `MLFLOW_RECORD_ENV_VARS_IN_MODEL_LOGGING` to `false`.\n"
     ]
    },
    {
     "name": "stdout",
     "output_type": "stream",
     "text": [
      "using model: GARCH(1,1)_5yrFit\n"
     ]
    },
    {
     "name": "stderr",
     "output_type": "stream",
     "text": [
      "Registered model 'GARCH(1,1)_5yrFit' already exists. Creating a new version of this model...\n",
      "2025/06/23 20:56:52 INFO mlflow.store.model_registry.abstract_store: Waiting up to 300 seconds for model version to finish creation. Model name: GARCH(1,1)_5yrFit, version 45\n",
      "Created version '45' of model 'GARCH(1,1)_5yrFit'.\n"
     ]
    },
    {
     "name": "stdout",
     "output_type": "stream",
     "text": [
      "🏃 View run IR_2025-01-23 at: http://127.0.0.1:8768/#/experiments/1553/runs/6b008676329c4f1bbd92409e56396d39\n",
      "🧪 View experiment at: http://127.0.0.1:8768/#/experiments/1553\n",
      "⏭️  Skipping 2025-02-08: no exact curve_date in pivot\n",
      "⏭️  Skipping 2025-02-09: no exact curve_date in pivot\n",
      "using model: GARCH(1,1)_5yrFit\n"
     ]
    },
    {
     "name": "stderr",
     "output_type": "stream",
     "text": [
      "Registered model 'GARCH(1,1)_5yrFit' already exists. Creating a new version of this model...\n",
      "2025/06/23 20:56:59 INFO mlflow.store.model_registry.abstract_store: Waiting up to 300 seconds for model version to finish creation. Model name: GARCH(1,1)_5yrFit, version 46\n",
      "Created version '46' of model 'GARCH(1,1)_5yrFit'.\n",
      "2025/06/23 20:56:59 INFO mlflow.models.model: Found the following environment variables used during model inference: [DOMINO_USER_API_KEY]. Please check if you need to set them when deploying the model. To disable this message, set environment variable `MLFLOW_RECORD_ENV_VARS_IN_MODEL_LOGGING` to `false`.\n"
     ]
    },
    {
     "name": "stdout",
     "output_type": "stream",
     "text": [
      "🏃 View run IR_2025-01-24 at: http://127.0.0.1:8768/#/experiments/1553/runs/d22ec83997ca4484a48dc98382f8aba1\n",
      "🧪 View experiment at: http://127.0.0.1:8768/#/experiments/1553\n",
      "using model: GARCH(1,1)_5yrFit\n"
     ]
    },
    {
     "name": "stderr",
     "output_type": "stream",
     "text": [
      "Registered model 'GARCH(1,1)_5yrFit' already exists. Creating a new version of this model...\n",
      "2025/06/23 20:57:03 INFO mlflow.store.model_registry.abstract_store: Waiting up to 300 seconds for model version to finish creation. Model name: GARCH(1,1)_5yrFit, version 47\n",
      "Created version '47' of model 'GARCH(1,1)_5yrFit'.\n"
     ]
    },
    {
     "name": "stdout",
     "output_type": "stream",
     "text": [
      "🏃 View run IR_2025-01-28 at: http://127.0.0.1:8768/#/experiments/1553/runs/24379919c06248d582087d504cdbb284\n",
      "🧪 View experiment at: http://127.0.0.1:8768/#/experiments/1553\n"
     ]
    },
    {
     "name": "stderr",
     "output_type": "stream",
     "text": [
      "2025/06/23 20:57:04 INFO mlflow.models.model: Found the following environment variables used during model inference: [DOMINO_USER_API_KEY]. Please check if you need to set them when deploying the model. To disable this message, set environment variable `MLFLOW_RECORD_ENV_VARS_IN_MODEL_LOGGING` to `false`.\n"
     ]
    },
    {
     "name": "stdout",
     "output_type": "stream",
     "text": [
      "using model: GARCH(1,1)_5yrFit\n"
     ]
    },
    {
     "name": "stderr",
     "output_type": "stream",
     "text": [
      "Registered model 'GARCH(1,1)_5yrFit' already exists. Creating a new version of this model...\n",
      "2025/06/23 20:57:07 INFO mlflow.store.model_registry.abstract_store: Waiting up to 300 seconds for model version to finish creation. Model name: GARCH(1,1)_5yrFit, version 48\n",
      "Created version '48' of model 'GARCH(1,1)_5yrFit'.\n",
      "Registered model 'GARCH(1,1)_5yrFit' already exists. Creating a new version of this model...\n"
     ]
    },
    {
     "name": "stdout",
     "output_type": "stream",
     "text": [
      "🏃 View run IR_2025-01-31 at: http://127.0.0.1:8768/#/experiments/1553/runs/351bebbf90b14a40b1e66711db94c7fd\n",
      "🧪 View experiment at: http://127.0.0.1:8768/#/experiments/1553\n"
     ]
    },
    {
     "name": "stderr",
     "output_type": "stream",
     "text": [
      "2025/06/23 20:57:08 INFO mlflow.store.model_registry.abstract_store: Waiting up to 300 seconds for model version to finish creation. Model name: GARCH(1,1)_5yrFit, version 49\n",
      "Created version '49' of model 'GARCH(1,1)_5yrFit'.\n",
      "2025/06/23 20:57:09 INFO mlflow.models.model: Found the following environment variables used during model inference: [DOMINO_USER_API_KEY]. Please check if you need to set them when deploying the model. To disable this message, set environment variable `MLFLOW_RECORD_ENV_VARS_IN_MODEL_LOGGING` to `false`.\n"
     ]
    },
    {
     "name": "stdout",
     "output_type": "stream",
     "text": [
      "🏃 View run IR_2025-01-27 at: http://127.0.0.1:8768/#/experiments/1553/runs/8b566a1e69e34d369a5a9975a5fc6cd3\n",
      "🧪 View experiment at: http://127.0.0.1:8768/#/experiments/1553\n",
      "using model: GARCH(1,1)_5yrFit\n"
     ]
    },
    {
     "name": "stderr",
     "output_type": "stream",
     "text": [
      "Registered model 'GARCH(1,1)_5yrFit' already exists. Creating a new version of this model...\n",
      "2025/06/23 20:57:13 INFO mlflow.store.model_registry.abstract_store: Waiting up to 300 seconds for model version to finish creation. Model name: GARCH(1,1)_5yrFit, version 50\n",
      "Created version '50' of model 'GARCH(1,1)_5yrFit'.\n"
     ]
    },
    {
     "name": "stdout",
     "output_type": "stream",
     "text": [
      "🏃 View run IR_2025-01-29 at: http://127.0.0.1:8768/#/experiments/1553/runs/9806e07cbb124dff915752e4498454fe\n",
      "🧪 View experiment at: http://127.0.0.1:8768/#/experiments/1553\n",
      "using model: GARCH(1,1)_5yrFit\n"
     ]
    },
    {
     "name": "stderr",
     "output_type": "stream",
     "text": [
      "/mnt/artifacts/.domino/.persistence/packages/venv/lib/python3.10/site-packages/arch/univariate/base.py:768: ConvergenceWarning: The optimizer returned code 8. The message is:\n",
      "Positive directional derivative for linesearch\n",
      "See scipy.optimize.fmin_slsqp for code meaning.\n",
      "\n",
      "  warnings.warn(\n",
      "/mnt/artifacts/.domino/.persistence/packages/venv/lib/python3.10/site-packages/arch/univariate/base.py:768: ConvergenceWarning: The optimizer returned code 4. The message is:\n",
      "Inequality constraints incompatible\n",
      "See scipy.optimize.fmin_slsqp for code meaning.\n",
      "\n",
      "  warnings.warn(\n",
      "Registered model 'GARCH(1,1)_5yrFit' already exists. Creating a new version of this model...\n",
      "2025/06/23 20:57:26 INFO mlflow.store.model_registry.abstract_store: Waiting up to 300 seconds for model version to finish creation. Model name: GARCH(1,1)_5yrFit, version 51\n",
      "Created version '51' of model 'GARCH(1,1)_5yrFit'.\n"
     ]
    },
    {
     "name": "stdout",
     "output_type": "stream",
     "text": [
      "🏃 View run IR_2025-02-03 at: http://127.0.0.1:8768/#/experiments/1553/runs/e599d0d2d87e48b69934f8a3d5d9ae3d\n",
      "🧪 View experiment at: http://127.0.0.1:8768/#/experiments/1553\n"
     ]
    },
    {
     "name": "stderr",
     "output_type": "stream",
     "text": [
      "2025/06/23 20:57:29 INFO mlflow.models.model: Found the following environment variables used during model inference: [DOMINO_USER_API_KEY]. Please check if you need to set them when deploying the model. To disable this message, set environment variable `MLFLOW_RECORD_ENV_VARS_IN_MODEL_LOGGING` to `false`.\n",
      "Registered model 'GARCH(1,1)_5yrFit' already exists. Creating a new version of this model...\n",
      "2025/06/23 20:57:32 INFO mlflow.store.model_registry.abstract_store: Waiting up to 300 seconds for model version to finish creation. Model name: GARCH(1,1)_5yrFit, version 52\n",
      "Created version '52' of model 'GARCH(1,1)_5yrFit'.\n"
     ]
    },
    {
     "name": "stdout",
     "output_type": "stream",
     "text": [
      "🏃 View run IR_2025-01-30 at: http://127.0.0.1:8768/#/experiments/1553/runs/bed3cd8f2eff40839dfb9353c12d774f\n",
      "🧪 View experiment at: http://127.0.0.1:8768/#/experiments/1553\n",
      "⏭️  Skipping 2025-02-15: no exact curve_date in pivot\n",
      "⏭️  Skipping 2025-02-16: no exact curve_date in pivot\n"
     ]
    },
    {
     "name": "stderr",
     "output_type": "stream",
     "text": [
      "Registered model 'GARCH(1,1)_5yrFit' already exists. Creating a new version of this model...\n",
      "2025/06/23 20:57:37 INFO mlflow.store.model_registry.abstract_store: Waiting up to 300 seconds for model version to finish creation. Model name: GARCH(1,1)_5yrFit, version 53\n",
      "Created version '53' of model 'GARCH(1,1)_5yrFit'.\n"
     ]
    },
    {
     "name": "stdout",
     "output_type": "stream",
     "text": [
      "⏭️  Skipping 2025-02-17: no exact curve_date in pivot\n",
      "using model: GARCH(1,1)_5yrFit\n",
      "🏃 View run IR_2025-02-04 at: http://127.0.0.1:8768/#/experiments/1553/runs/3a220a4bd6b541bea3a6122897b9246e\n",
      "🧪 View experiment at: http://127.0.0.1:8768/#/experiments/1553\n"
     ]
    },
    {
     "name": "stderr",
     "output_type": "stream",
     "text": [
      "2025/06/23 20:57:40 INFO mlflow.models.model: Found the following environment variables used during model inference: [DOMINO_USER_API_KEY]. Please check if you need to set them when deploying the model. To disable this message, set environment variable `MLFLOW_RECORD_ENV_VARS_IN_MODEL_LOGGING` to `false`.\n",
      "Registered model 'GARCH(1,1)_5yrFit' already exists. Creating a new version of this model...\n",
      "Registered model 'GARCH(1,1)_5yrFit' already exists. Creating a new version of this model...\n"
     ]
    },
    {
     "name": "stdout",
     "output_type": "stream",
     "text": [
      "using model: GARCH(1,1)_5yrFit\n"
     ]
    },
    {
     "name": "stderr",
     "output_type": "stream",
     "text": [
      "/mnt/artifacts/.domino/.persistence/packages/venv/lib/python3.10/site-packages/arch/univariate/volatility.py:1215: RuntimeWarning: invalid value encountered in scalar divide\n",
      "  scale = np.mean(resids**2) / (target ** (2.0 / power))\n",
      "/mnt/artifacts/.domino/.persistence/packages/venv/lib/python3.10/site-packages/arch/univariate/distribution.py:449: RuntimeWarning: divide by zero encountered in log\n",
      "  lls = -0.5 * (log(2 * pi) + log(sigma2) + resids ** 2.0 / sigma2)\n",
      "/mnt/artifacts/.domino/.persistence/packages/venv/lib/python3.10/site-packages/arch/univariate/distribution.py:449: RuntimeWarning: invalid value encountered in divide\n",
      "  lls = -0.5 * (log(2 * pi) + log(sigma2) + resids ** 2.0 / sigma2)\n",
      "/mnt/artifacts/.domino/.persistence/packages/venv/lib/python3.10/site-packages/arch/univariate/base.py:768: ConvergenceWarning: The optimizer returned code 4. The message is:\n",
      "Inequality constraints incompatible\n",
      "See scipy.optimize.fmin_slsqp for code meaning.\n",
      "\n",
      "  warnings.warn(\n",
      "/mnt/code/models/covariance/garch.py:37: RuntimeWarning: invalid value encountered in divide\n",
      "  std_resid[:, i] = res.resid / cond_vol[:, i]\n",
      "/mnt/artifacts/.domino/.persistence/packages/venv/lib/python3.10/site-packages/arch/univariate/volatility.py:1215: RuntimeWarning: invalid value encountered in scalar divide\n",
      "  scale = np.mean(resids**2) / (target ** (2.0 / power))\n",
      "/mnt/artifacts/.domino/.persistence/packages/venv/lib/python3.10/site-packages/arch/univariate/distribution.py:449: RuntimeWarning: divide by zero encountered in log\n",
      "  lls = -0.5 * (log(2 * pi) + log(sigma2) + resids ** 2.0 / sigma2)\n",
      "/mnt/artifacts/.domino/.persistence/packages/venv/lib/python3.10/site-packages/arch/univariate/distribution.py:449: RuntimeWarning: invalid value encountered in divide\n",
      "  lls = -0.5 * (log(2 * pi) + log(sigma2) + resids ** 2.0 / sigma2)\n",
      "/mnt/artifacts/.domino/.persistence/packages/venv/lib/python3.10/site-packages/arch/univariate/base.py:768: ConvergenceWarning: The optimizer returned code 4. The message is:\n",
      "Inequality constraints incompatible\n",
      "See scipy.optimize.fmin_slsqp for code meaning.\n",
      "\n",
      "  warnings.warn(\n",
      "/mnt/code/models/covariance/garch.py:37: RuntimeWarning: invalid value encountered in divide\n",
      "  std_resid[:, i] = res.resid / cond_vol[:, i]\n",
      "/mnt/artifacts/.domino/.persistence/packages/venv/lib/python3.10/site-packages/arch/univariate/volatility.py:1215: RuntimeWarning: invalid value encountered in scalar divide\n",
      "  scale = np.mean(resids**2) / (target ** (2.0 / power))\n",
      "/mnt/artifacts/.domino/.persistence/packages/venv/lib/python3.10/site-packages/arch/univariate/distribution.py:449: RuntimeWarning: divide by zero encountered in log\n",
      "  lls = -0.5 * (log(2 * pi) + log(sigma2) + resids ** 2.0 / sigma2)\n",
      "/mnt/artifacts/.domino/.persistence/packages/venv/lib/python3.10/site-packages/arch/univariate/distribution.py:449: RuntimeWarning: invalid value encountered in divide\n",
      "  lls = -0.5 * (log(2 * pi) + log(sigma2) + resids ** 2.0 / sigma2)\n",
      "/mnt/artifacts/.domino/.persistence/packages/venv/lib/python3.10/site-packages/arch/univariate/base.py:768: ConvergenceWarning: The optimizer returned code 4. The message is:\n",
      "Inequality constraints incompatible\n",
      "See scipy.optimize.fmin_slsqp for code meaning.\n",
      "\n",
      "  warnings.warn(\n",
      "/mnt/code/models/covariance/garch.py:37: RuntimeWarning: invalid value encountered in divide\n",
      "  std_resid[:, i] = res.resid / cond_vol[:, i]\n",
      "2025/06/23 20:57:42 INFO mlflow.store.model_registry.abstract_store: Waiting up to 300 seconds for model version to finish creation. Model name: GARCH(1,1)_5yrFit, version 54\n",
      "/mnt/artifacts/.domino/.persistence/packages/venv/lib/python3.10/site-packages/arch/univariate/volatility.py:1215: RuntimeWarning: invalid value encountered in scalar divide\n",
      "  scale = np.mean(resids**2) / (target ** (2.0 / power))\n",
      "/mnt/artifacts/.domino/.persistence/packages/venv/lib/python3.10/site-packages/arch/univariate/distribution.py:449: RuntimeWarning: divide by zero encountered in log\n",
      "  lls = -0.5 * (log(2 * pi) + log(sigma2) + resids ** 2.0 / sigma2)\n",
      "/mnt/artifacts/.domino/.persistence/packages/venv/lib/python3.10/site-packages/arch/univariate/distribution.py:449: RuntimeWarning: invalid value encountered in divide\n",
      "  lls = -0.5 * (log(2 * pi) + log(sigma2) + resids ** 2.0 / sigma2)\n",
      "/mnt/artifacts/.domino/.persistence/packages/venv/lib/python3.10/site-packages/arch/univariate/base.py:768: ConvergenceWarning: The optimizer returned code 4. The message is:\n",
      "Inequality constraints incompatible\n",
      "See scipy.optimize.fmin_slsqp for code meaning.\n",
      "\n",
      "  warnings.warn(\n",
      "Created version '54' of model 'GARCH(1,1)_5yrFit'.\n",
      "/mnt/code/models/covariance/garch.py:37: RuntimeWarning: invalid value encountered in divide\n",
      "  std_resid[:, i] = res.resid / cond_vol[:, i]\n",
      "2025/06/23 20:57:42 INFO mlflow.store.model_registry.abstract_store: Waiting up to 300 seconds for model version to finish creation. Model name: GARCH(1,1)_5yrFit, version 55\n",
      "Created version '55' of model 'GARCH(1,1)_5yrFit'.\n"
     ]
    },
    {
     "name": "stdout",
     "output_type": "stream",
     "text": [
      "🏃 View run IR_2025-02-05 at: http://127.0.0.1:8768/#/experiments/1553/runs/8a0a9c5c00ad4fa987ea6ebb2391fb3b\n",
      "🧪 View experiment at: http://127.0.0.1:8768/#/experiments/1553\n",
      "🏃 View run IR_2025-02-07 at: http://127.0.0.1:8768/#/experiments/1553/runs/d44c4555ff0b48a984169b0c77fa31d7\n",
      "🧪 View experiment at: http://127.0.0.1:8768/#/experiments/1553\n"
     ]
    },
    {
     "name": "stderr",
     "output_type": "stream",
     "text": [
      "/opt/conda/lib/python3.10/site-packages/numpy/lib/function_base.py:2846: RuntimeWarning: Degrees of freedom <= 0 for slice\n",
      "  c = cov(x, y, rowvar, dtype=dtype)\n",
      "/opt/conda/lib/python3.10/site-packages/numpy/lib/function_base.py:2705: RuntimeWarning: divide by zero encountered in divide\n",
      "  c *= np.true_divide(1, fact)\n",
      "/opt/conda/lib/python3.10/site-packages/numpy/lib/function_base.py:2705: RuntimeWarning: invalid value encountered in multiply\n",
      "  c *= np.true_divide(1, fact)\n",
      "Registered model 'GARCH(1,1)_5yrFit' already exists. Creating a new version of this model...\n"
     ]
    },
    {
     "name": "stdout",
     "output_type": "stream",
     "text": [
      "using model: GARCH(1,1)_5yrFit\n"
     ]
    },
    {
     "name": "stderr",
     "output_type": "stream",
     "text": [
      "2025/06/23 20:57:45 INFO mlflow.store.model_registry.abstract_store: Waiting up to 300 seconds for model version to finish creation. Model name: GARCH(1,1)_5yrFit, version 56\n",
      "Created version '56' of model 'GARCH(1,1)_5yrFit'.\n",
      "/mnt/artifacts/.domino/.persistence/packages/venv/lib/python3.10/site-packages/arch/univariate/volatility.py:1215: RuntimeWarning: invalid value encountered in scalar divide\n",
      "  scale = np.mean(resids**2) / (target ** (2.0 / power))\n",
      "/mnt/artifacts/.domino/.persistence/packages/venv/lib/python3.10/site-packages/arch/univariate/distribution.py:449: RuntimeWarning: divide by zero encountered in log\n",
      "  lls = -0.5 * (log(2 * pi) + log(sigma2) + resids ** 2.0 / sigma2)\n",
      "/mnt/artifacts/.domino/.persistence/packages/venv/lib/python3.10/site-packages/arch/univariate/distribution.py:449: RuntimeWarning: invalid value encountered in divide\n",
      "  lls = -0.5 * (log(2 * pi) + log(sigma2) + resids ** 2.0 / sigma2)\n",
      "/mnt/artifacts/.domino/.persistence/packages/venv/lib/python3.10/site-packages/arch/univariate/base.py:768: ConvergenceWarning: The optimizer returned code 4. The message is:\n",
      "Inequality constraints incompatible\n",
      "See scipy.optimize.fmin_slsqp for code meaning.\n",
      "\n",
      "  warnings.warn(\n",
      "/mnt/code/models/covariance/garch.py:37: RuntimeWarning: invalid value encountered in divide\n",
      "  std_resid[:, i] = res.resid / cond_vol[:, i]\n"
     ]
    },
    {
     "name": "stdout",
     "output_type": "stream",
     "text": [
      "🏃 View run IR_2025-02-06 at: http://127.0.0.1:8768/#/experiments/1553/runs/d82f507fa0654877ab7a48591a285687\n",
      "🧪 View experiment at: http://127.0.0.1:8768/#/experiments/1553\n",
      "using model: GARCH(1,1)_5yrFit\n"
     ]
    },
    {
     "name": "stderr",
     "output_type": "stream",
     "text": [
      "/mnt/artifacts/.domino/.persistence/packages/venv/lib/python3.10/site-packages/arch/univariate/volatility.py:1215: RuntimeWarning: invalid value encountered in scalar divide\n",
      "  scale = np.mean(resids**2) / (target ** (2.0 / power))\n",
      "/mnt/artifacts/.domino/.persistence/packages/venv/lib/python3.10/site-packages/arch/univariate/distribution.py:449: RuntimeWarning: divide by zero encountered in log\n",
      "  lls = -0.5 * (log(2 * pi) + log(sigma2) + resids ** 2.0 / sigma2)\n",
      "/mnt/artifacts/.domino/.persistence/packages/venv/lib/python3.10/site-packages/arch/univariate/distribution.py:449: RuntimeWarning: invalid value encountered in divide\n",
      "  lls = -0.5 * (log(2 * pi) + log(sigma2) + resids ** 2.0 / sigma2)\n",
      "/mnt/artifacts/.domino/.persistence/packages/venv/lib/python3.10/site-packages/arch/univariate/base.py:768: ConvergenceWarning: The optimizer returned code 4. The message is:\n",
      "Inequality constraints incompatible\n",
      "See scipy.optimize.fmin_slsqp for code meaning.\n",
      "\n",
      "  warnings.warn(\n",
      "/mnt/code/models/covariance/garch.py:37: RuntimeWarning: invalid value encountered in divide\n",
      "  std_resid[:, i] = res.resid / cond_vol[:, i]\n",
      "Registered model 'GARCH(1,1)_5yrFit' already exists. Creating a new version of this model...\n",
      "Registered model 'GARCH(1,1)_5yrFit' already exists. Creating a new version of this model...\n",
      "2025/06/23 20:57:49 INFO mlflow.store.model_registry.abstract_store: Waiting up to 300 seconds for model version to finish creation. Model name: GARCH(1,1)_5yrFit, version 57\n",
      "Created version '57' of model 'GARCH(1,1)_5yrFit'.\n",
      "2025/06/23 20:57:50 INFO mlflow.store.model_registry.abstract_store: Waiting up to 300 seconds for model version to finish creation. Model name: GARCH(1,1)_5yrFit, version 58\n",
      "Created version '58' of model 'GARCH(1,1)_5yrFit'.\n"
     ]
    },
    {
     "name": "stdout",
     "output_type": "stream",
     "text": [
      "🏃 View run IR_2025-02-10 at: http://127.0.0.1:8768/#/experiments/1553/runs/ae4b9330472647de947c4a432d57491a\n",
      "🧪 View experiment at: http://127.0.0.1:8768/#/experiments/1553\n",
      "🏃 View run IR_2025-02-11 at: http://127.0.0.1:8768/#/experiments/1553/runs/a1986d28e5de46868c9d53de272eca4d\n",
      "🧪 View experiment at: http://127.0.0.1:8768/#/experiments/1553\n",
      "⏭️  Skipping 2025-02-22: no exact curve_date in pivot\n",
      "⏭️  Skipping 2025-02-23: no exact curve_date in pivot\n",
      "using model: GARCH(1,1)_5yrFit\n"
     ]
    },
    {
     "name": "stderr",
     "output_type": "stream",
     "text": [
      "Registered model 'GARCH(1,1)_5yrFit' already exists. Creating a new version of this model...\n",
      "2025/06/23 20:58:02 INFO mlflow.store.model_registry.abstract_store: Waiting up to 300 seconds for model version to finish creation. Model name: GARCH(1,1)_5yrFit, version 59\n",
      "Created version '59' of model 'GARCH(1,1)_5yrFit'.\n"
     ]
    },
    {
     "name": "stdout",
     "output_type": "stream",
     "text": [
      "🏃 View run IR_2025-02-13 at: http://127.0.0.1:8768/#/experiments/1553/runs/0e75d9107d334234b3128af1fcea2b90\n",
      "🧪 View experiment at: http://127.0.0.1:8768/#/experiments/1553\n"
     ]
    },
    {
     "name": "stderr",
     "output_type": "stream",
     "text": [
      "Registered model 'GARCH(1,1)_5yrFit' already exists. Creating a new version of this model...\n",
      "2025/06/23 20:58:05 INFO mlflow.store.model_registry.abstract_store: Waiting up to 300 seconds for model version to finish creation. Model name: GARCH(1,1)_5yrFit, version 60\n",
      "Created version '60' of model 'GARCH(1,1)_5yrFit'.\n"
     ]
    },
    {
     "name": "stdout",
     "output_type": "stream",
     "text": [
      "🏃 View run IR_2025-02-12 at: http://127.0.0.1:8768/#/experiments/1553/runs/8c6290f3ba9f4f1495867c16180b4ead\n",
      "🧪 View experiment at: http://127.0.0.1:8768/#/experiments/1553\n"
     ]
    },
    {
     "name": "stderr",
     "output_type": "stream",
     "text": [
      "2025/06/23 20:58:07 INFO mlflow.models.model: Found the following environment variables used during model inference: [DOMINO_USER_API_KEY]. Please check if you need to set them when deploying the model. To disable this message, set environment variable `MLFLOW_RECORD_ENV_VARS_IN_MODEL_LOGGING` to `false`.\n",
      "Registered model 'GARCH(1,1)_5yrFit' already exists. Creating a new version of this model...\n",
      "Registered model 'GARCH(1,1)_5yrFit' already exists. Creating a new version of this model...\n",
      "2025/06/23 20:58:08 INFO mlflow.store.model_registry.abstract_store: Waiting up to 300 seconds for model version to finish creation. Model name: GARCH(1,1)_5yrFit, version 61\n",
      "Created version '61' of model 'GARCH(1,1)_5yrFit'.\n",
      "2025/06/23 20:58:08 INFO mlflow.store.model_registry.abstract_store: Waiting up to 300 seconds for model version to finish creation. Model name: GARCH(1,1)_5yrFit, version 62\n",
      "Created version '62' of model 'GARCH(1,1)_5yrFit'.\n"
     ]
    },
    {
     "name": "stdout",
     "output_type": "stream",
     "text": [
      "🏃 View run IR_2025-01-31 at: http://127.0.0.1:8768/#/experiments/1553/runs/ac5c88d9232e42b5a553d375603090f1\n",
      "🧪 View experiment at: http://127.0.0.1:8768/#/experiments/1553\n",
      "🏃 View run IR_2025-02-14 at: http://127.0.0.1:8768/#/experiments/1553/runs/d3143c8d93ba4d3d8f2d0a866937912e\n",
      "🧪 View experiment at: http://127.0.0.1:8768/#/experiments/1553\n"
     ]
    },
    {
     "name": "stderr",
     "output_type": "stream",
     "text": [
      "Registered model 'GARCH(1,1)_5yrFit' already exists. Creating a new version of this model...\n"
     ]
    },
    {
     "name": "stdout",
     "output_type": "stream",
     "text": [
      "using model: GARCH(1,1)_5yrFit\n"
     ]
    },
    {
     "name": "stderr",
     "output_type": "stream",
     "text": [
      "2025/06/23 20:58:11 INFO mlflow.store.model_registry.abstract_store: Waiting up to 300 seconds for model version to finish creation. Model name: GARCH(1,1)_5yrFit, version 63\n",
      "Created version '63' of model 'GARCH(1,1)_5yrFit'.\n"
     ]
    },
    {
     "name": "stdout",
     "output_type": "stream",
     "text": [
      "🏃 View run IR_2025-02-03 at: http://127.0.0.1:8768/#/experiments/1553/runs/484b3b9e781742e7a277455de1897f45\n",
      "🧪 View experiment at: http://127.0.0.1:8768/#/experiments/1553\n",
      "using model: GARCH(1,1)_5yrFit\n"
     ]
    },
    {
     "name": "stderr",
     "output_type": "stream",
     "text": [
      "/mnt/artifacts/.domino/.persistence/packages/venv/lib/python3.10/site-packages/arch/univariate/base.py:768: ConvergenceWarning: The optimizer returned code 8. The message is:\n",
      "Positive directional derivative for linesearch\n",
      "See scipy.optimize.fmin_slsqp for code meaning.\n",
      "\n",
      "  warnings.warn(\n",
      "Registered model 'GARCH(1,1)_5yrFit' already exists. Creating a new version of this model...\n",
      "2025/06/23 20:58:27 INFO mlflow.store.model_registry.abstract_store: Waiting up to 300 seconds for model version to finish creation. Model name: GARCH(1,1)_5yrFit, version 64\n",
      "Created version '64' of model 'GARCH(1,1)_5yrFit'.\n"
     ]
    },
    {
     "name": "stdout",
     "output_type": "stream",
     "text": [
      "🏃 View run IR_2025-02-06 at: http://127.0.0.1:8768/#/experiments/1553/runs/f70db31d303a4373ad015a93ba5550e7\n",
      "🧪 View experiment at: http://127.0.0.1:8768/#/experiments/1553\n"
     ]
    },
    {
     "name": "stderr",
     "output_type": "stream",
     "text": [
      "Registered model 'GARCH(1,1)_5yrFit' already exists. Creating a new version of this model...\n",
      "2025/06/23 20:58:29 INFO mlflow.store.model_registry.abstract_store: Waiting up to 300 seconds for model version to finish creation. Model name: GARCH(1,1)_5yrFit, version 65\n",
      "Created version '65' of model 'GARCH(1,1)_5yrFit'.\n"
     ]
    },
    {
     "name": "stdout",
     "output_type": "stream",
     "text": [
      "🏃 View run IR_2025-02-24 at: http://127.0.0.1:8768/#/experiments/1553/runs/ca8b2ccc4d254d6c922c4fc443854cc8\n",
      "🧪 View experiment at: http://127.0.0.1:8768/#/experiments/1553\n",
      "using model: GARCH(1,1)_5yrFit\n"
     ]
    },
    {
     "name": "stderr",
     "output_type": "stream",
     "text": [
      "2025/06/23 20:58:33 INFO mlflow.models.model: Found the following environment variables used during model inference: [DOMINO_USER_API_KEY]. Please check if you need to set them when deploying the model. To disable this message, set environment variable `MLFLOW_RECORD_ENV_VARS_IN_MODEL_LOGGING` to `false`.\n",
      "Registered model 'GARCH(1,1)_5yrFit' already exists. Creating a new version of this model...\n",
      "2025/06/23 20:58:37 INFO mlflow.store.model_registry.abstract_store: Waiting up to 300 seconds for model version to finish creation. Model name: GARCH(1,1)_5yrFit, version 66\n",
      "Created version '66' of model 'GARCH(1,1)_5yrFit'.\n"
     ]
    },
    {
     "name": "stdout",
     "output_type": "stream",
     "text": [
      "🏃 View run IR_2025-02-07 at: http://127.0.0.1:8768/#/experiments/1553/runs/864e1ff38a8a4e348ce237b1fd13a596\n",
      "🧪 View experiment at: http://127.0.0.1:8768/#/experiments/1553\n",
      "using model: GARCH(1,1)_5yrFit\n"
     ]
    },
    {
     "name": "stderr",
     "output_type": "stream",
     "text": [
      "2025/06/23 20:58:52 INFO mlflow.models.model: Found the following environment variables used during model inference: [DOMINO_USER_API_KEY]. Please check if you need to set them when deploying the model. To disable this message, set environment variable `MLFLOW_RECORD_ENV_VARS_IN_MODEL_LOGGING` to `false`.\n",
      "Registered model 'GARCH(1,1)_5yrFit' already exists. Creating a new version of this model...\n",
      "2025/06/23 20:58:54 INFO mlflow.store.model_registry.abstract_store: Waiting up to 300 seconds for model version to finish creation. Model name: GARCH(1,1)_5yrFit, version 67\n",
      "Created version '67' of model 'GARCH(1,1)_5yrFit'.\n",
      "Registered model 'GARCH(1,1)_5yrFit' already exists. Creating a new version of this model...\n",
      "2025/06/23 20:58:55 INFO mlflow.store.model_registry.abstract_store: Waiting up to 300 seconds for model version to finish creation. Model name: GARCH(1,1)_5yrFit, version 68\n"
     ]
    },
    {
     "name": "stdout",
     "output_type": "stream",
     "text": [
      "🏃 View run IR_2025-02-04 at: http://127.0.0.1:8768/#/experiments/1553/runs/fea661198cbb49ac8b5f263ce446bc95\n",
      "🧪 View experiment at: http://127.0.0.1:8768/#/experiments/1553\n"
     ]
    },
    {
     "name": "stderr",
     "output_type": "stream",
     "text": [
      "Created version '68' of model 'GARCH(1,1)_5yrFit'.\n"
     ]
    },
    {
     "name": "stdout",
     "output_type": "stream",
     "text": [
      "🏃 View run IR_2025-02-11 at: http://127.0.0.1:8768/#/experiments/1553/runs/60de073aaf06459984c2a54be753836a\n",
      "🧪 View experiment at: http://127.0.0.1:8768/#/experiments/1553\n",
      "⏭️  Skipping 2025-03-01: no exact curve_date in pivot\n",
      "⏭️  Skipping 2025-03-02: no exact curve_date in pivot\n"
     ]
    },
    {
     "name": "stderr",
     "output_type": "stream",
     "text": [
      "Registered model 'GARCH(1,1)_5yrFit' already exists. Creating a new version of this model...\n"
     ]
    },
    {
     "name": "stdout",
     "output_type": "stream",
     "text": [
      "using model: GARCH(1,1)_5yrFit\n",
      "using model: GARCH(1,1)_5yrFit\n"
     ]
    },
    {
     "name": "stderr",
     "output_type": "stream",
     "text": [
      "2025/06/23 20:58:59 INFO mlflow.store.model_registry.abstract_store: Waiting up to 300 seconds for model version to finish creation. Model name: GARCH(1,1)_5yrFit, version 69\n",
      "Created version '69' of model 'GARCH(1,1)_5yrFit'.\n"
     ]
    },
    {
     "name": "stdout",
     "output_type": "stream",
     "text": [
      "🏃 View run IR_2025-02-05 at: http://127.0.0.1:8768/#/experiments/1553/runs/7c2c8695b7844c31b4f6e72b8e17d871\n",
      "🧪 View experiment at: http://127.0.0.1:8768/#/experiments/1553\n"
     ]
    },
    {
     "name": "stderr",
     "output_type": "stream",
     "text": [
      "Registered model 'GARCH(1,1)_5yrFit' already exists. Creating a new version of this model...\n",
      "2025/06/23 20:59:01 INFO mlflow.models.model: Found the following environment variables used during model inference: [DOMINO_USER_API_KEY]. Please check if you need to set them when deploying the model. To disable this message, set environment variable `MLFLOW_RECORD_ENV_VARS_IN_MODEL_LOGGING` to `false`.\n"
     ]
    },
    {
     "name": "stdout",
     "output_type": "stream",
     "text": [
      "using model: GARCH(1,1)_5yrFit\n"
     ]
    },
    {
     "name": "stderr",
     "output_type": "stream",
     "text": [
      "Registered model 'GARCH(1,1)_5yrFit' already exists. Creating a new version of this model...\n",
      "Registered model 'GARCH(1,1)_5yrFit' already exists. Creating a new version of this model...\n",
      "2025/06/23 20:59:03 INFO mlflow.store.model_registry.abstract_store: Waiting up to 300 seconds for model version to finish creation. Model name: GARCH(1,1)_5yrFit, version 70\n",
      "Created version '70' of model 'GARCH(1,1)_5yrFit'.\n",
      "2025/06/23 20:59:04 INFO mlflow.store.model_registry.abstract_store: Waiting up to 300 seconds for model version to finish creation. Model name: GARCH(1,1)_5yrFit, version 71\n"
     ]
    },
    {
     "name": "stdout",
     "output_type": "stream",
     "text": [
      "🏃 View run IR_2025-02-10 at: http://127.0.0.1:8768/#/experiments/1553/runs/fa2136b5dbfe4e65ade88b08e8a03107\n",
      "🧪 View experiment at: http://127.0.0.1:8768/#/experiments/1553\n"
     ]
    },
    {
     "name": "stderr",
     "output_type": "stream",
     "text": [
      "Created version '71' of model 'GARCH(1,1)_5yrFit'.\n",
      "2025/06/23 20:59:04 INFO mlflow.store.model_registry.abstract_store: Waiting up to 300 seconds for model version to finish creation. Model name: GARCH(1,1)_5yrFit, version 72\n",
      "Created version '72' of model 'GARCH(1,1)_5yrFit'.\n"
     ]
    },
    {
     "name": "stdout",
     "output_type": "stream",
     "text": [
      "using model: GARCH(1,1)_5yrFit\n",
      "🏃 View run IR_2025-02-14 at: http://127.0.0.1:8768/#/experiments/1553/runs/35268ec198f54cb2a837ca6c236e364b\n",
      "🧪 View experiment at: http://127.0.0.1:8768/#/experiments/1553\n",
      "🏃 View run IR_2025-02-26 at: http://127.0.0.1:8768/#/experiments/1553/runs/2781bfd36a9e4f7bae712b770072c48d\n",
      "🧪 View experiment at: http://127.0.0.1:8768/#/experiments/1553\n"
     ]
    },
    {
     "name": "stderr",
     "output_type": "stream",
     "text": [
      "2025/06/23 20:59:07 INFO mlflow.models.model: Found the following environment variables used during model inference: [DOMINO_USER_API_KEY]. Please check if you need to set them when deploying the model. To disable this message, set environment variable `MLFLOW_RECORD_ENV_VARS_IN_MODEL_LOGGING` to `false`.\n"
     ]
    },
    {
     "name": "stdout",
     "output_type": "stream",
     "text": [
      "using model: GARCH(1,1)_5yrFit\n"
     ]
    },
    {
     "name": "stderr",
     "output_type": "stream",
     "text": [
      "Registered model 'GARCH(1,1)_5yrFit' already exists. Creating a new version of this model...\n",
      "Registered model 'GARCH(1,1)_5yrFit' already exists. Creating a new version of this model...\n",
      "2025/06/23 20:59:10 INFO mlflow.store.model_registry.abstract_store: Waiting up to 300 seconds for model version to finish creation. Model name: GARCH(1,1)_5yrFit, version 73\n",
      "Created version '73' of model 'GARCH(1,1)_5yrFit'.\n",
      "2025/06/23 20:59:11 INFO mlflow.store.model_registry.abstract_store: Waiting up to 300 seconds for model version to finish creation. Model name: GARCH(1,1)_5yrFit, version 74\n",
      "Created version '74' of model 'GARCH(1,1)_5yrFit'.\n"
     ]
    },
    {
     "name": "stdout",
     "output_type": "stream",
     "text": [
      "🏃 View run IR_2025-02-13 at: http://127.0.0.1:8768/#/experiments/1553/runs/320484dc85274ca488eebc0f6ca80164\n",
      "🧪 View experiment at: http://127.0.0.1:8768/#/experiments/1553\n",
      "🏃 View run IR_2025-02-12 at: http://127.0.0.1:8768/#/experiments/1553/runs/4273b510b8c04e29b9931c699f477b82\n",
      "🧪 View experiment at: http://127.0.0.1:8768/#/experiments/1553\n"
     ]
    },
    {
     "name": "stderr",
     "output_type": "stream",
     "text": [
      "Registered model 'GARCH(1,1)_5yrFit' already exists. Creating a new version of this model...\n"
     ]
    },
    {
     "name": "stdout",
     "output_type": "stream",
     "text": [
      "⏭️  Skipping 2025-03-09: no exact curve_date in pivot\n",
      "⏭️  Skipping 2025-03-08: no exact curve_date in pivot\n"
     ]
    },
    {
     "name": "stderr",
     "output_type": "stream",
     "text": [
      "2025/06/23 20:59:19 INFO mlflow.store.model_registry.abstract_store: Waiting up to 300 seconds for model version to finish creation. Model name: GARCH(1,1)_5yrFit, version 75\n",
      "Created version '75' of model 'GARCH(1,1)_5yrFit'.\n"
     ]
    },
    {
     "name": "stdout",
     "output_type": "stream",
     "text": [
      "🏃 View run IR_2025-02-25 at: http://127.0.0.1:8768/#/experiments/1553/runs/a975c3a89f8a4665aa3ee448243ee77b\n",
      "🧪 View experiment at: http://127.0.0.1:8768/#/experiments/1553\n",
      "using model: GARCH(1,1)_5yrFit\n",
      "using model: GARCH(1,1)_5yrFit\n"
     ]
    },
    {
     "name": "stderr",
     "output_type": "stream",
     "text": [
      "Registered model 'GARCH(1,1)_5yrFit' already exists. Creating a new version of this model...\n",
      "2025/06/23 20:59:31 INFO mlflow.store.model_registry.abstract_store: Waiting up to 300 seconds for model version to finish creation. Model name: GARCH(1,1)_5yrFit, version 76\n",
      "Created version '76' of model 'GARCH(1,1)_5yrFit'.\n"
     ]
    },
    {
     "name": "stdout",
     "output_type": "stream",
     "text": [
      "🏃 View run IR_2025-02-24 at: http://127.0.0.1:8768/#/experiments/1553/runs/8a8d173e428740059c2c7c8c0b3573cf\n",
      "🧪 View experiment at: http://127.0.0.1:8768/#/experiments/1553\n",
      "using model: GARCH(1,1)_5yrFit\n"
     ]
    },
    {
     "name": "stderr",
     "output_type": "stream",
     "text": [
      "Registered model 'GARCH(1,1)_5yrFit' already exists. Creating a new version of this model...\n",
      "2025/06/23 20:59:36 INFO mlflow.store.model_registry.abstract_store: Waiting up to 300 seconds for model version to finish creation. Model name: GARCH(1,1)_5yrFit, version 77\n",
      "Created version '77' of model 'GARCH(1,1)_5yrFit'.\n",
      "Registered model 'GARCH(1,1)_5yrFit' already exists. Creating a new version of this model...\n"
     ]
    },
    {
     "name": "stdout",
     "output_type": "stream",
     "text": [
      "🏃 View run IR_2025-02-28 at: http://127.0.0.1:8768/#/experiments/1553/runs/a53a8df13deb401db210e93005bb30ab\n",
      "🧪 View experiment at: http://127.0.0.1:8768/#/experiments/1553\n"
     ]
    },
    {
     "name": "stderr",
     "output_type": "stream",
     "text": [
      "2025/06/23 20:59:37 INFO mlflow.store.model_registry.abstract_store: Waiting up to 300 seconds for model version to finish creation. Model name: GARCH(1,1)_5yrFit, version 78\n",
      "Created version '78' of model 'GARCH(1,1)_5yrFit'.\n"
     ]
    },
    {
     "name": "stdout",
     "output_type": "stream",
     "text": [
      "🏃 View run IR_2025-02-27 at: http://127.0.0.1:8768/#/experiments/1553/runs/bbfbf350f94e4f3b899e83ab2af296f7\n",
      "🧪 View experiment at: http://127.0.0.1:8768/#/experiments/1553\n"
     ]
    },
    {
     "name": "stderr",
     "output_type": "stream",
     "text": [
      "Registered model 'GARCH(1,1)_5yrFit' already exists. Creating a new version of this model...\n",
      "Registered model 'GARCH(1,1)_5yrFit' already exists. Creating a new version of this model...\n",
      "Registered model 'GARCH(1,1)_5yrFit' already exists. Creating a new version of this model...\n",
      "2025/06/23 20:59:44 INFO mlflow.store.model_registry.abstract_store: Waiting up to 300 seconds for model version to finish creation. Model name: GARCH(1,1)_5yrFit, version 79\n",
      "Created version '79' of model 'GARCH(1,1)_5yrFit'.\n",
      "2025/06/23 20:59:44 INFO mlflow.store.model_registry.abstract_store: Waiting up to 300 seconds for model version to finish creation. Model name: GARCH(1,1)_5yrFit, version 80\n",
      "Created version '80' of model 'GARCH(1,1)_5yrFit'.2025/06/23 20:59:44 INFO mlflow.store.model_registry.abstract_store: Waiting up to 300 seconds for model version to finish creation. Model name: GARCH(1,1)_5yrFit, version 81\n",
      "\n",
      "Created version '81' of model 'GARCH(1,1)_5yrFit'.\n"
     ]
    },
    {
     "name": "stdout",
     "output_type": "stream",
     "text": [
      "🏃 View run IR_2025-03-03 at: http://127.0.0.1:8768/#/experiments/1553/runs/73afadc64d5547b0aff707313a81b347\n",
      "🧪 View experiment at: http://127.0.0.1:8768/#/experiments/1553\n",
      "🏃 View run IR_2025-03-05 at: http://127.0.0.1:8768/#/experiments/1553/runs/c0421b2ea5db441b9bb748f40f692e93\n",
      "🧪 View experiment at: http://127.0.0.1:8768/#/experiments/1553\n",
      "🏃 View run IR_2025-03-04 at: http://127.0.0.1:8768/#/experiments/1553/runs/d983aa2936054a59a0790d77cea8c4c6\n",
      "🧪 View experiment at: http://127.0.0.1:8768/#/experiments/1553\n"
     ]
    },
    {
     "name": "stderr",
     "output_type": "stream",
     "text": [
      "2025/06/23 20:59:57 INFO mlflow.models.model: Found the following environment variables used during model inference: [DOMINO_USER_API_KEY]. Please check if you need to set them when deploying the model. To disable this message, set environment variable `MLFLOW_RECORD_ENV_VARS_IN_MODEL_LOGGING` to `false`.\n",
      "Registered model 'GARCH(1,1)_5yrFit' already exists. Creating a new version of this model...\n",
      "2025/06/23 21:00:00 INFO mlflow.store.model_registry.abstract_store: Waiting up to 300 seconds for model version to finish creation. Model name: GARCH(1,1)_5yrFit, version 82\n",
      "Created version '82' of model 'GARCH(1,1)_5yrFit'.\n"
     ]
    },
    {
     "name": "stdout",
     "output_type": "stream",
     "text": [
      "🏃 View run IR_2025-03-07 at: http://127.0.0.1:8768/#/experiments/1553/runs/ad6e950cac5949ad981ea57905bb3bfc\n",
      "🧪 View experiment at: http://127.0.0.1:8768/#/experiments/1553\n"
     ]
    },
    {
     "name": "stderr",
     "output_type": "stream",
     "text": [
      "2025/06/23 21:00:02 INFO mlflow.models.model: Found the following environment variables used during model inference: [DOMINO_USER_API_KEY]. Please check if you need to set them when deploying the model. To disable this message, set environment variable `MLFLOW_RECORD_ENV_VARS_IN_MODEL_LOGGING` to `false`.\n",
      "Registered model 'GARCH(1,1)_5yrFit' already exists. Creating a new version of this model...\n",
      "2025/06/23 21:00:03 INFO mlflow.store.model_registry.abstract_store: Waiting up to 300 seconds for model version to finish creation. Model name: GARCH(1,1)_5yrFit, version 83\n",
      "Created version '83' of model 'GARCH(1,1)_5yrFit'.\n"
     ]
    },
    {
     "name": "stdout",
     "output_type": "stream",
     "text": [
      "🏃 View run IR_2025-02-26 at: http://127.0.0.1:8768/#/experiments/1553/runs/219a338c5d2545738f45b74145a329e8\n",
      "🧪 View experiment at: http://127.0.0.1:8768/#/experiments/1553\n"
     ]
    },
    {
     "name": "stderr",
     "output_type": "stream",
     "text": [
      "Registered model 'GARCH(1,1)_5yrFit' already exists. Creating a new version of this model...\n",
      "2025/06/23 21:00:05 INFO mlflow.store.model_registry.abstract_store: Waiting up to 300 seconds for model version to finish creation. Model name: GARCH(1,1)_5yrFit, version 84\n",
      "Registered model 'GARCH(1,1)_5yrFit' already exists. Creating a new version of this model...\n",
      "Created version '84' of model 'GARCH(1,1)_5yrFit'.\n"
     ]
    },
    {
     "name": "stdout",
     "output_type": "stream",
     "text": [
      "using model: GARCH(1,1)_5yrFit\n",
      "🏃 View run IR_2025-03-11 at: http://127.0.0.1:8768/#/experiments/1553/runs/dd0a8c17b791442e98c9e3c7834f3529\n",
      "🧪 View experiment at: http://127.0.0.1:8768/#/experiments/1553\n"
     ]
    },
    {
     "name": "stderr",
     "output_type": "stream",
     "text": [
      "Registered model 'GARCH(1,1)_5yrFit' already exists. Creating a new version of this model...\n",
      "2025/06/23 21:00:05 INFO mlflow.store.model_registry.abstract_store: Waiting up to 300 seconds for model version to finish creation. Model name: GARCH(1,1)_5yrFit, version 85\n",
      "Created version '85' of model 'GARCH(1,1)_5yrFit'.\n",
      "2025/06/23 21:00:06 INFO mlflow.store.model_registry.abstract_store: Waiting up to 300 seconds for model version to finish creation. Model name: GARCH(1,1)_5yrFit, version 86\n",
      "Created version '86' of model 'GARCH(1,1)_5yrFit'.\n",
      "Registered model 'GARCH(1,1)_5yrFit' already exists. Creating a new version of this model...\n"
     ]
    },
    {
     "name": "stdout",
     "output_type": "stream",
     "text": [
      "🏃 View run IR_2025-03-06 at: http://127.0.0.1:8768/#/experiments/1553/runs/1bb8da713d8a4328ba039bba6704e3f1\n",
      "🧪 View experiment at: http://127.0.0.1:8768/#/experiments/1553\n"
     ]
    },
    {
     "name": "stderr",
     "output_type": "stream",
     "text": [
      "2025/06/23 21:00:07 INFO mlflow.store.model_registry.abstract_store: Waiting up to 300 seconds for model version to finish creation. Model name: GARCH(1,1)_5yrFit, version 87\n",
      "Created version '87' of model 'GARCH(1,1)_5yrFit'.\n"
     ]
    },
    {
     "name": "stdout",
     "output_type": "stream",
     "text": [
      "🏃 View run IR_2025-02-25 at: http://127.0.0.1:8768/#/experiments/1553/runs/6659db9707a6432fad7f12d42471016f\n",
      "🧪 View experiment at: http://127.0.0.1:8768/#/experiments/1553\n",
      "🏃 View run IR_2025-03-10 at: http://127.0.0.1:8768/#/experiments/1553/runs/339a122152ec46a684cddbd0c7064eed\n",
      "🧪 View experiment at: http://127.0.0.1:8768/#/experiments/1553\n",
      "using model: GARCH(1,1)_5yrFit\n"
     ]
    },
    {
     "name": "stderr",
     "output_type": "stream",
     "text": [
      "Registered model 'GARCH(1,1)_5yrFit' already exists. Creating a new version of this model...\n",
      "2025/06/23 21:00:11 INFO mlflow.store.model_registry.abstract_store: Waiting up to 300 seconds for model version to finish creation. Model name: GARCH(1,1)_5yrFit, version 88\n",
      "Created version '88' of model 'GARCH(1,1)_5yrFit'.\n"
     ]
    },
    {
     "name": "stdout",
     "output_type": "stream",
     "text": [
      "🏃 View run IR_2025-03-12 at: http://127.0.0.1:8768/#/experiments/1553/runs/45397f8ae3f94eafa2c783bbc3c4e45b\n",
      "🧪 View experiment at: http://127.0.0.1:8768/#/experiments/1553\n"
     ]
    },
    {
     "name": "stderr",
     "output_type": "stream",
     "text": [
      "Registered model 'GARCH(1,1)_5yrFit' already exists. Creating a new version of this model...\n",
      "2025/06/23 21:00:25 INFO mlflow.store.model_registry.abstract_store: Waiting up to 300 seconds for model version to finish creation. Model name: GARCH(1,1)_5yrFit, version 89\n",
      "Created version '89' of model 'GARCH(1,1)_5yrFit'.\n"
     ]
    },
    {
     "name": "stdout",
     "output_type": "stream",
     "text": [
      "🏃 View run IR_2025-02-28 at: http://127.0.0.1:8768/#/experiments/1553/runs/27196715807c4353b713672aeecf48d2\n",
      "🧪 View experiment at: http://127.0.0.1:8768/#/experiments/1553\n"
     ]
    },
    {
     "name": "stderr",
     "output_type": "stream",
     "text": [
      "Registered model 'GARCH(1,1)_5yrFit' already exists. Creating a new version of this model...\n",
      "2025/06/23 21:00:27 INFO mlflow.store.model_registry.abstract_store: Waiting up to 300 seconds for model version to finish creation. Model name: GARCH(1,1)_5yrFit, version 90\n",
      "Created version '90' of model 'GARCH(1,1)_5yrFit'.\n"
     ]
    },
    {
     "name": "stdout",
     "output_type": "stream",
     "text": [
      "⏭️  Skipping 2025-03-15: no exact curve_date in pivot\n",
      "🏃 View run IR_2025-03-04 at: http://127.0.0.1:8768/#/experiments/1553/runs/e642ec6780fa4ace99eab7e23fb51900\n",
      "🧪 View experiment at: http://127.0.0.1:8768/#/experiments/1553\n",
      "using model: GARCH(1,1)_5yrFit\n",
      "⏭️  Skipping 2025-03-16: no exact curve_date in pivot\n",
      "using model: GARCH(1,1)_5yrFit\n"
     ]
    },
    {
     "name": "stderr",
     "output_type": "stream",
     "text": [
      "Registered model 'GARCH(1,1)_5yrFit' already exists. Creating a new version of this model...\n",
      "2025/06/23 21:00:34 INFO mlflow.store.model_registry.abstract_store: Waiting up to 300 seconds for model version to finish creation. Model name: GARCH(1,1)_5yrFit, version 91\n",
      "Created version '91' of model 'GARCH(1,1)_5yrFit'.\n",
      "2025/06/23 21:00:34 INFO mlflow.models.model: Found the following environment variables used during model inference: [DOMINO_USER_API_KEY]. Please check if you need to set them when deploying the model. To disable this message, set environment variable `MLFLOW_RECORD_ENV_VARS_IN_MODEL_LOGGING` to `false`.\n"
     ]
    },
    {
     "name": "stdout",
     "output_type": "stream",
     "text": [
      "🏃 View run IR_2025-03-03 at: http://127.0.0.1:8768/#/experiments/1553/runs/cfe1e598752d496fa289eb5218ef33ba\n",
      "🧪 View experiment at: http://127.0.0.1:8768/#/experiments/1553\n",
      "using model: GARCH(1,1)_5yrFit\n"
     ]
    },
    {
     "name": "stderr",
     "output_type": "stream",
     "text": [
      "/mnt/artifacts/.domino/.persistence/packages/venv/lib/python3.10/site-packages/arch/univariate/base.py:768: ConvergenceWarning: The optimizer returned code 8. The message is:\n",
      "Positive directional derivative for linesearch\n",
      "See scipy.optimize.fmin_slsqp for code meaning.\n",
      "\n",
      "  warnings.warn(\n",
      "Registered model 'GARCH(1,1)_5yrFit' already exists. Creating a new version of this model...\n",
      "2025/06/23 21:00:39 INFO mlflow.store.model_registry.abstract_store: Waiting up to 300 seconds for model version to finish creation. Model name: GARCH(1,1)_5yrFit, version 92\n",
      "Created version '92' of model 'GARCH(1,1)_5yrFit'.\n"
     ]
    },
    {
     "name": "stdout",
     "output_type": "stream",
     "text": [
      "🏃 View run IR_2025-02-27 at: http://127.0.0.1:8768/#/experiments/1553/runs/10b57cf00baf468e833c2c64d5cb7d3d\n",
      "🧪 View experiment at: http://127.0.0.1:8768/#/experiments/1553\n"
     ]
    },
    {
     "name": "stderr",
     "output_type": "stream",
     "text": [
      "/tmp/ipykernel_17165/2642250633.py:91: UserWarning: Creating legend with loc=\"best\" can be slow with large amounts of data.\n",
      "  plt.savefig(fn, dpi=150)\n"
     ]
    },
    {
     "name": "stdout",
     "output_type": "stream",
     "text": [
      "using model: GARCH(1,1)_5yrFit\n"
     ]
    },
    {
     "name": "stderr",
     "output_type": "stream",
     "text": [
      "Registered model 'GARCH(1,1)_5yrFit' already exists. Creating a new version of this model...\n",
      "2025/06/23 21:00:48 INFO mlflow.store.model_registry.abstract_store: Waiting up to 300 seconds for model version to finish creation. Model name: GARCH(1,1)_5yrFit, version 93\n",
      "Created version '93' of model 'GARCH(1,1)_5yrFit'.\n"
     ]
    },
    {
     "name": "stdout",
     "output_type": "stream",
     "text": [
      "🏃 View run IR_2025-03-05 at: http://127.0.0.1:8768/#/experiments/1553/runs/a3537c6d394b4af4802ea6027f9bacbe\n",
      "🧪 View experiment at: http://127.0.0.1:8768/#/experiments/1553\n"
     ]
    },
    {
     "name": "stderr",
     "output_type": "stream",
     "text": [
      "2025/06/23 21:00:49 INFO mlflow.models.model: Found the following environment variables used during model inference: [DOMINO_USER_API_KEY]. Please check if you need to set them when deploying the model. To disable this message, set environment variable `MLFLOW_RECORD_ENV_VARS_IN_MODEL_LOGGING` to `false`.\n"
     ]
    },
    {
     "name": "stdout",
     "output_type": "stream",
     "text": [
      "using model: GARCH(1,1)_5yrFit\n"
     ]
    },
    {
     "name": "stderr",
     "output_type": "stream",
     "text": [
      "Registered model 'GARCH(1,1)_5yrFit' already exists. Creating a new version of this model...\n",
      "2025/06/23 21:00:53 INFO mlflow.store.model_registry.abstract_store: Waiting up to 300 seconds for model version to finish creation. Model name: GARCH(1,1)_5yrFit, version 94\n",
      "Created version '94' of model 'GARCH(1,1)_5yrFit'.\n"
     ]
    },
    {
     "name": "stdout",
     "output_type": "stream",
     "text": [
      "🏃 View run IR_2025-03-13 at: http://127.0.0.1:8768/#/experiments/1553/runs/d6c9ecddc7d2459e825fa42e078e5ba5\n",
      "🧪 View experiment at: http://127.0.0.1:8768/#/experiments/1553\n"
     ]
    },
    {
     "name": "stderr",
     "output_type": "stream",
     "text": [
      "Registered model 'GARCH(1,1)_5yrFit' already exists. Creating a new version of this model...\n",
      "2025/06/23 21:00:58 INFO mlflow.store.model_registry.abstract_store: Waiting up to 300 seconds for model version to finish creation. Model name: GARCH(1,1)_5yrFit, version 95\n",
      "Created version '95' of model 'GARCH(1,1)_5yrFit'.\n",
      "Registered model 'GARCH(1,1)_5yrFit' already exists. Creating a new version of this model...\n"
     ]
    },
    {
     "name": "stdout",
     "output_type": "stream",
     "text": [
      "🏃 View run IR_2025-03-07 at: http://127.0.0.1:8768/#/experiments/1553/runs/21f536c3e9c24581a6a21629a5361e2d\n",
      "🧪 View experiment at: http://127.0.0.1:8768/#/experiments/1553\n"
     ]
    },
    {
     "name": "stderr",
     "output_type": "stream",
     "text": [
      "2025/06/23 21:00:59 INFO mlflow.store.model_registry.abstract_store: Waiting up to 300 seconds for model version to finish creation. Model name: GARCH(1,1)_5yrFit, version 96\n",
      "Created version '96' of model 'GARCH(1,1)_5yrFit'.\n"
     ]
    },
    {
     "name": "stdout",
     "output_type": "stream",
     "text": [
      "🏃 View run IR_2025-03-14 at: http://127.0.0.1:8768/#/experiments/1553/runs/d894d983553f42b982ae5e73584cc7d0\n",
      "🧪 View experiment at: http://127.0.0.1:8768/#/experiments/1553\n",
      "⏭️  Skipping 2025-03-22: no exact curve_date in pivot\n"
     ]
    },
    {
     "name": "stderr",
     "output_type": "stream",
     "text": [
      "2025/06/23 21:01:03 INFO mlflow.models.model: Found the following environment variables used during model inference: [DOMINO_USER_API_KEY]. Please check if you need to set them when deploying the model. To disable this message, set environment variable `MLFLOW_RECORD_ENV_VARS_IN_MODEL_LOGGING` to `false`.\n"
     ]
    },
    {
     "name": "stdout",
     "output_type": "stream",
     "text": [
      "⏭️  Skipping 2025-03-23: no exact curve_date in pivot\n",
      "using model: GARCH(1,1)_5yrFit\n"
     ]
    },
    {
     "name": "stderr",
     "output_type": "stream",
     "text": [
      "Registered model 'GARCH(1,1)_5yrFit' already exists. Creating a new version of this model...\n",
      "Registered model 'GARCH(1,1)_5yrFit' already exists. Creating a new version of this model...\n",
      "2025/06/23 21:01:09 INFO mlflow.store.model_registry.abstract_store: Waiting up to 300 seconds for model version to finish creation. Model name: GARCH(1,1)_5yrFit, version 97\n",
      "Created version '97' of model 'GARCH(1,1)_5yrFit'.\n",
      "2025/06/23 21:01:09 INFO mlflow.store.model_registry.abstract_store: Waiting up to 300 seconds for model version to finish creation. Model name: GARCH(1,1)_5yrFit, version 98\n"
     ]
    },
    {
     "name": "stdout",
     "output_type": "stream",
     "text": [
      "🏃 View run IR_2025-03-11 at: http://127.0.0.1:8768/#/experiments/1553/runs/0073e30f03b24b6bbf0396e1801e5c30\n",
      "🧪 View experiment at: http://127.0.0.1:8768/#/experiments/1553\n"
     ]
    },
    {
     "name": "stderr",
     "output_type": "stream",
     "text": [
      "Created version '98' of model 'GARCH(1,1)_5yrFit'.\n"
     ]
    },
    {
     "name": "stdout",
     "output_type": "stream",
     "text": [
      "🏃 View run IR_2025-03-06 at: http://127.0.0.1:8768/#/experiments/1553/runs/2ed38e12861e42a2bccb47b4bcd38923\n",
      "🧪 View experiment at: http://127.0.0.1:8768/#/experiments/1553\n",
      "using model: GARCH(1,1)_5yrFit\n",
      "using model: GARCH(1,1)_5yrFit\n"
     ]
    },
    {
     "name": "stderr",
     "output_type": "stream",
     "text": [
      "Registered model 'GARCH(1,1)_5yrFit' already exists. Creating a new version of this model...\n",
      "2025/06/23 21:01:12 INFO mlflow.store.model_registry.abstract_store: Waiting up to 300 seconds for model version to finish creation. Model name: GARCH(1,1)_5yrFit, version 99\n",
      "Created version '99' of model 'GARCH(1,1)_5yrFit'.\n"
     ]
    },
    {
     "name": "stdout",
     "output_type": "stream",
     "text": [
      "🏃 View run IR_2025-03-10 at: http://127.0.0.1:8768/#/experiments/1553/runs/65341fbf666c457f847191ac7916cca7\n",
      "🧪 View experiment at: http://127.0.0.1:8768/#/experiments/1553\n"
     ]
    },
    {
     "name": "stderr",
     "output_type": "stream",
     "text": [
      "Registered model 'GARCH(1,1)_5yrFit' already exists. Creating a new version of this model...\n",
      "2025/06/23 21:01:15 INFO mlflow.store.model_registry.abstract_store: Waiting up to 300 seconds for model version to finish creation. Model name: GARCH(1,1)_5yrFit, version 100\n",
      "Created version '100' of model 'GARCH(1,1)_5yrFit'.\n"
     ]
    },
    {
     "name": "stdout",
     "output_type": "stream",
     "text": [
      "using model: GARCH(1,1)_5yrFit\n",
      "🏃 View run IR_2025-03-12 at: http://127.0.0.1:8768/#/experiments/1553/runs/df58efe678e04f71b794f64d54ff5c99\n",
      "🧪 View experiment at: http://127.0.0.1:8768/#/experiments/1553\n"
     ]
    },
    {
     "name": "stderr",
     "output_type": "stream",
     "text": [
      "Registered model 'GARCH(1,1)_5yrFit' already exists. Creating a new version of this model...\n",
      "2025/06/23 21:01:18 INFO mlflow.store.model_registry.abstract_store: Waiting up to 300 seconds for model version to finish creation. Model name: GARCH(1,1)_5yrFit, version 101\n"
     ]
    },
    {
     "name": "stdout",
     "output_type": "stream",
     "text": [
      "using model: GARCH(1,1)_5yrFit\n"
     ]
    },
    {
     "name": "stderr",
     "output_type": "stream",
     "text": [
      "Created version '101' of model 'GARCH(1,1)_5yrFit'.\n",
      "Registered model 'GARCH(1,1)_5yrFit' already exists. Creating a new version of this model...\n"
     ]
    },
    {
     "name": "stdout",
     "output_type": "stream",
     "text": [
      "🏃 View run IR_2025-03-17 at: http://127.0.0.1:8768/#/experiments/1553/runs/05304290273b40a9975fe84add469ff3\n",
      "🧪 View experiment at: http://127.0.0.1:8768/#/experiments/1553\n"
     ]
    },
    {
     "name": "stderr",
     "output_type": "stream",
     "text": [
      "2025/06/23 21:01:20 INFO mlflow.store.model_registry.abstract_store: Waiting up to 300 seconds for model version to finish creation. Model name: GARCH(1,1)_5yrFit, version 102\n",
      "Registered model 'GARCH(1,1)_5yrFit' already exists. Creating a new version of this model...\n",
      "Created version '102' of model 'GARCH(1,1)_5yrFit'.\n",
      "2025/06/23 21:01:21 INFO mlflow.store.model_registry.abstract_store: Waiting up to 300 seconds for model version to finish creation. Model name: GARCH(1,1)_5yrFit, version 103\n",
      "Created version '103' of model 'GARCH(1,1)_5yrFit'.\n"
     ]
    },
    {
     "name": "stdout",
     "output_type": "stream",
     "text": [
      "🏃 View run IR_2025-03-19 at: http://127.0.0.1:8768/#/experiments/1553/runs/15ce43098f394277b5b5d69763b79f8b\n",
      "🧪 View experiment at: http://127.0.0.1:8768/#/experiments/1553\n"
     ]
    },
    {
     "name": "stderr",
     "output_type": "stream",
     "text": [
      "/mnt/artifacts/.domino/.persistence/packages/venv/lib/python3.10/site-packages/arch/univariate/base.py:768: ConvergenceWarning: The optimizer returned code 8. The message is:\n",
      "Positive directional derivative for linesearch\n",
      "See scipy.optimize.fmin_slsqp for code meaning.\n",
      "\n",
      "  warnings.warn(\n"
     ]
    },
    {
     "name": "stdout",
     "output_type": "stream",
     "text": [
      "🏃 View run IR_2025-03-18 at: http://127.0.0.1:8768/#/experiments/1553/runs/6918c5f04fab45279b52633c26c1e938\n",
      "🧪 View experiment at: http://127.0.0.1:8768/#/experiments/1553\n"
     ]
    },
    {
     "name": "stderr",
     "output_type": "stream",
     "text": [
      "2025/06/23 21:01:31 INFO mlflow.models.model: Found the following environment variables used during model inference: [DOMINO_USER_API_KEY]. Please check if you need to set them when deploying the model. To disable this message, set environment variable `MLFLOW_RECORD_ENV_VARS_IN_MODEL_LOGGING` to `false`.\n",
      "2025/06/23 21:01:34 INFO mlflow.models.model: Found the following environment variables used during model inference: [DOMINO_USER_API_KEY]. Please check if you need to set them when deploying the model. To disable this message, set environment variable `MLFLOW_RECORD_ENV_VARS_IN_MODEL_LOGGING` to `false`.\n",
      "Registered model 'GARCH(1,1)_5yrFit' already exists. Creating a new version of this model...\n",
      "2025/06/23 21:01:35 INFO mlflow.store.model_registry.abstract_store: Waiting up to 300 seconds for model version to finish creation. Model name: GARCH(1,1)_5yrFit, version 104\n",
      "Created version '104' of model 'GARCH(1,1)_5yrFit'.\n"
     ]
    },
    {
     "name": "stdout",
     "output_type": "stream",
     "text": [
      "⏭️  Skipping 2025-03-29: no exact curve_date in pivot\n",
      "🏃 View run IR_2025-03-20 at: http://127.0.0.1:8768/#/experiments/1553/runs/e60b3b60d18e491a8b3d2f20d01b4db6\n",
      "🧪 View experiment at: http://127.0.0.1:8768/#/experiments/1553\n",
      "⏭️  Skipping 2025-03-30: no exact curve_date in pivot\n"
     ]
    },
    {
     "name": "stderr",
     "output_type": "stream",
     "text": [
      "2025/06/23 21:01:38 INFO mlflow.models.model: Found the following environment variables used during model inference: [DOMINO_USER_API_KEY]. Please check if you need to set them when deploying the model. To disable this message, set environment variable `MLFLOW_RECORD_ENV_VARS_IN_MODEL_LOGGING` to `false`.\n"
     ]
    },
    {
     "name": "stdout",
     "output_type": "stream",
     "text": [
      "using model: GARCH(1,1)_5yrFit\n"
     ]
    },
    {
     "name": "stderr",
     "output_type": "stream",
     "text": [
      "Registered model 'GARCH(1,1)_5yrFit' already exists. Creating a new version of this model...\n",
      "2025/06/23 21:01:41 INFO mlflow.store.model_registry.abstract_store: Waiting up to 300 seconds for model version to finish creation. Model name: GARCH(1,1)_5yrFit, version 105\n",
      "Created version '105' of model 'GARCH(1,1)_5yrFit'.\n"
     ]
    },
    {
     "name": "stdout",
     "output_type": "stream",
     "text": [
      "🏃 View run IR_2025-03-21 at: http://127.0.0.1:8768/#/experiments/1553/runs/74adcd6c000147ca93a62c268c0fa593\n",
      "🧪 View experiment at: http://127.0.0.1:8768/#/experiments/1553\n"
     ]
    },
    {
     "name": "stderr",
     "output_type": "stream",
     "text": [
      "Registered model 'GARCH(1,1)_5yrFit' already exists. Creating a new version of this model...\n",
      "2025/06/23 21:01:44 INFO mlflow.store.model_registry.abstract_store: Waiting up to 300 seconds for model version to finish creation. Model name: GARCH(1,1)_5yrFit, version 106\n",
      "Created version '106' of model 'GARCH(1,1)_5yrFit'.\n",
      "2025/06/23 21:01:44 INFO mlflow.models.model: Found the following environment variables used during model inference: [DOMINO_USER_API_KEY]. Please check if you need to set them when deploying the model. To disable this message, set environment variable `MLFLOW_RECORD_ENV_VARS_IN_MODEL_LOGGING` to `false`.\n"
     ]
    },
    {
     "name": "stdout",
     "output_type": "stream",
     "text": [
      "🏃 View run IR_2025-03-24 at: http://127.0.0.1:8768/#/experiments/1553/runs/98b9aeb298aa4f6591ee5841151f3503\n",
      "🧪 View experiment at: http://127.0.0.1:8768/#/experiments/1553\n"
     ]
    },
    {
     "name": "stderr",
     "output_type": "stream",
     "text": [
      "Registered model 'GARCH(1,1)_5yrFit' already exists. Creating a new version of this model...\n",
      "2025/06/23 21:01:48 INFO mlflow.store.model_registry.abstract_store: Waiting up to 300 seconds for model version to finish creation. Model name: GARCH(1,1)_5yrFit, version 107\n",
      "Created version '107' of model 'GARCH(1,1)_5yrFit'.\n"
     ]
    },
    {
     "name": "stdout",
     "output_type": "stream",
     "text": [
      "🏃 View run IR_2025-03-13 at: http://127.0.0.1:8768/#/experiments/1553/runs/971fa8e0de7646cfb19ecaa760e79811\n",
      "🧪 View experiment at: http://127.0.0.1:8768/#/experiments/1553\n",
      "using model: GARCH(1,1)_5yrFit\n"
     ]
    },
    {
     "name": "stderr",
     "output_type": "stream",
     "text": [
      "Registered model 'GARCH(1,1)_5yrFit' already exists. Creating a new version of this model...\n",
      "Registered model 'GARCH(1,1)_5yrFit' already exists. Creating a new version of this model...\n",
      "2025/06/23 21:02:01 INFO mlflow.store.model_registry.abstract_store: Waiting up to 300 seconds for model version to finish creation. Model name: GARCH(1,1)_5yrFit, version 108\n",
      "Created version '108' of model 'GARCH(1,1)_5yrFit'.\n",
      "2025/06/23 21:02:01 INFO mlflow.store.model_registry.abstract_store: Waiting up to 300 seconds for model version to finish creation. Model name: GARCH(1,1)_5yrFit, version 109\n",
      "Created version '109' of model 'GARCH(1,1)_5yrFit'.\n"
     ]
    },
    {
     "name": "stdout",
     "output_type": "stream",
     "text": [
      "🏃 View run IR_2025-03-14 at: http://127.0.0.1:8768/#/experiments/1553/runs/73269f703481457987a0097b3747ca1f\n",
      "🧪 View experiment at: http://127.0.0.1:8768/#/experiments/1553\n",
      "🏃 View run IR_2025-03-25 at: http://127.0.0.1:8768/#/experiments/1553/runs/518265eeddb54acb8be869012297c9bd\n",
      "🧪 View experiment at: http://127.0.0.1:8768/#/experiments/1553\n",
      "using model: GARCH(1,1)_5yrFit\n"
     ]
    },
    {
     "name": "stderr",
     "output_type": "stream",
     "text": [
      "Registered model 'GARCH(1,1)_5yrFit' already exists. Creating a new version of this model...\n",
      "2025/06/23 21:02:07 INFO mlflow.store.model_registry.abstract_store: Waiting up to 300 seconds for model version to finish creation. Model name: GARCH(1,1)_5yrFit, version 110\n",
      "Created version '110' of model 'GARCH(1,1)_5yrFit'.\n",
      "2025/06/23 21:02:07 INFO mlflow.models.model: Found the following environment variables used during model inference: [DOMINO_USER_API_KEY]. Please check if you need to set them when deploying the model. To disable this message, set environment variable `MLFLOW_RECORD_ENV_VARS_IN_MODEL_LOGGING` to `false`.\n"
     ]
    },
    {
     "name": "stdout",
     "output_type": "stream",
     "text": [
      "🏃 View run IR_2025-03-26 at: http://127.0.0.1:8768/#/experiments/1553/runs/3d27dda0d5814f8f92bfb8ba60bbf5ee\n",
      "🧪 View experiment at: http://127.0.0.1:8768/#/experiments/1553\n"
     ]
    },
    {
     "name": "stderr",
     "output_type": "stream",
     "text": [
      "Registered model 'GARCH(1,1)_5yrFit' already exists. Creating a new version of this model...\n",
      "Registered model 'GARCH(1,1)_5yrFit' already exists. Creating a new version of this model...\n",
      "2025/06/23 21:02:13 INFO mlflow.store.model_registry.abstract_store: Waiting up to 300 seconds for model version to finish creation. Model name: GARCH(1,1)_5yrFit, version 111\n",
      "Created version '111' of model 'GARCH(1,1)_5yrFit'.\n",
      "2025/06/23 21:02:13 INFO mlflow.store.model_registry.abstract_store: Waiting up to 300 seconds for model version to finish creation. Model name: GARCH(1,1)_5yrFit, version 112\n",
      "Created version '112' of model 'GARCH(1,1)_5yrFit'.\n",
      "2025/06/23 21:02:14 INFO mlflow.models.model: Found the following environment variables used during model inference: [DOMINO_USER_API_KEY]. Please check if you need to set them when deploying the model. To disable this message, set environment variable `MLFLOW_RECORD_ENV_VARS_IN_MODEL_LOGGING` to `false`.\n"
     ]
    },
    {
     "name": "stdout",
     "output_type": "stream",
     "text": [
      "🏃 View run IR_2025-03-27 at: http://127.0.0.1:8768/#/experiments/1553/runs/3aee7a3ff4da4b16814b138bd1d46bc4\n",
      "🧪 View experiment at: http://127.0.0.1:8768/#/experiments/1553\n",
      "🏃 View run IR_2025-03-19 at: http://127.0.0.1:8768/#/experiments/1553/runs/d0d56cd248ef468a91b3d9981486f334\n",
      "🧪 View experiment at: http://127.0.0.1:8768/#/experiments/1553\n",
      "using model: GARCH(1,1)_5yrFit\n"
     ]
    },
    {
     "name": "stderr",
     "output_type": "stream",
     "text": [
      "Registered model 'GARCH(1,1)_5yrFit' already exists. Creating a new version of this model...\n",
      "2025/06/23 21:02:18 INFO mlflow.store.model_registry.abstract_store: Waiting up to 300 seconds for model version to finish creation. Model name: GARCH(1,1)_5yrFit, version 113\n",
      "Created version '113' of model 'GARCH(1,1)_5yrFit'.\n"
     ]
    },
    {
     "name": "stdout",
     "output_type": "stream",
     "text": [
      "🏃 View run IR_2025-03-17 at: http://127.0.0.1:8768/#/experiments/1553/runs/f5ba69d4fa574aefb10e592d83489699\n",
      "🧪 View experiment at: http://127.0.0.1:8768/#/experiments/1553\n"
     ]
    },
    {
     "name": "stderr",
     "output_type": "stream",
     "text": [
      "Registered model 'GARCH(1,1)_5yrFit' already exists. Creating a new version of this model...\n"
     ]
    },
    {
     "name": "stdout",
     "output_type": "stream",
     "text": [
      "using model: GARCH(1,1)_5yrFit\n"
     ]
    },
    {
     "name": "stderr",
     "output_type": "stream",
     "text": [
      "2025/06/23 21:02:20 INFO mlflow.store.model_registry.abstract_store: Waiting up to 300 seconds for model version to finish creation. Model name: GARCH(1,1)_5yrFit, version 114\n",
      "Created version '114' of model 'GARCH(1,1)_5yrFit'.\n"
     ]
    },
    {
     "name": "stdout",
     "output_type": "stream",
     "text": [
      "🏃 View run IR_2025-03-18 at: http://127.0.0.1:8768/#/experiments/1553/runs/f2c44a5bab334fb298c4b10c496839f9\n",
      "🧪 View experiment at: http://127.0.0.1:8768/#/experiments/1553\n"
     ]
    },
    {
     "name": "stderr",
     "output_type": "stream",
     "text": [
      "Registered model 'GARCH(1,1)_5yrFit' already exists. Creating a new version of this model...\n"
     ]
    },
    {
     "name": "stdout",
     "output_type": "stream",
     "text": [
      "⏭️  Skipping 2025-04-05: no exact curve_date in pivot\n"
     ]
    },
    {
     "name": "stderr",
     "output_type": "stream",
     "text": [
      "2025/06/23 21:02:23 INFO mlflow.store.model_registry.abstract_store: Waiting up to 300 seconds for model version to finish creation. Model name: GARCH(1,1)_5yrFit, version 115\n",
      "Created version '115' of model 'GARCH(1,1)_5yrFit'.\n"
     ]
    },
    {
     "name": "stdout",
     "output_type": "stream",
     "text": [
      "🏃 View run IR_2025-03-31 at: http://127.0.0.1:8768/#/experiments/1553/runs/31c3b9e139834f5686a332368d321268\n",
      "🧪 View experiment at: http://127.0.0.1:8768/#/experiments/1553\n"
     ]
    },
    {
     "name": "stderr",
     "output_type": "stream",
     "text": [
      "2025/06/23 21:02:25 INFO mlflow.models.model: Found the following environment variables used during model inference: [DOMINO_USER_API_KEY]. Please check if you need to set them when deploying the model. To disable this message, set environment variable `MLFLOW_RECORD_ENV_VARS_IN_MODEL_LOGGING` to `false`.\n"
     ]
    },
    {
     "name": "stdout",
     "output_type": "stream",
     "text": [
      "⏭️  Skipping 2025-04-06: no exact curve_date in pivot\n",
      "using model: GARCH(1,1)_5yrFit\n"
     ]
    },
    {
     "name": "stderr",
     "output_type": "stream",
     "text": [
      "Registered model 'GARCH(1,1)_5yrFit' already exists. Creating a new version of this model...\n",
      "2025/06/23 21:02:29 INFO mlflow.store.model_registry.abstract_store: Waiting up to 300 seconds for model version to finish creation. Model name: GARCH(1,1)_5yrFit, version 116\n",
      "Created version '116' of model 'GARCH(1,1)_5yrFit'.\n"
     ]
    },
    {
     "name": "stdout",
     "output_type": "stream",
     "text": [
      "🏃 View run IR_2025-03-20 at: http://127.0.0.1:8768/#/experiments/1553/runs/8542945da31a4f719443c98b432c3d36\n",
      "🧪 View experiment at: http://127.0.0.1:8768/#/experiments/1553\n",
      "using model: GARCH(1,1)_5yrFit\n"
     ]
    },
    {
     "name": "stderr",
     "output_type": "stream",
     "text": [
      "2025/06/23 21:02:32 INFO mlflow.models.model: Found the following environment variables used during model inference: [DOMINO_USER_API_KEY]. Please check if you need to set them when deploying the model. To disable this message, set environment variable `MLFLOW_RECORD_ENV_VARS_IN_MODEL_LOGGING` to `false`.\n",
      "Registered model 'GARCH(1,1)_5yrFit' already exists. Creating a new version of this model...\n",
      "2025/06/23 21:02:33 INFO mlflow.store.model_registry.abstract_store: Waiting up to 300 seconds for model version to finish creation. Model name: GARCH(1,1)_5yrFit, version 117\n",
      "Created version '117' of model 'GARCH(1,1)_5yrFit'.\n"
     ]
    },
    {
     "name": "stdout",
     "output_type": "stream",
     "text": [
      "🏃 View run IR_2025-03-24 at: http://127.0.0.1:8768/#/experiments/1553/runs/c1fc144241e347d4a7229dc22e010574\n",
      "🧪 View experiment at: http://127.0.0.1:8768/#/experiments/1553\n"
     ]
    },
    {
     "name": "stderr",
     "output_type": "stream",
     "text": [
      "Registered model 'GARCH(1,1)_5yrFit' already exists. Creating a new version of this model...\n"
     ]
    },
    {
     "name": "stdout",
     "output_type": "stream",
     "text": [
      "using model: GARCH(1,1)_5yrFit\n"
     ]
    },
    {
     "name": "stderr",
     "output_type": "stream",
     "text": [
      "2025/06/23 21:02:35 INFO mlflow.store.model_registry.abstract_store: Waiting up to 300 seconds for model version to finish creation. Model name: GARCH(1,1)_5yrFit, version 118\n",
      "Created version '118' of model 'GARCH(1,1)_5yrFit'.\n"
     ]
    },
    {
     "name": "stdout",
     "output_type": "stream",
     "text": [
      "🏃 View run IR_2025-03-21 at: http://127.0.0.1:8768/#/experiments/1553/runs/800be8c7c0ca4fa4a558c98486634907\n",
      "🧪 View experiment at: http://127.0.0.1:8768/#/experiments/1553\n",
      "using model: GARCH(1,1)_5yrFit\n"
     ]
    },
    {
     "name": "stderr",
     "output_type": "stream",
     "text": [
      "2025/06/23 21:02:38 INFO mlflow.models.model: Found the following environment variables used during model inference: [DOMINO_USER_API_KEY]. Please check if you need to set them when deploying the model. To disable this message, set environment variable `MLFLOW_RECORD_ENV_VARS_IN_MODEL_LOGGING` to `false`.\n",
      "Registered model 'GARCH(1,1)_5yrFit' already exists. Creating a new version of this model...\n",
      "2025/06/23 21:02:42 INFO mlflow.store.model_registry.abstract_store: Waiting up to 300 seconds for model version to finish creation. Model name: GARCH(1,1)_5yrFit, version 119\n",
      "Created version '119' of model 'GARCH(1,1)_5yrFit'.\n"
     ]
    },
    {
     "name": "stdout",
     "output_type": "stream",
     "text": [
      "🏃 View run IR_2025-04-02 at: http://127.0.0.1:8768/#/experiments/1553/runs/ef5bab0d46a74ed1ac837453c53657ef\n",
      "🧪 View experiment at: http://127.0.0.1:8768/#/experiments/1553\n"
     ]
    },
    {
     "name": "stderr",
     "output_type": "stream",
     "text": [
      "Registered model 'GARCH(1,1)_5yrFit' already exists. Creating a new version of this model...\n",
      "2025/06/23 21:02:46 INFO mlflow.store.model_registry.abstract_store: Waiting up to 300 seconds for model version to finish creation. Model name: GARCH(1,1)_5yrFit, version 120\n",
      "Created version '120' of model 'GARCH(1,1)_5yrFit'.\n"
     ]
    },
    {
     "name": "stdout",
     "output_type": "stream",
     "text": [
      "🏃 View run IR_2025-04-01 at: http://127.0.0.1:8768/#/experiments/1553/runs/73876387dea44bce82cb495658607e27\n",
      "🧪 View experiment at: http://127.0.0.1:8768/#/experiments/1553\n"
     ]
    },
    {
     "name": "stderr",
     "output_type": "stream",
     "text": [
      "Registered model 'GARCH(1,1)_5yrFit' already exists. Creating a new version of this model...\n",
      "2025/06/23 21:02:51 INFO mlflow.store.model_registry.abstract_store: Waiting up to 300 seconds for model version to finish creation. Model name: GARCH(1,1)_5yrFit, version 121\n",
      "Created version '121' of model 'GARCH(1,1)_5yrFit'.\n"
     ]
    },
    {
     "name": "stdout",
     "output_type": "stream",
     "text": [
      "🏃 View run IR_2025-03-25 at: http://127.0.0.1:8768/#/experiments/1553/runs/5fc971d0f2da4709a03b05cf79ce6b22\n",
      "🧪 View experiment at: http://127.0.0.1:8768/#/experiments/1553\n"
     ]
    },
    {
     "name": "stderr",
     "output_type": "stream",
     "text": [
      "2025/06/23 21:02:51 INFO mlflow.models.model: Found the following environment variables used during model inference: [DOMINO_USER_API_KEY]. Please check if you need to set them when deploying the model. To disable this message, set environment variable `MLFLOW_RECORD_ENV_VARS_IN_MODEL_LOGGING` to `false`.\n"
     ]
    },
    {
     "name": "stdout",
     "output_type": "stream",
     "text": [
      "using model: GARCH(1,1)_5yrFit\n"
     ]
    },
    {
     "name": "stderr",
     "output_type": "stream",
     "text": [
      "2025/06/23 21:02:56 INFO mlflow.models.model: Found the following environment variables used during model inference: [DOMINO_USER_API_KEY]. Please check if you need to set them when deploying the model. To disable this message, set environment variable `MLFLOW_RECORD_ENV_VARS_IN_MODEL_LOGGING` to `false`.\n",
      "Registered model 'GARCH(1,1)_5yrFit' already exists. Creating a new version of this model...\n",
      "2025/06/23 21:02:57 INFO mlflow.store.model_registry.abstract_store: Waiting up to 300 seconds for model version to finish creation. Model name: GARCH(1,1)_5yrFit, version 122\n",
      "Created version '122' of model 'GARCH(1,1)_5yrFit'.\n"
     ]
    },
    {
     "name": "stdout",
     "output_type": "stream",
     "text": [
      "🏃 View run IR_2025-04-03 at: http://127.0.0.1:8768/#/experiments/1553/runs/96eae35a6adf4aed88e7e70e44dcc686\n",
      "🧪 View experiment at: http://127.0.0.1:8768/#/experiments/1553\n"
     ]
    },
    {
     "name": "stderr",
     "output_type": "stream",
     "text": [
      "Registered model 'GARCH(1,1)_5yrFit' already exists. Creating a new version of this model...\n",
      "2025/06/23 21:03:01 INFO mlflow.store.model_registry.abstract_store: Waiting up to 300 seconds for model version to finish creation. Model name: GARCH(1,1)_5yrFit, version 123\n",
      "Created version '123' of model 'GARCH(1,1)_5yrFit'.\n"
     ]
    },
    {
     "name": "stdout",
     "output_type": "stream",
     "text": [
      "🏃 View run IR_2025-03-26 at: http://127.0.0.1:8768/#/experiments/1553/runs/cc6ddccaad0549009150dbb82407faa0\n",
      "🧪 View experiment at: http://127.0.0.1:8768/#/experiments/1553\n",
      "⏭️  Skipping 2025-04-12: no exact curve_date in pivot\n",
      "⏭️  Skipping 2025-04-13: no exact curve_date in pivot\n",
      "using model: GARCH(1,1)_5yrFit\n"
     ]
    },
    {
     "name": "stderr",
     "output_type": "stream",
     "text": [
      "2025/06/23 21:03:11 INFO mlflow.models.model: Found the following environment variables used during model inference: [DOMINO_USER_API_KEY]. Please check if you need to set them when deploying the model. To disable this message, set environment variable `MLFLOW_RECORD_ENV_VARS_IN_MODEL_LOGGING` to `false`.\n",
      "Registered model 'GARCH(1,1)_5yrFit' already exists. Creating a new version of this model...\n",
      "2025/06/23 21:03:14 INFO mlflow.store.model_registry.abstract_store: Waiting up to 300 seconds for model version to finish creation. Model name: GARCH(1,1)_5yrFit, version 124\n",
      "Created version '124' of model 'GARCH(1,1)_5yrFit'.\n"
     ]
    },
    {
     "name": "stdout",
     "output_type": "stream",
     "text": [
      "🏃 View run IR_2025-03-27 at: http://127.0.0.1:8768/#/experiments/1553/runs/e064e686155c459a88012483dcdd9996\n",
      "🧪 View experiment at: http://127.0.0.1:8768/#/experiments/1553\n",
      "using model: GARCH(1,1)_5yrFit\n"
     ]
    },
    {
     "name": "stderr",
     "output_type": "stream",
     "text": [
      "Registered model 'GARCH(1,1)_5yrFit' already exists. Creating a new version of this model...\n",
      "Registered model 'GARCH(1,1)_5yrFit' already exists. Creating a new version of this model...\n",
      "2025/06/23 21:03:23 INFO mlflow.store.model_registry.abstract_store: Waiting up to 300 seconds for model version to finish creation. Model name: GARCH(1,1)_5yrFit, version 125\n",
      "Created version '125' of model 'GARCH(1,1)_5yrFit'.\n",
      "2025/06/23 21:03:24 INFO mlflow.store.model_registry.abstract_store: Waiting up to 300 seconds for model version to finish creation. Model name: GARCH(1,1)_5yrFit, version 126\n",
      "Created version '126' of model 'GARCH(1,1)_5yrFit'.\n"
     ]
    },
    {
     "name": "stdout",
     "output_type": "stream",
     "text": [
      "🏃 View run IR_2025-03-31 at: http://127.0.0.1:8768/#/experiments/1553/runs/9e496e58da134ea29be8e34428e89adc\n",
      "🧪 View experiment at: http://127.0.0.1:8768/#/experiments/1553\n"
     ]
    },
    {
     "name": "stderr",
     "output_type": "stream",
     "text": [
      "2025/06/23 21:03:24 INFO mlflow.models.model: Found the following environment variables used during model inference: [DOMINO_USER_API_KEY]. Please check if you need to set them when deploying the model. To disable this message, set environment variable `MLFLOW_RECORD_ENV_VARS_IN_MODEL_LOGGING` to `false`.\n"
     ]
    },
    {
     "name": "stdout",
     "output_type": "stream",
     "text": [
      "🏃 View run IR_2025-04-04 at: http://127.0.0.1:8768/#/experiments/1553/runs/0abe807b37e140e4a925ebfe9c61f563\n",
      "🧪 View experiment at: http://127.0.0.1:8768/#/experiments/1553\n",
      "using model: GARCH(1,1)_5yrFit\n"
     ]
    },
    {
     "name": "stderr",
     "output_type": "stream",
     "text": [
      "Registered model 'GARCH(1,1)_5yrFit' already exists. Creating a new version of this model...\n",
      "Registered model 'GARCH(1,1)_5yrFit' already exists. Creating a new version of this model...\n",
      "2025/06/23 21:03:26 INFO mlflow.store.model_registry.abstract_store: Waiting up to 300 seconds for model version to finish creation. Model name: GARCH(1,1)_5yrFit, version 127\n",
      "Created version '127' of model 'GARCH(1,1)_5yrFit'.\n"
     ]
    },
    {
     "name": "stdout",
     "output_type": "stream",
     "text": [
      "🏃 View run IR_2025-04-07 at: http://127.0.0.1:8768/#/experiments/1553/runs/8ff3c6b021584f3786d038cd66a61a8b\n",
      "🧪 View experiment at: http://127.0.0.1:8768/#/experiments/1553\n"
     ]
    },
    {
     "name": "stderr",
     "output_type": "stream",
     "text": [
      "2025/06/23 21:03:27 INFO mlflow.store.model_registry.abstract_store: Waiting up to 300 seconds for model version to finish creation. Model name: GARCH(1,1)_5yrFit, version 128\n",
      "Created version '128' of model 'GARCH(1,1)_5yrFit'.\n",
      "Registered model 'GARCH(1,1)_5yrFit' already exists. Creating a new version of this model...\n",
      "2025/06/23 21:03:29 INFO mlflow.models.model: Found the following environment variables used during model inference: [DOMINO_USER_API_KEY]. Please check if you need to set them when deploying the model. To disable this message, set environment variable `MLFLOW_RECORD_ENV_VARS_IN_MODEL_LOGGING` to `false`.\n"
     ]
    },
    {
     "name": "stdout",
     "output_type": "stream",
     "text": [
      "🏃 View run IR_2025-04-09 at: http://127.0.0.1:8768/#/experiments/1553/runs/e4c93c5f75884f0ea4fce02aeda72637\n",
      "🧪 View experiment at: http://127.0.0.1:8768/#/experiments/1553\n"
     ]
    },
    {
     "name": "stderr",
     "output_type": "stream",
     "text": [
      "2025/06/23 21:03:30 INFO mlflow.store.model_registry.abstract_store: Waiting up to 300 seconds for model version to finish creation. Model name: GARCH(1,1)_5yrFit, version 129\n",
      "Created version '129' of model 'GARCH(1,1)_5yrFit'.\n"
     ]
    },
    {
     "name": "stdout",
     "output_type": "stream",
     "text": [
      "🏃 View run IR_2025-04-08 at: http://127.0.0.1:8768/#/experiments/1553/runs/a94ebfa9f08242ee881df03089ea2db2\n",
      "🧪 View experiment at: http://127.0.0.1:8768/#/experiments/1553\n"
     ]
    },
    {
     "name": "stderr",
     "output_type": "stream",
     "text": [
      "Registered model 'GARCH(1,1)_5yrFit' already exists. Creating a new version of this model...\n",
      "2025/06/23 21:03:33 INFO mlflow.store.model_registry.abstract_store: Waiting up to 300 seconds for model version to finish creation. Model name: GARCH(1,1)_5yrFit, version 130\n",
      "Created version '130' of model 'GARCH(1,1)_5yrFit'.\n"
     ]
    },
    {
     "name": "stdout",
     "output_type": "stream",
     "text": [
      "🏃 View run IR_2025-04-02 at: http://127.0.0.1:8768/#/experiments/1553/runs/40c9251ef0324062a198eec1f2467555\n",
      "🧪 View experiment at: http://127.0.0.1:8768/#/experiments/1553\n",
      "using model: GARCH(1,1)_5yrFit\n"
     ]
    },
    {
     "name": "stderr",
     "output_type": "stream",
     "text": [
      "Registered model 'GARCH(1,1)_5yrFit' already exists. Creating a new version of this model...\n",
      "2025/06/23 21:03:36 INFO mlflow.store.model_registry.abstract_store: Waiting up to 300 seconds for model version to finish creation. Model name: GARCH(1,1)_5yrFit, version 131\n",
      "Created version '131' of model 'GARCH(1,1)_5yrFit'.\n",
      "Registered model 'GARCH(1,1)_5yrFit' already exists. Creating a new version of this model...\n"
     ]
    },
    {
     "name": "stdout",
     "output_type": "stream",
     "text": [
      "🏃 View run IR_2025-04-10 at: http://127.0.0.1:8768/#/experiments/1553/runs/10a92948fe454179a3f9ba75630c2367\n",
      "🧪 View experiment at: http://127.0.0.1:8768/#/experiments/1553\n"
     ]
    },
    {
     "name": "stderr",
     "output_type": "stream",
     "text": [
      "2025/06/23 21:03:37 INFO mlflow.store.model_registry.abstract_store: Waiting up to 300 seconds for model version to finish creation. Model name: GARCH(1,1)_5yrFit, version 132\n",
      "Created version '132' of model 'GARCH(1,1)_5yrFit'.\n"
     ]
    },
    {
     "name": "stdout",
     "output_type": "stream",
     "text": [
      "🏃 View run IR_2025-04-01 at: http://127.0.0.1:8768/#/experiments/1553/runs/c6e3c3a778804a39b32420bb58219dd6\n",
      "🧪 View experiment at: http://127.0.0.1:8768/#/experiments/1553\n",
      "⏭️  Skipping 2025-04-18: no exact curve_date in pivot\n",
      "⏭️  Skipping 2025-04-19: no exact curve_date in pivot\n",
      "⏭️  Skipping 2025-04-20: no exact curve_date in pivot\n",
      "using model: GARCH(1,1)_5yrFit\n"
     ]
    },
    {
     "name": "stderr",
     "output_type": "stream",
     "text": [
      "2025/06/23 21:03:49 INFO mlflow.models.model: Found the following environment variables used during model inference: [DOMINO_USER_API_KEY]. Please check if you need to set them when deploying the model. To disable this message, set environment variable `MLFLOW_RECORD_ENV_VARS_IN_MODEL_LOGGING` to `false`.\n",
      "Registered model 'GARCH(1,1)_5yrFit' already exists. Creating a new version of this model...\n",
      "2025/06/23 21:03:52 INFO mlflow.store.model_registry.abstract_store: Waiting up to 300 seconds for model version to finish creation. Model name: GARCH(1,1)_5yrFit, version 133\n",
      "Created version '133' of model 'GARCH(1,1)_5yrFit'.2025/06/23 21:03:52 INFO mlflow.models.model: Found the following environment variables used during model inference: [DOMINO_USER_API_KEY]. Please check if you need to set them when deploying the model. To disable this message, set environment variable `MLFLOW_RECORD_ENV_VARS_IN_MODEL_LOGGING` to `false`.\n",
      "\n"
     ]
    },
    {
     "name": "stdout",
     "output_type": "stream",
     "text": [
      "🏃 View run IR_2025-04-11 at: http://127.0.0.1:8768/#/experiments/1553/runs/30ee1fc91caa4f3883ef1923af068d79\n",
      "🧪 View experiment at: http://127.0.0.1:8768/#/experiments/1553\n"
     ]
    },
    {
     "name": "stderr",
     "output_type": "stream",
     "text": [
      "Registered model 'GARCH(1,1)_5yrFit' already exists. Creating a new version of this model...\n",
      "2025/06/23 21:03:56 INFO mlflow.store.model_registry.abstract_store: Waiting up to 300 seconds for model version to finish creation. Model name: GARCH(1,1)_5yrFit, version 134\n",
      "Created version '134' of model 'GARCH(1,1)_5yrFit'.\n"
     ]
    },
    {
     "name": "stdout",
     "output_type": "stream",
     "text": [
      "🏃 View run IR_2025-04-03 at: http://127.0.0.1:8768/#/experiments/1553/runs/6575beb9540448fcbe97c5e922407005\n",
      "🧪 View experiment at: http://127.0.0.1:8768/#/experiments/1553\n",
      "using model: GARCH(1,1)_5yrFit\n"
     ]
    },
    {
     "name": "stderr",
     "output_type": "stream",
     "text": [
      "Registered model 'GARCH(1,1)_5yrFit' already exists. Creating a new version of this model...\n",
      "2025/06/23 21:04:03 INFO mlflow.store.model_registry.abstract_store: Waiting up to 300 seconds for model version to finish creation. Model name: GARCH(1,1)_5yrFit, version 135\n",
      "Created version '135' of model 'GARCH(1,1)_5yrFit'.\n",
      "Registered model 'GARCH(1,1)_5yrFit' already exists. Creating a new version of this model...\n",
      "2025/06/23 21:04:04 INFO mlflow.store.model_registry.abstract_store: Waiting up to 300 seconds for model version to finish creation. Model name: GARCH(1,1)_5yrFit, version 136\n"
     ]
    },
    {
     "name": "stdout",
     "output_type": "stream",
     "text": [
      "🏃 View run IR_2025-04-15 at: http://127.0.0.1:8768/#/experiments/1553/runs/fb591514d0cc476eac2c7546ee2ede4b\n",
      "🧪 View experiment at: http://127.0.0.1:8768/#/experiments/1553\n"
     ]
    },
    {
     "name": "stderr",
     "output_type": "stream",
     "text": [
      "Created version '136' of model 'GARCH(1,1)_5yrFit'.\n"
     ]
    },
    {
     "name": "stdout",
     "output_type": "stream",
     "text": [
      "🏃 View run IR_2025-04-14 at: http://127.0.0.1:8768/#/experiments/1553/runs/6b3dca3988e540f388685411e2541ca5\n",
      "🧪 View experiment at: http://127.0.0.1:8768/#/experiments/1553\n"
     ]
    },
    {
     "name": "stderr",
     "output_type": "stream",
     "text": [
      "2025/06/23 21:04:08 INFO mlflow.models.model: Found the following environment variables used during model inference: [DOMINO_USER_API_KEY]. Please check if you need to set them when deploying the model. To disable this message, set environment variable `MLFLOW_RECORD_ENV_VARS_IN_MODEL_LOGGING` to `false`.\n",
      "Registered model 'GARCH(1,1)_5yrFit' already exists. Creating a new version of this model...\n",
      "2025/06/23 21:04:12 INFO mlflow.store.model_registry.abstract_store: Waiting up to 300 seconds for model version to finish creation. Model name: GARCH(1,1)_5yrFit, version 137\n",
      "Created version '137' of model 'GARCH(1,1)_5yrFit'.\n"
     ]
    },
    {
     "name": "stdout",
     "output_type": "stream",
     "text": [
      "🏃 View run IR_2025-04-04 at: http://127.0.0.1:8768/#/experiments/1553/runs/7feb70de163645fea5a4e62cf8717e88\n",
      "🧪 View experiment at: http://127.0.0.1:8768/#/experiments/1553\n",
      "using model: GARCH(1,1)_5yrFit\n"
     ]
    },
    {
     "name": "stderr",
     "output_type": "stream",
     "text": [
      "Registered model 'GARCH(1,1)_5yrFit' already exists. Creating a new version of this model...\n",
      "2025/06/23 21:04:17 INFO mlflow.store.model_registry.abstract_store: Waiting up to 300 seconds for model version to finish creation. Model name: GARCH(1,1)_5yrFit, version 138\n",
      "Created version '138' of model 'GARCH(1,1)_5yrFit'.\n"
     ]
    },
    {
     "name": "stdout",
     "output_type": "stream",
     "text": [
      "🏃 View run IR_2025-04-16 at: http://127.0.0.1:8768/#/experiments/1553/runs/2b9fbcee08c348d19d845de3341893aa\n",
      "🧪 View experiment at: http://127.0.0.1:8768/#/experiments/1553\n"
     ]
    },
    {
     "name": "stderr",
     "output_type": "stream",
     "text": [
      "Registered model 'GARCH(1,1)_5yrFit' already exists. Creating a new version of this model...\n",
      "Registered model 'GARCH(1,1)_5yrFit' already exists. Creating a new version of this model...\n",
      "2025/06/23 21:04:19 INFO mlflow.store.model_registry.abstract_store: Waiting up to 300 seconds for model version to finish creation. Model name: GARCH(1,1)_5yrFit, version 139\n",
      "Created version '139' of model 'GARCH(1,1)_5yrFit'.\n",
      "2025/06/23 21:04:19 INFO mlflow.store.model_registry.abstract_store: Waiting up to 300 seconds for model version to finish creation. Model name: GARCH(1,1)_5yrFit, version 140\n",
      "Created version '140' of model 'GARCH(1,1)_5yrFit'.\n"
     ]
    },
    {
     "name": "stdout",
     "output_type": "stream",
     "text": [
      "🏃 View run IR_2025-04-07 at: http://127.0.0.1:8768/#/experiments/1553/runs/920f98dfb1494ee6ab5d3c111155fc5e\n",
      "🧪 View experiment at: http://127.0.0.1:8768/#/experiments/1553\n",
      "🏃 View run IR_2025-04-08 at: http://127.0.0.1:8768/#/experiments/1553/runs/b91b10061e6241559ebd94086677ff8c\n",
      "🧪 View experiment at: http://127.0.0.1:8768/#/experiments/1553\n"
     ]
    },
    {
     "name": "stderr",
     "output_type": "stream",
     "text": [
      "Registered model 'GARCH(1,1)_5yrFit' already exists. Creating a new version of this model...\n",
      "Registered model 'GARCH(1,1)_5yrFit' already exists. Creating a new version of this model...\n",
      "2025/06/23 21:04:21 INFO mlflow.store.model_registry.abstract_store: Waiting up to 300 seconds for model version to finish creation. Model name: GARCH(1,1)_5yrFit, version 141\n",
      "Created version '141' of model 'GARCH(1,1)_5yrFit'.\n"
     ]
    },
    {
     "name": "stdout",
     "output_type": "stream",
     "text": [
      "using model: GARCH(1,1)_5yrFit\n",
      "using model: GARCH(1,1)_5yrFit\n"
     ]
    },
    {
     "name": "stderr",
     "output_type": "stream",
     "text": [
      "2025/06/23 21:04:23 INFO mlflow.store.model_registry.abstract_store: Waiting up to 300 seconds for model version to finish creation. Model name: GARCH(1,1)_5yrFit, version 142\n",
      "Created version '142' of model 'GARCH(1,1)_5yrFit'.\n"
     ]
    },
    {
     "name": "stdout",
     "output_type": "stream",
     "text": [
      "🏃 View run IR_2025-04-09 at: http://127.0.0.1:8768/#/experiments/1553/runs/5a4cee3a28624d98a07d1505f34730b7\n",
      "🧪 View experiment at: http://127.0.0.1:8768/#/experiments/1553\n"
     ]
    },
    {
     "name": "stderr",
     "output_type": "stream",
     "text": [
      "Registered model 'GARCH(1,1)_5yrFit' already exists. Creating a new version of this model...\n"
     ]
    },
    {
     "name": "stdout",
     "output_type": "stream",
     "text": [
      "🏃 View run IR_2025-04-17 at: http://127.0.0.1:8768/#/experiments/1553/runs/ed176e6f91a14ed4ab488da153000117\n",
      "🧪 View experiment at: http://127.0.0.1:8768/#/experiments/1553\n",
      "⏭️  Skipping 2025-04-26: no exact curve_date in pivot\n"
     ]
    },
    {
     "name": "stderr",
     "output_type": "stream",
     "text": [
      "2025/06/23 21:04:31 INFO mlflow.store.model_registry.abstract_store: Waiting up to 300 seconds for model version to finish creation. Model name: GARCH(1,1)_5yrFit, version 143\n",
      "Created version '143' of model 'GARCH(1,1)_5yrFit'.\n"
     ]
    },
    {
     "name": "stdout",
     "output_type": "stream",
     "text": [
      "⏭️  Skipping 2025-04-27: no exact curve_date in pivot\n",
      "🏃 View run IR_2025-04-10 at: http://127.0.0.1:8768/#/experiments/1553/runs/dfa077e11afe47a1bf216a1a06fa3cdd\n",
      "🧪 View experiment at: http://127.0.0.1:8768/#/experiments/1553\n",
      "using model: GARCH(1,1)_5yrFit\n",
      "using model: GARCH(1,1)_5yrFit\n"
     ]
    },
    {
     "name": "stderr",
     "output_type": "stream",
     "text": [
      "Registered model 'GARCH(1,1)_5yrFit' already exists. Creating a new version of this model...\n",
      "2025/06/23 21:04:58 INFO mlflow.store.model_registry.abstract_store: Waiting up to 300 seconds for model version to finish creation. Model name: GARCH(1,1)_5yrFit, version 144\n",
      "Created version '144' of model 'GARCH(1,1)_5yrFit'.\n",
      "Registered model 'GARCH(1,1)_5yrFit' already exists. Creating a new version of this model...\n",
      "Registered model 'GARCH(1,1)_5yrFit' already exists. Creating a new version of this model...\n"
     ]
    },
    {
     "name": "stdout",
     "output_type": "stream",
     "text": [
      "🏃 View run IR_2025-04-11 at: http://127.0.0.1:8768/#/experiments/1553/runs/794d6878f2ea4938ae87dd391ca0728c\n",
      "🧪 View experiment at: http://127.0.0.1:8768/#/experiments/1553\n"
     ]
    },
    {
     "name": "stderr",
     "output_type": "stream",
     "text": [
      "2025/06/23 21:04:59 INFO mlflow.store.model_registry.abstract_store: Waiting up to 300 seconds for model version to finish creation. Model name: GARCH(1,1)_5yrFit, version 145\n",
      "Created version '145' of model 'GARCH(1,1)_5yrFit'.\n",
      "2025/06/23 21:04:59 INFO mlflow.store.model_registry.abstract_store: Waiting up to 300 seconds for model version to finish creation. Model name: GARCH(1,1)_5yrFit, version 146\n",
      "Created version '146' of model 'GARCH(1,1)_5yrFit'.\n",
      "Registered model 'GARCH(1,1)_5yrFit' already exists. Creating a new version of this model...\n"
     ]
    },
    {
     "name": "stdout",
     "output_type": "stream",
     "text": [
      "using model: GARCH(1,1)_5yrFit\n",
      "🏃 View run IR_2025-04-15 at: http://127.0.0.1:8768/#/experiments/1553/runs/6900781254b14aca9c016a68adc283b1\n",
      "🧪 View experiment at: http://127.0.0.1:8768/#/experiments/1553\n",
      "🏃 View run IR_2025-04-21 at: http://127.0.0.1:8768/#/experiments/1553/runs/7f0b75d76f824ae2b0c8f19e7e89206a\n",
      "🧪 View experiment at: http://127.0.0.1:8768/#/experiments/1553\n"
     ]
    },
    {
     "name": "stderr",
     "output_type": "stream",
     "text": [
      "2025/06/23 21:05:01 INFO mlflow.store.model_registry.abstract_store: Waiting up to 300 seconds for model version to finish creation. Model name: GARCH(1,1)_5yrFit, version 147\n",
      "Created version '147' of model 'GARCH(1,1)_5yrFit'.\n",
      "Registered model 'GARCH(1,1)_5yrFit' already exists. Creating a new version of this model...\n"
     ]
    },
    {
     "name": "stdout",
     "output_type": "stream",
     "text": [
      "using model: GARCH(1,1)_5yrFit\n",
      "🏃 View run IR_2025-04-22 at: http://127.0.0.1:8768/#/experiments/1553/runs/6d47f8312d7649e5a63fd3fe3f4a887d\n",
      "🧪 View experiment at: http://127.0.0.1:8768/#/experiments/1553\n"
     ]
    },
    {
     "name": "stderr",
     "output_type": "stream",
     "text": [
      "Registered model 'GARCH(1,1)_5yrFit' already exists. Creating a new version of this model...\n",
      "2025/06/23 21:05:03 INFO mlflow.store.model_registry.abstract_store: Waiting up to 300 seconds for model version to finish creation. Model name: GARCH(1,1)_5yrFit, version 148\n",
      "Created version '148' of model 'GARCH(1,1)_5yrFit'.\n",
      "2025/06/23 21:05:04 INFO mlflow.store.model_registry.abstract_store: Waiting up to 300 seconds for model version to finish creation. Model name: GARCH(1,1)_5yrFit, version 149\n",
      "Created version '149' of model 'GARCH(1,1)_5yrFit'.\n"
     ]
    },
    {
     "name": "stdout",
     "output_type": "stream",
     "text": [
      "🏃 View run IR_2025-04-14 at: http://127.0.0.1:8768/#/experiments/1553/runs/41bde98791024892bf239047bddfb23c\n",
      "🧪 View experiment at: http://127.0.0.1:8768/#/experiments/1553\n",
      "🏃 View run IR_2025-04-16 at: http://127.0.0.1:8768/#/experiments/1553/runs/26452cd273cd41389cc080858ebd8667\n",
      "🧪 View experiment at: http://127.0.0.1:8768/#/experiments/1553\n"
     ]
    },
    {
     "name": "stderr",
     "output_type": "stream",
     "text": [
      "Registered model 'GARCH(1,1)_5yrFit' already exists. Creating a new version of this model...\n",
      "Registered model 'GARCH(1,1)_5yrFit' already exists. Creating a new version of this model...\n",
      "Registered model 'GARCH(1,1)_5yrFit' already exists. Creating a new version of this model...\n",
      "2025/06/23 21:05:06 INFO mlflow.store.model_registry.abstract_store: Waiting up to 300 seconds for model version to finish creation. Model name: GARCH(1,1)_5yrFit, version 150\n",
      "Created version '150' of model 'GARCH(1,1)_5yrFit'.\n",
      "2025/06/23 21:05:07 INFO mlflow.store.model_registry.abstract_store: Waiting up to 300 seconds for model version to finish creation. Model name: GARCH(1,1)_5yrFit, version 151\n",
      "Created version '151' of model 'GARCH(1,1)_5yrFit'.\n"
     ]
    },
    {
     "name": "stdout",
     "output_type": "stream",
     "text": [
      "⏭️  Skipping 2025-05-03: no exact curve_date in pivot\n",
      "using model: GARCH(1,1)_5yrFit\n",
      "🏃 View run IR_2025-04-25 at: http://127.0.0.1:8768/#/experiments/1553/runs/d73cae2432e440d19a6d00b13598ca43\n",
      "🧪 View experiment at: http://127.0.0.1:8768/#/experiments/1553\n"
     ]
    },
    {
     "name": "stderr",
     "output_type": "stream",
     "text": [
      "2025/06/23 21:05:08 INFO mlflow.store.model_registry.abstract_store: Waiting up to 300 seconds for model version to finish creation. Model name: GARCH(1,1)_5yrFit, version 152\n",
      "Created version '152' of model 'GARCH(1,1)_5yrFit'.\n"
     ]
    },
    {
     "name": "stdout",
     "output_type": "stream",
     "text": [
      "🏃 View run IR_2025-04-24 at: http://127.0.0.1:8768/#/experiments/1553/runs/5bdd73d01eca45c7af1576a2bb41115f\n",
      "🧪 View experiment at: http://127.0.0.1:8768/#/experiments/1553\n",
      "⏭️  Skipping 2025-05-04: no exact curve_date in pivot\n",
      "🏃 View run IR_2025-04-23 at: http://127.0.0.1:8768/#/experiments/1553/runs/a56ac4d1c4a44b3e9b8f8b9bb01fde64\n",
      "🧪 View experiment at: http://127.0.0.1:8768/#/experiments/1553\n",
      "using model: GARCH(1,1)_5yrFit\n"
     ]
    },
    {
     "name": "stderr",
     "output_type": "stream",
     "text": [
      "2025/06/23 21:05:21 INFO mlflow.models.model: Found the following environment variables used during model inference: [DOMINO_USER_API_KEY]. Please check if you need to set them when deploying the model. To disable this message, set environment variable `MLFLOW_RECORD_ENV_VARS_IN_MODEL_LOGGING` to `false`.\n",
      "Registered model 'GARCH(1,1)_5yrFit' already exists. Creating a new version of this model...\n",
      "2025/06/23 21:05:24 INFO mlflow.store.model_registry.abstract_store: Waiting up to 300 seconds for model version to finish creation. Model name: GARCH(1,1)_5yrFit, version 153\n",
      "Created version '153' of model 'GARCH(1,1)_5yrFit'.\n"
     ]
    },
    {
     "name": "stdout",
     "output_type": "stream",
     "text": [
      "🏃 View run IR_2025-04-17 at: http://127.0.0.1:8768/#/experiments/1553/runs/2641c7ea62964403891c3f6bbc77c95b\n",
      "🧪 View experiment at: http://127.0.0.1:8768/#/experiments/1553\n",
      "using model: GARCH(1,1)_5yrFit\n"
     ]
    }
   ],
   "source": [
    "import pandas as pd\n",
    "import numpy as np\n",
    "from datetime import datetime\n",
    "from dateutil.relativedelta import relativedelta\n",
    "import matplotlib.pyplot as plt\n",
    "from concurrent.futures import ThreadPoolExecutor, as_completed\n",
    "\n",
    "import mlflow\n",
    "from mlflow.tracking import MlflowClient\n",
    "from mlflow.models.signature import infer_signature\n",
    "import mlflow.sklearn\n",
    "\n",
    "from data.data_source import get_data_source\n",
    "from data.treasury_curve import get_yield_curve\n",
    "# from models.covariance.empirical_covariance import EmpiricalCovarianceModel as model_choice\n",
    "from models.covariance.garch import GARCHCovarianceModel as model_choice\n",
    "from config import env\n",
    "from utils.artifact_saver import get_artifact_path\n",
    "import math\n",
    "import warnings\n",
    "from arch.univariate.base import DataScaleWarning\n",
    "from sklearn.exceptions import ConvergenceWarning\n",
    "\n",
    "warnings.filterwarnings(\"ignore\", category=DataScaleWarning)\n",
    "warnings.filterwarnings(\"ignore\", category=ConvergenceWarning)\n",
    "\n",
    "# ─── CONFIG ─────────────────────────────────────────────────────────────────\n",
    "CURVE_TYPE        = \"US Treasury Par\"\n",
    "TENORS            = [1/12, 0.125, 2/12, 0.25, 4/12, 0.5, 1, 2, 3, 5, 7, 10, 20, 30]\n",
    "N_SIMS            = 1000\n",
    "MLFLOW_EXPERIMENT = \"IR Cone Fit betaExp\"\n",
    "backfill_DAYS     = 180       # how many days back to pull data\n",
    "MAX_WORKERS       = 12\n",
    "ds                = get_data_source()\n",
    "model_class = model_choice\n",
    "model_shortname = model_class.name\n",
    "\n",
    "\n",
    "def format_tenor(x):\n",
    "    total_months = round(x * 12 * 2) / 2\n",
    "    years = int(total_months // 12)\n",
    "    months = total_months - years * 12\n",
    "    parts = []\n",
    "    if years:\n",
    "        parts.append(f\"{years}Y\")\n",
    "    if months:\n",
    "        parts.append(f\"{months:.1f}M\" if not months.is_integer() else f\"{int(months)}M\")\n",
    "    return \"\".join(parts) or \"0M\"\n",
    "\n",
    "\n",
    "def batch_insert_rate_cones(records, batch_size=200):\n",
    "    total = 0\n",
    "    for i in range(0, len(records), batch_size):\n",
    "        batch = records[i : i + batch_size]\n",
    "        vals = \",\\n\".join(\n",
    "            f\"('{r['curve_type']}', {r['days_forward']:.1f}, '{r['curve_date']}', \"\n",
    "            f\"'{r['cone_type']}', '{r['tenor_str']}', {r['rate']:.8f}, {r['tenor_num']:.8f}, '{r['model_type']}')\"\n",
    "            for r in batch\n",
    "        )        \n",
    "        sql = f\"\"\"\n",
    "        INSERT INTO rate_cones\n",
    "          (curve_type, days_forward, curve_date, cone_type, tenor_str, rate, tenor_num, model_type)\n",
    "        VALUES {vals}\n",
    "        ON CONFLICT DO NOTHING;\n",
    "        \"\"\"\n",
    "        ds.query(sql)\n",
    "        total += len(batch)\n",
    "    return total\n",
    "\n",
    "\n",
    "def plot_ir_cones_matplotlib(base_curve: pd.Series, ir_cone_df: pd.DataFrame, days_forward: int, title: str = \"\"):\n",
    "    plt.figure(figsize=(10, 6))\n",
    "    sample_ids = np.random.choice(\n",
    "        ir_cone_df[\"sim_id\"].unique(),\n",
    "        size=min(100, ir_cone_df[\"sim_id\"].nunique()),\n",
    "        replace=False\n",
    "    )\n",
    "    for sim_id in sample_ids:\n",
    "        sim = ir_cone_df[ir_cone_df[\"sim_id\"] == sim_id]\n",
    "        plt.plot(sim[\"tenor_num\"], sim[\"rate_simulated\"], color=\"gray\", alpha=0.1)\n",
    "\n",
    "    plt.plot(base_curve.index, base_curve.values,\n",
    "             color=\"crimson\", linewidth=2.5, label=\"Base Curve\")\n",
    "    plt.xlabel(\"Tenor (years)\")\n",
    "    plt.ylabel(\"Yield (%)\")\n",
    "    plt.title(title or f\"{days_forward}-Day IR Cones ({N_SIMS} sims) on {base_curve.name}\")\n",
    "    plt.grid(True, linestyle=\"--\", alpha=0.3)\n",
    "    plt.legend()\n",
    "    plt.tight_layout()\n",
    "    fn = get_artifact_path(f\"tsy_cones_{base_curve.name}_{days_forward}d.png\")\n",
    "    plt.savefig(fn, dpi=150)\n",
    "    plt.close()\n",
    "    return fn\n",
    "\n",
    "\n",
    "def generate_ir_cone(base_curve: pd.Series,\n",
    "                     cov_model: model_class,\n",
    "                     n_sims: int,\n",
    "                     days_forward: int) -> pd.DataFrame:\n",
    "\n",
    "    N = len(base_curve)\n",
    "    \n",
    "    cov = cov_model.covariance_ * days_forward\n",
    "    \n",
    "    drift = getattr(cov_model, \"drift_\", np.zeros(N))\n",
    "    drift_fw = drift * days_forward  # horizon drift    \n",
    "\n",
    "    rand_deltas = np.random.multivariate_normal(\n",
    "        mean=np.zeros(len(base_curve)),\n",
    "        cov=cov,\n",
    "        size=n_sims\n",
    "    )\n",
    "    \n",
    "    base_vals = base_curve.to_numpy()\n",
    "    sims = base_vals[np.newaxis, :] + drift_fw[np.newaxis, :] + rand_deltas\n",
    "\n",
    "    records = [\n",
    "        {\"sim_id\": sim, \"tenor_num\": base_curve.index[i], \"rate_simulated\": sims[sim, i]}\n",
    "        for sim in range(n_sims)\n",
    "        for i in range(len(base_curve))\n",
    "    ]\n",
    "    return pd.DataFrame.from_records(records)\n",
    "\n",
    "\n",
    "def populate_ir_cones(backfill_days: int,\n",
    "                      fit_window_years: int = 1,\n",
    "                      years_back: int = 0,\n",
    "                      max_workers: int = 4):\n",
    "    end_date   = datetime.today().date()\n",
    "    start_date = max(\n",
    "        end_date - relativedelta(days=backfill_days, years=years_back),\n",
    "        datetime(2010, 1, 1).date()\n",
    "    )\n",
    "    all_dates = pd.date_range(start=start_date, end=end_date, freq=\"D\").date\n",
    "\n",
    "    mlflow.set_experiment(MLFLOW_EXPERIMENT)\n",
    "    client = MlflowClient()\n",
    "\n",
    "    with mlflow.start_run(run_name=f\"populate_ir_cones_{end_date}\") as parent:\n",
    "        parent_id = parent.info.run_id\n",
    "        mlflow.log_params({\n",
    "            \"as_of_date\": str(start_date),\n",
    "            \"backfill_days\": backfill_days,\n",
    "            \"fit_window_years\": fit_window_years,\n",
    "            \"curve_type\": CURVE_TYPE,\n",
    "            \"n_sims\": N_SIMS,\n",
    "        })\n",
    "\n",
    "        total_obs, total_vars, trace_covs, errors = [], [], [], []\n",
    "\n",
    "        def task(asof_date):\n",
    "            try:\n",
    "                window_start = asof_date - relativedelta(years=fit_window_years)\n",
    "                window_start = max(window_start, datetime(2010,1,1).date())\n",
    "\n",
    "                sql = f\"\"\"\n",
    "                SELECT curve_date, tenor_num, rate\n",
    "                  FROM rate_curves\n",
    "                 WHERE curve_type = '{CURVE_TYPE}'\n",
    "                   AND curve_date BETWEEN '{window_start}' AND '{asof_date}'\n",
    "                   AND tenor_num    IN ({', '.join(map(str, TENORS))})\n",
    "                 ORDER BY curve_date DESC, tenor_num;\n",
    "                \"\"\"\n",
    "                df = ds.query(sql).to_pandas()\n",
    "                if df.empty:\n",
    "                    return (asof_date, \"No curve data\")\n",
    "\n",
    "                pivot = (\n",
    "                    df.pivot(index=\"curve_date\", columns=\"tenor_num\", values=\"rate\")\n",
    "                      .sort_index()\n",
    "                      .interpolate(method=\"linear\", axis=0)\n",
    "                      .dropna()\n",
    "                )\n",
    "                if asof_date not in pivot.index:\n",
    "                    print(f\"⏭️  Skipping {asof_date}: no exact curve_date in pivot\")\n",
    "                    return None\n",
    "\n",
    "                asof_actual = (asof_date if asof_date in pivot.index\n",
    "                               else pivot.index[pivot.index <= asof_date].max())\n",
    "                base_curve = pivot.loc[asof_date]\n",
    "                deltas     = pivot.diff().dropna()   # these deltas now span your lookback window\n",
    "\n",
    "                model_name = f'{model_shortname}_{fit_window_years}yrFit'\n",
    "                print('using model: ' + model_name)\n",
    "\n",
    "                for days_forward in (30, 90):\n",
    "                    model   = model_class().fit(deltas.values)\n",
    "                    cone_df = generate_ir_cone(base_curve, model, N_SIMS, days_forward)\n",
    "                    chart   = plot_ir_cones_matplotlib(base_curve, cone_df,\n",
    "                                                       days_forward,\n",
    "                                                       title=f\"{days_forward}-day cones\")\n",
    "    \n",
    "                    pctls = [1,5,10,50,90,95,99]\n",
    "                    pct_df = (\n",
    "                        cone_df.groupby(\"tenor_num\")[\"rate_simulated\"]\n",
    "                               .quantile([p/100 for p in pctls])\n",
    "                               .unstack(level=1)\n",
    "                               .reset_index()\n",
    "                               .melt(id_vars=\"tenor_num\", var_name=\"percentile\", value_name=\"rate\")\n",
    "                    )\n",
    "                    pct_df[\"percentile\"] = pct_df[\"percentile\"].astype(float)\n",
    "    \n",
    "                    pct_df[\"curve_type\"]   = CURVE_TYPE\n",
    "                    pct_df[\"tenor_str\"]    = pct_df[\"tenor_num\"].apply(format_tenor)\n",
    "                    pct_df[\"cone_type\"]    = pct_df[\"percentile\"].apply(lambda p: f\"{int(p*100)}%\")\n",
    "                    pct_df[\"curve_date\"]   = asof_date\n",
    "                    pct_df[\"days_forward\"] = days_forward\n",
    "                    pct_df[\"model_type\"] = model_name\n",
    "    \n",
    "                    recs = pct_df[[\n",
    "                        \"curve_type\",\"days_forward\",\"curve_date\",\n",
    "                        \"cone_type\",\"tenor_str\",\"rate\",\"tenor_num\", \"model_type\"\n",
    "                    ]].to_dict(orient=\"records\")\n",
    "                    inserted = batch_insert_rate_cones(recs)\n",
    "    \n",
    "                    n_obs     = len(deltas)\n",
    "                    total_var = float(np.var(deltas.values))\n",
    "                    trace_cv  = float(np.trace(model.covariance_))\n",
    "    \n",
    "                    total_obs.append(n_obs)\n",
    "                    total_vars.append(total_var)\n",
    "                    trace_covs.append(trace_cv)\n",
    "                \n",
    "                    input_example = deltas.values[:1]\n",
    "    \n",
    "                    with mlflow.start_run(\n",
    "                        run_name=f\"IR_{asof_date}\",\n",
    "                        nested=True,\n",
    "                        tags={\"mlflow.parentRunId\": parent_id}\n",
    "                    ):\n",
    "                        mlflow.log_params({\n",
    "                            \"as_of_date\": str(asof_actual),\n",
    "                            \"backfill_days\": backfill_days,\n",
    "                            \"fit_window_years\": fit_window_years,\n",
    "                            \"curve_type\": CURVE_TYPE,\n",
    "                            \"n_sims\": N_SIMS,\n",
    "                        })\n",
    "                        mlflow.log_metrics({\n",
    "                            \"n_obs\": n_obs,\n",
    "                            \"total_var\": total_var,\n",
    "                            \"trace_cov\": trace_cv,\n",
    "                            \"days_forward\": days_forward,\n",
    "                            \"dates_processed\": 1,\n",
    "                        })\n",
    "                        mlflow.sklearn.log_model(\n",
    "                            sk_model=model,\n",
    "                            artifact_path=\"model\",\n",
    "                            registered_model_name=model_name,\n",
    "                            input_example=input_example\n",
    "                        )\n",
    "                        mlflow.log_artifact(chart, artifact_path=\"charts\")\n",
    "    \n",
    "                return None\n",
    "\n",
    "            except Exception as e:\n",
    "                return (asof_date, str(e))\n",
    "\n",
    "        with ThreadPoolExecutor(max_workers=max_workers) as exe:\n",
    "            futures = [exe.submit(task, d) for d in all_dates]\n",
    "            for fut in as_completed(futures):\n",
    "                if err := fut.result():\n",
    "                    errors.append(err)\n",
    "\n",
    "        mlflow.log_metrics({\n",
    "            \"dates_processed\": len(all_dates) - len(errors),\n",
    "            \"n_errors\": len(errors),\n",
    "            \"n_obs\": sum(total_obs),\n",
    "            \"total_var\": float(np.mean(total_vars)) if total_vars else 0.0,\n",
    "            \"trace_cov\": float(np.mean(trace_covs)) if trace_covs else 0.0,\n",
    "        })\n",
    "\n",
    "        if errors:\n",
    "            print(f\"⚠️  {len(errors)} errors:\")\n",
    "            for d, msg in errors:\n",
    "                print(f\"  • {d}: {msg}\")\n",
    "        else:\n",
    "            print(\"✅ All cones processed and logged.\")\n",
    "\n",
    "\n",
    "if __name__ == \"__main__\":\n",
    "    import sys\n",
    "\n",
    "    populate_ir_cones(\n",
    "        backfill_days=backfill_DAYS,\n",
    "        fit_window_years=1,\n",
    "        max_workers=MAX_WORKERS,\n",
    "        years_back=0\n",
    "    )\n",
    "\n",
    "    \n",
    "    populate_ir_cones(\n",
    "        backfill_days=backfill_DAYS,\n",
    "        fit_window_years=5,\n",
    "        max_workers=MAX_WORKERS,\n",
    "        years_back=0\n",
    "    )\n"
   ]
  },
  {
   "cell_type": "code",
   "execution_count": null,
   "id": "79ba97e5-96ae-4277-af4b-8ac622368a1e",
   "metadata": {},
   "outputs": [],
   "source": []
  }
 ],
 "metadata": {
  "kernelspec": {
   "display_name": "Python 3 (ipykernel)",
   "language": "python",
   "name": "python3"
  },
  "language_info": {
   "codemirror_mode": {
    "name": "ipython",
    "version": 3
   },
   "file_extension": ".py",
   "mimetype": "text/x-python",
   "name": "python",
   "nbconvert_exporter": "python",
   "pygments_lexer": "ipython3",
   "version": "3.10.14"
  }
 },
 "nbformat": 4,
 "nbformat_minor": 5
}
