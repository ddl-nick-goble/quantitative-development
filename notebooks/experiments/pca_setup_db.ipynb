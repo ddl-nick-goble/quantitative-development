{
 "cells": [
  {
   "cell_type": "code",
   "execution_count": 2,
   "id": "b7a2c534-c854-4afa-8d8b-f2d0996485be",
   "metadata": {},
   "outputs": [
    {
     "name": "stdout",
     "output_type": "stream",
     "text": [
      "getting data source for sandbox\n",
      "✅ pca_results table dropped (if existed) and recreated.\n"
     ]
    }
   ],
   "source": [
    "import data.data_source as data_source\n",
    "\n",
    "ds = data_source.get_data_source()\n",
    "\n",
    "DROP_SQL = \"DROP TABLE IF EXISTS pca_results;\"\n",
    "CREATE_SQL = \"\"\"\n",
    "CREATE TABLE pca_results (\n",
    "  run_id                        TEXT            NOT NULL,\n",
    "  curve_type                    TEXT            NOT NULL,\n",
    "  run_timestamp                 TIMESTAMPTZ     NOT NULL DEFAULT CURRENT_TIMESTAMP,\n",
    "  curve_date                    DATE            NOT NULL,\n",
    "  n_components                  INTEGER         NOT NULL,\n",
    "  total_explained_variance_ratio DOUBLE PRECISION  NOT NULL,\n",
    "  explained_variance_ratios     DOUBLE PRECISION[]  NOT NULL,\n",
    "  mean_curve                    DOUBLE PRECISION[]  NOT NULL,\n",
    "  components                    JSONB           NOT NULL,\n",
    "  scores                        DOUBLE PRECISION[]  NOT NULL,\n",
    "  PRIMARY KEY (\n",
    "    curve_type,\n",
    "    curve_date\n",
    "  )\n",
    ");\n",
    "\"\"\"\n",
    "\n",
    "\n",
    "def setup_table():\n",
    "    ds.query(DROP_SQL)\n",
    "    ds.query(CREATE_SQL)\n",
    "    print(\"✅ pca_results table dropped (if existed) and recreated.\")\n",
    "\n",
    "setup_table()"
   ]
  },
  {
   "cell_type": "code",
   "execution_count": null,
   "id": "309d5914-6d2e-403b-8812-567f4d08b4d1",
   "metadata": {},
   "outputs": [],
   "source": []
  }
 ],
 "metadata": {
  "kernelspec": {
   "display_name": "Python 3 (ipykernel)",
   "language": "python",
   "name": "python3"
  },
  "language_info": {
   "codemirror_mode": {
    "name": "ipython",
    "version": 3
   },
   "file_extension": ".py",
   "mimetype": "text/x-python",
   "name": "python",
   "nbconvert_exporter": "python",
   "pygments_lexer": "ipython3",
   "version": "3.10.14"
  }
 },
 "nbformat": 4,
 "nbformat_minor": 5
}
