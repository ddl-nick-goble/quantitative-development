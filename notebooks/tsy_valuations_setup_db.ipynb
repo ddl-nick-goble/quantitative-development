{
 "cells": [
  {
   "cell_type": "code",
   "execution_count": 3,
   "id": "b7a2c534-c854-4afa-8d8b-f2d0996485be",
   "metadata": {
    "scrolled": true
   },
   "outputs": [
    {
     "name": "stdout",
     "output_type": "stream",
     "text": [
      "getting data source for sandbox\n",
      "✅ tsy_valuations table and tsy_valuation_summary view created successfully.\n"
     ]
    }
   ],
   "source": [
    "#!/usr/bin/env python3\n",
    "import sys\n",
    "from pathlib import Path\n",
    "\n",
    "# allow import of your project’s data_source module\n",
    "sys.path.append(str(Path.cwd().parent))\n",
    "\n",
    "import data.data_source as data_source\n",
    "from config import env\n",
    "\n",
    "\n",
    "DROP_VIEW_SQL = \"DROP VIEW IF EXISTS tsy_valuation_summary;\"\n",
    "DROP_TABLE_SQL = \"DROP TABLE IF EXISTS tsy_valuations;\"\n",
    "\n",
    "CREATE_TABLE_SQL = \"\"\"\n",
    "CREATE TABLE tsy_valuations (\n",
    "  cusip                             TEXT            NOT NULL,\n",
    "  valuation_date                    DATE            NOT NULL,\n",
    "  entry_price                       DOUBLE PRECISION,\n",
    "  coupon                            DOUBLE PRECISION,\n",
    "  maturity_date                     DATE,\n",
    "  time_to_maturity                  DOUBLE PRECISION,\n",
    "  dv01                              DOUBLE PRECISION,\n",
    "  krd1y                             DOUBLE PRECISION,\n",
    "  krd2y                             DOUBLE PRECISION,\n",
    "  krd3y                             DOUBLE PRECISION,\n",
    "  krd5y                             DOUBLE PRECISION,\n",
    "  krd7y                             DOUBLE PRECISION,\n",
    "  krd10y                            DOUBLE PRECISION,\n",
    "  krd20y                            DOUBLE PRECISION,\n",
    "  krd30y                            DOUBLE PRECISION,\n",
    "  pca1_dv01                         DOUBLE PRECISION,\n",
    "  pca2_dv01                         DOUBLE PRECISION,\n",
    "  pca3_dv01                         DOUBLE PRECISION,\n",
    "  price_closedform                  DOUBLE PRECISION,\n",
    "  price_closedform_u25bps           DOUBLE PRECISION,\n",
    "  price_closedform_d25bps           DOUBLE PRECISION,\n",
    "  price_closedform_u100bps          DOUBLE PRECISION,\n",
    "  price_closedform_d100bps          DOUBLE PRECISION,\n",
    "  price_closedform_u200bps          DOUBLE PRECISION,\n",
    "  price_closedform_d200bps          DOUBLE PRECISION,\n",
    "  price_closedform_pca1_u25bps      DOUBLE PRECISION,\n",
    "  price_closedform_pca1_d25bps      DOUBLE PRECISION,\n",
    "  price_closedform_pca2_u25bps      DOUBLE PRECISION,\n",
    "  price_closedform_pca2_d25bps      DOUBLE PRECISION,\n",
    "  price_closedform_pca3_u25bps      DOUBLE PRECISION,\n",
    "  price_closedform_pca3_d25bps      DOUBLE PRECISION,\n",
    "  price_closedform_pca1_u100bps     DOUBLE PRECISION,\n",
    "  price_closedform_pca1_d100bps     DOUBLE PRECISION,\n",
    "  price_closedform_pca2_u100bps     DOUBLE PRECISION,\n",
    "  price_closedform_pca2_d100bps     DOUBLE PRECISION,\n",
    "  price_closedform_pca3_u100bps     DOUBLE PRECISION,\n",
    "  price_closedform_pca3_d100bps     DOUBLE PRECISION,\n",
    "  price_closedform_pca1_u200bps     DOUBLE PRECISION,\n",
    "  price_closedform_pca1_d200bps     DOUBLE PRECISION,\n",
    "  price_closedform_pca2_u200bps     DOUBLE PRECISION,\n",
    "  price_closedform_pca2_d200bps     DOUBLE PRECISION,\n",
    "  price_closedform_pca3_u200bps     DOUBLE PRECISION,\n",
    "  price_closedform_pca3_d200bps     DOUBLE PRECISION,\n",
    "  quantity                          DOUBLE PRECISION,\n",
    "  clean_price_closedform            DOUBLE PRECISION,\n",
    "  accrued_interest_closedform       DOUBLE PRECISION,\n",
    "  updated_at                        TIMESTAMPTZ     NOT NULL DEFAULT CURRENT_TIMESTAMP,\n",
    "  PRIMARY KEY (cusip, valuation_date)\n",
    ");\n",
    "\"\"\"\n",
    "\n",
    "def main():\n",
    "    ds = data_source.get_data_source()\n",
    "\n",
    "    # # 1) Drop the summary view first (so there’s no dependency conflict)\n",
    "    ds.query(DROP_VIEW_SQL)\n",
    "\n",
    "    # 2) Drop the base table\n",
    "    ds.query(DROP_TABLE_SQL)\n",
    "\n",
    "    # 3) Recreate the base table\n",
    "    ds.query(CREATE_TABLE_SQL)\n",
    "\n",
    "\n",
    "    print(\"✅ tsy_valuations table and tsy_valuation_summary view created successfully.\")\n",
    "\n",
    "if __name__ == \"__main__\":\n",
    "    main()\n"
   ]
  },
  {
   "cell_type": "code",
   "execution_count": null,
   "id": "309d5914-6d2e-403b-8812-567f4d08b4d1",
   "metadata": {},
   "outputs": [],
   "source": []
  }
 ],
 "metadata": {
  "kernelspec": {
   "display_name": "Python 3 (ipykernel)",
   "language": "python",
   "name": "python3"
  },
  "language_info": {
   "codemirror_mode": {
    "name": "ipython",
    "version": 3
   },
   "file_extension": ".py",
   "mimetype": "text/x-python",
   "name": "python",
   "nbconvert_exporter": "python",
   "pygments_lexer": "ipython3",
   "version": "3.10.14"
  }
 },
 "nbformat": 4,
 "nbformat_minor": 5
}
