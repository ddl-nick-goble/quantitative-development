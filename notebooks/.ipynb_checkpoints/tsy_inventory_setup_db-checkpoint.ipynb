{
 "cells": [
  {
   "cell_type": "code",
   "execution_count": 5,
   "id": "b7a2c534-c854-4afa-8d8b-f2d0996485be",
   "metadata": {},
   "outputs": [
    {
     "name": "stdout",
     "output_type": "stream",
     "text": [
      "getting data source for sandbox\n",
      "Backfill completed successfully.\n",
      "🏃 View run Backfill Inventory at: http://127.0.0.1:8768/#/experiments/1463/runs/ec4c01c621f743068f6e0112eeeec558\n",
      "🧪 View experiment at: http://127.0.0.1:8768/#/experiments/1463\n"
     ]
    }
   ],
   "source": [
    "import sys\n",
    "from pathlib import Path\n",
    "sys.path.append(str(Path.cwd().parent))\n",
    "\n",
    "from config import env\n",
    "import data.data_source as data_source\n",
    "import mlflow\n",
    "\n",
    "# ─── CONFIG ───────────────────────────────────────────────────────────────────\n",
    "EXPERIMENT_NAME = f\"Populate Tsy Inventory [{env}]\"\n",
    "mlflow.set_experiment(EXPERIMENT_NAME)\n",
    "\n",
    "DROP_SQL = \"DROP VIEW IF EXISTS tsy_inventory;\"\n",
    "\n",
    "UPSERT_SQL = \"\"\"\n",
    "CREATE VIEW tsy_inventory AS\n",
    "WITH all_dates AS (\n",
    "  -- generate one row per day from first issue to today\n",
    "  SELECT generate_series(\n",
    "           (SELECT MIN(issue_date) FROM treasury_auction_results),\n",
    "           CURRENT_DATE,\n",
    "           '1 day'\n",
    "         )::date AS inventory_date\n",
    ")\n",
    "SELECT\n",
    "  d.inventory_date,\n",
    "  t.cusip,\n",
    "  ROUND(\n",
    "    COALESCE(t.comp_accepted,0) * 0.01 / 1_000_000\n",
    "  ) * 5_000 AS quantity,\n",
    "  t.security_type,\n",
    "  t.security_term,\n",
    "  t.issue_date,\n",
    "  t.maturity_date,\n",
    "  t.int_rate,\n",
    "  t.int_payment_frequency,\n",
    "  t.series,\n",
    "  t.price_per100,\n",
    "  t.auction_date\n",
    "FROM all_dates d\n",
    "JOIN treasury_auction_results t\n",
    "  ON t.security_type IN ('Note','Bill','Bond')\n",
    " AND t.issue_date   < d.inventory_date\n",
    " AND t.maturity_date > d.inventory_date + INTERVAL '6 months'\n",
    "WHERE t.price_per100 IS NOT NULL\n",
    "  AND (\n",
    "       -- bills: any term\n",
    "       t.security_type = 'Bill'\n",
    "       OR\n",
    "       -- notes & bonds: only these terms\n",
    "       (t.security_type IN ('Note','Bond')\n",
    "        AND t.security_term IN (\n",
    "          '30-Year','20-Year','10-Year',\n",
    "          '7-Year','5-Year','3-Year','2-Year'\n",
    "        )\n",
    "       )\n",
    "      );\n",
    "\"\"\"\n",
    "\n",
    "# ─── MAIN ─────────────────────────────────────────────────────────────────────\n",
    "def main():\n",
    "    ds = data_source.get_data_source()\n",
    "    with mlflow.start_run(run_name=\"Backfill Inventory\"):\n",
    "        ds.query(DROP_SQL)\n",
    "        ds.query(UPSERT_SQL)\n",
    "        mlflow.log_metric(\"backfill_completed\", 1)\n",
    "        print(\"Backfill completed successfully.\")\n",
    "\n",
    "if __name__ == \"__main__\":\n",
    "    main()\n"
   ]
  },
  {
   "cell_type": "code",
   "execution_count": null,
   "id": "309d5914-6d2e-403b-8812-567f4d08b4d1",
   "metadata": {},
   "outputs": [],
   "source": []
  }
 ],
 "metadata": {
  "kernelspec": {
   "display_name": "Python 3 (ipykernel)",
   "language": "python",
   "name": "python3"
  },
  "language_info": {
   "codemirror_mode": {
    "name": "ipython",
    "version": 3
   },
   "file_extension": ".py",
   "mimetype": "text/x-python",
   "name": "python",
   "nbconvert_exporter": "python",
   "pygments_lexer": "ipython3",
   "version": "3.10.14"
  }
 },
 "nbformat": 4,
 "nbformat_minor": 5
}
