{
 "cells": [
  {
   "cell_type": "code",
   "execution_count": 1,
   "id": "8ecfe2d3-e406-4374-a050-dbfa8682a6a8",
   "metadata": {},
   "outputs": [
    {
     "name": "stdout",
     "output_type": "stream",
     "text": [
      "'data_env' not found in environment. Defaulting to 'sandbox' env.\n",
      "setting env to sandbox data\n",
      "getting data source for sandbox\n",
      "✅ rate_cones table dropped (if existed) and recreated.\n"
     ]
    }
   ],
   "source": [
    "import data.data_source as data_source\n",
    "\n",
    "ds = data_source.get_data_source()\n",
    "\n",
    "DROP_SQL = \"DROP TABLE IF EXISTS rate_cones;\"\n",
    "CREATE_SQL = \"\"\"\n",
    "CREATE TABLE rate_cones (\n",
    "  curve_type  TEXT    NOT NULL,  -- e.g. 'US Treasury Par'\n",
    "  model_type  TEXT    NOT NULL,  -- e.g. 'PCA, graphical-lasso CV, etc.'\n",
    "  curve_date  DATE    NOT NULL,  -- asof date for the curve\n",
    "  cone_type   TEXT    NOT NULL,  -- e.g. 'pca1', 'pca2', 'montecarlo', 'historical_95'\n",
    "  days_forward  DOUBLE PRECISION    NOT NULL,  -- yearfrac for time simulated forward\n",
    "  tenor_str   TEXT    NOT NULL,  -- '1Y', '2Y', etc.\n",
    "  rate        DOUBLE PRECISION NOT NULL, -- shifted rate\n",
    "  tenor_num   DOUBLE PRECISION NOT NULL, -- numeric tenor like 1.0\n",
    "  inserted_at TIMESTAMPTZ NOT NULL DEFAULT CURRENT_TIMESTAMP,\n",
    "  PRIMARY KEY (curve_type, model_type, cone_type, days_forward, curve_date, tenor_str)\n",
    ");\n",
    "\"\"\"\n",
    "\n",
    "def setup_table():\n",
    "    ds.query(DROP_SQL)\n",
    "    ds.query(CREATE_SQL)\n",
    "    print(\"✅ rate_cones table dropped (if existed) and recreated.\")\n",
    "\n",
    "setup_table()\n"
   ]
  },
  {
   "cell_type": "code",
   "execution_count": null,
   "id": "2e0ab7a8-a7a2-4333-a006-9c37e3b8a67f",
   "metadata": {},
   "outputs": [],
   "source": []
  }
 ],
 "metadata": {
  "kernelspec": {
   "display_name": "Python 3 (ipykernel)",
   "language": "python",
   "name": "python3"
  },
  "language_info": {
   "codemirror_mode": {
    "name": "ipython",
    "version": 3
   },
   "file_extension": ".py",
   "mimetype": "text/x-python",
   "name": "python",
   "nbconvert_exporter": "python",
   "pygments_lexer": "ipython3",
   "version": "3.10.14"
  }
 },
 "nbformat": 4,
 "nbformat_minor": 5
}
