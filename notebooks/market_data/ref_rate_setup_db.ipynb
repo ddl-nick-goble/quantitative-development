{
 "cells": [
  {
   "cell_type": "code",
   "execution_count": 2,
   "id": "b7a2c534-c854-4afa-8d8b-f2d0996485be",
   "metadata": {},
   "outputs": [
    {
     "name": "stdout",
     "output_type": "stream",
     "text": [
      "getting data source for sandbox\n",
      "✅ reference_rates table dropped (if existed) and recreated.\n"
     ]
    }
   ],
   "source": [
    "import data.data_source as data_source\n",
    "\n",
    "ds = data_source.get_data_source()\n",
    "\n",
    "DROP_SQL = \"DROP TABLE IF EXISTS reference_rates;\"\n",
    "CREATE_SQL = \"\"\"\n",
    "CREATE TABLE reference_rates (\n",
    "  rate_ticker         TEXT              NOT NULL,\n",
    "  rate_type         TEXT                NOT NULL,\n",
    "  rate_date         DATE                NOT NULL,\n",
    "  rate              DOUBLE PRECISION    NOT NULL,\n",
    "  volume_in_billions DOUBLE PRECISION   NOT NULL,\n",
    "  percentile_1      DOUBLE PRECISION    NOT NULL,\n",
    "  percentile_25     DOUBLE PRECISION    NOT NULL,\n",
    "  percentile_75     DOUBLE PRECISION    NOT NULL,\n",
    "  percentile_99     DOUBLE PRECISION    NOT NULL,\n",
    "  revision_indicator TEXT,\n",
    "  inserted_at       TIMESTAMPTZ         NOT NULL DEFAULT CURRENT_TIMESTAMP,\n",
    "  PRIMARY KEY (rate_ticker, rate_type, rate_date)\n",
    ");\n",
    "\"\"\"\n",
    "\n",
    "def setup_table():\n",
    "    ds.query(DROP_SQL)\n",
    "    ds.query(CREATE_SQL)\n",
    "    print(\"✅ reference_rates table dropped (if existed) and recreated.\")\n",
    "\n",
    "setup_table()\n"
   ]
  },
  {
   "cell_type": "code",
   "execution_count": null,
   "id": "309d5914-6d2e-403b-8812-567f4d08b4d1",
   "metadata": {},
   "outputs": [],
   "source": []
  }
 ],
 "metadata": {
  "kernelspec": {
   "display_name": "Python 3 (ipykernel)",
   "language": "python",
   "name": "python3"
  },
  "language_info": {
   "codemirror_mode": {
    "name": "ipython",
    "version": 3
   },
   "file_extension": ".py",
   "mimetype": "text/x-python",
   "name": "python",
   "nbconvert_exporter": "python",
   "pygments_lexer": "ipython3",
   "version": "3.10.14"
  }
 },
 "nbformat": 4,
 "nbformat_minor": 5
}
